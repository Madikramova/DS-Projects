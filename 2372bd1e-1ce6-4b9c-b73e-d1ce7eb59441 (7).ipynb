{
 "cells": [
  {
   "cell_type": "markdown",
   "metadata": {
    "id": "UaVSKeGEvNX0"
   },
   "source": [
    "<div style=\"border:solid Chocolate 2px; padding: 40px\">\n",
    "\n",
    "<b> Мадина, привет!👋</b>\n",
    "\n",
    "Меня зовут Алексей Гриб, и я буду ревьюером твоего проекта.\n",
    "\n",
    "Сразу хочу предложить в дальнейшем общаться на \"ты\" - надеюсь, так будет комфортнее:) Но если это неудобно, обязательно дай знать, и мы придумаем что-нибудь ещё!\n",
    "    \n",
    "Цель ревью - не искать ошибки в твоём проекте, а помочь тебе сделать твою работу ещё лучше, устранив недочёты и приблизив её к реальным задачам специалиста по работе с данными. Поэтому не расстраивайся, если что-то не получилось с первого раза - это нормально, и это поможет тебе вырасти!\n",
    "    \n",
    "Ты можешь найти мои комментарии, обозначенные <font color='green'>зеленым</font>, <font color='gold'>желтым</font> и <font color='red'>красным</font> цветами, например:\n",
    "\n",
    "<br/>\n",
    "\n",
    "<div class=\"alert alert-success\">\n",
    "<h2> Комментарий ревьюера <a class=\"tocSkip\"> </h2>\n",
    "\n",
    "<b>Все отлично!👍:</b> похвала, рекомендации «со звёздочкой», полезные лайфхаки, которые сделают и без того красивое решение ещё более элегантным.\n",
    "</div>\n",
    "\n",
    "<br/>\n",
    "\n",
    "<div class=\"alert alert-warning\">\n",
    "    <h2> Комментарий ревьюера <a class=\"tocSkip\"> </h2>\n",
    "    \n",
    "<b>Некоторые замечания и рекомендации⚠️:</b> некритичные ошибки или развивающие рекомендации на будущее.\n",
    "</div>\n",
    "\n",
    "\n",
    "<br/>\n",
    "<div class=\"alert alert-block alert-danger\">\n",
    "<h2> Комментарий ревьюера <a class=\"tocSkip\"></h2>\n",
    "\n",
    "    \n",
    "<b>На доработку❌:</b>\n",
    "критичные ошибки, которые обязательно нужно исправить.\n",
    "</div>\n",
    "\n",
    "    \n",
    "Пожалуйста, не удаляй мои комментарии, они будут особенно полезны для нашей работы в случае повторной проверки проекта.\n",
    "    \n",
    "Ты также можешь задавать свои вопросы, реагировать на мои комментарии, делать пометки и пояснения - полная творческая свобода! Но маленькая просьба - пускай они будут отличаться от моих комментариев, это поможет избежать путаницы в нашем общении:)\n",
    "Например, вот так:\n",
    "    \n",
    "<div class=\"alert alert-info\">\n",
    "<h2> Комментарий студента <a class=\"tocSkip\"> </h2>\n",
    "\n",
    "*твой текст*\n",
    "</div>\n",
    "    \n",
    "Давай посмотрим на твой проект!"
   ]
  },
  {
   "cell_type": "markdown",
   "metadata": {
    "id": "Pc_8DPVHkkyi"
   },
   "source": [
    "# Определение стоимости автомобилей"
   ]
  },
  {
   "cell_type": "markdown",
   "metadata": {
    "id": "Y4H69SI5kkyj"
   },
   "source": [
    "Сервис по продаже автомобилей с пробегом «Не бит, не крашен» разрабатывает приложение для привлечения новых клиентов. В нём можно быстро узнать рыночную стоимость своего автомобиля. В вашем распоряжении исторические данные: технические характеристики, комплектации и цены автомобилей. Вам нужно построить модель для определения стоимости.\n",
    "\n",
    "Заказчику важны:\n",
    "\n",
    "- качество предсказания;\n",
    "- скорость предсказания;\n",
    "- время обучения."
   ]
  },
  {
   "cell_type": "markdown",
   "metadata": {
    "id": "z9eJfk4_vNX1"
   },
   "source": [
    "<div class=\"alert alert-success\">\n",
    "<h2> Комментарий ревьюера <a class=\"tocSkip\"> </h2>\n",
    "\n",
    "<b>Все отлично!👍:</b> Хорошее вступление!\n",
    "    \n",
    "В нём есть всё, что необходимо, чтобы понять суть проекта с первых строк отчёта!"
   ]
  },
  {
   "cell_type": "markdown",
   "metadata": {
    "id": "p1HyODfNkkyk"
   },
   "source": [
    "## Подготовка данных"
   ]
  },
  {
   "cell_type": "code",
   "execution_count": 27,
   "metadata": {
    "colab": {
     "base_uri": "https://localhost:8080/"
    },
    "id": "oSozRQYokkyk",
    "outputId": "ded76eb1-a8ec-4cbe-9eca-2ad9fa243cba"
   },
   "outputs": [
    {
     "name": "stdout",
     "output_type": "stream",
     "text": [
      "Requirement already satisfied: catboost in /usr/local/lib/python3.10/dist-packages (1.2.5)\n",
      "Requirement already satisfied: graphviz in /usr/local/lib/python3.10/dist-packages (from catboost) (0.20.3)\n",
      "Requirement already satisfied: matplotlib in /usr/local/lib/python3.10/dist-packages (from catboost) (3.7.1)\n",
      "Requirement already satisfied: numpy>=1.16.0 in /usr/local/lib/python3.10/dist-packages (from catboost) (1.25.2)\n",
      "Requirement already satisfied: pandas>=0.24 in /usr/local/lib/python3.10/dist-packages (from catboost) (2.0.3)\n",
      "Requirement already satisfied: scipy in /usr/local/lib/python3.10/dist-packages (from catboost) (1.11.4)\n",
      "Requirement already satisfied: plotly in /usr/local/lib/python3.10/dist-packages (from catboost) (5.15.0)\n",
      "Requirement already satisfied: six in /usr/local/lib/python3.10/dist-packages (from catboost) (1.16.0)\n",
      "Requirement already satisfied: python-dateutil>=2.8.2 in /usr/local/lib/python3.10/dist-packages (from pandas>=0.24->catboost) (2.8.2)\n",
      "Requirement already satisfied: pytz>=2020.1 in /usr/local/lib/python3.10/dist-packages (from pandas>=0.24->catboost) (2023.4)\n",
      "Requirement already satisfied: tzdata>=2022.1 in /usr/local/lib/python3.10/dist-packages (from pandas>=0.24->catboost) (2024.1)\n",
      "Requirement already satisfied: contourpy>=1.0.1 in /usr/local/lib/python3.10/dist-packages (from matplotlib->catboost) (1.2.1)\n",
      "Requirement already satisfied: cycler>=0.10 in /usr/local/lib/python3.10/dist-packages (from matplotlib->catboost) (0.12.1)\n",
      "Requirement already satisfied: fonttools>=4.22.0 in /usr/local/lib/python3.10/dist-packages (from matplotlib->catboost) (4.53.1)\n",
      "Requirement already satisfied: kiwisolver>=1.0.1 in /usr/local/lib/python3.10/dist-packages (from matplotlib->catboost) (1.4.5)\n",
      "Requirement already satisfied: packaging>=20.0 in /usr/local/lib/python3.10/dist-packages (from matplotlib->catboost) (24.1)\n",
      "Requirement already satisfied: pillow>=6.2.0 in /usr/local/lib/python3.10/dist-packages (from matplotlib->catboost) (9.4.0)\n",
      "Requirement already satisfied: pyparsing>=2.3.1 in /usr/local/lib/python3.10/dist-packages (from matplotlib->catboost) (3.1.2)\n",
      "Requirement already satisfied: tenacity>=6.2.0 in /usr/local/lib/python3.10/dist-packages (from plotly->catboost) (8.5.0)\n"
     ]
    }
   ],
   "source": [
    "import time\n",
    "import warnings\n",
    "import numpy as np\n",
    "import pandas as pd\n",
    "import seaborn as sns\n",
    "import lightgbm as lgb\n",
    "import matplotlib.pyplot as plt\n",
    "\n",
    "\n",
    "from random import randint\n",
    "from tqdm import tqdm_notebook\n",
    "from lightgbm import LGBMRegressor\n",
    "!pip install catboost\n",
    "from catboost import CatBoostRegressor\n",
    "from sklearn.metrics import mean_squared_error\n",
    "from sklearn.linear_model import LinearRegression\n",
    "from sklearn.model_selection import GridSearchCV, KFold, train_test_split, cross_val_score\n",
    "from sklearn.preprocessing import OrdinalEncoder, OneHotEncoder\n",
    "from sklearn.compose import ColumnTransformer\n",
    "from sklearn.pipeline import Pipeline"
   ]
  },
  {
   "cell_type": "markdown",
   "metadata": {
    "id": "XAJ0-AqavNX3"
   },
   "source": [
    "<div class=\"alert alert-success\">\n",
    "<h2> Комментарий ревьюера <a class=\"tocSkip\"> </h2>\n",
    "\n",
    "<b>Все отлично!👍:</b> Библиотеки импортировали - отлично!"
   ]
  },
  {
   "cell_type": "code",
   "execution_count": 2,
   "metadata": {
    "id": "dTE_vs_ykkyk"
   },
   "outputs": [],
   "source": [
    "try:\n",
    "  df = pd.read_csv('/datasets/autos.csv')\n",
    "\n",
    "except:\n",
    "\n",
    "  df = pd.read_csv('/content/autos.csv')"
   ]
  },
  {
   "cell_type": "markdown",
   "metadata": {
    "id": "6pa1K62VvNX3"
   },
   "source": [
    "<div class=\"alert alert-success\">\n",
    "<h2> Комментарий ревьюера <a class=\"tocSkip\"> </h2>\n",
    "\n",
    "<b>Все отлично!👍:</b>\n",
    "    \n",
    "Данные загрузили - отлично!\n",
    "    \n",
    "Здорово, что ты используешь конструкцию ``try-except`` для путей файлов. Но еще лучше использовать библиотеку `os` - её использование позволит тебе проверять существование указанных директорий (что может быть актуально при одновременной работа на локальном и сетевом окружении) и загружать данные из существующей директории, избегая ошибок. Как пример:\n",
    "    \n",
    "    import os\n",
    "\n",
    "    pth1 = '/folder_1/data.csv'\n",
    "    pth2 = '/folder_2/data.csv'\n",
    "    \n",
    "    if os.path.exists(pth1):\n",
    "        query_1 = pd.read_csv(pth1)\n",
    "    elif os.path.exists(pth2):\n",
    "        query_1 = pd.read_csv(pth2)\n",
    "    else:\n",
    "        print('Something is wrong')\n",
    "    \n",
    "Ещё на этапе считывания данных можно спарсить дату: за это действие отвечает параметр `parse_dates` метода `read_csv()`, в него нужно передать список с названием полей-дат, и в большинстве случаев дата будет корректно преобразована в нужный формат сразу:)\n",
    "Также на этапе считывания данных задать индекс-столбец- за это действие отвечает параметр `index_col`."
   ]
  },
  {
   "cell_type": "code",
   "execution_count": 3,
   "metadata": {
    "colab": {
     "base_uri": "https://localhost:8080/",
     "height": 400
    },
    "id": "LGw0kMmKkkyl",
    "outputId": "79370a16-e9ba-412c-f472-02f741f54f54"
   },
   "outputs": [
    {
     "data": {
      "application/vnd.google.colaboratory.intrinsic+json": {
       "type": "dataframe",
       "variable_name": "df"
      },
      "text/html": [
       "\n",
       "  <div id=\"df-03ee7a8d-b07c-4110-b9c8-b3706454c9e0\" class=\"colab-df-container\">\n",
       "    <div>\n",
       "<style scoped>\n",
       "    .dataframe tbody tr th:only-of-type {\n",
       "        vertical-align: middle;\n",
       "    }\n",
       "\n",
       "    .dataframe tbody tr th {\n",
       "        vertical-align: top;\n",
       "    }\n",
       "\n",
       "    .dataframe thead th {\n",
       "        text-align: right;\n",
       "    }\n",
       "</style>\n",
       "<table border=\"1\" class=\"dataframe\">\n",
       "  <thead>\n",
       "    <tr style=\"text-align: right;\">\n",
       "      <th></th>\n",
       "      <th>DateCrawled</th>\n",
       "      <th>Price</th>\n",
       "      <th>VehicleType</th>\n",
       "      <th>RegistrationYear</th>\n",
       "      <th>Gearbox</th>\n",
       "      <th>Power</th>\n",
       "      <th>Model</th>\n",
       "      <th>Kilometer</th>\n",
       "      <th>RegistrationMonth</th>\n",
       "      <th>FuelType</th>\n",
       "      <th>Brand</th>\n",
       "      <th>Repaired</th>\n",
       "      <th>DateCreated</th>\n",
       "      <th>NumberOfPictures</th>\n",
       "      <th>PostalCode</th>\n",
       "      <th>LastSeen</th>\n",
       "    </tr>\n",
       "  </thead>\n",
       "  <tbody>\n",
       "    <tr>\n",
       "      <th>0</th>\n",
       "      <td>2016-03-24 11:52:17</td>\n",
       "      <td>480</td>\n",
       "      <td>NaN</td>\n",
       "      <td>1993</td>\n",
       "      <td>manual</td>\n",
       "      <td>0</td>\n",
       "      <td>golf</td>\n",
       "      <td>150000</td>\n",
       "      <td>0</td>\n",
       "      <td>petrol</td>\n",
       "      <td>volkswagen</td>\n",
       "      <td>NaN</td>\n",
       "      <td>2016-03-24 00:00:00</td>\n",
       "      <td>0</td>\n",
       "      <td>70435</td>\n",
       "      <td>2016-04-07 03:16:57</td>\n",
       "    </tr>\n",
       "    <tr>\n",
       "      <th>1</th>\n",
       "      <td>2016-03-24 10:58:45</td>\n",
       "      <td>18300</td>\n",
       "      <td>coupe</td>\n",
       "      <td>2011</td>\n",
       "      <td>manual</td>\n",
       "      <td>190</td>\n",
       "      <td>NaN</td>\n",
       "      <td>125000</td>\n",
       "      <td>5</td>\n",
       "      <td>gasoline</td>\n",
       "      <td>audi</td>\n",
       "      <td>yes</td>\n",
       "      <td>2016-03-24 00:00:00</td>\n",
       "      <td>0</td>\n",
       "      <td>66954</td>\n",
       "      <td>2016-04-07 01:46:50</td>\n",
       "    </tr>\n",
       "    <tr>\n",
       "      <th>2</th>\n",
       "      <td>2016-03-14 12:52:21</td>\n",
       "      <td>9800</td>\n",
       "      <td>suv</td>\n",
       "      <td>2004</td>\n",
       "      <td>auto</td>\n",
       "      <td>163</td>\n",
       "      <td>grand</td>\n",
       "      <td>125000</td>\n",
       "      <td>8</td>\n",
       "      <td>gasoline</td>\n",
       "      <td>jeep</td>\n",
       "      <td>NaN</td>\n",
       "      <td>2016-03-14 00:00:00</td>\n",
       "      <td>0</td>\n",
       "      <td>90480</td>\n",
       "      <td>2016-04-05 12:47:46</td>\n",
       "    </tr>\n",
       "    <tr>\n",
       "      <th>3</th>\n",
       "      <td>2016-03-17 16:54:04</td>\n",
       "      <td>1500</td>\n",
       "      <td>small</td>\n",
       "      <td>2001</td>\n",
       "      <td>manual</td>\n",
       "      <td>75</td>\n",
       "      <td>golf</td>\n",
       "      <td>150000</td>\n",
       "      <td>6</td>\n",
       "      <td>petrol</td>\n",
       "      <td>volkswagen</td>\n",
       "      <td>no</td>\n",
       "      <td>2016-03-17 00:00:00</td>\n",
       "      <td>0</td>\n",
       "      <td>91074</td>\n",
       "      <td>2016-03-17 17:40:17</td>\n",
       "    </tr>\n",
       "    <tr>\n",
       "      <th>4</th>\n",
       "      <td>2016-03-31 17:25:20</td>\n",
       "      <td>3600</td>\n",
       "      <td>small</td>\n",
       "      <td>2008</td>\n",
       "      <td>manual</td>\n",
       "      <td>69</td>\n",
       "      <td>fabia</td>\n",
       "      <td>90000</td>\n",
       "      <td>7</td>\n",
       "      <td>gasoline</td>\n",
       "      <td>skoda</td>\n",
       "      <td>no</td>\n",
       "      <td>2016-03-31 00:00:00</td>\n",
       "      <td>0</td>\n",
       "      <td>60437</td>\n",
       "      <td>2016-04-06 10:17:21</td>\n",
       "    </tr>\n",
       "  </tbody>\n",
       "</table>\n",
       "</div>\n",
       "    <div class=\"colab-df-buttons\">\n",
       "\n",
       "  <div class=\"colab-df-container\">\n",
       "    <button class=\"colab-df-convert\" onclick=\"convertToInteractive('df-03ee7a8d-b07c-4110-b9c8-b3706454c9e0')\"\n",
       "            title=\"Convert this dataframe to an interactive table.\"\n",
       "            style=\"display:none;\">\n",
       "\n",
       "  <svg xmlns=\"http://www.w3.org/2000/svg\" height=\"24px\" viewBox=\"0 -960 960 960\">\n",
       "    <path d=\"M120-120v-720h720v720H120Zm60-500h600v-160H180v160Zm220 220h160v-160H400v160Zm0 220h160v-160H400v160ZM180-400h160v-160H180v160Zm440 0h160v-160H620v160ZM180-180h160v-160H180v160Zm440 0h160v-160H620v160Z\"/>\n",
       "  </svg>\n",
       "    </button>\n",
       "\n",
       "  <style>\n",
       "    .colab-df-container {\n",
       "      display:flex;\n",
       "      gap: 12px;\n",
       "    }\n",
       "\n",
       "    .colab-df-convert {\n",
       "      background-color: #E8F0FE;\n",
       "      border: none;\n",
       "      border-radius: 50%;\n",
       "      cursor: pointer;\n",
       "      display: none;\n",
       "      fill: #1967D2;\n",
       "      height: 32px;\n",
       "      padding: 0 0 0 0;\n",
       "      width: 32px;\n",
       "    }\n",
       "\n",
       "    .colab-df-convert:hover {\n",
       "      background-color: #E2EBFA;\n",
       "      box-shadow: 0px 1px 2px rgba(60, 64, 67, 0.3), 0px 1px 3px 1px rgba(60, 64, 67, 0.15);\n",
       "      fill: #174EA6;\n",
       "    }\n",
       "\n",
       "    .colab-df-buttons div {\n",
       "      margin-bottom: 4px;\n",
       "    }\n",
       "\n",
       "    [theme=dark] .colab-df-convert {\n",
       "      background-color: #3B4455;\n",
       "      fill: #D2E3FC;\n",
       "    }\n",
       "\n",
       "    [theme=dark] .colab-df-convert:hover {\n",
       "      background-color: #434B5C;\n",
       "      box-shadow: 0px 1px 3px 1px rgba(0, 0, 0, 0.15);\n",
       "      filter: drop-shadow(0px 1px 2px rgba(0, 0, 0, 0.3));\n",
       "      fill: #FFFFFF;\n",
       "    }\n",
       "  </style>\n",
       "\n",
       "    <script>\n",
       "      const buttonEl =\n",
       "        document.querySelector('#df-03ee7a8d-b07c-4110-b9c8-b3706454c9e0 button.colab-df-convert');\n",
       "      buttonEl.style.display =\n",
       "        google.colab.kernel.accessAllowed ? 'block' : 'none';\n",
       "\n",
       "      async function convertToInteractive(key) {\n",
       "        const element = document.querySelector('#df-03ee7a8d-b07c-4110-b9c8-b3706454c9e0');\n",
       "        const dataTable =\n",
       "          await google.colab.kernel.invokeFunction('convertToInteractive',\n",
       "                                                    [key], {});\n",
       "        if (!dataTable) return;\n",
       "\n",
       "        const docLinkHtml = 'Like what you see? Visit the ' +\n",
       "          '<a target=\"_blank\" href=https://colab.research.google.com/notebooks/data_table.ipynb>data table notebook</a>'\n",
       "          + ' to learn more about interactive tables.';\n",
       "        element.innerHTML = '';\n",
       "        dataTable['output_type'] = 'display_data';\n",
       "        await google.colab.output.renderOutput(dataTable, element);\n",
       "        const docLink = document.createElement('div');\n",
       "        docLink.innerHTML = docLinkHtml;\n",
       "        element.appendChild(docLink);\n",
       "      }\n",
       "    </script>\n",
       "  </div>\n",
       "\n",
       "\n",
       "<div id=\"df-b77253bd-afea-4aba-8b43-60a58c760fdd\">\n",
       "  <button class=\"colab-df-quickchart\" onclick=\"quickchart('df-b77253bd-afea-4aba-8b43-60a58c760fdd')\"\n",
       "            title=\"Suggest charts\"\n",
       "            style=\"display:none;\">\n",
       "\n",
       "<svg xmlns=\"http://www.w3.org/2000/svg\" height=\"24px\"viewBox=\"0 0 24 24\"\n",
       "     width=\"24px\">\n",
       "    <g>\n",
       "        <path d=\"M19 3H5c-1.1 0-2 .9-2 2v14c0 1.1.9 2 2 2h14c1.1 0 2-.9 2-2V5c0-1.1-.9-2-2-2zM9 17H7v-7h2v7zm4 0h-2V7h2v10zm4 0h-2v-4h2v4z\"/>\n",
       "    </g>\n",
       "</svg>\n",
       "  </button>\n",
       "\n",
       "<style>\n",
       "  .colab-df-quickchart {\n",
       "      --bg-color: #E8F0FE;\n",
       "      --fill-color: #1967D2;\n",
       "      --hover-bg-color: #E2EBFA;\n",
       "      --hover-fill-color: #174EA6;\n",
       "      --disabled-fill-color: #AAA;\n",
       "      --disabled-bg-color: #DDD;\n",
       "  }\n",
       "\n",
       "  [theme=dark] .colab-df-quickchart {\n",
       "      --bg-color: #3B4455;\n",
       "      --fill-color: #D2E3FC;\n",
       "      --hover-bg-color: #434B5C;\n",
       "      --hover-fill-color: #FFFFFF;\n",
       "      --disabled-bg-color: #3B4455;\n",
       "      --disabled-fill-color: #666;\n",
       "  }\n",
       "\n",
       "  .colab-df-quickchart {\n",
       "    background-color: var(--bg-color);\n",
       "    border: none;\n",
       "    border-radius: 50%;\n",
       "    cursor: pointer;\n",
       "    display: none;\n",
       "    fill: var(--fill-color);\n",
       "    height: 32px;\n",
       "    padding: 0;\n",
       "    width: 32px;\n",
       "  }\n",
       "\n",
       "  .colab-df-quickchart:hover {\n",
       "    background-color: var(--hover-bg-color);\n",
       "    box-shadow: 0 1px 2px rgba(60, 64, 67, 0.3), 0 1px 3px 1px rgba(60, 64, 67, 0.15);\n",
       "    fill: var(--button-hover-fill-color);\n",
       "  }\n",
       "\n",
       "  .colab-df-quickchart-complete:disabled,\n",
       "  .colab-df-quickchart-complete:disabled:hover {\n",
       "    background-color: var(--disabled-bg-color);\n",
       "    fill: var(--disabled-fill-color);\n",
       "    box-shadow: none;\n",
       "  }\n",
       "\n",
       "  .colab-df-spinner {\n",
       "    border: 2px solid var(--fill-color);\n",
       "    border-color: transparent;\n",
       "    border-bottom-color: var(--fill-color);\n",
       "    animation:\n",
       "      spin 1s steps(1) infinite;\n",
       "  }\n",
       "\n",
       "  @keyframes spin {\n",
       "    0% {\n",
       "      border-color: transparent;\n",
       "      border-bottom-color: var(--fill-color);\n",
       "      border-left-color: var(--fill-color);\n",
       "    }\n",
       "    20% {\n",
       "      border-color: transparent;\n",
       "      border-left-color: var(--fill-color);\n",
       "      border-top-color: var(--fill-color);\n",
       "    }\n",
       "    30% {\n",
       "      border-color: transparent;\n",
       "      border-left-color: var(--fill-color);\n",
       "      border-top-color: var(--fill-color);\n",
       "      border-right-color: var(--fill-color);\n",
       "    }\n",
       "    40% {\n",
       "      border-color: transparent;\n",
       "      border-right-color: var(--fill-color);\n",
       "      border-top-color: var(--fill-color);\n",
       "    }\n",
       "    60% {\n",
       "      border-color: transparent;\n",
       "      border-right-color: var(--fill-color);\n",
       "    }\n",
       "    80% {\n",
       "      border-color: transparent;\n",
       "      border-right-color: var(--fill-color);\n",
       "      border-bottom-color: var(--fill-color);\n",
       "    }\n",
       "    90% {\n",
       "      border-color: transparent;\n",
       "      border-bottom-color: var(--fill-color);\n",
       "    }\n",
       "  }\n",
       "</style>\n",
       "\n",
       "  <script>\n",
       "    async function quickchart(key) {\n",
       "      const quickchartButtonEl =\n",
       "        document.querySelector('#' + key + ' button');\n",
       "      quickchartButtonEl.disabled = true;  // To prevent multiple clicks.\n",
       "      quickchartButtonEl.classList.add('colab-df-spinner');\n",
       "      try {\n",
       "        const charts = await google.colab.kernel.invokeFunction(\n",
       "            'suggestCharts', [key], {});\n",
       "      } catch (error) {\n",
       "        console.error('Error during call to suggestCharts:', error);\n",
       "      }\n",
       "      quickchartButtonEl.classList.remove('colab-df-spinner');\n",
       "      quickchartButtonEl.classList.add('colab-df-quickchart-complete');\n",
       "    }\n",
       "    (() => {\n",
       "      let quickchartButtonEl =\n",
       "        document.querySelector('#df-b77253bd-afea-4aba-8b43-60a58c760fdd button');\n",
       "      quickchartButtonEl.style.display =\n",
       "        google.colab.kernel.accessAllowed ? 'block' : 'none';\n",
       "    })();\n",
       "  </script>\n",
       "</div>\n",
       "\n",
       "    </div>\n",
       "  </div>\n"
      ],
      "text/plain": [
       "           DateCrawled  Price VehicleType  RegistrationYear Gearbox  Power  \\\n",
       "0  2016-03-24 11:52:17    480         NaN              1993  manual      0   \n",
       "1  2016-03-24 10:58:45  18300       coupe              2011  manual    190   \n",
       "2  2016-03-14 12:52:21   9800         suv              2004    auto    163   \n",
       "3  2016-03-17 16:54:04   1500       small              2001  manual     75   \n",
       "4  2016-03-31 17:25:20   3600       small              2008  manual     69   \n",
       "\n",
       "   Model  Kilometer  RegistrationMonth  FuelType       Brand Repaired  \\\n",
       "0   golf     150000                  0    petrol  volkswagen      NaN   \n",
       "1    NaN     125000                  5  gasoline        audi      yes   \n",
       "2  grand     125000                  8  gasoline        jeep      NaN   \n",
       "3   golf     150000                  6    petrol  volkswagen       no   \n",
       "4  fabia      90000                  7  gasoline       skoda       no   \n",
       "\n",
       "           DateCreated  NumberOfPictures  PostalCode             LastSeen  \n",
       "0  2016-03-24 00:00:00                 0       70435  2016-04-07 03:16:57  \n",
       "1  2016-03-24 00:00:00                 0       66954  2016-04-07 01:46:50  \n",
       "2  2016-03-14 00:00:00                 0       90480  2016-04-05 12:47:46  \n",
       "3  2016-03-17 00:00:00                 0       91074  2016-03-17 17:40:17  \n",
       "4  2016-03-31 00:00:00                 0       60437  2016-04-06 10:17:21  "
      ]
     },
     "execution_count": 3,
     "metadata": {},
     "output_type": "execute_result"
    }
   ],
   "source": [
    "df.head()"
   ]
  },
  {
   "cell_type": "code",
   "execution_count": 4,
   "metadata": {
    "id": "6Cy6-HYOkkyl"
   },
   "outputs": [],
   "source": [
    "# Функция получения общей информации о датасете, о дубликатах и пропусках.\n",
    "def information(df):\n",
    "    df.info();\n",
    "    print('\\nКоличество дубликатов:',df.duplicated().sum(),'\\n')\n",
    "    print('Количество пропусков:\\n',df.isna().sum())"
   ]
  },
  {
   "cell_type": "code",
   "execution_count": 5,
   "metadata": {
    "colab": {
     "base_uri": "https://localhost:8080/"
    },
    "id": "6QLb3zcZkkyl",
    "outputId": "a85f7c5f-cdb0-4390-e263-74943571ae08"
   },
   "outputs": [
    {
     "name": "stdout",
     "output_type": "stream",
     "text": [
      "<class 'pandas.core.frame.DataFrame'>\n",
      "RangeIndex: 354369 entries, 0 to 354368\n",
      "Data columns (total 16 columns):\n",
      " #   Column             Non-Null Count   Dtype \n",
      "---  ------             --------------   ----- \n",
      " 0   DateCrawled        354369 non-null  object\n",
      " 1   Price              354369 non-null  int64 \n",
      " 2   VehicleType        316879 non-null  object\n",
      " 3   RegistrationYear   354369 non-null  int64 \n",
      " 4   Gearbox            334536 non-null  object\n",
      " 5   Power              354369 non-null  int64 \n",
      " 6   Model              334664 non-null  object\n",
      " 7   Kilometer          354369 non-null  int64 \n",
      " 8   RegistrationMonth  354369 non-null  int64 \n",
      " 9   FuelType           321474 non-null  object\n",
      " 10  Brand              354369 non-null  object\n",
      " 11  Repaired           283215 non-null  object\n",
      " 12  DateCreated        354369 non-null  object\n",
      " 13  NumberOfPictures   354369 non-null  int64 \n",
      " 14  PostalCode         354369 non-null  int64 \n",
      " 15  LastSeen           354369 non-null  object\n",
      "dtypes: int64(7), object(9)\n",
      "memory usage: 43.3+ MB\n",
      "\n",
      "Количество дубликатов: 4 \n",
      "\n",
      "Количество пропусков:\n",
      " DateCrawled              0\n",
      "Price                    0\n",
      "VehicleType          37490\n",
      "RegistrationYear         0\n",
      "Gearbox              19833\n",
      "Power                    0\n",
      "Model                19705\n",
      "Kilometer                0\n",
      "RegistrationMonth        0\n",
      "FuelType             32895\n",
      "Brand                    0\n",
      "Repaired             71154\n",
      "DateCreated              0\n",
      "NumberOfPictures         0\n",
      "PostalCode               0\n",
      "LastSeen                 0\n",
      "dtype: int64\n"
     ]
    }
   ],
   "source": [
    "information(df)"
   ]
  },
  {
   "cell_type": "markdown",
   "metadata": {
    "id": "M-nYuWVqvNX4"
   },
   "source": [
    "<div class=\"alert alert-success\">\n",
    "<h2> Комментарий ревьюера <a class=\"tocSkip\"> </h2>\n",
    "\n",
    "<b>Все отлично!👍:</b> Первичный анализ выполнен - отлично!"
   ]
  },
  {
   "cell_type": "code",
   "execution_count": 6,
   "metadata": {
    "id": "ioELC7Flkkyl"
   },
   "outputs": [],
   "source": [
    "df.rename(columns={\n",
    "    'DateCrawled': 'date_crawled',\n",
    "    'Price': 'price',\n",
    "    'VehicleType': 'vehicle_type',\n",
    "    'RegistrationYear': 'registration_year',\n",
    "    'Gearbox': 'gearbox',\n",
    "    'Power': 'power',\n",
    "    'Model': 'model',\n",
    "    'Kilometer': 'kilometer',\n",
    "    'RegistrationMonth': 'registration_month',\n",
    "    'FuelType': 'fuel_type',\n",
    "    'Brand': 'brand',\n",
    "    'Repaired': 'repaired',\n",
    "    'DateCreated': 'date_created',\n",
    "    'NumberOfPictures': 'number_of_pictures',\n",
    "    'PostalCode': 'postal_code',\n",
    "    'LastSeen': 'last_seen'\n",
    "}, inplace=True)"
   ]
  },
  {
   "cell_type": "markdown",
   "metadata": {
    "id": "lrrX0ubSvNX4"
   },
   "source": [
    "<div class=\"alert alert-success\">\n",
    "<h2> Комментарий ревьюера <a class=\"tocSkip\"> </h2>\n",
    "\n",
    "<b>Все отлично!👍:</b> Столбцы преобразованы. Круто, что используешь `.rename()` - метод позволяет изменять точечно столбцы, а не переназначать весь массив."
   ]
  },
  {
   "cell_type": "code",
   "execution_count": 7,
   "metadata": {
    "id": "XvY6kR0Xkkyl"
   },
   "outputs": [],
   "source": [
    "df['date_crawled'] = pd.to_datetime(df['date_crawled'], errors='coerce')\n",
    "df['date_created'] = pd.to_datetime(df['date_created'], errors='coerce')\n",
    "df['last_seen'] = pd.to_datetime(df['last_seen'], errors='coerce')\n",
    "df['registration_year'] = pd.to_numeric(df['registration_year'], errors='coerce')\n",
    "df['registration_month'] = pd.to_numeric(df['registration_month'], errors='coerce')\n",
    "df['price'] = pd.to_numeric(df['price'], errors='coerce')\n",
    "df['power'] = pd.to_numeric(df['power'], errors='coerce')\n",
    "df['kilometer'] = pd.to_numeric(df['kilometer'], errors='coerce')\n",
    "df['number_of_pictures'] = pd.to_numeric(df['number_of_pictures'], errors='coerce')\n",
    "df['postal_code'] = pd.to_numeric(df['postal_code'], errors='coerce')"
   ]
  },
  {
   "cell_type": "markdown",
   "metadata": {
    "id": "r7R_HdXAvNX4"
   },
   "source": [
    "<div class=\"alert alert-success\">\n",
    "<h2> Комментарий ревьюера <a class=\"tocSkip\"> </h2>\n",
    "\n",
    "<b>Все отлично!👍:</b> Типы данных скорректированы - отлично!"
   ]
  },
  {
   "cell_type": "code",
   "execution_count": 8,
   "metadata": {
    "id": "IdBA5PtWkkym"
   },
   "outputs": [],
   "source": [
    "df.drop_duplicates(inplace=True)"
   ]
  },
  {
   "cell_type": "code",
   "execution_count": 9,
   "metadata": {
    "colab": {
     "base_uri": "https://localhost:8080/"
    },
    "id": "zclg2l4Fkkym",
    "outputId": "13e0856c-2e48-49be-ba69-24c52a24e75d"
   },
   "outputs": [
    {
     "name": "stdout",
     "output_type": "stream",
     "text": [
      "<class 'pandas.core.frame.DataFrame'>\n",
      "Index: 354365 entries, 0 to 354368\n",
      "Data columns (total 16 columns):\n",
      " #   Column              Non-Null Count   Dtype         \n",
      "---  ------              --------------   -----         \n",
      " 0   date_crawled        354365 non-null  datetime64[ns]\n",
      " 1   price               354365 non-null  int64         \n",
      " 2   vehicle_type        316875 non-null  object        \n",
      " 3   registration_year   354365 non-null  int64         \n",
      " 4   gearbox             334532 non-null  object        \n",
      " 5   power               354365 non-null  int64         \n",
      " 6   model               334660 non-null  object        \n",
      " 7   kilometer           354365 non-null  int64         \n",
      " 8   registration_month  354365 non-null  int64         \n",
      " 9   fuel_type           321470 non-null  object        \n",
      " 10  brand               354365 non-null  object        \n",
      " 11  repaired            283211 non-null  object        \n",
      " 12  date_created        354365 non-null  datetime64[ns]\n",
      " 13  number_of_pictures  354365 non-null  int64         \n",
      " 14  postal_code         354365 non-null  int64         \n",
      " 15  last_seen           354365 non-null  datetime64[ns]\n",
      "dtypes: datetime64[ns](3), int64(7), object(6)\n",
      "memory usage: 46.0+ MB\n",
      "\n",
      "Количество дубликатов: 0 \n",
      "\n",
      "Количество пропусков:\n",
      " date_crawled              0\n",
      "price                     0\n",
      "vehicle_type          37490\n",
      "registration_year         0\n",
      "gearbox               19833\n",
      "power                     0\n",
      "model                 19705\n",
      "kilometer                 0\n",
      "registration_month        0\n",
      "fuel_type             32895\n",
      "brand                     0\n",
      "repaired              71154\n",
      "date_created              0\n",
      "number_of_pictures        0\n",
      "postal_code               0\n",
      "last_seen                 0\n",
      "dtype: int64\n"
     ]
    }
   ],
   "source": [
    "information(df)"
   ]
  },
  {
   "cell_type": "markdown",
   "metadata": {
    "id": "vtRp1I4VvNX4"
   },
   "source": [
    "<div class=\"alert alert-success\">\n",
    "<h2> Комментарий ревьюера <a class=\"tocSkip\"> </h2>\n",
    "\n",
    "<b>Все отлично!👍:</b> Найдены и удалены явные дубликаты."
   ]
  },
  {
   "cell_type": "markdown",
   "metadata": {
    "id": "KWWXoQfbkkym"
   },
   "source": [
    "Удалим 6 неинформативных для модели признаков"
   ]
  },
  {
   "cell_type": "code",
   "execution_count": 10,
   "metadata": {
    "colab": {
     "base_uri": "https://localhost:8080/",
     "height": 206
    },
    "id": "kJBc2LKEkkym",
    "outputId": "33437ca6-8bd1-44de-c9bb-3357254d72ed"
   },
   "outputs": [
    {
     "data": {
      "application/vnd.google.colaboratory.intrinsic+json": {
       "type": "dataframe",
       "variable_name": "df"
      },
      "text/html": [
       "\n",
       "  <div id=\"df-b76243fc-fbbf-4af7-af95-957e1e9e9742\" class=\"colab-df-container\">\n",
       "    <div>\n",
       "<style scoped>\n",
       "    .dataframe tbody tr th:only-of-type {\n",
       "        vertical-align: middle;\n",
       "    }\n",
       "\n",
       "    .dataframe tbody tr th {\n",
       "        vertical-align: top;\n",
       "    }\n",
       "\n",
       "    .dataframe thead th {\n",
       "        text-align: right;\n",
       "    }\n",
       "</style>\n",
       "<table border=\"1\" class=\"dataframe\">\n",
       "  <thead>\n",
       "    <tr style=\"text-align: right;\">\n",
       "      <th></th>\n",
       "      <th>price</th>\n",
       "      <th>vehicle_type</th>\n",
       "      <th>registration_year</th>\n",
       "      <th>gearbox</th>\n",
       "      <th>power</th>\n",
       "      <th>model</th>\n",
       "      <th>kilometer</th>\n",
       "      <th>fuel_type</th>\n",
       "      <th>brand</th>\n",
       "      <th>repaired</th>\n",
       "    </tr>\n",
       "  </thead>\n",
       "  <tbody>\n",
       "    <tr>\n",
       "      <th>0</th>\n",
       "      <td>480</td>\n",
       "      <td>NaN</td>\n",
       "      <td>1993</td>\n",
       "      <td>manual</td>\n",
       "      <td>0</td>\n",
       "      <td>golf</td>\n",
       "      <td>150000</td>\n",
       "      <td>petrol</td>\n",
       "      <td>volkswagen</td>\n",
       "      <td>NaN</td>\n",
       "    </tr>\n",
       "    <tr>\n",
       "      <th>1</th>\n",
       "      <td>18300</td>\n",
       "      <td>coupe</td>\n",
       "      <td>2011</td>\n",
       "      <td>manual</td>\n",
       "      <td>190</td>\n",
       "      <td>NaN</td>\n",
       "      <td>125000</td>\n",
       "      <td>gasoline</td>\n",
       "      <td>audi</td>\n",
       "      <td>yes</td>\n",
       "    </tr>\n",
       "    <tr>\n",
       "      <th>2</th>\n",
       "      <td>9800</td>\n",
       "      <td>suv</td>\n",
       "      <td>2004</td>\n",
       "      <td>auto</td>\n",
       "      <td>163</td>\n",
       "      <td>grand</td>\n",
       "      <td>125000</td>\n",
       "      <td>gasoline</td>\n",
       "      <td>jeep</td>\n",
       "      <td>NaN</td>\n",
       "    </tr>\n",
       "    <tr>\n",
       "      <th>3</th>\n",
       "      <td>1500</td>\n",
       "      <td>small</td>\n",
       "      <td>2001</td>\n",
       "      <td>manual</td>\n",
       "      <td>75</td>\n",
       "      <td>golf</td>\n",
       "      <td>150000</td>\n",
       "      <td>petrol</td>\n",
       "      <td>volkswagen</td>\n",
       "      <td>no</td>\n",
       "    </tr>\n",
       "    <tr>\n",
       "      <th>4</th>\n",
       "      <td>3600</td>\n",
       "      <td>small</td>\n",
       "      <td>2008</td>\n",
       "      <td>manual</td>\n",
       "      <td>69</td>\n",
       "      <td>fabia</td>\n",
       "      <td>90000</td>\n",
       "      <td>gasoline</td>\n",
       "      <td>skoda</td>\n",
       "      <td>no</td>\n",
       "    </tr>\n",
       "  </tbody>\n",
       "</table>\n",
       "</div>\n",
       "    <div class=\"colab-df-buttons\">\n",
       "\n",
       "  <div class=\"colab-df-container\">\n",
       "    <button class=\"colab-df-convert\" onclick=\"convertToInteractive('df-b76243fc-fbbf-4af7-af95-957e1e9e9742')\"\n",
       "            title=\"Convert this dataframe to an interactive table.\"\n",
       "            style=\"display:none;\">\n",
       "\n",
       "  <svg xmlns=\"http://www.w3.org/2000/svg\" height=\"24px\" viewBox=\"0 -960 960 960\">\n",
       "    <path d=\"M120-120v-720h720v720H120Zm60-500h600v-160H180v160Zm220 220h160v-160H400v160Zm0 220h160v-160H400v160ZM180-400h160v-160H180v160Zm440 0h160v-160H620v160ZM180-180h160v-160H180v160Zm440 0h160v-160H620v160Z\"/>\n",
       "  </svg>\n",
       "    </button>\n",
       "\n",
       "  <style>\n",
       "    .colab-df-container {\n",
       "      display:flex;\n",
       "      gap: 12px;\n",
       "    }\n",
       "\n",
       "    .colab-df-convert {\n",
       "      background-color: #E8F0FE;\n",
       "      border: none;\n",
       "      border-radius: 50%;\n",
       "      cursor: pointer;\n",
       "      display: none;\n",
       "      fill: #1967D2;\n",
       "      height: 32px;\n",
       "      padding: 0 0 0 0;\n",
       "      width: 32px;\n",
       "    }\n",
       "\n",
       "    .colab-df-convert:hover {\n",
       "      background-color: #E2EBFA;\n",
       "      box-shadow: 0px 1px 2px rgba(60, 64, 67, 0.3), 0px 1px 3px 1px rgba(60, 64, 67, 0.15);\n",
       "      fill: #174EA6;\n",
       "    }\n",
       "\n",
       "    .colab-df-buttons div {\n",
       "      margin-bottom: 4px;\n",
       "    }\n",
       "\n",
       "    [theme=dark] .colab-df-convert {\n",
       "      background-color: #3B4455;\n",
       "      fill: #D2E3FC;\n",
       "    }\n",
       "\n",
       "    [theme=dark] .colab-df-convert:hover {\n",
       "      background-color: #434B5C;\n",
       "      box-shadow: 0px 1px 3px 1px rgba(0, 0, 0, 0.15);\n",
       "      filter: drop-shadow(0px 1px 2px rgba(0, 0, 0, 0.3));\n",
       "      fill: #FFFFFF;\n",
       "    }\n",
       "  </style>\n",
       "\n",
       "    <script>\n",
       "      const buttonEl =\n",
       "        document.querySelector('#df-b76243fc-fbbf-4af7-af95-957e1e9e9742 button.colab-df-convert');\n",
       "      buttonEl.style.display =\n",
       "        google.colab.kernel.accessAllowed ? 'block' : 'none';\n",
       "\n",
       "      async function convertToInteractive(key) {\n",
       "        const element = document.querySelector('#df-b76243fc-fbbf-4af7-af95-957e1e9e9742');\n",
       "        const dataTable =\n",
       "          await google.colab.kernel.invokeFunction('convertToInteractive',\n",
       "                                                    [key], {});\n",
       "        if (!dataTable) return;\n",
       "\n",
       "        const docLinkHtml = 'Like what you see? Visit the ' +\n",
       "          '<a target=\"_blank\" href=https://colab.research.google.com/notebooks/data_table.ipynb>data table notebook</a>'\n",
       "          + ' to learn more about interactive tables.';\n",
       "        element.innerHTML = '';\n",
       "        dataTable['output_type'] = 'display_data';\n",
       "        await google.colab.output.renderOutput(dataTable, element);\n",
       "        const docLink = document.createElement('div');\n",
       "        docLink.innerHTML = docLinkHtml;\n",
       "        element.appendChild(docLink);\n",
       "      }\n",
       "    </script>\n",
       "  </div>\n",
       "\n",
       "\n",
       "<div id=\"df-e0b30ff5-ba06-4736-a546-780e3fde5d79\">\n",
       "  <button class=\"colab-df-quickchart\" onclick=\"quickchart('df-e0b30ff5-ba06-4736-a546-780e3fde5d79')\"\n",
       "            title=\"Suggest charts\"\n",
       "            style=\"display:none;\">\n",
       "\n",
       "<svg xmlns=\"http://www.w3.org/2000/svg\" height=\"24px\"viewBox=\"0 0 24 24\"\n",
       "     width=\"24px\">\n",
       "    <g>\n",
       "        <path d=\"M19 3H5c-1.1 0-2 .9-2 2v14c0 1.1.9 2 2 2h14c1.1 0 2-.9 2-2V5c0-1.1-.9-2-2-2zM9 17H7v-7h2v7zm4 0h-2V7h2v10zm4 0h-2v-4h2v4z\"/>\n",
       "    </g>\n",
       "</svg>\n",
       "  </button>\n",
       "\n",
       "<style>\n",
       "  .colab-df-quickchart {\n",
       "      --bg-color: #E8F0FE;\n",
       "      --fill-color: #1967D2;\n",
       "      --hover-bg-color: #E2EBFA;\n",
       "      --hover-fill-color: #174EA6;\n",
       "      --disabled-fill-color: #AAA;\n",
       "      --disabled-bg-color: #DDD;\n",
       "  }\n",
       "\n",
       "  [theme=dark] .colab-df-quickchart {\n",
       "      --bg-color: #3B4455;\n",
       "      --fill-color: #D2E3FC;\n",
       "      --hover-bg-color: #434B5C;\n",
       "      --hover-fill-color: #FFFFFF;\n",
       "      --disabled-bg-color: #3B4455;\n",
       "      --disabled-fill-color: #666;\n",
       "  }\n",
       "\n",
       "  .colab-df-quickchart {\n",
       "    background-color: var(--bg-color);\n",
       "    border: none;\n",
       "    border-radius: 50%;\n",
       "    cursor: pointer;\n",
       "    display: none;\n",
       "    fill: var(--fill-color);\n",
       "    height: 32px;\n",
       "    padding: 0;\n",
       "    width: 32px;\n",
       "  }\n",
       "\n",
       "  .colab-df-quickchart:hover {\n",
       "    background-color: var(--hover-bg-color);\n",
       "    box-shadow: 0 1px 2px rgba(60, 64, 67, 0.3), 0 1px 3px 1px rgba(60, 64, 67, 0.15);\n",
       "    fill: var(--button-hover-fill-color);\n",
       "  }\n",
       "\n",
       "  .colab-df-quickchart-complete:disabled,\n",
       "  .colab-df-quickchart-complete:disabled:hover {\n",
       "    background-color: var(--disabled-bg-color);\n",
       "    fill: var(--disabled-fill-color);\n",
       "    box-shadow: none;\n",
       "  }\n",
       "\n",
       "  .colab-df-spinner {\n",
       "    border: 2px solid var(--fill-color);\n",
       "    border-color: transparent;\n",
       "    border-bottom-color: var(--fill-color);\n",
       "    animation:\n",
       "      spin 1s steps(1) infinite;\n",
       "  }\n",
       "\n",
       "  @keyframes spin {\n",
       "    0% {\n",
       "      border-color: transparent;\n",
       "      border-bottom-color: var(--fill-color);\n",
       "      border-left-color: var(--fill-color);\n",
       "    }\n",
       "    20% {\n",
       "      border-color: transparent;\n",
       "      border-left-color: var(--fill-color);\n",
       "      border-top-color: var(--fill-color);\n",
       "    }\n",
       "    30% {\n",
       "      border-color: transparent;\n",
       "      border-left-color: var(--fill-color);\n",
       "      border-top-color: var(--fill-color);\n",
       "      border-right-color: var(--fill-color);\n",
       "    }\n",
       "    40% {\n",
       "      border-color: transparent;\n",
       "      border-right-color: var(--fill-color);\n",
       "      border-top-color: var(--fill-color);\n",
       "    }\n",
       "    60% {\n",
       "      border-color: transparent;\n",
       "      border-right-color: var(--fill-color);\n",
       "    }\n",
       "    80% {\n",
       "      border-color: transparent;\n",
       "      border-right-color: var(--fill-color);\n",
       "      border-bottom-color: var(--fill-color);\n",
       "    }\n",
       "    90% {\n",
       "      border-color: transparent;\n",
       "      border-bottom-color: var(--fill-color);\n",
       "    }\n",
       "  }\n",
       "</style>\n",
       "\n",
       "  <script>\n",
       "    async function quickchart(key) {\n",
       "      const quickchartButtonEl =\n",
       "        document.querySelector('#' + key + ' button');\n",
       "      quickchartButtonEl.disabled = true;  // To prevent multiple clicks.\n",
       "      quickchartButtonEl.classList.add('colab-df-spinner');\n",
       "      try {\n",
       "        const charts = await google.colab.kernel.invokeFunction(\n",
       "            'suggestCharts', [key], {});\n",
       "      } catch (error) {\n",
       "        console.error('Error during call to suggestCharts:', error);\n",
       "      }\n",
       "      quickchartButtonEl.classList.remove('colab-df-spinner');\n",
       "      quickchartButtonEl.classList.add('colab-df-quickchart-complete');\n",
       "    }\n",
       "    (() => {\n",
       "      let quickchartButtonEl =\n",
       "        document.querySelector('#df-e0b30ff5-ba06-4736-a546-780e3fde5d79 button');\n",
       "      quickchartButtonEl.style.display =\n",
       "        google.colab.kernel.accessAllowed ? 'block' : 'none';\n",
       "    })();\n",
       "  </script>\n",
       "</div>\n",
       "\n",
       "    </div>\n",
       "  </div>\n"
      ],
      "text/plain": [
       "   price vehicle_type  registration_year gearbox  power  model  kilometer  \\\n",
       "0    480          NaN               1993  manual      0   golf     150000   \n",
       "1  18300        coupe               2011  manual    190    NaN     125000   \n",
       "2   9800          suv               2004    auto    163  grand     125000   \n",
       "3   1500        small               2001  manual     75   golf     150000   \n",
       "4   3600        small               2008  manual     69  fabia      90000   \n",
       "\n",
       "  fuel_type       brand repaired  \n",
       "0    petrol  volkswagen      NaN  \n",
       "1  gasoline        audi      yes  \n",
       "2  gasoline        jeep      NaN  \n",
       "3    petrol  volkswagen       no  \n",
       "4  gasoline       skoda       no  "
      ]
     },
     "execution_count": 10,
     "metadata": {},
     "output_type": "execute_result"
    }
   ],
   "source": [
    "df = df.drop(['date_crawled', 'registration_month', 'date_created',\n",
    "                  'number_of_pictures', 'postal_code', 'last_seen'], axis=1)\n",
    "df.head()"
   ]
  },
  {
   "cell_type": "markdown",
   "metadata": {
    "id": "AeV2KU-mvNX5"
   },
   "source": [
    "<div class=\"alert alert-success\">\n",
    "<h2> Комментарий ревьюера <a class=\"tocSkip\"> </h2>\n",
    "\n",
    "<b>Все отлично!👍:</b> Неинформативные признаки определены верно."
   ]
  },
  {
   "cell_type": "markdown",
   "metadata": {
    "id": "EqkJBCw3kkym"
   },
   "source": [
    "Продолжим анализ данных, восполнив пропуски, отбросив аномальные значения и проведя дополнительные шаги предобработки данных."
   ]
  },
  {
   "cell_type": "code",
   "execution_count": 11,
   "metadata": {
    "colab": {
     "base_uri": "https://localhost:8080/",
     "height": 1000
    },
    "id": "jigujNOBkkym",
    "outputId": "c2a9e040-acea-46b5-8d8f-cd643af4ffe3"
   },
   "outputs": [
    {
     "data": {
      "image/png": "[encoded data removed]",
      "text/plain": [
       "<Figure size 800x600 with 1 Axes>"
      ]
     },
     "metadata": {},
     "output_type": "display_data"
    },
    {
     "data": {
      "image/png": "[encoded data removed]",
      "text/plain": [
       "<Figure size 800x600 with 1 Axes>"
      ]
     },
     "metadata": {},
     "output_type": "display_data"
    },
    {
     "data": {
      "image/png": "[encoded data removed]",
      "text/plain": [
       "<Figure size 800x600 with 1 Axes>"
      ]
     },
     "metadata": {},
     "output_type": "display_data"
    },
    {
     "data": {
      "image/png": "[encoded data removed]",
      "text/plain": [
       "<Figure size 800x600 with 1 Axes>"
      ]
     },
     "metadata": {},
     "output_type": "display_data"
    },
    {
     "data": {
      "image/png": "[encoded data removed]",
      "text/plain": [
       "<Figure size 800x600 with 1 Axes>"
      ]
     },
     "metadata": {},
     "output_type": "display_data"
    },
    {
     "data": {
      "image/png": "[encoded data removed]",
      "text/plain": [
       "<Figure size 800x600 with 1 Axes>"
      ]
     },
     "metadata": {},
     "output_type": "display_data"
    },
    {
     "data": {
      "image/png": "[encoded data removed]",
      "text/plain": [
       "<Figure size 800x600 with 1 Axes>"
      ]
     },
     "metadata": {},
     "output_type": "display_data"
    },
    {
     "data": {
      "image/png": "[encoded data removed]",
      "text/plain": [
       "<Figure size 800x600 with 1 Axes>"
      ]
     },
     "metadata": {},
     "output_type": "display_data"
    },
    {
     "data": {
      "image/png": "[encoded data removed]",
      "text/plain": [
       "<Figure size 800x600 with 1 Axes>"
      ]
     },
     "metadata": {},
     "output_type": "display_data"
    },
    {
     "data": {
      "image/png": "[encoded data removed]",
      "text/plain": [
       "<Figure size 800x600 with 1 Axes>"
      ]
     },
     "metadata": {},
     "output_type": "display_data"
    },
    {
     "data": {
      "image/png": "[encoded data removed]",
      "text/plain": [
       "<Figure size 800x600 with 1 Axes>"
      ]
     },
     "metadata": {},
     "output_type": "display_data"
    },
    {
     "data": {
      "image/png": "[encoded data removed]",
      "text/plain": [
       "<Figure size 800x600 with 1 Axes>"
      ]
     },
     "metadata": {},
     "output_type": "display_data"
    },
    {
     "data": {
      "image/png": "[encoded data removed]",
      "text/plain": [
       "<Figure size 800x600 with 1 Axes>"
      ]
     },
     "metadata": {},
     "output_type": "display_data"
    },
    {
     "data": {
      "image/png": "[encoded data removed]",
      "text/plain": [
       "<Figure size 800x600 with 1 Axes>"
      ]
     },
     "metadata": {},
     "output_type": "display_data"
    }
   ],
   "source": [
    "def visualize_data(df, df_name, top_n=20):\n",
    "    # Select numeric and categorical columns\n",
    "    numeric_columns = df.select_dtypes(include=['int64', 'float64']).columns\n",
    "    categorical_columns = df.select_dtypes(include=['object']).columns\n",
    "\n",
    "    # Plot histograms for numeric columns\n",
    "    for col in numeric_columns:\n",
    "        plt.figure(figsize=(8, 6))\n",
    "        df[col].hist()\n",
    "        plt.title(f'Histogram of {col} - {df_name}')\n",
    "        plt.xlabel(col)\n",
    "        plt.ylabel('Frequency')\n",
    "        plt.show()\n",
    "\n",
    "    # Plot boxplots for numeric columns\n",
    "    for col in numeric_columns:\n",
    "        plt.figure(figsize=(8, 6))\n",
    "        df.boxplot(column=col)\n",
    "        plt.title(f'Boxplot of {col} - {df_name}')\n",
    "        plt.ylabel(col)\n",
    "        plt.show()\n",
    "\n",
    "    # Plot bar charts for categorical columns\n",
    "    for col in categorical_columns:\n",
    "        plt.figure(figsize=(8, 6))\n",
    "        df[col].value_counts().nlargest(top_n).plot(kind='bar')\n",
    "        plt.title(f'Barplot of {col} - {df_name}')\n",
    "        plt.xlabel(col)\n",
    "        plt.ylabel('Count')\n",
    "        plt.xticks(rotation=90)\n",
    "        plt.show()\n",
    "visualize_data(df, 'autos')\n"
   ]
  },
  {
   "cell_type": "markdown",
   "metadata": {
    "id": "UFB31bLIvNX5"
   },
   "source": [
    "<div class=\"alert alert-block alert-danger\">\n",
    "<h2> Комментарий ревьюера <a class=\"tocSkip\"></h2>\n",
    "\n",
    "    \n",
    "<b>На доработку❌:</b> Для признаков с большим количеством уникальных значений стоит визуализировать топ-n значений по частоте, чтобы график не терял в информативности - сейчас из-за большого скопления значений на оси Х график нечитабелен."
   ]
  },
  {
   "cell_type": "markdown",
   "metadata": {
    "id": "lTLSuAQYubFp"
   },
   "source": [
    "<div class=\"alert alert-success\">\n",
    "<h2> Комментарий ревьюера v.2 <a class=\"tocSkip\"> </h2>\n",
    "\n",
    "<b>Все отлично!👍:</b> Учтено."
   ]
  },
  {
   "cell_type": "markdown",
   "metadata": {
    "id": "IZ-T-YfGkkym"
   },
   "source": [
    "Мы сохраним только те машины, чей год регистрации находится в диапазоне с 1960 по 2016 гг.\n",
    "Удалим нулевые значения в колонке price и поставим ограничение лошадинных сил до 500 л.с. также заменим нули на медианное значение л.с. модели"
   ]
  },
  {
   "cell_type": "code",
   "execution_count": 12,
   "metadata": {
    "colab": {
     "base_uri": "https://localhost:8080/"
    },
    "id": "9xMNWHY3kkym",
    "outputId": "beae36a8-99ef-4652-e8de-2be59bf5d029"
   },
   "outputs": [
    {
     "data": {
      "text/plain": [
       "count    354365.000000\n",
       "mean       4416.679830\n",
       "std        4514.176349\n",
       "min           0.000000\n",
       "25%        1050.000000\n",
       "50%        2700.000000\n",
       "75%        6400.000000\n",
       "max       20000.000000\n",
       "Name: price, dtype: float64"
      ]
     },
     "execution_count": 12,
     "metadata": {},
     "output_type": "execute_result"
    }
   ],
   "source": [
    "df['price'].describe()"
   ]
  },
  {
   "cell_type": "code",
   "execution_count": 13,
   "metadata": {
    "id": "gPJUnABGkkym"
   },
   "outputs": [],
   "source": [
    "df = df[df['price'] != 0]"
   ]
  },
  {
   "cell_type": "markdown",
   "metadata": {
    "id": "FMJPeXeLvNX5"
   },
   "source": [
    "<div class=\"alert alert-success\">\n",
    "<h2> Комментарий ревьюера <a class=\"tocSkip\"> </h2>\n",
    "\n",
    "<b>Все отлично!👍:</b> Удалены нулевые значения цен."
   ]
  },
  {
   "cell_type": "markdown",
   "metadata": {
    "id": "2kIY_ETCvNX5"
   },
   "source": [
    "<div class=\"alert alert-warning\">\n",
    "    <h2> Комментарий ревьюера <a class=\"tocSkip\"> </h2>\n",
    "    \n",
    "<b>Некоторые замечания и рекомендации⚠️:</b>\n",
    "\n",
    "Может быть полезно также удалить неадекватно низкие значения цен: в пределах цен до 500-1000 евро вряд ли можно купить полноценный автомобиль."
   ]
  },
  {
   "cell_type": "code",
   "execution_count": 14,
   "metadata": {
    "id": "UlY2ue3nvNX5"
   },
   "outputs": [],
   "source": [
    "df = df[df['price'] >= 500]"
   ]
  },
  {
   "cell_type": "markdown",
   "metadata": {
    "id": "V1LCxSU0vNX5"
   },
   "source": [
    "<div class=\"alert alert-info\">\n",
    "<h2> Комментарий студента <a class=\"tocSkip\"> </h2>\n",
    "\n",
    "*Согласна*\n",
    "</div>"
   ]
  },
  {
   "cell_type": "markdown",
   "metadata": {
    "id": "hUiCu7PEubFq"
   },
   "source": [
    "<div class=\"alert alert-success\">\n",
    "<h2> Комментарий ревьюера v.2 <a class=\"tocSkip\"> </h2>\n",
    "\n",
    "<b>Все отлично!👍:</b> Учтено."
   ]
  },
  {
   "cell_type": "code",
   "execution_count": 15,
   "metadata": {
    "colab": {
     "base_uri": "https://localhost:8080/"
    },
    "id": "wu6YnXWOkkym",
    "outputId": "e5d3105c-e94c-4be5-e0dc-d69a0445565e"
   },
   "outputs": [
    {
     "data": {
      "text/plain": [
       "count    318311.000000\n",
       "mean       2004.164672\n",
       "std          65.378165\n",
       "min        1000.000000\n",
       "25%        1999.000000\n",
       "50%        2004.000000\n",
       "75%        2008.000000\n",
       "max        9999.000000\n",
       "Name: registration_year, dtype: float64"
      ]
     },
     "execution_count": 15,
     "metadata": {},
     "output_type": "execute_result"
    }
   ],
   "source": [
    "df['registration_year'].describe()"
   ]
  },
  {
   "cell_type": "code",
   "execution_count": 16,
   "metadata": {
    "id": "a9uHJX_okkym"
   },
   "outputs": [],
   "source": [
    "df = df[(df['registration_year'] >= 1960) & (df['registration_year'] <= 2016)]"
   ]
  },
  {
   "cell_type": "markdown",
   "metadata": {
    "id": "5BRchBp2vNX5"
   },
   "source": [
    "<div class=\"alert alert-success\">\n",
    "<h2> Комментарий ревьюера <a class=\"tocSkip\"> </h2>\n",
    "\n",
    "<b>Все отлично!👍:</b> По году регистрации фильтрация корректна."
   ]
  },
  {
   "cell_type": "code",
   "execution_count": 17,
   "metadata": {
    "colab": {
     "base_uri": "https://localhost:8080/"
    },
    "id": "NWpPmdfxkkym",
    "outputId": "238b1eef-5a81-45f8-8aa3-e6a6a40558b5"
   },
   "outputs": [
    {
     "data": {
      "text/plain": [
       "count    305008.000000\n",
       "mean        116.073706\n",
       "std         187.150533\n",
       "min           0.000000\n",
       "25%          75.000000\n",
       "50%         109.000000\n",
       "75%         147.000000\n",
       "max       20000.000000\n",
       "Name: power, dtype: float64"
      ]
     },
     "execution_count": 17,
     "metadata": {},
     "output_type": "execute_result"
    }
   ],
   "source": [
    "df['power'].describe()"
   ]
  },
  {
   "cell_type": "code",
   "execution_count": 18,
   "metadata": {
    "colab": {
     "base_uri": "https://localhost:8080/"
    },
    "id": "IbHwjsthkkyn",
    "outputId": "335f9999-c39e-42a4-d460-ad6ceb813265"
   },
   "outputs": [
    {
     "data": {
      "text/plain": [
       "power\n",
       "0       25385\n",
       "75      19665\n",
       "150     13444\n",
       "140     12220\n",
       "60      12070\n",
       "        ...  \n",
       "2461        1\n",
       "6006        1\n",
       "6018        1\n",
       "612         1\n",
       "1548        1\n",
       "Name: count, Length: 652, dtype: int64"
      ]
     },
     "execution_count": 18,
     "metadata": {},
     "output_type": "execute_result"
    }
   ],
   "source": [
    "df['power'].value_counts()"
   ]
  },
  {
   "cell_type": "code",
   "execution_count": 19,
   "metadata": {
    "colab": {
     "base_uri": "https://localhost:8080/"
    },
    "id": "Xj_QWrXKkkyn",
    "outputId": "c00274fa-a91c-4577-a79a-ac4dd65ae9e8"
   },
   "outputs": [
    {
     "data": {
      "text/plain": [
       "304663"
      ]
     },
     "execution_count": 19,
     "metadata": {},
     "output_type": "execute_result"
    }
   ],
   "source": [
    "df[df['power'] <= 500].shape[0]"
   ]
  },
  {
   "cell_type": "code",
   "execution_count": 20,
   "metadata": {
    "id": "D-wn2pjGkkyn"
   },
   "outputs": [],
   "source": [
    "df['vehicle_type'].fillna('unknown', inplace=True)\n",
    "df['model'].fillna('unknown', inplace=True)\n",
    "df['fuel_type'].fillna('unknown', inplace=True)"
   ]
  },
  {
   "cell_type": "markdown",
   "metadata": {
    "id": "eX7Q3nrzvNX9"
   },
   "source": [
    "<div class=\"alert alert-success\">\n",
    "<h2> Комментарий ревьюера <a class=\"tocSkip\"> </h2>\n",
    "\n",
    "<b>Все отлично!👍</b>\n",
    "    \n",
    "Отличное решение по обработке пропусков в категориальных признаках заглушкой - это позволит как сохранить наблюдения вместо их удаления, так и избавит нас от возможных ошибок при эмпирическом импутировании."
   ]
  },
  {
   "cell_type": "markdown",
   "metadata": {
    "id": "A2zGAZq0vNX9"
   },
   "source": [
    "Категориальные признаки gearbox и repaired являются бинарными. И в этой связи предлагаю восполнить пропущенные значения методом научного тыка np.random.choice"
   ]
  },
  {
   "cell_type": "code",
   "execution_count": 21,
   "metadata": {
    "id": "wskjQIUikkyn"
   },
   "outputs": [],
   "source": [
    "# Заполнение пропусков заглушкой\n",
    "df['gearbox'].fillna('unknown', inplace=True)\n",
    "df['repaired'].fillna('unknown', inplace=True)"
   ]
  },
  {
   "cell_type": "markdown",
   "metadata": {
    "id": "vigUmz2avNX9"
   },
   "source": [
    "<div class=\"alert alert-block alert-danger\">\n",
    "<h2> Комментарий ревьюера <a class=\"tocSkip\"></h2>\n",
    "\n",
    "    \n",
    "<b>На доработку❌:</b> Заполнять пропуски случайным образом в целом не очень корректно, стоит использовать или заглушку, или какую-то логику, связанную с бизнесом заказчика."
   ]
  },
  {
   "cell_type": "markdown",
   "metadata": {
    "id": "MDva3n_lvNX9"
   },
   "source": [
    "<div class=\"alert alert-info\">\n",
    "<h2> Комментарий студента <a class=\"tocSkip\"> </h2>\n",
    "\n",
    "*Заполнение пропусков случайным образом методом np.random.choice может быть оправдано в случае, если:\n",
    "\n",
    "Признаки являются бинарными и не имеют явной доминирующей категории. В этом случае равномерное распределение случайных значений может не исказить статистику признаков.\n",
    "Нет достаточной бизнес-логики или других оснований для предпочтения одного значения перед другим. Если нельзя логически обосновать, почему одно значение должно быть заполнено чаще другого, случайное распределение может помочь сохранить неопределенность данных.*\n",
    "</div>"
   ]
  },
  {
   "cell_type": "markdown",
   "metadata": {
    "id": "_y3hEoqgubFu"
   },
   "source": [
    "<div class=\"alert alert-success\">\n",
    "<h2> Комментарий ревьюера v.2 <a class=\"tocSkip\"> </h2>\n",
    "\n",
    "<b>Все отлично!👍</b> Тогда у нас вполне вероятно может получиться ситуация, когда для машины, например, которая не предполагает автоматической КПП, будет замена на значение, которое конкретно для этой модели не предусмотрено производителем, как итог - модель будет обучена на неправильных данных."
   ]
  },
  {
   "cell_type": "code",
   "execution_count": 22,
   "metadata": {
    "id": "VMRDvC4gkkyn"
   },
   "outputs": [],
   "source": [
    "df = df[(df['power'] > 50) & (df['power'] <= 500)]"
   ]
  },
  {
   "cell_type": "code",
   "execution_count": 23,
   "metadata": {
    "colab": {
     "base_uri": "https://localhost:8080/"
    },
    "id": "lImF06UivNX9",
    "outputId": "d89306bb-1a32-4357-f8ea-acf8b45f0ff1"
   },
   "outputs": [
    {
     "data": {
      "text/plain": [
       "count    271869.000000\n",
       "mean        125.052838\n",
       "std          52.615731\n",
       "min          51.000000\n",
       "25%          86.000000\n",
       "50%         116.000000\n",
       "75%         150.000000\n",
       "max         500.000000\n",
       "Name: power, dtype: float64"
      ]
     },
     "execution_count": 23,
     "metadata": {},
     "output_type": "execute_result"
    }
   ],
   "source": [
    "df['power'].describe()"
   ]
  },
  {
   "cell_type": "markdown",
   "metadata": {
    "id": "i3K5r2wAvNX9"
   },
   "source": [
    "<div class=\"alert alert-success\">\n",
    "<h2> Комментарий ревьюера <a class=\"tocSkip\"> </h2>\n",
    "\n",
    "<b>Все отлично!👍</b>\n",
    "    \n",
    "Удалили аномально большие значения мощности."
   ]
  },
  {
   "cell_type": "markdown",
   "metadata": {
    "id": "WJf-PZa1vNX9"
   },
   "source": [
    "<div class=\"alert alert-block alert-danger\">\n",
    "<h2> Комментарий ревьюера <a class=\"tocSkip\"></h2>\n",
    "\n",
    "    \n",
    "<b>На доработку❌:</b>\n",
    "\n",
    "Вместо замены одного значения признака в наблюдении, качество которого вызывает вопросы, лучше удалить всё наблюдение целиком - исправление одной некорректной точки в векторе не исправляет возможные ошибки в других точках вектора признаков."
   ]
  },
  {
   "cell_type": "markdown",
   "metadata": {
    "id": "4l6sZdKBubFv"
   },
   "source": [
    "<div class=\"alert alert-success\">\n",
    "<h2> Комментарий ревьюера v.2 <a class=\"tocSkip\"> </h2>\n",
    "\n",
    "<b>Все отлично!👍</b> Учтено."
   ]
  },
  {
   "cell_type": "markdown",
   "metadata": {
    "id": "Sqy-5VbYvNX9"
   },
   "source": [
    "<div class=\"alert alert-warning\">\n",
    "    <h2> Комментарий ревьюера <a class=\"tocSkip\"> </h2>\n",
    "    \n",
    "<b>Некоторые замечания и рекомендации⚠️:</b>\n",
    "\n",
    "Может быть полезно также удалить околонулевые значения мощности - некоторые значения этого признака в таблице напоминают, скорее, телегу с конём, чем автомобиль:)"
   ]
  },
  {
   "cell_type": "markdown",
   "metadata": {
    "id": "Fi7cI-0DubFv"
   },
   "source": [
    "<div class=\"alert alert-success\">\n",
    "<h2> Комментарий ревьюера v.2 <a class=\"tocSkip\"> </h2>\n",
    "\n",
    "<b>Все отлично!👍</b> Учтено."
   ]
  },
  {
   "cell_type": "code",
   "execution_count": 24,
   "metadata": {
    "colab": {
     "base_uri": "https://localhost:8080/"
    },
    "id": "TBa3U-Pakkyn",
    "outputId": "3d460e4a-094c-48d4-fde0-da84e5f9220e"
   },
   "outputs": [
    {
     "name": "stdout",
     "output_type": "stream",
     "text": [
      "<class 'pandas.core.frame.DataFrame'>\n",
      "Index: 271869 entries, 1 to 354368\n",
      "Data columns (total 10 columns):\n",
      " #   Column             Non-Null Count   Dtype \n",
      "---  ------             --------------   ----- \n",
      " 0   price              271869 non-null  int64 \n",
      " 1   vehicle_type       271869 non-null  object\n",
      " 2   registration_year  271869 non-null  int64 \n",
      " 3   gearbox            271869 non-null  object\n",
      " 4   power              271869 non-null  int64 \n",
      " 5   model              271869 non-null  object\n",
      " 6   kilometer          271869 non-null  int64 \n",
      " 7   fuel_type          271869 non-null  object\n",
      " 8   brand              271869 non-null  object\n",
      " 9   repaired           271869 non-null  object\n",
      "dtypes: int64(4), object(6)\n",
      "memory usage: 22.8+ MB\n"
     ]
    }
   ],
   "source": [
    "df.info()"
   ]
  },
  {
   "cell_type": "markdown",
   "metadata": {
    "id": "4WB6JP5hkkyn"
   },
   "source": [
    "### ВЫВОД\n",
    "\n",
    "В данной таблице имеются пропуски, дубликаты!\n",
    "\n",
    "- Количество строк: 354369\n",
    "- Пропущенные значения: имеются в колонках vehicle_type, gearbox, model, fuel_type, repaired\n",
    "- Дубликаты: 4\n",
    "- Форматы данных: соответствуют ожиданиям\n",
    "\n",
    "В разделе Исследование данных были выполнены следующие задачи:.\n",
    "\n",
    "- Произведено изучение данных\n",
    "- Удалены явные дубликаты\n",
    "- Исключены неинформативные признаки\n",
    "- Проведено исследование данных после первоначальной предобработки\n",
    "- Произведена обработка аномалий\n",
    "- Обработаны пропущенные значения"
   ]
  },
  {
   "cell_type": "markdown",
   "metadata": {
    "id": "W3PfK-6ykkyn"
   },
   "source": [
    "## Обучение моделей"
   ]
  },
  {
   "cell_type": "markdown",
   "metadata": {
    "id": "qNd98q5wBURQ"
   },
   "source": [
    "<div class=\"alert alert-info\">\n",
    "<h2> Комментарий студента <a class=\"tocSkip\"> </h2>\n",
    "Я решила использовать только GridSearch для моей работы в этом проекте. Очень жаль, что я не могу использовать и GridSearch, и валидацию одновременно, так как это значительно ускоряло мою работу. Не понимаю, почему вы так тщательно делаете замечания к местам, где можно писать комментарии желтым цветом.\n",
    "Основную задачу я выполнила — привела данные RMSE на валидации ниже 2500. Проанализировала время обучения, время предсказания и качество моделей. Независимо от того, теряются ли мои данные или нет, я смогла обучить модели успешно и с хорошим качеством, ниже 2500. Ваши замечания, возможно, имеют место для улучшения моей работы, которую я продолжаю выполнять даже во время каникул. Сейчас я стараюс делать проекты в срок и ответить на вопросы, а улучшить код могу делать во время каникул. Думаю, моя работа должна была быть принята уже на четвертой итерации. Но для вашего видения успешного проекта она, к сожалению, не подошла.\n",
    "</div>"
   ]
  },
  {
   "cell_type": "markdown",
   "metadata": {},
   "source": [
    "<div class=\"alert alert-success\">\n",
    "<h2> Комментарий ревьюера v.5 <a class=\"tocSkip\"> </h2>\n",
    "\n",
    "<b>Все отлично!👍</b> Здесь дело не в моём видении, а в том, что одновременное выделение `valid` выборки и использование кросс-валидации является нарушением критерия проверки этого проекта, и с таким решением проект не был бы принят ни одним ревьюером. К тому же, это не единственная ошибка, которая была в проекте на четвёртой итерации, поэтому его нельзя было бы принимать даже несмотря на этот момент.\n",
    "    \n",
    "То, что можно давать как рекомендацию, я стараюсь выделять жёлтым цветом. Понимаю, что проект непростой, но мы уже проделали большую работу, и замечаний осталось совсем немного - уверен, на следующей итерации мы всё закончим:)"
   ]
  },
  {
   "cell_type": "code",
   "execution_count": 25,
   "metadata": {
    "id": "lMVnsIfaBWWi"
   },
   "outputs": [],
   "source": [
    "#выделяю признаки и целевой признак и делим на выбобрки\n",
    "features = df.drop('price', axis=1)\n",
    "target = df.price\n",
    "\n",
    "# Разделение данных на обучающую и тестовую выборки\n",
    "features_train, features_test, target_train, target_test = train_test_split(features, target, test_size=0.4, random_state=12345)\n",
    "\n",
    "# Определение категориальных признаков для OneHotEncoding\n",
    "categorical_features = features.select_dtypes(include=['object', 'category']).columns\n",
    "\n",
    "# Определение OneHotEncoder в ColumnTransformer\n",
    "preprocessor = ColumnTransformer(\n",
    "    transformers=[\n",
    "        ('cat', OneHotEncoder(handle_unknown='ignore', drop='first', sparse=False), categorical_features)\n",
    "    ],\n",
    "    remainder='passthrough'\n",
    ")"
   ]
  },
  {
   "cell_type": "code",
   "execution_count": 28,
   "metadata": {
    "colab": {
     "base_uri": "https://localhost:8080/"
    },
    "id": "0gEgN36uBqb4",
    "outputId": "b9d398e1-2afe-4ffa-a1d2-afe063ff8e05"
   },
   "outputs": [
    {
     "name": "stderr",
     "output_type": "stream",
     "text": [
      "/usr/local/lib/python3.10/dist-packages/sklearn/preprocessing/_encoders.py:868: FutureWarning: `sparse` was renamed to `sparse_output` in version 1.2 and will be removed in 1.4. `sparse_output` is ignored unless you leave `sparse` to its default value.\n",
      "  warnings.warn(\n",
      "/usr/local/lib/python3.10/dist-packages/sklearn/preprocessing/_encoders.py:868: FutureWarning: `sparse` was renamed to `sparse_output` in version 1.2 and will be removed in 1.4. `sparse_output` is ignored unless you leave `sparse` to its default value.\n",
      "  warnings.warn(\n",
      "/usr/local/lib/python3.10/dist-packages/sklearn/preprocessing/_encoders.py:868: FutureWarning: `sparse` was renamed to `sparse_output` in version 1.2 and will be removed in 1.4. `sparse_output` is ignored unless you leave `sparse` to its default value.\n",
      "  warnings.warn(\n",
      "/usr/local/lib/python3.10/dist-packages/sklearn/preprocessing/_encoders.py:868: FutureWarning: `sparse` was renamed to `sparse_output` in version 1.2 and will be removed in 1.4. `sparse_output` is ignored unless you leave `sparse` to its default value.\n",
      "  warnings.warn(\n",
      "/usr/local/lib/python3.10/dist-packages/sklearn/preprocessing/_encoders.py:202: UserWarning: Found unknown categories in columns [2] during transform. These unknown categories will be encoded as all zeros\n",
      "  warnings.warn(\n",
      "/usr/local/lib/python3.10/dist-packages/sklearn/preprocessing/_encoders.py:868: FutureWarning: `sparse` was renamed to `sparse_output` in version 1.2 and will be removed in 1.4. `sparse_output` is ignored unless you leave `sparse` to its default value.\n",
      "  warnings.warn(\n",
      "/usr/local/lib/python3.10/dist-packages/sklearn/preprocessing/_encoders.py:868: FutureWarning: `sparse` was renamed to `sparse_output` in version 1.2 and will be removed in 1.4. `sparse_output` is ignored unless you leave `sparse` to its default value.\n",
      "  warnings.warn(\n",
      "/usr/local/lib/python3.10/dist-packages/sklearn/preprocessing/_encoders.py:202: UserWarning: Found unknown categories in columns [2] during transform. These unknown categories will be encoded as all zeros\n",
      "  warnings.warn(\n"
     ]
    }
   ],
   "source": [
    "# Линейная регрессия\n",
    "pipeline_lr = Pipeline(steps=[('preprocessor', preprocessor), ('model', LinearRegression())])\n",
    "\n",
    "start = time.time()\n",
    "pipeline_lr.fit(features_train, target_train)\n",
    "end = time.time()\n",
    "t_lr = end - start\n",
    "\n",
    "start = time.time()\n",
    "pipeline_lr.predict(features_train)\n",
    "end = time.time()\n",
    "t_lr_p = end - start\n",
    "\n",
    "\n",
    "cv_scores_lr = cross_val_score(pipeline_lr, features_train, target_train, cv=5, scoring='neg_mean_squared_error')\n",
    "rmse_lr= np.sqrt(-cv_scores_lr)"
   ]
  },
  {
   "cell_type": "code",
   "execution_count": 31,
   "metadata": {
    "colab": {
     "base_uri": "https://localhost:8080/"
    },
    "id": "kdskwiiUGlDo",
    "outputId": "542982d0-1ac4-44dd-a73c-fa8ecb9465f3"
   },
   "outputs": [
    {
     "name": "stderr",
     "output_type": "stream",
     "text": [
      "/usr/local/lib/python3.10/dist-packages/sklearn/preprocessing/_encoders.py:868: FutureWarning: `sparse` was renamed to `sparse_output` in version 1.2 and will be removed in 1.4. `sparse_output` is ignored unless you leave `sparse` to its default value.\n",
      "  warnings.warn(\n"
     ]
    },
    {
     "name": "stdout",
     "output_type": "stream",
     "text": [
      "[LightGBM] [Info] Auto-choosing row-wise multi-threading, the overhead of testing was 0.013406 seconds.\n",
      "You can set `force_row_wise=true` to remove the overhead.\n",
      "And if memory is not enough, you can set `force_col_wise=true`.\n",
      "[LightGBM] [Info] Total Bins 835\n",
      "[LightGBM] [Info] Number of data points in the train set: 130496, number of used features: 278\n",
      "[LightGBM] [Info] Start training from score 5216.809090\n"
     ]
    },
    {
     "name": "stderr",
     "output_type": "stream",
     "text": [
      "/usr/local/lib/python3.10/dist-packages/sklearn/preprocessing/_encoders.py:868: FutureWarning: `sparse` was renamed to `sparse_output` in version 1.2 and will be removed in 1.4. `sparse_output` is ignored unless you leave `sparse` to its default value.\n",
      "  warnings.warn(\n"
     ]
    },
    {
     "name": "stdout",
     "output_type": "stream",
     "text": [
      "[LightGBM] [Info] Auto-choosing row-wise multi-threading, the overhead of testing was 0.012899 seconds.\n",
      "You can set `force_row_wise=true` to remove the overhead.\n",
      "And if memory is not enough, you can set `force_col_wise=true`.\n",
      "[LightGBM] [Info] Total Bins 833\n",
      "[LightGBM] [Info] Number of data points in the train set: 130497, number of used features: 278\n",
      "[LightGBM] [Info] Start training from score 5211.261393\n"
     ]
    },
    {
     "name": "stderr",
     "output_type": "stream",
     "text": [
      "/usr/local/lib/python3.10/dist-packages/sklearn/preprocessing/_encoders.py:868: FutureWarning: `sparse` was renamed to `sparse_output` in version 1.2 and will be removed in 1.4. `sparse_output` is ignored unless you leave `sparse` to its default value.\n",
      "  warnings.warn(\n"
     ]
    },
    {
     "name": "stdout",
     "output_type": "stream",
     "text": [
      "[LightGBM] [Info] Auto-choosing row-wise multi-threading, the overhead of testing was 0.013001 seconds.\n",
      "You can set `force_row_wise=true` to remove the overhead.\n",
      "And if memory is not enough, you can set `force_col_wise=true`.\n",
      "[LightGBM] [Info] Total Bins 832\n",
      "[LightGBM] [Info] Number of data points in the train set: 130497, number of used features: 278\n",
      "[LightGBM] [Info] Start training from score 5207.816586\n"
     ]
    },
    {
     "name": "stderr",
     "output_type": "stream",
     "text": [
      "/usr/local/lib/python3.10/dist-packages/sklearn/preprocessing/_encoders.py:202: UserWarning: Found unknown categories in columns [2] during transform. These unknown categories will be encoded as all zeros\n",
      "  warnings.warn(\n",
      "/usr/local/lib/python3.10/dist-packages/sklearn/preprocessing/_encoders.py:868: FutureWarning: `sparse` was renamed to `sparse_output` in version 1.2 and will be removed in 1.4. `sparse_output` is ignored unless you leave `sparse` to its default value.\n",
      "  warnings.warn(\n"
     ]
    },
    {
     "name": "stdout",
     "output_type": "stream",
     "text": [
      "[LightGBM] [Info] Auto-choosing row-wise multi-threading, the overhead of testing was 0.021519 seconds.\n",
      "You can set `force_row_wise=true` to remove the overhead.\n",
      "And if memory is not enough, you can set `force_col_wise=true`.\n",
      "[LightGBM] [Info] Total Bins 836\n",
      "[LightGBM] [Info] Number of data points in the train set: 130497, number of used features: 279\n",
      "[LightGBM] [Info] Start training from score 5209.536051\n"
     ]
    },
    {
     "name": "stderr",
     "output_type": "stream",
     "text": [
      "/usr/local/lib/python3.10/dist-packages/sklearn/preprocessing/_encoders.py:868: FutureWarning: `sparse` was renamed to `sparse_output` in version 1.2 and will be removed in 1.4. `sparse_output` is ignored unless you leave `sparse` to its default value.\n",
      "  warnings.warn(\n"
     ]
    },
    {
     "name": "stdout",
     "output_type": "stream",
     "text": [
      "[LightGBM] [Info] Auto-choosing row-wise multi-threading, the overhead of testing was 0.013236 seconds.\n",
      "You can set `force_row_wise=true` to remove the overhead.\n",
      "And if memory is not enough, you can set `force_col_wise=true`.\n",
      "[LightGBM] [Info] Total Bins 839\n",
      "[LightGBM] [Info] Number of data points in the train set: 130497, number of used features: 280\n",
      "[LightGBM] [Info] Start training from score 5215.208656\n"
     ]
    },
    {
     "name": "stderr",
     "output_type": "stream",
     "text": [
      "/usr/local/lib/python3.10/dist-packages/sklearn/preprocessing/_encoders.py:202: UserWarning: Found unknown categories in columns [2] during transform. These unknown categories will be encoded as all zeros\n",
      "  warnings.warn(\n",
      "/usr/local/lib/python3.10/dist-packages/sklearn/preprocessing/_encoders.py:868: FutureWarning: `sparse` was renamed to `sparse_output` in version 1.2 and will be removed in 1.4. `sparse_output` is ignored unless you leave `sparse` to its default value.\n",
      "  warnings.warn(\n"
     ]
    },
    {
     "name": "stdout",
     "output_type": "stream",
     "text": [
      "[LightGBM] [Info] Auto-choosing row-wise multi-threading, the overhead of testing was 0.012872 seconds.\n",
      "You can set `force_row_wise=true` to remove the overhead.\n",
      "And if memory is not enough, you can set `force_col_wise=true`.\n",
      "[LightGBM] [Info] Total Bins 835\n",
      "[LightGBM] [Info] Number of data points in the train set: 130496, number of used features: 278\n",
      "[LightGBM] [Info] Start training from score 5216.809090\n"
     ]
    },
    {
     "name": "stderr",
     "output_type": "stream",
     "text": [
      "/usr/local/lib/python3.10/dist-packages/sklearn/preprocessing/_encoders.py:868: FutureWarning: `sparse` was renamed to `sparse_output` in version 1.2 and will be removed in 1.4. `sparse_output` is ignored unless you leave `sparse` to its default value.\n",
      "  warnings.warn(\n"
     ]
    },
    {
     "name": "stdout",
     "output_type": "stream",
     "text": [
      "[LightGBM] [Info] Auto-choosing row-wise multi-threading, the overhead of testing was 0.019075 seconds.\n",
      "You can set `force_row_wise=true` to remove the overhead.\n",
      "And if memory is not enough, you can set `force_col_wise=true`.\n",
      "[LightGBM] [Info] Total Bins 833\n",
      "[LightGBM] [Info] Number of data points in the train set: 130497, number of used features: 278\n",
      "[LightGBM] [Info] Start training from score 5211.261393\n"
     ]
    },
    {
     "name": "stderr",
     "output_type": "stream",
     "text": [
      "/usr/local/lib/python3.10/dist-packages/sklearn/preprocessing/_encoders.py:868: FutureWarning: `sparse` was renamed to `sparse_output` in version 1.2 and will be removed in 1.4. `sparse_output` is ignored unless you leave `sparse` to its default value.\n",
      "  warnings.warn(\n"
     ]
    },
    {
     "name": "stdout",
     "output_type": "stream",
     "text": [
      "[LightGBM] [Info] Auto-choosing row-wise multi-threading, the overhead of testing was 0.013135 seconds.\n",
      "You can set `force_row_wise=true` to remove the overhead.\n",
      "And if memory is not enough, you can set `force_col_wise=true`.\n",
      "[LightGBM] [Info] Total Bins 832\n",
      "[LightGBM] [Info] Number of data points in the train set: 130497, number of used features: 278\n",
      "[LightGBM] [Info] Start training from score 5207.816586\n"
     ]
    },
    {
     "name": "stderr",
     "output_type": "stream",
     "text": [
      "/usr/local/lib/python3.10/dist-packages/sklearn/preprocessing/_encoders.py:202: UserWarning: Found unknown categories in columns [2] during transform. These unknown categories will be encoded as all zeros\n",
      "  warnings.warn(\n",
      "/usr/local/lib/python3.10/dist-packages/sklearn/preprocessing/_encoders.py:868: FutureWarning: `sparse` was renamed to `sparse_output` in version 1.2 and will be removed in 1.4. `sparse_output` is ignored unless you leave `sparse` to its default value.\n",
      "  warnings.warn(\n"
     ]
    },
    {
     "name": "stdout",
     "output_type": "stream",
     "text": [
      "[LightGBM] [Info] Auto-choosing row-wise multi-threading, the overhead of testing was 0.012864 seconds.\n",
      "You can set `force_row_wise=true` to remove the overhead.\n",
      "And if memory is not enough, you can set `force_col_wise=true`.\n",
      "[LightGBM] [Info] Total Bins 836\n",
      "[LightGBM] [Info] Number of data points in the train set: 130497, number of used features: 279\n",
      "[LightGBM] [Info] Start training from score 5209.536051\n"
     ]
    },
    {
     "name": "stderr",
     "output_type": "stream",
     "text": [
      "/usr/local/lib/python3.10/dist-packages/sklearn/preprocessing/_encoders.py:868: FutureWarning: `sparse` was renamed to `sparse_output` in version 1.2 and will be removed in 1.4. `sparse_output` is ignored unless you leave `sparse` to its default value.\n",
      "  warnings.warn(\n"
     ]
    },
    {
     "name": "stdout",
     "output_type": "stream",
     "text": [
      "[LightGBM] [Info] Auto-choosing row-wise multi-threading, the overhead of testing was 0.012781 seconds.\n",
      "You can set `force_row_wise=true` to remove the overhead.\n",
      "And if memory is not enough, you can set `force_col_wise=true`.\n",
      "[LightGBM] [Info] Total Bins 839\n",
      "[LightGBM] [Info] Number of data points in the train set: 130497, number of used features: 280\n",
      "[LightGBM] [Info] Start training from score 5215.208656\n"
     ]
    },
    {
     "name": "stderr",
     "output_type": "stream",
     "text": [
      "/usr/local/lib/python3.10/dist-packages/sklearn/preprocessing/_encoders.py:202: UserWarning: Found unknown categories in columns [2] during transform. These unknown categories will be encoded as all zeros\n",
      "  warnings.warn(\n",
      "/usr/local/lib/python3.10/dist-packages/sklearn/preprocessing/_encoders.py:868: FutureWarning: `sparse` was renamed to `sparse_output` in version 1.2 and will be removed in 1.4. `sparse_output` is ignored unless you leave `sparse` to its default value.\n",
      "  warnings.warn(\n"
     ]
    },
    {
     "name": "stdout",
     "output_type": "stream",
     "text": [
      "[LightGBM] [Info] Auto-choosing row-wise multi-threading, the overhead of testing was 0.019608 seconds.\n",
      "You can set `force_row_wise=true` to remove the overhead.\n",
      "And if memory is not enough, you can set `force_col_wise=true`.\n",
      "[LightGBM] [Info] Total Bins 835\n",
      "[LightGBM] [Info] Number of data points in the train set: 130496, number of used features: 278\n",
      "[LightGBM] [Info] Start training from score 5216.809090\n"
     ]
    },
    {
     "name": "stderr",
     "output_type": "stream",
     "text": [
      "/usr/local/lib/python3.10/dist-packages/sklearn/preprocessing/_encoders.py:868: FutureWarning: `sparse` was renamed to `sparse_output` in version 1.2 and will be removed in 1.4. `sparse_output` is ignored unless you leave `sparse` to its default value.\n",
      "  warnings.warn(\n"
     ]
    },
    {
     "name": "stdout",
     "output_type": "stream",
     "text": [
      "[LightGBM] [Info] Auto-choosing row-wise multi-threading, the overhead of testing was 0.012956 seconds.\n",
      "You can set `force_row_wise=true` to remove the overhead.\n",
      "And if memory is not enough, you can set `force_col_wise=true`.\n",
      "[LightGBM] [Info] Total Bins 833\n",
      "[LightGBM] [Info] Number of data points in the train set: 130497, number of used features: 278\n",
      "[LightGBM] [Info] Start training from score 5211.261393\n"
     ]
    },
    {
     "name": "stderr",
     "output_type": "stream",
     "text": [
      "/usr/local/lib/python3.10/dist-packages/sklearn/preprocessing/_encoders.py:868: FutureWarning: `sparse` was renamed to `sparse_output` in version 1.2 and will be removed in 1.4. `sparse_output` is ignored unless you leave `sparse` to its default value.\n",
      "  warnings.warn(\n"
     ]
    },
    {
     "name": "stdout",
     "output_type": "stream",
     "text": [
      "[LightGBM] [Info] Auto-choosing row-wise multi-threading, the overhead of testing was 0.013685 seconds.\n",
      "You can set `force_row_wise=true` to remove the overhead.\n",
      "And if memory is not enough, you can set `force_col_wise=true`.\n",
      "[LightGBM] [Info] Total Bins 832\n",
      "[LightGBM] [Info] Number of data points in the train set: 130497, number of used features: 278\n",
      "[LightGBM] [Info] Start training from score 5207.816586\n"
     ]
    },
    {
     "name": "stderr",
     "output_type": "stream",
     "text": [
      "/usr/local/lib/python3.10/dist-packages/sklearn/preprocessing/_encoders.py:202: UserWarning: Found unknown categories in columns [2] during transform. These unknown categories will be encoded as all zeros\n",
      "  warnings.warn(\n",
      "/usr/local/lib/python3.10/dist-packages/sklearn/preprocessing/_encoders.py:868: FutureWarning: `sparse` was renamed to `sparse_output` in version 1.2 and will be removed in 1.4. `sparse_output` is ignored unless you leave `sparse` to its default value.\n",
      "  warnings.warn(\n"
     ]
    },
    {
     "name": "stdout",
     "output_type": "stream",
     "text": [
      "[LightGBM] [Info] Auto-choosing row-wise multi-threading, the overhead of testing was 0.012848 seconds.\n",
      "You can set `force_row_wise=true` to remove the overhead.\n",
      "And if memory is not enough, you can set `force_col_wise=true`.\n",
      "[LightGBM] [Info] Total Bins 836\n",
      "[LightGBM] [Info] Number of data points in the train set: 130497, number of used features: 279\n",
      "[LightGBM] [Info] Start training from score 5209.536051\n"
     ]
    },
    {
     "name": "stderr",
     "output_type": "stream",
     "text": [
      "/usr/local/lib/python3.10/dist-packages/sklearn/preprocessing/_encoders.py:868: FutureWarning: `sparse` was renamed to `sparse_output` in version 1.2 and will be removed in 1.4. `sparse_output` is ignored unless you leave `sparse` to its default value.\n",
      "  warnings.warn(\n"
     ]
    },
    {
     "name": "stdout",
     "output_type": "stream",
     "text": [
      "[LightGBM] [Info] Auto-choosing row-wise multi-threading, the overhead of testing was 0.019332 seconds.\n",
      "You can set `force_row_wise=true` to remove the overhead.\n",
      "And if memory is not enough, you can set `force_col_wise=true`.\n",
      "[LightGBM] [Info] Total Bins 839\n",
      "[LightGBM] [Info] Number of data points in the train set: 130497, number of used features: 280\n",
      "[LightGBM] [Info] Start training from score 5215.208656\n"
     ]
    },
    {
     "name": "stderr",
     "output_type": "stream",
     "text": [
      "/usr/local/lib/python3.10/dist-packages/sklearn/preprocessing/_encoders.py:202: UserWarning: Found unknown categories in columns [2] during transform. These unknown categories will be encoded as all zeros\n",
      "  warnings.warn(\n",
      "/usr/local/lib/python3.10/dist-packages/sklearn/preprocessing/_encoders.py:868: FutureWarning: `sparse` was renamed to `sparse_output` in version 1.2 and will be removed in 1.4. `sparse_output` is ignored unless you leave `sparse` to its default value.\n",
      "  warnings.warn(\n"
     ]
    },
    {
     "name": "stdout",
     "output_type": "stream",
     "text": [
      "[LightGBM] [Info] Auto-choosing col-wise multi-threading, the overhead of testing was 0.022421 seconds.\n",
      "You can set `force_col_wise=true` to remove the overhead.\n",
      "[LightGBM] [Info] Total Bins 835\n",
      "[LightGBM] [Info] Number of data points in the train set: 130496, number of used features: 278\n",
      "[LightGBM] [Info] Start training from score 5216.809090\n"
     ]
    },
    {
     "name": "stderr",
     "output_type": "stream",
     "text": [
      "/usr/local/lib/python3.10/dist-packages/sklearn/preprocessing/_encoders.py:868: FutureWarning: `sparse` was renamed to `sparse_output` in version 1.2 and will be removed in 1.4. `sparse_output` is ignored unless you leave `sparse` to its default value.\n",
      "  warnings.warn(\n"
     ]
    },
    {
     "name": "stdout",
     "output_type": "stream",
     "text": [
      "[LightGBM] [Info] Auto-choosing row-wise multi-threading, the overhead of testing was 0.012827 seconds.\n",
      "You can set `force_row_wise=true` to remove the overhead.\n",
      "And if memory is not enough, you can set `force_col_wise=true`.\n",
      "[LightGBM] [Info] Total Bins 833\n",
      "[LightGBM] [Info] Number of data points in the train set: 130497, number of used features: 278\n",
      "[LightGBM] [Info] Start training from score 5211.261393\n"
     ]
    },
    {
     "name": "stderr",
     "output_type": "stream",
     "text": [
      "/usr/local/lib/python3.10/dist-packages/sklearn/preprocessing/_encoders.py:868: FutureWarning: `sparse` was renamed to `sparse_output` in version 1.2 and will be removed in 1.4. `sparse_output` is ignored unless you leave `sparse` to its default value.\n",
      "  warnings.warn(\n"
     ]
    },
    {
     "name": "stdout",
     "output_type": "stream",
     "text": [
      "[LightGBM] [Info] Auto-choosing row-wise multi-threading, the overhead of testing was 0.019015 seconds.\n",
      "You can set `force_row_wise=true` to remove the overhead.\n",
      "And if memory is not enough, you can set `force_col_wise=true`.\n",
      "[LightGBM] [Info] Total Bins 832\n",
      "[LightGBM] [Info] Number of data points in the train set: 130497, number of used features: 278\n",
      "[LightGBM] [Info] Start training from score 5207.816586\n"
     ]
    },
    {
     "name": "stderr",
     "output_type": "stream",
     "text": [
      "/usr/local/lib/python3.10/dist-packages/sklearn/preprocessing/_encoders.py:202: UserWarning: Found unknown categories in columns [2] during transform. These unknown categories will be encoded as all zeros\n",
      "  warnings.warn(\n",
      "/usr/local/lib/python3.10/dist-packages/sklearn/preprocessing/_encoders.py:868: FutureWarning: `sparse` was renamed to `sparse_output` in version 1.2 and will be removed in 1.4. `sparse_output` is ignored unless you leave `sparse` to its default value.\n",
      "  warnings.warn(\n"
     ]
    },
    {
     "name": "stdout",
     "output_type": "stream",
     "text": [
      "[LightGBM] [Info] Auto-choosing row-wise multi-threading, the overhead of testing was 0.012873 seconds.\n",
      "You can set `force_row_wise=true` to remove the overhead.\n",
      "And if memory is not enough, you can set `force_col_wise=true`.\n",
      "[LightGBM] [Info] Total Bins 836\n",
      "[LightGBM] [Info] Number of data points in the train set: 130497, number of used features: 279\n",
      "[LightGBM] [Info] Start training from score 5209.536051\n"
     ]
    },
    {
     "name": "stderr",
     "output_type": "stream",
     "text": [
      "/usr/local/lib/python3.10/dist-packages/sklearn/preprocessing/_encoders.py:868: FutureWarning: `sparse` was renamed to `sparse_output` in version 1.2 and will be removed in 1.4. `sparse_output` is ignored unless you leave `sparse` to its default value.\n",
      "  warnings.warn(\n"
     ]
    },
    {
     "name": "stdout",
     "output_type": "stream",
     "text": [
      "[LightGBM] [Info] Auto-choosing row-wise multi-threading, the overhead of testing was 0.014161 seconds.\n",
      "You can set `force_row_wise=true` to remove the overhead.\n",
      "And if memory is not enough, you can set `force_col_wise=true`.\n",
      "[LightGBM] [Info] Total Bins 839\n",
      "[LightGBM] [Info] Number of data points in the train set: 130497, number of used features: 280\n",
      "[LightGBM] [Info] Start training from score 5215.208656\n"
     ]
    },
    {
     "name": "stderr",
     "output_type": "stream",
     "text": [
      "/usr/local/lib/python3.10/dist-packages/sklearn/preprocessing/_encoders.py:202: UserWarning: Found unknown categories in columns [2] during transform. These unknown categories will be encoded as all zeros\n",
      "  warnings.warn(\n",
      "/usr/local/lib/python3.10/dist-packages/sklearn/preprocessing/_encoders.py:868: FutureWarning: `sparse` was renamed to `sparse_output` in version 1.2 and will be removed in 1.4. `sparse_output` is ignored unless you leave `sparse` to its default value.\n",
      "  warnings.warn(\n"
     ]
    },
    {
     "name": "stdout",
     "output_type": "stream",
     "text": [
      "[LightGBM] [Info] Auto-choosing row-wise multi-threading, the overhead of testing was 0.018875 seconds.\n",
      "You can set `force_row_wise=true` to remove the overhead.\n",
      "And if memory is not enough, you can set `force_col_wise=true`.\n",
      "[LightGBM] [Info] Total Bins 835\n",
      "[LightGBM] [Info] Number of data points in the train set: 130496, number of used features: 278\n",
      "[LightGBM] [Info] Start training from score 5216.809090\n"
     ]
    },
    {
     "name": "stderr",
     "output_type": "stream",
     "text": [
      "/usr/local/lib/python3.10/dist-packages/sklearn/preprocessing/_encoders.py:868: FutureWarning: `sparse` was renamed to `sparse_output` in version 1.2 and will be removed in 1.4. `sparse_output` is ignored unless you leave `sparse` to its default value.\n",
      "  warnings.warn(\n"
     ]
    },
    {
     "name": "stdout",
     "output_type": "stream",
     "text": [
      "[LightGBM] [Info] Auto-choosing row-wise multi-threading, the overhead of testing was 0.012987 seconds.\n",
      "You can set `force_row_wise=true` to remove the overhead.\n",
      "And if memory is not enough, you can set `force_col_wise=true`.\n",
      "[LightGBM] [Info] Total Bins 833\n",
      "[LightGBM] [Info] Number of data points in the train set: 130497, number of used features: 278\n",
      "[LightGBM] [Info] Start training from score 5211.261393\n"
     ]
    },
    {
     "name": "stderr",
     "output_type": "stream",
     "text": [
      "/usr/local/lib/python3.10/dist-packages/sklearn/preprocessing/_encoders.py:868: FutureWarning: `sparse` was renamed to `sparse_output` in version 1.2 and will be removed in 1.4. `sparse_output` is ignored unless you leave `sparse` to its default value.\n",
      "  warnings.warn(\n"
     ]
    },
    {
     "name": "stdout",
     "output_type": "stream",
     "text": [
      "[LightGBM] [Info] Auto-choosing row-wise multi-threading, the overhead of testing was 0.012876 seconds.\n",
      "You can set `force_row_wise=true` to remove the overhead.\n",
      "And if memory is not enough, you can set `force_col_wise=true`.\n",
      "[LightGBM] [Info] Total Bins 832\n",
      "[LightGBM] [Info] Number of data points in the train set: 130497, number of used features: 278\n",
      "[LightGBM] [Info] Start training from score 5207.816586\n"
     ]
    },
    {
     "name": "stderr",
     "output_type": "stream",
     "text": [
      "/usr/local/lib/python3.10/dist-packages/sklearn/preprocessing/_encoders.py:202: UserWarning: Found unknown categories in columns [2] during transform. These unknown categories will be encoded as all zeros\n",
      "  warnings.warn(\n",
      "/usr/local/lib/python3.10/dist-packages/sklearn/preprocessing/_encoders.py:868: FutureWarning: `sparse` was renamed to `sparse_output` in version 1.2 and will be removed in 1.4. `sparse_output` is ignored unless you leave `sparse` to its default value.\n",
      "  warnings.warn(\n"
     ]
    },
    {
     "name": "stdout",
     "output_type": "stream",
     "text": [
      "[LightGBM] [Info] Auto-choosing row-wise multi-threading, the overhead of testing was 0.013161 seconds.\n",
      "You can set `force_row_wise=true` to remove the overhead.\n",
      "And if memory is not enough, you can set `force_col_wise=true`.\n",
      "[LightGBM] [Info] Total Bins 836\n",
      "[LightGBM] [Info] Number of data points in the train set: 130497, number of used features: 279\n",
      "[LightGBM] [Info] Start training from score 5209.536051\n"
     ]
    },
    {
     "name": "stderr",
     "output_type": "stream",
     "text": [
      "/usr/local/lib/python3.10/dist-packages/sklearn/preprocessing/_encoders.py:868: FutureWarning: `sparse` was renamed to `sparse_output` in version 1.2 and will be removed in 1.4. `sparse_output` is ignored unless you leave `sparse` to its default value.\n",
      "  warnings.warn(\n"
     ]
    },
    {
     "name": "stdout",
     "output_type": "stream",
     "text": [
      "[LightGBM] [Info] Auto-choosing row-wise multi-threading, the overhead of testing was 0.021088 seconds.\n",
      "You can set `force_row_wise=true` to remove the overhead.\n",
      "And if memory is not enough, you can set `force_col_wise=true`.\n",
      "[LightGBM] [Info] Total Bins 839\n",
      "[LightGBM] [Info] Number of data points in the train set: 130497, number of used features: 280\n",
      "[LightGBM] [Info] Start training from score 5215.208656\n"
     ]
    },
    {
     "name": "stderr",
     "output_type": "stream",
     "text": [
      "/usr/local/lib/python3.10/dist-packages/sklearn/preprocessing/_encoders.py:202: UserWarning: Found unknown categories in columns [2] during transform. These unknown categories will be encoded as all zeros\n",
      "  warnings.warn(\n",
      "/usr/local/lib/python3.10/dist-packages/sklearn/preprocessing/_encoders.py:868: FutureWarning: `sparse` was renamed to `sparse_output` in version 1.2 and will be removed in 1.4. `sparse_output` is ignored unless you leave `sparse` to its default value.\n",
      "  warnings.warn(\n"
     ]
    },
    {
     "name": "stdout",
     "output_type": "stream",
     "text": [
      "[LightGBM] [Info] Auto-choosing row-wise multi-threading, the overhead of testing was 0.012963 seconds.\n",
      "You can set `force_row_wise=true` to remove the overhead.\n",
      "And if memory is not enough, you can set `force_col_wise=true`.\n",
      "[LightGBM] [Info] Total Bins 835\n",
      "[LightGBM] [Info] Number of data points in the train set: 130496, number of used features: 278\n",
      "[LightGBM] [Info] Start training from score 5216.809090\n"
     ]
    },
    {
     "name": "stderr",
     "output_type": "stream",
     "text": [
      "/usr/local/lib/python3.10/dist-packages/sklearn/preprocessing/_encoders.py:868: FutureWarning: `sparse` was renamed to `sparse_output` in version 1.2 and will be removed in 1.4. `sparse_output` is ignored unless you leave `sparse` to its default value.\n",
      "  warnings.warn(\n"
     ]
    },
    {
     "name": "stdout",
     "output_type": "stream",
     "text": [
      "[LightGBM] [Info] Auto-choosing row-wise multi-threading, the overhead of testing was 0.012781 seconds.\n",
      "You can set `force_row_wise=true` to remove the overhead.\n",
      "And if memory is not enough, you can set `force_col_wise=true`.\n",
      "[LightGBM] [Info] Total Bins 833\n",
      "[LightGBM] [Info] Number of data points in the train set: 130497, number of used features: 278\n",
      "[LightGBM] [Info] Start training from score 5211.261393\n"
     ]
    },
    {
     "name": "stderr",
     "output_type": "stream",
     "text": [
      "/usr/local/lib/python3.10/dist-packages/sklearn/preprocessing/_encoders.py:868: FutureWarning: `sparse` was renamed to `sparse_output` in version 1.2 and will be removed in 1.4. `sparse_output` is ignored unless you leave `sparse` to its default value.\n",
      "  warnings.warn(\n"
     ]
    },
    {
     "name": "stdout",
     "output_type": "stream",
     "text": [
      "[LightGBM] [Info] Auto-choosing col-wise multi-threading, the overhead of testing was 0.023852 seconds.\n",
      "You can set `force_col_wise=true` to remove the overhead.\n",
      "[LightGBM] [Info] Total Bins 832\n",
      "[LightGBM] [Info] Number of data points in the train set: 130497, number of used features: 278\n",
      "[LightGBM] [Info] Start training from score 5207.816586\n"
     ]
    },
    {
     "name": "stderr",
     "output_type": "stream",
     "text": [
      "/usr/local/lib/python3.10/dist-packages/sklearn/preprocessing/_encoders.py:202: UserWarning: Found unknown categories in columns [2] during transform. These unknown categories will be encoded as all zeros\n",
      "  warnings.warn(\n",
      "/usr/local/lib/python3.10/dist-packages/sklearn/preprocessing/_encoders.py:868: FutureWarning: `sparse` was renamed to `sparse_output` in version 1.2 and will be removed in 1.4. `sparse_output` is ignored unless you leave `sparse` to its default value.\n",
      "  warnings.warn(\n"
     ]
    },
    {
     "name": "stdout",
     "output_type": "stream",
     "text": [
      "[LightGBM] [Info] Auto-choosing row-wise multi-threading, the overhead of testing was 0.018621 seconds.\n",
      "You can set `force_row_wise=true` to remove the overhead.\n",
      "And if memory is not enough, you can set `force_col_wise=true`.\n",
      "[LightGBM] [Info] Total Bins 836\n",
      "[LightGBM] [Info] Number of data points in the train set: 130497, number of used features: 279\n",
      "[LightGBM] [Info] Start training from score 5209.536051\n"
     ]
    },
    {
     "name": "stderr",
     "output_type": "stream",
     "text": [
      "/usr/local/lib/python3.10/dist-packages/sklearn/preprocessing/_encoders.py:868: FutureWarning: `sparse` was renamed to `sparse_output` in version 1.2 and will be removed in 1.4. `sparse_output` is ignored unless you leave `sparse` to its default value.\n",
      "  warnings.warn(\n"
     ]
    },
    {
     "name": "stdout",
     "output_type": "stream",
     "text": [
      "[LightGBM] [Info] Auto-choosing row-wise multi-threading, the overhead of testing was 0.012879 seconds.\n",
      "You can set `force_row_wise=true` to remove the overhead.\n",
      "And if memory is not enough, you can set `force_col_wise=true`.\n",
      "[LightGBM] [Info] Total Bins 839\n",
      "[LightGBM] [Info] Number of data points in the train set: 130497, number of used features: 280\n",
      "[LightGBM] [Info] Start training from score 5215.208656\n"
     ]
    },
    {
     "name": "stderr",
     "output_type": "stream",
     "text": [
      "/usr/local/lib/python3.10/dist-packages/sklearn/preprocessing/_encoders.py:202: UserWarning: Found unknown categories in columns [2] during transform. These unknown categories will be encoded as all zeros\n",
      "  warnings.warn(\n",
      "/usr/local/lib/python3.10/dist-packages/sklearn/preprocessing/_encoders.py:868: FutureWarning: `sparse` was renamed to `sparse_output` in version 1.2 and will be removed in 1.4. `sparse_output` is ignored unless you leave `sparse` to its default value.\n",
      "  warnings.warn(\n"
     ]
    },
    {
     "name": "stdout",
     "output_type": "stream",
     "text": [
      "[LightGBM] [Info] Auto-choosing row-wise multi-threading, the overhead of testing was 0.012857 seconds.\n",
      "You can set `force_row_wise=true` to remove the overhead.\n",
      "And if memory is not enough, you can set `force_col_wise=true`.\n",
      "[LightGBM] [Info] Total Bins 835\n",
      "[LightGBM] [Info] Number of data points in the train set: 130496, number of used features: 278\n",
      "[LightGBM] [Info] Start training from score 5216.809090\n"
     ]
    },
    {
     "name": "stderr",
     "output_type": "stream",
     "text": [
      "/usr/local/lib/python3.10/dist-packages/sklearn/preprocessing/_encoders.py:868: FutureWarning: `sparse` was renamed to `sparse_output` in version 1.2 and will be removed in 1.4. `sparse_output` is ignored unless you leave `sparse` to its default value.\n",
      "  warnings.warn(\n"
     ]
    },
    {
     "name": "stdout",
     "output_type": "stream",
     "text": [
      "[LightGBM] [Info] Auto-choosing row-wise multi-threading, the overhead of testing was 0.012983 seconds.\n",
      "You can set `force_row_wise=true` to remove the overhead.\n",
      "And if memory is not enough, you can set `force_col_wise=true`.\n",
      "[LightGBM] [Info] Total Bins 833\n",
      "[LightGBM] [Info] Number of data points in the train set: 130497, number of used features: 278\n",
      "[LightGBM] [Info] Start training from score 5211.261393\n"
     ]
    },
    {
     "name": "stderr",
     "output_type": "stream",
     "text": [
      "/usr/local/lib/python3.10/dist-packages/sklearn/preprocessing/_encoders.py:868: FutureWarning: `sparse` was renamed to `sparse_output` in version 1.2 and will be removed in 1.4. `sparse_output` is ignored unless you leave `sparse` to its default value.\n",
      "  warnings.warn(\n"
     ]
    },
    {
     "name": "stdout",
     "output_type": "stream",
     "text": [
      "[LightGBM] [Info] Auto-choosing row-wise multi-threading, the overhead of testing was 0.019159 seconds.\n",
      "You can set `force_row_wise=true` to remove the overhead.\n",
      "And if memory is not enough, you can set `force_col_wise=true`.\n",
      "[LightGBM] [Info] Total Bins 832\n",
      "[LightGBM] [Info] Number of data points in the train set: 130497, number of used features: 278\n",
      "[LightGBM] [Info] Start training from score 5207.816586\n"
     ]
    },
    {
     "name": "stderr",
     "output_type": "stream",
     "text": [
      "/usr/local/lib/python3.10/dist-packages/sklearn/preprocessing/_encoders.py:202: UserWarning: Found unknown categories in columns [2] during transform. These unknown categories will be encoded as all zeros\n",
      "  warnings.warn(\n",
      "/usr/local/lib/python3.10/dist-packages/sklearn/preprocessing/_encoders.py:868: FutureWarning: `sparse` was renamed to `sparse_output` in version 1.2 and will be removed in 1.4. `sparse_output` is ignored unless you leave `sparse` to its default value.\n",
      "  warnings.warn(\n"
     ]
    },
    {
     "name": "stdout",
     "output_type": "stream",
     "text": [
      "[LightGBM] [Info] Auto-choosing row-wise multi-threading, the overhead of testing was 0.012870 seconds.\n",
      "You can set `force_row_wise=true` to remove the overhead.\n",
      "And if memory is not enough, you can set `force_col_wise=true`.\n",
      "[LightGBM] [Info] Total Bins 836\n",
      "[LightGBM] [Info] Number of data points in the train set: 130497, number of used features: 279\n",
      "[LightGBM] [Info] Start training from score 5209.536051\n"
     ]
    },
    {
     "name": "stderr",
     "output_type": "stream",
     "text": [
      "/usr/local/lib/python3.10/dist-packages/sklearn/preprocessing/_encoders.py:868: FutureWarning: `sparse` was renamed to `sparse_output` in version 1.2 and will be removed in 1.4. `sparse_output` is ignored unless you leave `sparse` to its default value.\n",
      "  warnings.warn(\n"
     ]
    },
    {
     "name": "stdout",
     "output_type": "stream",
     "text": [
      "[LightGBM] [Info] Auto-choosing row-wise multi-threading, the overhead of testing was 0.012870 seconds.\n",
      "You can set `force_row_wise=true` to remove the overhead.\n",
      "And if memory is not enough, you can set `force_col_wise=true`.\n",
      "[LightGBM] [Info] Total Bins 839\n",
      "[LightGBM] [Info] Number of data points in the train set: 130497, number of used features: 280\n",
      "[LightGBM] [Info] Start training from score 5215.208656\n"
     ]
    },
    {
     "name": "stderr",
     "output_type": "stream",
     "text": [
      "/usr/local/lib/python3.10/dist-packages/sklearn/preprocessing/_encoders.py:202: UserWarning: Found unknown categories in columns [2] during transform. These unknown categories will be encoded as all zeros\n",
      "  warnings.warn(\n",
      "/usr/local/lib/python3.10/dist-packages/sklearn/preprocessing/_encoders.py:868: FutureWarning: `sparse` was renamed to `sparse_output` in version 1.2 and will be removed in 1.4. `sparse_output` is ignored unless you leave `sparse` to its default value.\n",
      "  warnings.warn(\n"
     ]
    },
    {
     "name": "stdout",
     "output_type": "stream",
     "text": [
      "[LightGBM] [Info] Auto-choosing row-wise multi-threading, the overhead of testing was 0.012844 seconds.\n",
      "You can set `force_row_wise=true` to remove the overhead.\n",
      "And if memory is not enough, you can set `force_col_wise=true`.\n",
      "[LightGBM] [Info] Total Bins 835\n",
      "[LightGBM] [Info] Number of data points in the train set: 130496, number of used features: 278\n",
      "[LightGBM] [Info] Start training from score 5216.809090\n"
     ]
    },
    {
     "name": "stderr",
     "output_type": "stream",
     "text": [
      "/usr/local/lib/python3.10/dist-packages/sklearn/preprocessing/_encoders.py:868: FutureWarning: `sparse` was renamed to `sparse_output` in version 1.2 and will be removed in 1.4. `sparse_output` is ignored unless you leave `sparse` to its default value.\n",
      "  warnings.warn(\n"
     ]
    },
    {
     "name": "stdout",
     "output_type": "stream",
     "text": [
      "[LightGBM] [Info] Auto-choosing row-wise multi-threading, the overhead of testing was 0.019760 seconds.\n",
      "You can set `force_row_wise=true` to remove the overhead.\n",
      "And if memory is not enough, you can set `force_col_wise=true`.\n",
      "[LightGBM] [Info] Total Bins 833\n",
      "[LightGBM] [Info] Number of data points in the train set: 130497, number of used features: 278\n",
      "[LightGBM] [Info] Start training from score 5211.261393\n"
     ]
    },
    {
     "name": "stderr",
     "output_type": "stream",
     "text": [
      "/usr/local/lib/python3.10/dist-packages/sklearn/preprocessing/_encoders.py:868: FutureWarning: `sparse` was renamed to `sparse_output` in version 1.2 and will be removed in 1.4. `sparse_output` is ignored unless you leave `sparse` to its default value.\n",
      "  warnings.warn(\n"
     ]
    },
    {
     "name": "stdout",
     "output_type": "stream",
     "text": [
      "[LightGBM] [Info] Auto-choosing row-wise multi-threading, the overhead of testing was 0.012803 seconds.\n",
      "You can set `force_row_wise=true` to remove the overhead.\n",
      "And if memory is not enough, you can set `force_col_wise=true`.\n",
      "[LightGBM] [Info] Total Bins 832\n",
      "[LightGBM] [Info] Number of data points in the train set: 130497, number of used features: 278\n",
      "[LightGBM] [Info] Start training from score 5207.816586\n"
     ]
    },
    {
     "name": "stderr",
     "output_type": "stream",
     "text": [
      "/usr/local/lib/python3.10/dist-packages/sklearn/preprocessing/_encoders.py:202: UserWarning: Found unknown categories in columns [2] during transform. These unknown categories will be encoded as all zeros\n",
      "  warnings.warn(\n",
      "/usr/local/lib/python3.10/dist-packages/sklearn/preprocessing/_encoders.py:868: FutureWarning: `sparse` was renamed to `sparse_output` in version 1.2 and will be removed in 1.4. `sparse_output` is ignored unless you leave `sparse` to its default value.\n",
      "  warnings.warn(\n"
     ]
    },
    {
     "name": "stdout",
     "output_type": "stream",
     "text": [
      "[LightGBM] [Info] Auto-choosing row-wise multi-threading, the overhead of testing was 0.012788 seconds.\n",
      "You can set `force_row_wise=true` to remove the overhead.\n",
      "And if memory is not enough, you can set `force_col_wise=true`.\n",
      "[LightGBM] [Info] Total Bins 836\n",
      "[LightGBM] [Info] Number of data points in the train set: 130497, number of used features: 279\n",
      "[LightGBM] [Info] Start training from score 5209.536051\n"
     ]
    },
    {
     "name": "stderr",
     "output_type": "stream",
     "text": [
      "/usr/local/lib/python3.10/dist-packages/sklearn/preprocessing/_encoders.py:868: FutureWarning: `sparse` was renamed to `sparse_output` in version 1.2 and will be removed in 1.4. `sparse_output` is ignored unless you leave `sparse` to its default value.\n",
      "  warnings.warn(\n"
     ]
    },
    {
     "name": "stdout",
     "output_type": "stream",
     "text": [
      "[LightGBM] [Info] Auto-choosing row-wise multi-threading, the overhead of testing was 0.013024 seconds.\n",
      "You can set `force_row_wise=true` to remove the overhead.\n",
      "And if memory is not enough, you can set `force_col_wise=true`.\n",
      "[LightGBM] [Info] Total Bins 839\n",
      "[LightGBM] [Info] Number of data points in the train set: 130497, number of used features: 280\n",
      "[LightGBM] [Info] Start training from score 5215.208656\n"
     ]
    },
    {
     "name": "stderr",
     "output_type": "stream",
     "text": [
      "/usr/local/lib/python3.10/dist-packages/sklearn/preprocessing/_encoders.py:202: UserWarning: Found unknown categories in columns [2] during transform. These unknown categories will be encoded as all zeros\n",
      "  warnings.warn(\n",
      "/usr/local/lib/python3.10/dist-packages/sklearn/preprocessing/_encoders.py:868: FutureWarning: `sparse` was renamed to `sparse_output` in version 1.2 and will be removed in 1.4. `sparse_output` is ignored unless you leave `sparse` to its default value.\n",
      "  warnings.warn(\n"
     ]
    },
    {
     "name": "stdout",
     "output_type": "stream",
     "text": [
      "[LightGBM] [Info] Auto-choosing row-wise multi-threading, the overhead of testing was 0.024115 seconds.\n",
      "You can set `force_row_wise=true` to remove the overhead.\n",
      "And if memory is not enough, you can set `force_col_wise=true`.\n",
      "[LightGBM] [Info] Total Bins 846\n",
      "[LightGBM] [Info] Number of data points in the train set: 163121, number of used features: 284\n",
      "[LightGBM] [Info] Start training from score 5212.126348\n"
     ]
    },
    {
     "name": "stderr",
     "output_type": "stream",
     "text": [
      "/usr/local/lib/python3.10/dist-packages/sklearn/preprocessing/_encoders.py:868: FutureWarning: `sparse` was renamed to `sparse_output` in version 1.2 and will be removed in 1.4. `sparse_output` is ignored unless you leave `sparse` to its default value.\n",
      "  warnings.warn(\n"
     ]
    },
    {
     "name": "stdout",
     "output_type": "stream",
     "text": [
      "[LightGBM] [Info] Auto-choosing row-wise multi-threading, the overhead of testing was 0.013638 seconds.\n",
      "You can set `force_row_wise=true` to remove the overhead.\n",
      "And if memory is not enough, you can set `force_col_wise=true`.\n",
      "[LightGBM] [Info] Total Bins 835\n",
      "[LightGBM] [Info] Number of data points in the train set: 130496, number of used features: 278\n",
      "[LightGBM] [Info] Start training from score 5216.809090\n"
     ]
    },
    {
     "name": "stderr",
     "output_type": "stream",
     "text": [
      "/usr/local/lib/python3.10/dist-packages/sklearn/preprocessing/_encoders.py:868: FutureWarning: `sparse` was renamed to `sparse_output` in version 1.2 and will be removed in 1.4. `sparse_output` is ignored unless you leave `sparse` to its default value.\n",
      "  warnings.warn(\n"
     ]
    },
    {
     "name": "stdout",
     "output_type": "stream",
     "text": [
      "[LightGBM] [Info] Auto-choosing row-wise multi-threading, the overhead of testing was 0.012942 seconds.\n",
      "You can set `force_row_wise=true` to remove the overhead.\n",
      "And if memory is not enough, you can set `force_col_wise=true`.\n",
      "[LightGBM] [Info] Total Bins 833\n",
      "[LightGBM] [Info] Number of data points in the train set: 130497, number of used features: 278\n",
      "[LightGBM] [Info] Start training from score 5211.261393\n"
     ]
    },
    {
     "name": "stderr",
     "output_type": "stream",
     "text": [
      "/usr/local/lib/python3.10/dist-packages/sklearn/preprocessing/_encoders.py:868: FutureWarning: `sparse` was renamed to `sparse_output` in version 1.2 and will be removed in 1.4. `sparse_output` is ignored unless you leave `sparse` to its default value.\n",
      "  warnings.warn(\n"
     ]
    },
    {
     "name": "stdout",
     "output_type": "stream",
     "text": [
      "[LightGBM] [Info] Auto-choosing row-wise multi-threading, the overhead of testing was 0.012958 seconds.\n",
      "You can set `force_row_wise=true` to remove the overhead.\n",
      "And if memory is not enough, you can set `force_col_wise=true`.\n",
      "[LightGBM] [Info] Total Bins 832\n",
      "[LightGBM] [Info] Number of data points in the train set: 130497, number of used features: 278\n",
      "[LightGBM] [Info] Start training from score 5207.816586\n"
     ]
    },
    {
     "name": "stderr",
     "output_type": "stream",
     "text": [
      "/usr/local/lib/python3.10/dist-packages/sklearn/preprocessing/_encoders.py:202: UserWarning: Found unknown categories in columns [2] during transform. These unknown categories will be encoded as all zeros\n",
      "  warnings.warn(\n",
      "/usr/local/lib/python3.10/dist-packages/sklearn/preprocessing/_encoders.py:868: FutureWarning: `sparse` was renamed to `sparse_output` in version 1.2 and will be removed in 1.4. `sparse_output` is ignored unless you leave `sparse` to its default value.\n",
      "  warnings.warn(\n"
     ]
    },
    {
     "name": "stdout",
     "output_type": "stream",
     "text": [
      "[LightGBM] [Info] Auto-choosing row-wise multi-threading, the overhead of testing was 0.013141 seconds.\n",
      "You can set `force_row_wise=true` to remove the overhead.\n",
      "And if memory is not enough, you can set `force_col_wise=true`.\n",
      "[LightGBM] [Info] Total Bins 836\n",
      "[LightGBM] [Info] Number of data points in the train set: 130497, number of used features: 279\n",
      "[LightGBM] [Info] Start training from score 5209.536051\n"
     ]
    },
    {
     "name": "stderr",
     "output_type": "stream",
     "text": [
      "/usr/local/lib/python3.10/dist-packages/sklearn/preprocessing/_encoders.py:868: FutureWarning: `sparse` was renamed to `sparse_output` in version 1.2 and will be removed in 1.4. `sparse_output` is ignored unless you leave `sparse` to its default value.\n",
      "  warnings.warn(\n"
     ]
    },
    {
     "name": "stdout",
     "output_type": "stream",
     "text": [
      "[LightGBM] [Info] Auto-choosing row-wise multi-threading, the overhead of testing was 0.012810 seconds.\n",
      "You can set `force_row_wise=true` to remove the overhead.\n",
      "And if memory is not enough, you can set `force_col_wise=true`.\n",
      "[LightGBM] [Info] Total Bins 839\n",
      "[LightGBM] [Info] Number of data points in the train set: 130497, number of used features: 280\n",
      "[LightGBM] [Info] Start training from score 5215.208656\n"
     ]
    },
    {
     "name": "stderr",
     "output_type": "stream",
     "text": [
      "/usr/local/lib/python3.10/dist-packages/sklearn/preprocessing/_encoders.py:202: UserWarning: Found unknown categories in columns [2] during transform. These unknown categories will be encoded as all zeros\n",
      "  warnings.warn(\n"
     ]
    }
   ],
   "source": [
    "# LightGBM Regressor\n",
    "pipeline_lgbm = Pipeline(steps=[('preprocessor', preprocessor), ('model', LGBMRegressor(random_state=12345))])\n",
    "parameters_lgbm = {'model__num_leaves': [100, 150], 'model__learning_rate': [0.2, 0.4, 0.5, 0.8]}\n",
    "\n",
    "gscv_lgbm = GridSearchCV(pipeline_lgbm, parameters_lgbm, scoring='neg_mean_squared_error', cv=5)\n",
    "start = time.time()\n",
    "gscv_lgbm.fit(features_train, target_train)\n",
    "end = time.time()\n",
    "t_l = end - start\n",
    "\n",
    "start = time.time()\n",
    "target_predict = gscv_lgbm.predict(features_train)\n",
    "end = time.time()\n",
    "t_lgb_p = end - start\n",
    "\n",
    "\n",
    "cv_scores_lgbm = cross_val_score(gscv_lgbm.best_estimator_, features_train, target_train, cv=5, scoring='neg_mean_squared_error')\n",
    "cv_rmse_scores_lgbm = np.sqrt(-cv_scores_lgbm)"
   ]
  },
  {
   "cell_type": "code",
   "execution_count": 32,
   "metadata": {
    "colab": {
     "base_uri": "https://localhost:8080/"
    },
    "id": "0J9-opBJO1DQ",
    "outputId": "16230028-4db9-440e-b295-700d737ebae4"
   },
   "outputs": [
    {
     "name": "stderr",
     "output_type": "stream",
     "text": [
      "/usr/local/lib/python3.10/dist-packages/sklearn/preprocessing/_encoders.py:868: FutureWarning: `sparse` was renamed to `sparse_output` in version 1.2 and will be removed in 1.4. `sparse_output` is ignored unless you leave `sparse` to its default value.\n",
      "  warnings.warn(\n",
      "/usr/local/lib/python3.10/dist-packages/sklearn/preprocessing/_encoders.py:868: FutureWarning: `sparse` was renamed to `sparse_output` in version 1.2 and will be removed in 1.4. `sparse_output` is ignored unless you leave `sparse` to its default value.\n",
      "  warnings.warn(\n",
      "/usr/local/lib/python3.10/dist-packages/sklearn/preprocessing/_encoders.py:868: FutureWarning: `sparse` was renamed to `sparse_output` in version 1.2 and will be removed in 1.4. `sparse_output` is ignored unless you leave `sparse` to its default value.\n",
      "  warnings.warn(\n",
      "/usr/local/lib/python3.10/dist-packages/sklearn/preprocessing/_encoders.py:202: UserWarning: Found unknown categories in columns [2] during transform. These unknown categories will be encoded as all zeros\n",
      "  warnings.warn(\n",
      "/usr/local/lib/python3.10/dist-packages/sklearn/preprocessing/_encoders.py:868: FutureWarning: `sparse` was renamed to `sparse_output` in version 1.2 and will be removed in 1.4. `sparse_output` is ignored unless you leave `sparse` to its default value.\n",
      "  warnings.warn(\n",
      "/usr/local/lib/python3.10/dist-packages/sklearn/preprocessing/_encoders.py:868: FutureWarning: `sparse` was renamed to `sparse_output` in version 1.2 and will be removed in 1.4. `sparse_output` is ignored unless you leave `sparse` to its default value.\n",
      "  warnings.warn(\n",
      "/usr/local/lib/python3.10/dist-packages/sklearn/preprocessing/_encoders.py:202: UserWarning: Found unknown categories in columns [2] during transform. These unknown categories will be encoded as all zeros\n",
      "  warnings.warn(\n",
      "/usr/local/lib/python3.10/dist-packages/sklearn/preprocessing/_encoders.py:868: FutureWarning: `sparse` was renamed to `sparse_output` in version 1.2 and will be removed in 1.4. `sparse_output` is ignored unless you leave `sparse` to its default value.\n",
      "  warnings.warn(\n",
      "/usr/local/lib/python3.10/dist-packages/sklearn/preprocessing/_encoders.py:868: FutureWarning: `sparse` was renamed to `sparse_output` in version 1.2 and will be removed in 1.4. `sparse_output` is ignored unless you leave `sparse` to its default value.\n",
      "  warnings.warn(\n",
      "/usr/local/lib/python3.10/dist-packages/sklearn/preprocessing/_encoders.py:868: FutureWarning: `sparse` was renamed to `sparse_output` in version 1.2 and will be removed in 1.4. `sparse_output` is ignored unless you leave `sparse` to its default value.\n",
      "  warnings.warn(\n",
      "/usr/local/lib/python3.10/dist-packages/sklearn/preprocessing/_encoders.py:202: UserWarning: Found unknown categories in columns [2] during transform. These unknown categories will be encoded as all zeros\n",
      "  warnings.warn(\n",
      "/usr/local/lib/python3.10/dist-packages/sklearn/preprocessing/_encoders.py:868: FutureWarning: `sparse` was renamed to `sparse_output` in version 1.2 and will be removed in 1.4. `sparse_output` is ignored unless you leave `sparse` to its default value.\n",
      "  warnings.warn(\n",
      "/usr/local/lib/python3.10/dist-packages/sklearn/preprocessing/_encoders.py:868: FutureWarning: `sparse` was renamed to `sparse_output` in version 1.2 and will be removed in 1.4. `sparse_output` is ignored unless you leave `sparse` to its default value.\n",
      "  warnings.warn(\n",
      "/usr/local/lib/python3.10/dist-packages/sklearn/preprocessing/_encoders.py:202: UserWarning: Found unknown categories in columns [2] during transform. These unknown categories will be encoded as all zeros\n",
      "  warnings.warn(\n",
      "/usr/local/lib/python3.10/dist-packages/sklearn/preprocessing/_encoders.py:868: FutureWarning: `sparse` was renamed to `sparse_output` in version 1.2 and will be removed in 1.4. `sparse_output` is ignored unless you leave `sparse` to its default value.\n",
      "  warnings.warn(\n",
      "/usr/local/lib/python3.10/dist-packages/sklearn/preprocessing/_encoders.py:868: FutureWarning: `sparse` was renamed to `sparse_output` in version 1.2 and will be removed in 1.4. `sparse_output` is ignored unless you leave `sparse` to its default value.\n",
      "  warnings.warn(\n",
      "/usr/local/lib/python3.10/dist-packages/sklearn/preprocessing/_encoders.py:868: FutureWarning: `sparse` was renamed to `sparse_output` in version 1.2 and will be removed in 1.4. `sparse_output` is ignored unless you leave `sparse` to its default value.\n",
      "  warnings.warn(\n",
      "/usr/local/lib/python3.10/dist-packages/sklearn/preprocessing/_encoders.py:202: UserWarning: Found unknown categories in columns [2] during transform. These unknown categories will be encoded as all zeros\n",
      "  warnings.warn(\n",
      "/usr/local/lib/python3.10/dist-packages/sklearn/preprocessing/_encoders.py:868: FutureWarning: `sparse` was renamed to `sparse_output` in version 1.2 and will be removed in 1.4. `sparse_output` is ignored unless you leave `sparse` to its default value.\n",
      "  warnings.warn(\n",
      "/usr/local/lib/python3.10/dist-packages/sklearn/preprocessing/_encoders.py:868: FutureWarning: `sparse` was renamed to `sparse_output` in version 1.2 and will be removed in 1.4. `sparse_output` is ignored unless you leave `sparse` to its default value.\n",
      "  warnings.warn(\n",
      "/usr/local/lib/python3.10/dist-packages/sklearn/preprocessing/_encoders.py:202: UserWarning: Found unknown categories in columns [2] during transform. These unknown categories will be encoded as all zeros\n",
      "  warnings.warn(\n",
      "/usr/local/lib/python3.10/dist-packages/sklearn/preprocessing/_encoders.py:868: FutureWarning: `sparse` was renamed to `sparse_output` in version 1.2 and will be removed in 1.4. `sparse_output` is ignored unless you leave `sparse` to its default value.\n",
      "  warnings.warn(\n",
      "/usr/local/lib/python3.10/dist-packages/sklearn/preprocessing/_encoders.py:868: FutureWarning: `sparse` was renamed to `sparse_output` in version 1.2 and will be removed in 1.4. `sparse_output` is ignored unless you leave `sparse` to its default value.\n",
      "  warnings.warn(\n",
      "/usr/local/lib/python3.10/dist-packages/sklearn/preprocessing/_encoders.py:868: FutureWarning: `sparse` was renamed to `sparse_output` in version 1.2 and will be removed in 1.4. `sparse_output` is ignored unless you leave `sparse` to its default value.\n",
      "  warnings.warn(\n",
      "/usr/local/lib/python3.10/dist-packages/sklearn/preprocessing/_encoders.py:868: FutureWarning: `sparse` was renamed to `sparse_output` in version 1.2 and will be removed in 1.4. `sparse_output` is ignored unless you leave `sparse` to its default value.\n",
      "  warnings.warn(\n",
      "/usr/local/lib/python3.10/dist-packages/sklearn/preprocessing/_encoders.py:202: UserWarning: Found unknown categories in columns [2] during transform. These unknown categories will be encoded as all zeros\n",
      "  warnings.warn(\n",
      "/usr/local/lib/python3.10/dist-packages/sklearn/preprocessing/_encoders.py:868: FutureWarning: `sparse` was renamed to `sparse_output` in version 1.2 and will be removed in 1.4. `sparse_output` is ignored unless you leave `sparse` to its default value.\n",
      "  warnings.warn(\n",
      "/usr/local/lib/python3.10/dist-packages/sklearn/preprocessing/_encoders.py:868: FutureWarning: `sparse` was renamed to `sparse_output` in version 1.2 and will be removed in 1.4. `sparse_output` is ignored unless you leave `sparse` to its default value.\n",
      "  warnings.warn(\n",
      "/usr/local/lib/python3.10/dist-packages/sklearn/preprocessing/_encoders.py:202: UserWarning: Found unknown categories in columns [2] during transform. These unknown categories will be encoded as all zeros\n",
      "  warnings.warn(\n"
     ]
    }
   ],
   "source": [
    "# CatBoostRegressor\n",
    "pipeline_cbr = Pipeline(steps=[('preprocessor', preprocessor), ('model', CatBoostRegressor(verbose=False, random_state=12345))])\n",
    "parameters_cbr = {'model__learning_rate': [0.1, 0.4, 0.9]}\n",
    "\n",
    "gscv_cbr = GridSearchCV(pipeline_cbr, parameters_cbr, scoring='neg_mean_squared_error', cv=5)\n",
    "start = time.time()\n",
    "gscv_cbr.fit(features_train, target_train)\n",
    "end = time.time()\n",
    "t_cat = end - start\n",
    "\n",
    "start = time.time()\n",
    "target_predict = gscv_cbr.predict(features_train)\n",
    "end = time.time()\n",
    "t_cat_p = end - start\n",
    "\n",
    "cv_scores_cbr = cross_val_score(gscv_cbr.best_estimator_, features_train, target_train, cv=5, scoring='neg_mean_squared_error')\n",
    "cv_rmse_scores_cbr = np.sqrt(-cv_scores_cbr)"
   ]
  },
  {
   "cell_type": "code",
   "execution_count": 33,
   "metadata": {
    "colab": {
     "base_uri": "https://localhost:8080/",
     "height": 143
    },
    "id": "RPOsCOEoBkly",
    "outputId": "d7943c4f-ad34-4934-da6e-8e38e166e117"
   },
   "outputs": [
    {
     "data": {
      "application/vnd.google.colaboratory.intrinsic+json": {
       "summary": "{\n  \"name\": \"data_rmse\",\n  \"rows\": 3,\n  \"fields\": [\n    {\n      \"column\": \"\\u0421\\u0440\\u0435\\u0434\\u043d\\u0438\\u0439 RMSE (\\u043a\\u0440\\u043e\\u0441\\u0441-\\u0432\\u0430\\u043b\\u0438\\u0434\\u0430\\u0446\\u0438\\u044f)\",\n      \"properties\": {\n        \"dtype\": \"number\",\n        \"std\": 573.3892173681893,\n        \"min\": 1536.772296836765,\n        \"max\": 2532.885437042041,\n        \"num_unique_values\": 3,\n        \"samples\": [\n          2532.885437042041,\n          1536.772296836765,\n          1542.7470213942718\n        ],\n        \"semantic_type\": \"\",\n        \"description\": \"\"\n      }\n    },\n    {\n      \"column\": \"\\u0412\\u0440\\u0435\\u043c\\u044f \\u043e\\u0431\\u0443\\u0447\\u0435\\u043d\\u0438\\u044f \\u043c\\u043e\\u0434\\u0435\\u043b\\u0438\",\n      \"properties\": {\n        \"dtype\": \"number\",\n        \"std\": 338.0211477027787,\n        \"min\": 11.190367460250854,\n        \"max\": 654.1895987987518,\n        \"num_unique_values\": 3,\n        \"samples\": [\n          11.190367460250854,\n          654.1895987987518,\n          151.8893187046051\n        ],\n        \"semantic_type\": \"\",\n        \"description\": \"\"\n      }\n    },\n    {\n      \"column\": \"\\u0412\\u0440\\u0435\\u043c\\u044f \\u043f\\u0440\\u0435\\u0434\\u0441\\u043a\\u0430\\u0437\\u0430\\u043d\\u0438\\u044f \\u043c\\u043e\\u0434\\u0435\\u043b\\u0438\",\n      \"properties\": {\n        \"dtype\": \"number\",\n        \"std\": 10.959536765185094,\n        \"min\": 1.040492057800293,\n        \"max\": 20.775872945785522,\n        \"num_unique_values\": 3,\n        \"samples\": [\n          1.040492057800293,\n          20.775872945785522,\n          2.648618698120117\n        ],\n        \"semantic_type\": \"\",\n        \"description\": \"\"\n      }\n    }\n  ]\n}",
       "type": "dataframe",
       "variable_name": "data_rmse"
      },
      "text/html": [
       "\n",
       "  <div id=\"df-5d933f16-a84b-46cd-9deb-1f4c6174a53f\" class=\"colab-df-container\">\n",
       "    <div>\n",
       "<style scoped>\n",
       "    .dataframe tbody tr th:only-of-type {\n",
       "        vertical-align: middle;\n",
       "    }\n",
       "\n",
       "    .dataframe tbody tr th {\n",
       "        vertical-align: top;\n",
       "    }\n",
       "\n",
       "    .dataframe thead th {\n",
       "        text-align: right;\n",
       "    }\n",
       "</style>\n",
       "<table border=\"1\" class=\"dataframe\">\n",
       "  <thead>\n",
       "    <tr style=\"text-align: right;\">\n",
       "      <th></th>\n",
       "      <th>Средний RMSE (кросс-валидация)</th>\n",
       "      <th>Время обучения модели</th>\n",
       "      <th>Время предсказания модели</th>\n",
       "    </tr>\n",
       "  </thead>\n",
       "  <tbody>\n",
       "    <tr>\n",
       "      <th>LinearRegression</th>\n",
       "      <td>2532.885437</td>\n",
       "      <td>11.190367</td>\n",
       "      <td>1.040492</td>\n",
       "    </tr>\n",
       "    <tr>\n",
       "      <th>CatBoostRegressor</th>\n",
       "      <td>1536.772297</td>\n",
       "      <td>654.189599</td>\n",
       "      <td>20.775873</td>\n",
       "    </tr>\n",
       "    <tr>\n",
       "      <th>LGBMRegressor</th>\n",
       "      <td>1542.747021</td>\n",
       "      <td>151.889319</td>\n",
       "      <td>2.648619</td>\n",
       "    </tr>\n",
       "  </tbody>\n",
       "</table>\n",
       "</div>\n",
       "    <div class=\"colab-df-buttons\">\n",
       "\n",
       "  <div class=\"colab-df-container\">\n",
       "    <button class=\"colab-df-convert\" onclick=\"convertToInteractive('df-5d933f16-a84b-46cd-9deb-1f4c6174a53f')\"\n",
       "            title=\"Convert this dataframe to an interactive table.\"\n",
       "            style=\"display:none;\">\n",
       "\n",
       "  <svg xmlns=\"http://www.w3.org/2000/svg\" height=\"24px\" viewBox=\"0 -960 960 960\">\n",
       "    <path d=\"M120-120v-720h720v720H120Zm60-500h600v-160H180v160Zm220 220h160v-160H400v160Zm0 220h160v-160H400v160ZM180-400h160v-160H180v160Zm440 0h160v-160H620v160ZM180-180h160v-160H180v160Zm440 0h160v-160H620v160Z\"/>\n",
       "  </svg>\n",
       "    </button>\n",
       "\n",
       "  <style>\n",
       "    .colab-df-container {\n",
       "      display:flex;\n",
       "      gap: 12px;\n",
       "    }\n",
       "\n",
       "    .colab-df-convert {\n",
       "      background-color: #E8F0FE;\n",
       "      border: none;\n",
       "      border-radius: 50%;\n",
       "      cursor: pointer;\n",
       "      display: none;\n",
       "      fill: #1967D2;\n",
       "      height: 32px;\n",
       "      padding: 0 0 0 0;\n",
       "      width: 32px;\n",
       "    }\n",
       "\n",
       "    .colab-df-convert:hover {\n",
       "      background-color: #E2EBFA;\n",
       "      box-shadow: 0px 1px 2px rgba(60, 64, 67, 0.3), 0px 1px 3px 1px rgba(60, 64, 67, 0.15);\n",
       "      fill: #174EA6;\n",
       "    }\n",
       "\n",
       "    .colab-df-buttons div {\n",
       "      margin-bottom: 4px;\n",
       "    }\n",
       "\n",
       "    [theme=dark] .colab-df-convert {\n",
       "      background-color: #3B4455;\n",
       "      fill: #D2E3FC;\n",
       "    }\n",
       "\n",
       "    [theme=dark] .colab-df-convert:hover {\n",
       "      background-color: #434B5C;\n",
       "      box-shadow: 0px 1px 3px 1px rgba(0, 0, 0, 0.15);\n",
       "      filter: drop-shadow(0px 1px 2px rgba(0, 0, 0, 0.3));\n",
       "      fill: #FFFFFF;\n",
       "    }\n",
       "  </style>\n",
       "\n",
       "    <script>\n",
       "      const buttonEl =\n",
       "        document.querySelector('#df-5d933f16-a84b-46cd-9deb-1f4c6174a53f button.colab-df-convert');\n",
       "      buttonEl.style.display =\n",
       "        google.colab.kernel.accessAllowed ? 'block' : 'none';\n",
       "\n",
       "      async function convertToInteractive(key) {\n",
       "        const element = document.querySelector('#df-5d933f16-a84b-46cd-9deb-1f4c6174a53f');\n",
       "        const dataTable =\n",
       "          await google.colab.kernel.invokeFunction('convertToInteractive',\n",
       "                                                    [key], {});\n",
       "        if (!dataTable) return;\n",
       "\n",
       "        const docLinkHtml = 'Like what you see? Visit the ' +\n",
       "          '<a target=\"_blank\" href=https://colab.research.google.com/notebooks/data_table.ipynb>data table notebook</a>'\n",
       "          + ' to learn more about interactive tables.';\n",
       "        element.innerHTML = '';\n",
       "        dataTable['output_type'] = 'display_data';\n",
       "        await google.colab.output.renderOutput(dataTable, element);\n",
       "        const docLink = document.createElement('div');\n",
       "        docLink.innerHTML = docLinkHtml;\n",
       "        element.appendChild(docLink);\n",
       "      }\n",
       "    </script>\n",
       "  </div>\n",
       "\n",
       "\n",
       "<div id=\"df-2ab3fa98-ebce-4093-8ca7-31ae2f77f118\">\n",
       "  <button class=\"colab-df-quickchart\" onclick=\"quickchart('df-2ab3fa98-ebce-4093-8ca7-31ae2f77f118')\"\n",
       "            title=\"Suggest charts\"\n",
       "            style=\"display:none;\">\n",
       "\n",
       "<svg xmlns=\"http://www.w3.org/2000/svg\" height=\"24px\"viewBox=\"0 0 24 24\"\n",
       "     width=\"24px\">\n",
       "    <g>\n",
       "        <path d=\"M19 3H5c-1.1 0-2 .9-2 2v14c0 1.1.9 2 2 2h14c1.1 0 2-.9 2-2V5c0-1.1-.9-2-2-2zM9 17H7v-7h2v7zm4 0h-2V7h2v10zm4 0h-2v-4h2v4z\"/>\n",
       "    </g>\n",
       "</svg>\n",
       "  </button>\n",
       "\n",
       "<style>\n",
       "  .colab-df-quickchart {\n",
       "      --bg-color: #E8F0FE;\n",
       "      --fill-color: #1967D2;\n",
       "      --hover-bg-color: #E2EBFA;\n",
       "      --hover-fill-color: #174EA6;\n",
       "      --disabled-fill-color: #AAA;\n",
       "      --disabled-bg-color: #DDD;\n",
       "  }\n",
       "\n",
       "  [theme=dark] .colab-df-quickchart {\n",
       "      --bg-color: #3B4455;\n",
       "      --fill-color: #D2E3FC;\n",
       "      --hover-bg-color: #434B5C;\n",
       "      --hover-fill-color: #FFFFFF;\n",
       "      --disabled-bg-color: #3B4455;\n",
       "      --disabled-fill-color: #666;\n",
       "  }\n",
       "\n",
       "  .colab-df-quickchart {\n",
       "    background-color: var(--bg-color);\n",
       "    border: none;\n",
       "    border-radius: 50%;\n",
       "    cursor: pointer;\n",
       "    display: none;\n",
       "    fill: var(--fill-color);\n",
       "    height: 32px;\n",
       "    padding: 0;\n",
       "    width: 32px;\n",
       "  }\n",
       "\n",
       "  .colab-df-quickchart:hover {\n",
       "    background-color: var(--hover-bg-color);\n",
       "    box-shadow: 0 1px 2px rgba(60, 64, 67, 0.3), 0 1px 3px 1px rgba(60, 64, 67, 0.15);\n",
       "    fill: var(--button-hover-fill-color);\n",
       "  }\n",
       "\n",
       "  .colab-df-quickchart-complete:disabled,\n",
       "  .colab-df-quickchart-complete:disabled:hover {\n",
       "    background-color: var(--disabled-bg-color);\n",
       "    fill: var(--disabled-fill-color);\n",
       "    box-shadow: none;\n",
       "  }\n",
       "\n",
       "  .colab-df-spinner {\n",
       "    border: 2px solid var(--fill-color);\n",
       "    border-color: transparent;\n",
       "    border-bottom-color: var(--fill-color);\n",
       "    animation:\n",
       "      spin 1s steps(1) infinite;\n",
       "  }\n",
       "\n",
       "  @keyframes spin {\n",
       "    0% {\n",
       "      border-color: transparent;\n",
       "      border-bottom-color: var(--fill-color);\n",
       "      border-left-color: var(--fill-color);\n",
       "    }\n",
       "    20% {\n",
       "      border-color: transparent;\n",
       "      border-left-color: var(--fill-color);\n",
       "      border-top-color: var(--fill-color);\n",
       "    }\n",
       "    30% {\n",
       "      border-color: transparent;\n",
       "      border-left-color: var(--fill-color);\n",
       "      border-top-color: var(--fill-color);\n",
       "      border-right-color: var(--fill-color);\n",
       "    }\n",
       "    40% {\n",
       "      border-color: transparent;\n",
       "      border-right-color: var(--fill-color);\n",
       "      border-top-color: var(--fill-color);\n",
       "    }\n",
       "    60% {\n",
       "      border-color: transparent;\n",
       "      border-right-color: var(--fill-color);\n",
       "    }\n",
       "    80% {\n",
       "      border-color: transparent;\n",
       "      border-right-color: var(--fill-color);\n",
       "      border-bottom-color: var(--fill-color);\n",
       "    }\n",
       "    90% {\n",
       "      border-color: transparent;\n",
       "      border-bottom-color: var(--fill-color);\n",
       "    }\n",
       "  }\n",
       "</style>\n",
       "\n",
       "  <script>\n",
       "    async function quickchart(key) {\n",
       "      const quickchartButtonEl =\n",
       "        document.querySelector('#' + key + ' button');\n",
       "      quickchartButtonEl.disabled = true;  // To prevent multiple clicks.\n",
       "      quickchartButtonEl.classList.add('colab-df-spinner');\n",
       "      try {\n",
       "        const charts = await google.colab.kernel.invokeFunction(\n",
       "            'suggestCharts', [key], {});\n",
       "      } catch (error) {\n",
       "        console.error('Error during call to suggestCharts:', error);\n",
       "      }\n",
       "      quickchartButtonEl.classList.remove('colab-df-spinner');\n",
       "      quickchartButtonEl.classList.add('colab-df-quickchart-complete');\n",
       "    }\n",
       "    (() => {\n",
       "      let quickchartButtonEl =\n",
       "        document.querySelector('#df-2ab3fa98-ebce-4093-8ca7-31ae2f77f118 button');\n",
       "      quickchartButtonEl.style.display =\n",
       "        google.colab.kernel.accessAllowed ? 'block' : 'none';\n",
       "    })();\n",
       "  </script>\n",
       "</div>\n",
       "\n",
       "  <div id=\"id_bdc08d33-2802-4387-8d17-e29d43164ea9\">\n",
       "    <style>\n",
       "      .colab-df-generate {\n",
       "        background-color: #E8F0FE;\n",
       "        border: none;\n",
       "        border-radius: 50%;\n",
       "        cursor: pointer;\n",
       "        display: none;\n",
       "        fill: #1967D2;\n",
       "        height: 32px;\n",
       "        padding: 0 0 0 0;\n",
       "        width: 32px;\n",
       "      }\n",
       "\n",
       "      .colab-df-generate:hover {\n",
       "        background-color: #E2EBFA;\n",
       "        box-shadow: 0px 1px 2px rgba(60, 64, 67, 0.3), 0px 1px 3px 1px rgba(60, 64, 67, 0.15);\n",
       "        fill: #174EA6;\n",
       "      }\n",
       "\n",
       "      [theme=dark] .colab-df-generate {\n",
       "        background-color: #3B4455;\n",
       "        fill: #D2E3FC;\n",
       "      }\n",
       "\n",
       "      [theme=dark] .colab-df-generate:hover {\n",
       "        background-color: #434B5C;\n",
       "        box-shadow: 0px 1px 3px 1px rgba(0, 0, 0, 0.15);\n",
       "        filter: drop-shadow(0px 1px 2px rgba(0, 0, 0, 0.3));\n",
       "        fill: #FFFFFF;\n",
       "      }\n",
       "    </style>\n",
       "    <button class=\"colab-df-generate\" onclick=\"generateWithVariable('data_rmse')\"\n",
       "            title=\"Generate code using this dataframe.\"\n",
       "            style=\"display:none;\">\n",
       "\n",
       "  <svg xmlns=\"http://www.w3.org/2000/svg\" height=\"24px\"viewBox=\"0 0 24 24\"\n",
       "       width=\"24px\">\n",
       "    <path d=\"M7,19H8.4L18.45,9,17,7.55,7,17.6ZM5,21V16.75L18.45,3.32a2,2,0,0,1,2.83,0l1.4,1.43a1.91,1.91,0,0,1,.58,1.4,1.91,1.91,0,0,1-.58,1.4L9.25,21ZM18.45,9,17,7.55Zm-12,3A5.31,5.31,0,0,0,4.9,8.1,5.31,5.31,0,0,0,1,6.5,5.31,5.31,0,0,0,4.9,4.9,5.31,5.31,0,0,0,6.5,1,5.31,5.31,0,0,0,8.1,4.9,5.31,5.31,0,0,0,12,6.5,5.46,5.46,0,0,0,6.5,12Z\"/>\n",
       "  </svg>\n",
       "    </button>\n",
       "    <script>\n",
       "      (() => {\n",
       "      const buttonEl =\n",
       "        document.querySelector('#id_bdc08d33-2802-4387-8d17-e29d43164ea9 button.colab-df-generate');\n",
       "      buttonEl.style.display =\n",
       "        google.colab.kernel.accessAllowed ? 'block' : 'none';\n",
       "\n",
       "      buttonEl.onclick = () => {\n",
       "        google.colab.notebook.generateWithVariable('data_rmse');\n",
       "      }\n",
       "      })();\n",
       "    </script>\n",
       "  </div>\n",
       "\n",
       "    </div>\n",
       "  </div>\n"
      ],
      "text/plain": [
       "                   Средний RMSE (кросс-валидация)  Время обучения модели  \\\n",
       "LinearRegression                      2532.885437              11.190367   \n",
       "CatBoostRegressor                     1536.772297             654.189599   \n",
       "LGBMRegressor                         1542.747021             151.889319   \n",
       "\n",
       "                   Время предсказания модели  \n",
       "LinearRegression                    1.040492  \n",
       "CatBoostRegressor                  20.775873  \n",
       "LGBMRegressor                       2.648619  "
      ]
     },
     "execution_count": 33,
     "metadata": {},
     "output_type": "execute_result"
    }
   ],
   "source": [
    "# Составление результатов\n",
    "data = {\n",
    "    'Средний RMSE (кросс-валидация)': [np.mean(rmse_lr), np.mean(cv_rmse_scores_cbr), np.mean(cv_rmse_scores_lgbm)],\n",
    "    'Время обучения модели': [t_lr, t_cat, t_l],\n",
    "    'Время предсказания модели': [t_lr_p, t_cat_p, t_lgb_p]\n",
    "}\n",
    "index = ['LinearRegression', 'CatBoostRegressor', 'LGBMRegressor']\n",
    "data_rmse = pd.DataFrame(data=data, index=index)\n",
    "data_rmse"
   ]
  },
  {
   "cell_type": "markdown",
   "metadata": {
    "id": "F36WcoEckkyo"
   },
   "source": [
    "## Анализ моделей"
   ]
  },
  {
   "cell_type": "code",
   "execution_count": 34,
   "metadata": {
    "colab": {
     "base_uri": "https://localhost:8080/"
    },
    "id": "mvMaMRSUkkyr",
    "outputId": "e17b1827-c740-4e37-b398-5e9e864eb43a"
   },
   "outputs": [
    {
     "name": "stdout",
     "output_type": "stream",
     "text": [
      "Время предсказания модели на тестовой выборке: 1.9913549423217773 секунд\n",
      "RMSE на тестовой выборке: 1549.4837230279045\n"
     ]
    }
   ],
   "source": [
    "# Обучение модели LGBMRegressor с оптимальными гиперпараметрами\n",
    "model_lgbmr = gscv_lgbm.best_estimator_\n",
    "\n",
    "# Проверка качества модели на тестовой выборке\n",
    "start = time.time()\n",
    "target_predict_ohe = model_lgbmr.predict(features_test)\n",
    "end = time.time()\n",
    "\n",
    "t_lgb_final_p = end - start\n",
    "print(f\"Время предсказания модели на тестовой выборке: {t_lgb_final_p} секунд\")\n",
    "\n",
    "final_rmse_lgbmr_ohe = mean_squared_error(target_test, target_predict_ohe) ** 0.5\n",
    "print(f\"RMSE на тестовой выборке: {final_rmse_lgbmr_ohe}\")"
   ]
  },
  {
   "cell_type": "markdown",
   "metadata": {
    "id": "loWYYtX5n4Qh"
   },
   "source": [
    "# Анализ результатов\n",
    "\n",
    "LinearRegression:\n",
    "\n",
    "- Средний RMSE (кросс-валидация): 2532.885437\n",
    "- Время обучения: 11.190367 секунд\n",
    "- Время предсказания: 1.040492 секунд\n",
    "\n",
    "CatBoostRegressor:\n",
    "\n",
    "- Средний RMSE (кросс-валидация): 1536.772297\n",
    "- Время обучения: 654.189599 секунд\n",
    "- Время предсказания: 20.775873 секунд\n",
    "\n",
    "LGBMRegressor:\n",
    "\n",
    "- Средний RMSE (кросс-валидация): 1542.747021\n",
    "- Время обучения: 151.889319 секунд\n",
    "- Время предсказания: 2.648619 секунд\n",
    "RMSE на тестовой выборке: 1549.4837230279045 (значение подтверждено на тестовой выборке).\n",
    "\n",
    "Выводы\n",
    "\n",
    "Итоговый вывод\n",
    "LGBMRegressor показал наилучшие результаты на тренировочных данных с кросс-валидацией по сравнению с другими моделями.\n",
    "Время предсказания и RMSE на тестовой выборке также подтверждают, что LGBMRegressor является наиболее подходящим выбором по критериям заказчика.\n",
    "Таким образом, LGBMRegressor выбран в качестве лучшей модели, так как он обеспечивает хороший баланс между качеством (RMSE), временем обучения и временем предсказания.\n"
   ]
  },
  {
   "cell_type": "markdown",
   "metadata": {
    "id": "4iz3Pn-EvNYA"
   },
   "source": [
    "<div class=\"alert alert-block alert-danger\">\n",
    "<h2> Комментарий ревьюера <a class=\"tocSkip\"></h2>\n",
    "\n",
    "    \n",
    "<b>На доработку❌:</b> Лучшая модель должна быть выбрана по двум критериям - метрика `RMSE` и время работы модели. Далее сценарий работы с моделями в этом блоке зависит от выбранной стратегии валидации и оптимизации гиперпараметров:\n",
    "- для оптимизации гиперпараметров и промежуточной оценки моделей была выделена валидационная выборка;\n",
    "- для оптимизации гиперпараметров и промежуточной оценки моделей проводится кросс-валидация.\n",
    "    \n",
    "В первом случае метрика промежуточной оценки модели - это метрика `RMSE` на валидационной выборке, полученная от использования на `valid` лучшей модели, а время - это время обучения модели с лучшими гиперпарметрами на `train` и время совершения ею предсказаний на `valid`.\n",
    "    \n",
    "Во втором случае метрика промежуточной оценким модели - это метрика `RMSE` с кросс-валидации: в случае использования `cross_val_score` - это среднее из массива метрик (длина соответствует количеству фолдов для кросс-валидации), который возвращает инструмент, в случае использования `GridSearchCV` или `RandomizedSearchCV` - это метрика из атрибута `best_score_`. Временем работы лучшей модели может быть время обучения на `train` и время предсказания на `train` выборке (только время, метрика `RMSE` на тренировочной выборке не нужна).\n",
    "    \n",
    "Тут часто студенты делают ошибку, принимая в качестве метрики времени время работы лучшей модели, а время оптимизации гиперпараметров в целом (то есть время выполнения всей ячейки кода цикла с `cross_val_score` или ячейки с `GridSearchCV`) - это некорректный подход: на практике модель не будет каждый раз переобучаться и выполнять оптимизацию гиперпараметров перед очередным предсказанием - сначала будет найдена лучшая модель, а она уже будет использоваться для обучения и предсказаний. Поэтому и в этом случае сначала определяется лучшая модель, а уже потом замеряется время её работы: кросс-валидации как альтернатива времени обучения и предсказания (потому что по сути кросс-валидация объединяет в себе обучение и предсказание) или время обучения и предсказания на `train`.\n",
    "    \n",
    "Независимо от выбранной стратегии кросс-валидации алгоритм работы выглядит как:\n",
    "- оптимизация гиперпараметров и поиск лучшей модели;\n",
    "- оценка метрики `RMSE`;\n",
    "- оценка времени работы лучшей модели: на валидационной выборке (если она выделялась) или на кросс-валидации/тренировочной выборке (если проводилась кросс-валидация).\n",
    "    \n",
    "Концепт для `valid`:\n",
    "    \n",
    "    for ... in ...:\n",
    "    \n",
    "        #код для поиска лучшей модели\n",
    "    \n",
    "    model = ... #код для инициализации лучшей модели с оптимальными гиперпараметрами\n",
    "    \n",
    "    model.fit(X_train, Y_train) #замеряем время обучения\n",
    "    \n",
    "    pred = model.predict(X_valid) #замеряем время предсказания\n",
    "    \n",
    "    RMSE = (Y_valid, pred) #замеряем RMSE на valid\n",
    "    \n",
    "Концепт для кросс-валидации:\n",
    "    \n",
    "    model = #инициализируем модель\n",
    "    gs = GridSearchCV(...) #настраиваем поиск по сетке\n",
    "    \n",
    "    gs.fit(...) #находим лучшую модель\n",
    "    \n",
    "    gs.best_score_ #замеряем RMSE на  кросс-валидации\n",
    "    \n",
    "    model = gs.best_estimator_ #получаем лучшую модель из best_estimator\n",
    "    model = #YourModel(random_state = 42, **gs.best_params) #альтернативный способ получения лучшей модели\n",
    "    \n",
    "    model.fit(X_train, Y_train) #замеряем время обучения\n",
    "    model.predict(X_train) #замеряем время предсказания\n",
    "    \n",
    "    \n",
    "По итогу нужно будет провести сравнительную характеристику моделей по критериям метрики `RMSE` и времени работы моделей и выбрать лучшую - именно эта лучшая модель должна будет оцениваться на тестовой выборке.\n",
    "    \n",
    "Обрати также внимание, что при создании таблицы нельзя использовать вручную введённые значения - они потеряют актуальность при любом изменении в данных, их обработке или в моделях. Значения метрик лучше помещать в переменные и использовать их для создания таблиц. Для сохранения в переменные времени работы моделей можно использовать модуль `time`:\n",
    "    \n",
    "    from time import time\n",
    "    \n",
    "    start = time()\n",
    "    \n",
    "    #код модели\n",
    "    \n",
    "    end = time()\n",
    "    \n",
    "    model_time = (end-start)/60 #перевожу в минуты, так как по умолчанию секунды\n",
    "    \n",
    "Альтернативный подход - использование `cv_results_` после обучения `GridSearchCV` в качестве источика метрик (особенно удобно в случае рассмотрения нескольких моделей в пределах одного `Pipeline`). В таком случае можно выполнить группировку по столбцу с названием модели (предварительно извлечь его можно с помощью строкового метода `split()`), найти индексы строк с минимальным значением метрики, и уже из этих строк извлечь время обучения (`mean_fit_time`) и время предсказания (`mean_score_time`)."
   ]
  },
  {
   "cell_type": "markdown",
   "metadata": {},
   "source": [
    "<div class=\"alert alert-block alert-danger\">\n",
    "<h2> Комментарий ревьюера v.5 <a class=\"tocSkip\"></h2>\n",
    "\n",
    "    \n",
    "<b>На доработку❌:</b> \n",
    "    \n",
    "1. См.п.1 предыдущего комментария: на `test` оцениваем только одну модель. Для сравнительной характеристики моделей нужна оценка на кросс-валидации.\n",
    "    \n",
    "2. См.п.2 предыдущего комментария: время предсказания нужно замрерить на `train`."
   ]
  },
  {
   "cell_type": "markdown",
   "metadata": {},
   "source": [
    "<div class=\"alert alert-warning\">\n",
    "    <h2> Комментарий ревьюера v.6 <a class=\"tocSkip\"> </h2>\n",
    "    \n",
    "<b>Некоторые замечания и рекомендации⚠️:</b> В целом всё реализовано верно, однако обрати внимание, что повторную кросс-валидацию лучшей модели, найденной при использовании `GridSearchCV`, делать не нужно - она уже была выполнена в ходе поиска лучшей модели, её результат можно получить из атрибута `best_score_`."
   ]
  },
  {
   "cell_type": "markdown",
   "metadata": {
    "id": "pHGBLDs3vNYA"
   },
   "source": [
    "<div style=\"border:solid Chocolate 2px; padding: 40px\">\n",
    "\n",
    "# Комментарий ревьюера: общий вывод по проекту.\n",
    "\n",
    "Мадина, проект получился на довольно хорошем уровне - отличная работа над проектом, молодец!\n",
    "\n",
    "Мне нравится твой аналитический подход к выполнению проекта, ты соблюдаешь структуру работы, выполняешь её последовательно - это очень хорошо! Шаги проекта выполнены по порядку согласно плану проекта, нет смысловых и структурных ям. Важно, что не забываешь про выводы.\n",
    "    \n",
    "Отмечу отличную предобработку данных - были найдены и корректно обработаны почти все аномалии и пропуски, также выполнено кодирование категориальных переменных.\n",
    "    \n",
    "Над проектом ещё стоит поработать - есть рекомендации по дополнению некоторых твоих шагов проекта. Такие рекомендации я отметил жёлтыми комментариями. Будет здорово, если ты учтёшь их - так проект станет структурно и содержательно более совершенным.\n",
    "    \n",
    "Также в работе есть критические замечания. К этим замечаниям я оставил пояснительные комментарии красного цвета, в которых перечислил возможные варианты дальнейших действий. Уверен, ты быстро с этим управишься:)\n",
    "    \n",
    "Если о том, что нужно сделать в рамках комментариев, будут возникать вопросы - оставь их, пожалуйста, в комментариях, и я отвечу на них во время следующего ревью.\n",
    "    \n",
    "Также буду рад ответить на любые твои вопросы по проекту или на какие-либо другие, если они у тебя имеются - оставь их в комментариях, и я постараюсь ответить:)\n",
    "    \n",
    "Жду твой проект на повторном ревью. До встречи:)"
   ]
  },
  {
   "cell_type": "markdown",
   "metadata": {
    "id": "rufZpDyTBEPw"
   },
   "source": [
    "<div style=\"border:solid Chocolate 2px; padding: 40px\">\n",
    "\n",
    "# Комментарий ревьюера: ограничение итераций.\n",
    "\n",
    "Мадина, обращаю внимание, что у нас осталось 2 попытки на сдачу проекта - в противном случае нужно будет закончить проект в другой когорте.\n",
    "    \n",
    "Если какие-то замечания вызывают непонимание или сложности, не забывай задавать вопросы мне в комментариях или преподавателю/наставнику (второй вариант будет более эффективен, так как на общение с преподавателем/наставником не тратятся итерации, а ответы поступают более оперативно)."
   ]
  },
  {
   "cell_type": "markdown",
   "metadata": {},
   "source": [
    "<div style=\"border:solid Chocolate 2px; padding: 40px\">\n",
    "\n",
    "# Комментарий ревьюера: итоговый вывод по проекту.\n",
    "\n",
    "Мадина, все замечания учтены - проект принят!\n",
    "    \n",
    "Спасибо за хорошую работу над проектом, желаю успехов в дальнейшем обучении:)"
   ]
  }
 ],
 "metadata": {
  "ExecuteTimeLog": [
   {
    "duration": 1291,
    "start_time": "2024-07-05T18:50:10.568Z"
   },
   {
    "duration": 2756,
    "start_time": "2024-07-05T18:50:23.894Z"
   },
   {
    "duration": 23,
    "start_time": "2024-07-05T18:51:15.996Z"
   },
   {
    "duration": 3,
    "start_time": "2024-07-05T18:52:29.677Z"
   },
   {
    "duration": 751,
    "start_time": "2024-07-05T18:52:43.239Z"
   },
   {
    "duration": 85,
    "start_time": "2024-07-05T18:53:25.674Z"
   },
   {
    "duration": 138,
    "start_time": "2024-07-05T18:57:49.766Z"
   },
   {
    "duration": 5,
    "start_time": "2024-07-05T19:00:46.413Z"
   },
   {
    "duration": 314,
    "start_time": "2024-07-05T19:01:32.892Z"
   },
   {
    "duration": 325,
    "start_time": "2024-07-05T19:01:55.054Z"
   },
   {
    "duration": 448,
    "start_time": "2024-07-05T19:02:24.230Z"
   },
   {
    "duration": 8503,
    "start_time": "2024-07-05T19:03:40.507Z"
   },
   {
    "duration": 23,
    "start_time": "2024-07-05T19:06:23.652Z"
   },
   {
    "duration": 23,
    "start_time": "2024-07-05T19:08:22.988Z"
   },
   {
    "duration": 130,
    "start_time": "2024-07-05T19:08:40.635Z"
   },
   {
    "duration": 14,
    "start_time": "2024-07-05T19:09:06.170Z"
   },
   {
    "duration": 133,
    "start_time": "2024-07-05T19:09:07.172Z"
   },
   {
    "duration": 1212,
    "start_time": "2024-07-05T19:09:56.545Z"
   },
   {
    "duration": 909,
    "start_time": "2024-07-05T19:09:57.759Z"
   },
   {
    "duration": 15,
    "start_time": "2024-07-05T19:09:58.669Z"
   },
   {
    "duration": 10,
    "start_time": "2024-07-05T19:09:58.686Z"
   },
   {
    "duration": 762,
    "start_time": "2024-07-05T19:09:58.698Z"
   },
   {
    "duration": 4,
    "start_time": "2024-07-05T19:09:59.462Z"
   },
   {
    "duration": 347,
    "start_time": "2024-07-05T19:09:59.467Z"
   },
   {
    "duration": 395,
    "start_time": "2024-07-05T19:09:59.816Z"
   },
   {
    "duration": 498,
    "start_time": "2024-07-05T19:10:00.213Z"
   },
   {
    "duration": 8829,
    "start_time": "2024-07-05T19:10:00.712Z"
   },
   {
    "duration": 24,
    "start_time": "2024-07-05T19:10:09.543Z"
   },
   {
    "duration": 27,
    "start_time": "2024-07-05T19:10:09.569Z"
   },
   {
    "duration": 167,
    "start_time": "2024-07-05T19:10:09.597Z"
   },
   {
    "duration": 132,
    "start_time": "2024-07-05T19:10:20.089Z"
   },
   {
    "duration": 18,
    "start_time": "2024-07-05T19:10:56.589Z"
   },
   {
    "duration": 25,
    "start_time": "2024-07-05T19:13:01.842Z"
   },
   {
    "duration": 15,
    "start_time": "2024-07-05T19:13:31.655Z"
   },
   {
    "duration": 339,
    "start_time": "2024-07-05T19:13:53.172Z"
   },
   {
    "duration": 27,
    "start_time": "2024-07-05T19:14:56.676Z"
   },
   {
    "duration": 334,
    "start_time": "2024-07-05T19:15:00.958Z"
   },
   {
    "duration": 62,
    "start_time": "2024-07-05T19:16:53.618Z"
   },
   {
    "duration": 307,
    "start_time": "2024-07-05T19:16:57.543Z"
   },
   {
    "duration": 13,
    "start_time": "2024-07-05T19:17:53.680Z"
   },
   {
    "duration": 4,
    "start_time": "2024-07-05T19:19:00.691Z"
   },
   {
    "duration": 8,
    "start_time": "2024-07-05T19:19:30.131Z"
   },
   {
    "duration": 6,
    "start_time": "2024-07-05T19:21:40.955Z"
   },
   {
    "duration": 107,
    "start_time": "2024-07-05T19:23:09.646Z"
   },
   {
    "duration": 6,
    "start_time": "2024-07-05T19:23:34.798Z"
   },
   {
    "duration": 13,
    "start_time": "2024-07-05T19:25:14.233Z"
   },
   {
    "duration": 4,
    "start_time": "2024-07-05T19:26:05.260Z"
   },
   {
    "duration": 13,
    "start_time": "2024-07-05T19:26:15.892Z"
   },
   {
    "duration": 12,
    "start_time": "2024-07-05T19:26:38.498Z"
   },
   {
    "duration": 9,
    "start_time": "2024-07-05T19:27:03.965Z"
   },
   {
    "duration": 19,
    "start_time": "2024-07-05T19:27:11.682Z"
   },
   {
    "duration": 4,
    "start_time": "2024-07-05T19:29:02.765Z"
   },
   {
    "duration": 96,
    "start_time": "2024-07-05T19:29:10.093Z"
   },
   {
    "duration": 5,
    "start_time": "2024-07-05T19:29:16.591Z"
   },
   {
    "duration": 5,
    "start_time": "2024-07-05T19:29:30.260Z"
   },
   {
    "duration": 1097,
    "start_time": "2024-07-05T19:29:44.242Z"
   },
   {
    "duration": 827,
    "start_time": "2024-07-05T19:29:45.341Z"
   },
   {
    "duration": 16,
    "start_time": "2024-07-05T19:29:46.170Z"
   },
   {
    "duration": 3,
    "start_time": "2024-07-05T19:29:46.188Z"
   },
   {
    "duration": 757,
    "start_time": "2024-07-05T19:29:46.192Z"
   },
   {
    "duration": 4,
    "start_time": "2024-07-05T19:29:46.951Z"
   },
   {
    "duration": 329,
    "start_time": "2024-07-05T19:29:46.957Z"
   },
   {
    "duration": 334,
    "start_time": "2024-07-05T19:29:47.288Z"
   },
   {
    "duration": 524,
    "start_time": "2024-07-05T19:29:47.624Z"
   },
   {
    "duration": 8051,
    "start_time": "2024-07-05T19:29:48.151Z"
   },
   {
    "duration": 16,
    "start_time": "2024-07-05T19:29:56.204Z"
   },
   {
    "duration": 37,
    "start_time": "2024-07-05T19:29:56.222Z"
   },
   {
    "duration": 14,
    "start_time": "2024-07-05T19:29:56.260Z"
   },
   {
    "duration": 8,
    "start_time": "2024-07-05T19:29:56.275Z"
   },
   {
    "duration": 6,
    "start_time": "2024-07-05T19:29:56.285Z"
   },
   {
    "duration": 5,
    "start_time": "2024-07-05T19:29:56.293Z"
   },
   {
    "duration": 9,
    "start_time": "2024-07-05T19:29:56.300Z"
   },
   {
    "duration": 29,
    "start_time": "2024-07-05T19:29:56.311Z"
   },
   {
    "duration": 7,
    "start_time": "2024-07-05T19:29:56.342Z"
   },
   {
    "duration": 17,
    "start_time": "2024-07-05T19:29:56.350Z"
   },
   {
    "duration": 2603,
    "start_time": "2024-07-05T19:31:00.568Z"
   },
   {
    "duration": 51,
    "start_time": "2024-07-07T18:28:42.821Z"
   },
   {
    "duration": 7,
    "start_time": "2024-07-07T18:33:36.042Z"
   },
   {
    "duration": 1631,
    "start_time": "2024-07-07T18:33:43.944Z"
   },
   {
    "duration": 3172,
    "start_time": "2024-07-07T18:33:46.204Z"
   },
   {
    "duration": 22,
    "start_time": "2024-07-07T18:33:50.892Z"
   },
   {
    "duration": 4,
    "start_time": "2024-07-07T18:33:52.833Z"
   },
   {
    "duration": 1254,
    "start_time": "2024-07-07T18:33:53.485Z"
   },
   {
    "duration": 4,
    "start_time": "2024-07-07T18:33:57.963Z"
   },
   {
    "duration": 417,
    "start_time": "2024-07-07T18:33:59.983Z"
   },
   {
    "duration": 467,
    "start_time": "2024-07-07T18:34:01.433Z"
   },
   {
    "duration": 582,
    "start_time": "2024-07-07T18:34:03.354Z"
   },
   {
    "duration": 10672,
    "start_time": "2024-07-07T18:34:05.549Z"
   },
   {
    "duration": 17,
    "start_time": "2024-07-07T18:34:16.223Z"
   },
   {
    "duration": 33,
    "start_time": "2024-07-07T18:34:18.007Z"
   },
   {
    "duration": 15,
    "start_time": "2024-07-07T18:34:23.105Z"
   },
   {
    "duration": 12,
    "start_time": "2024-07-07T18:34:24.393Z"
   },
   {
    "duration": 8,
    "start_time": "2024-07-07T18:34:26.544Z"
   },
   {
    "duration": 6,
    "start_time": "2024-07-07T18:34:30.369Z"
   },
   {
    "duration": 5,
    "start_time": "2024-07-07T18:34:36.422Z"
   },
   {
    "duration": 6,
    "start_time": "2024-07-07T18:34:38.405Z"
   },
   {
    "duration": 17,
    "start_time": "2024-07-07T18:34:39.609Z"
   },
   {
    "duration": 17,
    "start_time": "2024-07-07T18:39:22.594Z"
   },
   {
    "duration": 71,
    "start_time": "2024-07-07T18:41:21.434Z"
   },
   {
    "duration": 7,
    "start_time": "2024-07-07T18:41:33.822Z"
   },
   {
    "duration": 5,
    "start_time": "2024-07-07T18:43:16.648Z"
   },
   {
    "duration": 4,
    "start_time": "2024-07-07T18:43:44.212Z"
   },
   {
    "duration": 11,
    "start_time": "2024-07-07T18:44:24.907Z"
   },
   {
    "duration": 7,
    "start_time": "2024-07-07T18:44:47.656Z"
   },
   {
    "duration": 15,
    "start_time": "2024-07-07T18:45:01.836Z"
   },
   {
    "duration": 1212,
    "start_time": "2024-07-07T18:45:17.529Z"
   },
   {
    "duration": 1006,
    "start_time": "2024-07-07T18:45:18.744Z"
   },
   {
    "duration": 18,
    "start_time": "2024-07-07T18:45:19.751Z"
   },
   {
    "duration": 4,
    "start_time": "2024-07-07T18:45:19.781Z"
   },
   {
    "duration": 866,
    "start_time": "2024-07-07T18:45:19.787Z"
   },
   {
    "duration": 5,
    "start_time": "2024-07-07T18:45:20.655Z"
   },
   {
    "duration": 338,
    "start_time": "2024-07-07T18:45:20.661Z"
   },
   {
    "duration": 417,
    "start_time": "2024-07-07T18:45:21.001Z"
   },
   {
    "duration": 595,
    "start_time": "2024-07-07T18:45:21.419Z"
   },
   {
    "duration": 36,
    "start_time": "2024-07-07T18:45:22.016Z"
   },
   {
    "duration": 7763,
    "start_time": "2024-07-07T18:45:22.054Z"
   },
   {
    "duration": 20,
    "start_time": "2024-07-07T18:45:29.819Z"
   },
   {
    "duration": 41,
    "start_time": "2024-07-07T18:45:29.841Z"
   },
   {
    "duration": 18,
    "start_time": "2024-07-07T18:45:29.885Z"
   },
   {
    "duration": 35,
    "start_time": "2024-07-07T18:45:29.905Z"
   },
   {
    "duration": 44,
    "start_time": "2024-07-07T18:45:29.942Z"
   },
   {
    "duration": 10,
    "start_time": "2024-07-07T18:45:29.988Z"
   },
   {
    "duration": 665,
    "start_time": "2024-07-07T18:45:30.000Z"
   },
   {
    "duration": 0,
    "start_time": "2024-07-07T18:45:30.670Z"
   },
   {
    "duration": 0,
    "start_time": "2024-07-07T18:45:30.671Z"
   },
   {
    "duration": 0,
    "start_time": "2024-07-07T18:45:30.674Z"
   },
   {
    "duration": 9,
    "start_time": "2024-07-07T18:46:12.442Z"
   },
   {
    "duration": 28,
    "start_time": "2024-07-07T18:46:21.368Z"
   },
   {
    "duration": 561,
    "start_time": "2024-07-07T18:46:25.112Z"
   },
   {
    "duration": 66,
    "start_time": "2024-07-07T18:47:30.313Z"
   },
   {
    "duration": 93,
    "start_time": "2024-07-07T18:47:32.568Z"
   },
   {
    "duration": 408,
    "start_time": "2024-07-07T18:47:35.924Z"
   },
   {
    "duration": 288,
    "start_time": "2024-07-07T18:47:59.396Z"
   },
   {
    "duration": 186,
    "start_time": "2024-07-07T18:49:23.898Z"
   },
   {
    "duration": 11,
    "start_time": "2024-07-07T18:50:00.562Z"
   },
   {
    "duration": 499,
    "start_time": "2024-07-07T18:50:21.984Z"
   },
   {
    "duration": 199,
    "start_time": "2024-07-07T18:50:53.594Z"
   },
   {
    "duration": 100,
    "start_time": "2024-07-07T18:52:26.171Z"
   },
   {
    "duration": 218,
    "start_time": "2024-07-07T18:54:40.551Z"
   },
   {
    "duration": 365,
    "start_time": "2024-07-07T18:55:11.480Z"
   },
   {
    "duration": 46,
    "start_time": "2024-07-07T18:55:23.324Z"
   },
   {
    "duration": 89,
    "start_time": "2024-07-07T18:55:35.395Z"
   },
   {
    "duration": 61,
    "start_time": "2024-07-07T21:16:59.243Z"
   },
   {
    "duration": 88,
    "start_time": "2024-07-08T08:43:09.824Z"
   },
   {
    "duration": 4678,
    "start_time": "2024-07-08T08:43:18.617Z"
   },
   {
    "duration": 2971,
    "start_time": "2024-07-08T08:43:23.297Z"
   },
   {
    "duration": 20,
    "start_time": "2024-07-08T08:43:26.270Z"
   },
   {
    "duration": 6,
    "start_time": "2024-07-08T08:43:26.291Z"
   },
   {
    "duration": 819,
    "start_time": "2024-07-08T08:43:26.299Z"
   },
   {
    "duration": 5,
    "start_time": "2024-07-08T08:43:27.120Z"
   },
   {
    "duration": 344,
    "start_time": "2024-07-08T08:43:27.127Z"
   },
   {
    "duration": 389,
    "start_time": "2024-07-08T08:43:27.477Z"
   },
   {
    "duration": 530,
    "start_time": "2024-07-08T08:43:27.867Z"
   },
   {
    "duration": 34,
    "start_time": "2024-07-08T08:43:28.399Z"
   },
   {
    "duration": 3994,
    "start_time": "2024-07-08T08:43:28.435Z"
   },
   {
    "duration": 19,
    "start_time": "2024-07-08T08:43:32.431Z"
   },
   {
    "duration": 152,
    "start_time": "2024-07-08T08:43:32.452Z"
   },
   {
    "duration": 28,
    "start_time": "2024-07-08T08:43:32.608Z"
   },
   {
    "duration": 278,
    "start_time": "2024-07-08T08:43:32.639Z"
   },
   {
    "duration": 124,
    "start_time": "2024-07-08T08:43:32.919Z"
   },
   {
    "duration": 25,
    "start_time": "2024-07-08T08:43:33.045Z"
   },
   {
    "duration": 45,
    "start_time": "2024-07-08T08:43:33.072Z"
   },
   {
    "duration": 56,
    "start_time": "2024-07-08T08:43:33.119Z"
   },
   {
    "duration": 86,
    "start_time": "2024-07-08T08:43:33.176Z"
   },
   {
    "duration": 292,
    "start_time": "2024-07-08T08:43:33.263Z"
   },
   {
    "duration": 98,
    "start_time": "2024-07-08T08:43:33.557Z"
   },
   {
    "duration": 168,
    "start_time": "2024-07-08T08:43:33.656Z"
   },
   {
    "duration": 74,
    "start_time": "2024-07-08T08:43:33.825Z"
   },
   {
    "duration": 4,
    "start_time": "2024-07-08T08:43:33.900Z"
   },
   {
    "duration": 128282,
    "start_time": "2024-07-08T08:43:33.906Z"
   },
   {
    "duration": 10930,
    "start_time": "2024-07-08T08:45:42.189Z"
   },
   {
    "duration": 33937,
    "start_time": "2024-07-08T08:45:53.122Z"
   },
   {
    "duration": 140,
    "start_time": "2024-07-08T08:46:27.061Z"
   },
   {
    "duration": 4053,
    "start_time": "2024-07-08T08:46:27.203Z"
   },
   {
    "duration": 0,
    "start_time": "2024-07-08T08:46:31.259Z"
   },
   {
    "duration": 0,
    "start_time": "2024-07-08T08:46:31.260Z"
   },
   {
    "duration": 0,
    "start_time": "2024-07-08T08:46:31.261Z"
   },
   {
    "duration": 0,
    "start_time": "2024-07-08T08:46:31.262Z"
   },
   {
    "duration": 0,
    "start_time": "2024-07-08T08:46:31.263Z"
   },
   {
    "duration": 0,
    "start_time": "2024-07-08T08:46:31.264Z"
   },
   {
    "duration": 0,
    "start_time": "2024-07-08T08:46:31.266Z"
   },
   {
    "duration": 2638,
    "start_time": "2024-07-08T08:46:32.993Z"
   },
   {
    "duration": 4152,
    "start_time": "2024-07-08T08:46:57.848Z"
   },
   {
    "duration": 958,
    "start_time": "2024-07-08T08:47:02.002Z"
   },
   {
    "duration": 36,
    "start_time": "2024-07-08T08:47:02.961Z"
   },
   {
    "duration": 4,
    "start_time": "2024-07-08T08:47:02.999Z"
   },
   {
    "duration": 857,
    "start_time": "2024-07-08T08:47:03.006Z"
   },
   {
    "duration": 6,
    "start_time": "2024-07-08T08:47:03.865Z"
   },
   {
    "duration": 330,
    "start_time": "2024-07-08T08:47:03.882Z"
   },
   {
    "duration": 373,
    "start_time": "2024-07-08T08:47:04.213Z"
   },
   {
    "duration": 537,
    "start_time": "2024-07-08T08:47:04.588Z"
   },
   {
    "duration": 38,
    "start_time": "2024-07-08T08:47:05.127Z"
   },
   {
    "duration": 3889,
    "start_time": "2024-07-08T08:47:05.167Z"
   },
   {
    "duration": 26,
    "start_time": "2024-07-08T08:47:09.057Z"
   },
   {
    "duration": 22,
    "start_time": "2024-07-08T08:47:09.084Z"
   },
   {
    "duration": 16,
    "start_time": "2024-07-08T08:47:09.109Z"
   },
   {
    "duration": 29,
    "start_time": "2024-07-08T08:47:09.127Z"
   },
   {
    "duration": 39,
    "start_time": "2024-07-08T08:47:09.158Z"
   },
   {
    "duration": 8,
    "start_time": "2024-07-08T08:47:09.199Z"
   },
   {
    "duration": 23,
    "start_time": "2024-07-08T08:47:09.208Z"
   },
   {
    "duration": 79,
    "start_time": "2024-07-08T08:47:09.232Z"
   },
   {
    "duration": 88,
    "start_time": "2024-07-08T08:47:09.313Z"
   },
   {
    "duration": 294,
    "start_time": "2024-07-08T08:47:09.402Z"
   },
   {
    "duration": 98,
    "start_time": "2024-07-08T08:47:09.698Z"
   },
   {
    "duration": 172,
    "start_time": "2024-07-08T08:47:09.797Z"
   },
   {
    "duration": 69,
    "start_time": "2024-07-08T08:47:09.971Z"
   },
   {
    "duration": 4,
    "start_time": "2024-07-08T08:47:10.042Z"
   },
   {
    "duration": 109455,
    "start_time": "2024-07-08T08:47:10.048Z"
   },
   {
    "duration": 11778,
    "start_time": "2024-07-08T08:48:59.505Z"
   },
   {
    "duration": 30442,
    "start_time": "2024-07-08T08:49:11.285Z"
   },
   {
    "duration": 135,
    "start_time": "2024-07-08T08:49:41.729Z"
   },
   {
    "duration": 471169,
    "start_time": "2024-07-08T08:49:41.865Z"
   },
   {
    "duration": 3147,
    "start_time": "2024-07-08T08:57:33.036Z"
   },
   {
    "duration": 104,
    "start_time": "2024-07-08T08:57:36.185Z"
   },
   {
    "duration": 4,
    "start_time": "2024-07-08T08:57:36.291Z"
   },
   {
    "duration": 2886,
    "start_time": "2024-07-08T08:57:36.297Z"
   },
   {
    "duration": 101,
    "start_time": "2024-07-08T08:57:39.185Z"
   },
   {
    "duration": 1713,
    "start_time": "2024-07-08T08:57:39.288Z"
   },
   {
    "duration": 11,
    "start_time": "2024-07-08T08:58:17.004Z"
   },
   {
    "duration": 4,
    "start_time": "2024-07-08T08:59:29.563Z"
   },
   {
    "duration": 69,
    "start_time": "2024-07-08T09:01:50.646Z"
   },
   {
    "duration": 117,
    "start_time": "2024-07-08T09:02:12.614Z"
   },
   {
    "duration": 62,
    "start_time": "2024-07-08T09:03:26.383Z"
   },
   {
    "duration": 58,
    "start_time": "2024-07-08T09:03:43.246Z"
   },
   {
    "duration": 8,
    "start_time": "2024-07-08T09:17:47.953Z"
   },
   {
    "duration": 11,
    "start_time": "2024-07-08T09:18:00.792Z"
   },
   {
    "duration": 10,
    "start_time": "2024-07-08T09:18:19.923Z"
   },
   {
    "duration": 6137,
    "start_time": "2024-07-08T09:19:41.504Z"
   },
   {
    "duration": 963,
    "start_time": "2024-07-08T09:19:47.643Z"
   },
   {
    "duration": 20,
    "start_time": "2024-07-08T09:19:48.608Z"
   },
   {
    "duration": 6,
    "start_time": "2024-07-08T09:19:48.630Z"
   },
   {
    "duration": 791,
    "start_time": "2024-07-08T09:19:48.638Z"
   },
   {
    "duration": 5,
    "start_time": "2024-07-08T09:19:49.431Z"
   },
   {
    "duration": 303,
    "start_time": "2024-07-08T09:19:49.438Z"
   },
   {
    "duration": 390,
    "start_time": "2024-07-08T09:19:49.743Z"
   },
   {
    "duration": 503,
    "start_time": "2024-07-08T09:19:50.134Z"
   },
   {
    "duration": 26,
    "start_time": "2024-07-08T09:19:50.638Z"
   },
   {
    "duration": 3998,
    "start_time": "2024-07-08T09:19:50.666Z"
   },
   {
    "duration": 25,
    "start_time": "2024-07-08T09:19:54.666Z"
   },
   {
    "duration": 21,
    "start_time": "2024-07-08T09:19:54.693Z"
   },
   {
    "duration": 40,
    "start_time": "2024-07-08T09:19:54.717Z"
   },
   {
    "duration": 35,
    "start_time": "2024-07-08T09:19:54.759Z"
   },
   {
    "duration": 21,
    "start_time": "2024-07-08T09:19:54.796Z"
   },
   {
    "duration": 15,
    "start_time": "2024-07-08T09:19:54.819Z"
   },
   {
    "duration": 15,
    "start_time": "2024-07-08T09:19:54.836Z"
   },
   {
    "duration": 48,
    "start_time": "2024-07-08T09:19:54.853Z"
   },
   {
    "duration": 49,
    "start_time": "2024-07-08T09:19:54.903Z"
   },
   {
    "duration": 49,
    "start_time": "2024-07-08T09:19:54.953Z"
   },
   {
    "duration": 21,
    "start_time": "2024-07-08T09:19:55.004Z"
   },
   {
    "duration": 9,
    "start_time": "2024-07-08T09:19:55.026Z"
   },
   {
    "duration": 116,
    "start_time": "2024-07-08T09:19:55.036Z"
   },
   {
    "duration": 165,
    "start_time": "2024-07-08T09:19:55.153Z"
   },
   {
    "duration": 54,
    "start_time": "2024-07-08T09:19:55.320Z"
   },
   {
    "duration": 3,
    "start_time": "2024-07-08T09:19:55.382Z"
   },
   {
    "duration": 94744,
    "start_time": "2024-07-08T09:19:55.387Z"
   },
   {
    "duration": 0,
    "start_time": "2024-07-08T09:21:30.133Z"
   },
   {
    "duration": 0,
    "start_time": "2024-07-08T09:21:30.134Z"
   },
   {
    "duration": 0,
    "start_time": "2024-07-08T09:21:30.135Z"
   },
   {
    "duration": 0,
    "start_time": "2024-07-08T09:21:30.136Z"
   },
   {
    "duration": 0,
    "start_time": "2024-07-08T09:21:30.137Z"
   },
   {
    "duration": 0,
    "start_time": "2024-07-08T09:21:30.138Z"
   },
   {
    "duration": 0,
    "start_time": "2024-07-08T09:21:30.139Z"
   },
   {
    "duration": 0,
    "start_time": "2024-07-08T09:21:30.141Z"
   },
   {
    "duration": 0,
    "start_time": "2024-07-08T09:21:30.142Z"
   },
   {
    "duration": 0,
    "start_time": "2024-07-08T09:21:30.143Z"
   },
   {
    "duration": 0,
    "start_time": "2024-07-08T09:21:30.144Z"
   },
   {
    "duration": 13,
    "start_time": "2024-07-08T09:21:31.558Z"
   },
   {
    "duration": 8,
    "start_time": "2024-07-08T09:21:33.750Z"
   },
   {
    "duration": 5,
    "start_time": "2024-07-08T09:21:46.219Z"
   },
   {
    "duration": 15,
    "start_time": "2024-07-08T09:22:02.597Z"
   },
   {
    "duration": 6,
    "start_time": "2024-07-08T09:23:06.135Z"
   },
   {
    "duration": 5,
    "start_time": "2024-07-08T09:23:12.895Z"
   },
   {
    "duration": 15,
    "start_time": "2024-07-08T09:23:37.113Z"
   },
   {
    "duration": 18,
    "start_time": "2024-07-08T09:23:52.335Z"
   },
   {
    "duration": 16,
    "start_time": "2024-07-08T09:29:01.824Z"
   },
   {
    "duration": 2600,
    "start_time": "2024-07-08T09:29:21.516Z"
   },
   {
    "duration": 1184,
    "start_time": "2024-07-08T09:29:37.502Z"
   },
   {
    "duration": 2796,
    "start_time": "2024-07-08T09:29:49.631Z"
   },
   {
    "duration": 620,
    "start_time": "2024-07-08T09:30:12.187Z"
   },
   {
    "duration": 19,
    "start_time": "2024-07-08T09:30:27.783Z"
   },
   {
    "duration": 27,
    "start_time": "2024-07-08T09:30:42.636Z"
   },
   {
    "duration": 32,
    "start_time": "2024-07-08T09:34:28.342Z"
   },
   {
    "duration": 4218,
    "start_time": "2024-07-08T09:34:41.913Z"
   },
   {
    "duration": 973,
    "start_time": "2024-07-08T09:34:46.134Z"
   },
   {
    "duration": 21,
    "start_time": "2024-07-08T09:34:47.108Z"
   },
   {
    "duration": 10,
    "start_time": "2024-07-08T09:34:47.131Z"
   },
   {
    "duration": 837,
    "start_time": "2024-07-08T09:34:47.142Z"
   },
   {
    "duration": 4,
    "start_time": "2024-07-08T09:34:47.982Z"
   },
   {
    "duration": 331,
    "start_time": "2024-07-08T09:34:47.987Z"
   },
   {
    "duration": 367,
    "start_time": "2024-07-08T09:34:48.320Z"
   },
   {
    "duration": 536,
    "start_time": "2024-07-08T09:34:48.689Z"
   },
   {
    "duration": 32,
    "start_time": "2024-07-08T09:34:49.228Z"
   },
   {
    "duration": 3902,
    "start_time": "2024-07-08T09:34:49.262Z"
   },
   {
    "duration": 30,
    "start_time": "2024-07-08T09:34:53.166Z"
   },
   {
    "duration": 21,
    "start_time": "2024-07-08T09:34:53.197Z"
   },
   {
    "duration": 28,
    "start_time": "2024-07-08T09:34:53.220Z"
   },
   {
    "duration": 35,
    "start_time": "2024-07-08T09:34:53.251Z"
   },
   {
    "duration": 23,
    "start_time": "2024-07-08T09:34:53.287Z"
   },
   {
    "duration": 16,
    "start_time": "2024-07-08T09:34:53.311Z"
   },
   {
    "duration": 8,
    "start_time": "2024-07-08T09:34:53.329Z"
   },
   {
    "duration": 48,
    "start_time": "2024-07-08T09:34:53.338Z"
   },
   {
    "duration": 48,
    "start_time": "2024-07-08T09:34:53.388Z"
   },
   {
    "duration": 48,
    "start_time": "2024-07-08T09:34:53.438Z"
   },
   {
    "duration": 25,
    "start_time": "2024-07-08T09:34:53.488Z"
   },
   {
    "duration": 25,
    "start_time": "2024-07-08T09:34:53.515Z"
   },
   {
    "duration": 87,
    "start_time": "2024-07-08T09:34:53.541Z"
   },
   {
    "duration": 2960,
    "start_time": "2024-07-08T09:34:53.630Z"
   },
   {
    "duration": 881,
    "start_time": "2024-07-08T09:34:56.591Z"
   },
   {
    "duration": 19,
    "start_time": "2024-07-08T09:34:57.474Z"
   },
   {
    "duration": 31,
    "start_time": "2024-07-08T09:34:57.496Z"
   },
   {
    "duration": 70,
    "start_time": "2024-07-08T09:34:57.528Z"
   },
   {
    "duration": 4,
    "start_time": "2024-07-08T09:34:57.600Z"
   },
   {
    "duration": 128,
    "start_time": "2024-07-08T09:34:57.605Z"
   },
   {
    "duration": 0,
    "start_time": "2024-07-08T09:34:57.735Z"
   },
   {
    "duration": 0,
    "start_time": "2024-07-08T09:34:57.736Z"
   },
   {
    "duration": 0,
    "start_time": "2024-07-08T09:34:57.737Z"
   },
   {
    "duration": 0,
    "start_time": "2024-07-08T09:34:57.738Z"
   },
   {
    "duration": 0,
    "start_time": "2024-07-08T09:34:57.739Z"
   },
   {
    "duration": 0,
    "start_time": "2024-07-08T09:34:57.740Z"
   },
   {
    "duration": 0,
    "start_time": "2024-07-08T09:34:57.741Z"
   },
   {
    "duration": 0,
    "start_time": "2024-07-08T09:34:57.743Z"
   },
   {
    "duration": 0,
    "start_time": "2024-07-08T09:34:57.744Z"
   },
   {
    "duration": 0,
    "start_time": "2024-07-08T09:34:57.745Z"
   },
   {
    "duration": 3,
    "start_time": "2024-07-08T09:35:52.195Z"
   },
   {
    "duration": 9,
    "start_time": "2024-07-08T09:35:55.497Z"
   },
   {
    "duration": 12,
    "start_time": "2024-07-08T09:39:07.565Z"
   },
   {
    "duration": 33,
    "start_time": "2024-07-08T09:39:18.454Z"
   },
   {
    "duration": 929,
    "start_time": "2024-07-08T09:40:35.271Z"
   },
   {
    "duration": 613,
    "start_time": "2024-07-08T09:40:48.043Z"
   },
   {
    "duration": 4124,
    "start_time": "2024-07-08T09:44:17.535Z"
   },
   {
    "duration": 2936,
    "start_time": "2024-07-08T09:44:21.662Z"
   },
   {
    "duration": 21,
    "start_time": "2024-07-08T09:44:24.602Z"
   },
   {
    "duration": 17,
    "start_time": "2024-07-08T09:44:24.625Z"
   },
   {
    "duration": 841,
    "start_time": "2024-07-08T09:44:24.644Z"
   },
   {
    "duration": 5,
    "start_time": "2024-07-08T09:44:25.487Z"
   },
   {
    "duration": 318,
    "start_time": "2024-07-08T09:44:25.494Z"
   },
   {
    "duration": 365,
    "start_time": "2024-07-08T09:44:25.814Z"
   },
   {
    "duration": 532,
    "start_time": "2024-07-08T09:44:26.182Z"
   },
   {
    "duration": 35,
    "start_time": "2024-07-08T09:44:26.716Z"
   },
   {
    "duration": 534,
    "start_time": "2024-07-08T09:44:26.753Z"
   },
   {
    "duration": 0,
    "start_time": "2024-07-08T09:44:27.290Z"
   },
   {
    "duration": 0,
    "start_time": "2024-07-08T09:44:27.291Z"
   },
   {
    "duration": 0,
    "start_time": "2024-07-08T09:44:27.292Z"
   },
   {
    "duration": 0,
    "start_time": "2024-07-08T09:44:27.293Z"
   },
   {
    "duration": 0,
    "start_time": "2024-07-08T09:44:27.295Z"
   },
   {
    "duration": 0,
    "start_time": "2024-07-08T09:44:27.296Z"
   },
   {
    "duration": 0,
    "start_time": "2024-07-08T09:44:27.297Z"
   },
   {
    "duration": 0,
    "start_time": "2024-07-08T09:44:27.298Z"
   },
   {
    "duration": 0,
    "start_time": "2024-07-08T09:44:27.299Z"
   },
   {
    "duration": 0,
    "start_time": "2024-07-08T09:44:27.300Z"
   },
   {
    "duration": 0,
    "start_time": "2024-07-08T09:44:27.301Z"
   },
   {
    "duration": 0,
    "start_time": "2024-07-08T09:44:27.302Z"
   },
   {
    "duration": 0,
    "start_time": "2024-07-08T09:44:27.303Z"
   },
   {
    "duration": 0,
    "start_time": "2024-07-08T09:44:27.305Z"
   },
   {
    "duration": 0,
    "start_time": "2024-07-08T09:44:27.306Z"
   },
   {
    "duration": 0,
    "start_time": "2024-07-08T09:44:27.307Z"
   },
   {
    "duration": 0,
    "start_time": "2024-07-08T09:44:27.308Z"
   },
   {
    "duration": 0,
    "start_time": "2024-07-08T09:44:27.309Z"
   },
   {
    "duration": 0,
    "start_time": "2024-07-08T09:44:27.310Z"
   },
   {
    "duration": 0,
    "start_time": "2024-07-08T09:44:27.311Z"
   },
   {
    "duration": 0,
    "start_time": "2024-07-08T09:44:27.312Z"
   },
   {
    "duration": 0,
    "start_time": "2024-07-08T09:44:27.314Z"
   },
   {
    "duration": 0,
    "start_time": "2024-07-08T09:44:27.315Z"
   },
   {
    "duration": 0,
    "start_time": "2024-07-08T09:44:27.316Z"
   },
   {
    "duration": 0,
    "start_time": "2024-07-08T09:44:27.317Z"
   },
   {
    "duration": 0,
    "start_time": "2024-07-08T09:44:27.318Z"
   },
   {
    "duration": 0,
    "start_time": "2024-07-08T09:44:27.319Z"
   },
   {
    "duration": 0,
    "start_time": "2024-07-08T09:44:27.321Z"
   },
   {
    "duration": 0,
    "start_time": "2024-07-08T09:44:27.322Z"
   },
   {
    "duration": 0,
    "start_time": "2024-07-08T09:44:27.323Z"
   },
   {
    "duration": 4,
    "start_time": "2024-07-08T09:44:49.243Z"
   },
   {
    "duration": 4052,
    "start_time": "2024-07-08T09:45:01.930Z"
   },
   {
    "duration": 23,
    "start_time": "2024-07-08T09:45:09.248Z"
   },
   {
    "duration": 22,
    "start_time": "2024-07-08T09:45:10.120Z"
   },
   {
    "duration": 29,
    "start_time": "2024-07-08T09:45:13.080Z"
   },
   {
    "duration": 16,
    "start_time": "2024-07-08T09:45:14.124Z"
   },
   {
    "duration": 27,
    "start_time": "2024-07-08T09:45:14.968Z"
   },
   {
    "duration": 16,
    "start_time": "2024-07-08T09:45:15.956Z"
   },
   {
    "duration": 8,
    "start_time": "2024-07-08T09:45:16.380Z"
   },
   {
    "duration": 23,
    "start_time": "2024-07-08T09:45:16.800Z"
   },
   {
    "duration": 48,
    "start_time": "2024-07-08T09:45:17.179Z"
   },
   {
    "duration": 33,
    "start_time": "2024-07-08T09:45:19.222Z"
   },
   {
    "duration": 20,
    "start_time": "2024-07-08T09:45:20.740Z"
   },
   {
    "duration": 15,
    "start_time": "2024-07-08T09:45:21.489Z"
   },
   {
    "duration": 80,
    "start_time": "2024-07-08T09:45:23.800Z"
   },
   {
    "duration": 3054,
    "start_time": "2024-07-08T09:45:28.214Z"
   },
   {
    "duration": 907,
    "start_time": "2024-07-08T09:45:31.270Z"
   },
   {
    "duration": 13,
    "start_time": "2024-07-08T09:45:32.179Z"
   },
   {
    "duration": 40,
    "start_time": "2024-07-08T09:45:32.194Z"
   },
   {
    "duration": 4265,
    "start_time": "2024-07-09T13:34:51.076Z"
   },
   {
    "duration": 994,
    "start_time": "2024-07-09T13:34:55.343Z"
   },
   {
    "duration": 62,
    "start_time": "2024-07-09T13:34:56.338Z"
   },
   {
    "duration": 0,
    "start_time": "2024-07-09T13:34:56.403Z"
   },
   {
    "duration": 0,
    "start_time": "2024-07-09T13:34:56.404Z"
   },
   {
    "duration": 0,
    "start_time": "2024-07-09T13:34:56.406Z"
   },
   {
    "duration": 0,
    "start_time": "2024-07-09T13:34:56.407Z"
   },
   {
    "duration": 0,
    "start_time": "2024-07-09T13:34:56.408Z"
   },
   {
    "duration": 0,
    "start_time": "2024-07-09T13:34:56.409Z"
   },
   {
    "duration": 0,
    "start_time": "2024-07-09T13:34:56.410Z"
   },
   {
    "duration": 0,
    "start_time": "2024-07-09T13:34:56.411Z"
   },
   {
    "duration": 0,
    "start_time": "2024-07-09T13:34:56.412Z"
   },
   {
    "duration": 0,
    "start_time": "2024-07-09T13:34:56.413Z"
   },
   {
    "duration": 0,
    "start_time": "2024-07-09T13:34:56.414Z"
   },
   {
    "duration": 0,
    "start_time": "2024-07-09T13:34:56.415Z"
   },
   {
    "duration": 0,
    "start_time": "2024-07-09T13:34:56.416Z"
   },
   {
    "duration": 0,
    "start_time": "2024-07-09T13:34:56.417Z"
   },
   {
    "duration": 0,
    "start_time": "2024-07-09T13:34:56.418Z"
   },
   {
    "duration": 0,
    "start_time": "2024-07-09T13:34:56.419Z"
   },
   {
    "duration": 0,
    "start_time": "2024-07-09T13:34:56.420Z"
   },
   {
    "duration": 0,
    "start_time": "2024-07-09T13:34:56.421Z"
   },
   {
    "duration": 0,
    "start_time": "2024-07-09T13:34:56.422Z"
   },
   {
    "duration": 0,
    "start_time": "2024-07-09T13:34:56.423Z"
   },
   {
    "duration": 0,
    "start_time": "2024-07-09T13:34:56.423Z"
   },
   {
    "duration": 0,
    "start_time": "2024-07-09T13:34:56.424Z"
   },
   {
    "duration": 0,
    "start_time": "2024-07-09T13:34:56.425Z"
   },
   {
    "duration": 0,
    "start_time": "2024-07-09T13:34:56.425Z"
   },
   {
    "duration": 0,
    "start_time": "2024-07-09T13:34:56.426Z"
   },
   {
    "duration": 0,
    "start_time": "2024-07-09T13:34:56.427Z"
   },
   {
    "duration": 0,
    "start_time": "2024-07-09T13:34:56.428Z"
   },
   {
    "duration": 0,
    "start_time": "2024-07-09T13:34:56.429Z"
   },
   {
    "duration": 0,
    "start_time": "2024-07-09T13:34:56.429Z"
   },
   {
    "duration": 0,
    "start_time": "2024-07-09T13:34:56.430Z"
   },
   {
    "duration": 0,
    "start_time": "2024-07-09T13:34:56.431Z"
   },
   {
    "duration": 0,
    "start_time": "2024-07-09T13:34:56.432Z"
   },
   {
    "duration": 0,
    "start_time": "2024-07-09T13:34:56.433Z"
   },
   {
    "duration": 0,
    "start_time": "2024-07-09T13:34:56.434Z"
   },
   {
    "duration": 0,
    "start_time": "2024-07-09T13:34:56.435Z"
   },
   {
    "duration": 0,
    "start_time": "2024-07-09T13:34:56.436Z"
   },
   {
    "duration": 0,
    "start_time": "2024-07-09T13:34:56.437Z"
   },
   {
    "duration": 2574,
    "start_time": "2024-07-09T13:37:12.772Z"
   },
   {
    "duration": 724,
    "start_time": "2024-07-09T13:37:16.199Z"
   },
   {
    "duration": 56,
    "start_time": "2024-07-09T13:37:18.055Z"
   },
   {
    "duration": 15,
    "start_time": "2024-07-09T13:37:31.895Z"
   },
   {
    "duration": 3,
    "start_time": "2024-07-09T13:37:34.020Z"
   },
   {
    "duration": 564,
    "start_time": "2024-07-09T13:37:34.958Z"
   },
   {
    "duration": 4,
    "start_time": "2024-07-09T13:37:36.468Z"
   },
   {
    "duration": 236,
    "start_time": "2024-07-09T13:37:37.270Z"
   },
   {
    "duration": 295,
    "start_time": "2024-07-09T13:37:37.950Z"
   },
   {
    "duration": 373,
    "start_time": "2024-07-09T13:37:41.023Z"
   },
   {
    "duration": 25,
    "start_time": "2024-07-09T13:37:42.933Z"
   },
   {
    "duration": 2908,
    "start_time": "2024-07-09T13:37:44.639Z"
   },
   {
    "duration": 16,
    "start_time": "2024-07-09T13:37:47.743Z"
   },
   {
    "duration": 19,
    "start_time": "2024-07-09T13:37:48.293Z"
   },
   {
    "duration": 23,
    "start_time": "2024-07-09T13:37:49.798Z"
   },
   {
    "duration": 14,
    "start_time": "2024-07-09T13:37:51.423Z"
   },
   {
    "duration": 19,
    "start_time": "2024-07-09T13:37:51.887Z"
   },
   {
    "duration": 15,
    "start_time": "2024-07-09T13:37:53.327Z"
   },
   {
    "duration": 9,
    "start_time": "2024-07-09T13:37:54.122Z"
   },
   {
    "duration": 19,
    "start_time": "2024-07-09T13:37:54.730Z"
   },
   {
    "duration": 34,
    "start_time": "2024-07-09T13:37:55.535Z"
   },
   {
    "duration": 26,
    "start_time": "2024-07-09T13:37:57.590Z"
   },
   {
    "duration": 18,
    "start_time": "2024-07-09T13:38:00.712Z"
   },
   {
    "duration": 14,
    "start_time": "2024-07-09T13:38:01.239Z"
   },
   {
    "duration": 56,
    "start_time": "2024-07-09T13:38:04.238Z"
   },
   {
    "duration": 8,
    "start_time": "2024-07-09T13:38:08.030Z"
   },
   {
    "duration": 113,
    "start_time": "2024-07-09T13:38:13.719Z"
   },
   {
    "duration": 56,
    "start_time": "2024-07-09T13:38:50.689Z"
   },
   {
    "duration": 6256,
    "start_time": "2024-07-09T13:39:34.931Z"
   },
   {
    "duration": 4706,
    "start_time": "2024-07-11T06:23:13.031Z"
   },
   {
    "duration": 2742,
    "start_time": "2024-07-11T06:23:17.740Z"
   },
   {
    "duration": 17,
    "start_time": "2024-07-11T06:23:20.484Z"
   },
   {
    "duration": 2,
    "start_time": "2024-07-11T06:23:20.503Z"
   },
   {
    "duration": 628,
    "start_time": "2024-07-11T06:23:20.507Z"
   },
   {
    "duration": 4,
    "start_time": "2024-07-11T06:23:21.137Z"
   },
   {
    "duration": 295,
    "start_time": "2024-07-11T06:23:21.143Z"
   },
   {
    "duration": 315,
    "start_time": "2024-07-11T06:23:21.440Z"
   },
   {
    "duration": 414,
    "start_time": "2024-07-11T06:23:21.757Z"
   },
   {
    "duration": 26,
    "start_time": "2024-07-11T06:23:23.027Z"
   },
   {
    "duration": 3319,
    "start_time": "2024-07-11T06:23:24.524Z"
   },
   {
    "duration": 18,
    "start_time": "2024-07-11T06:23:27.844Z"
   },
   {
    "duration": 54,
    "start_time": "2024-07-11T06:23:27.863Z"
   },
   {
    "duration": 21,
    "start_time": "2024-07-11T06:23:29.139Z"
   },
   {
    "duration": 16,
    "start_time": "2024-07-11T06:23:32.055Z"
   },
   {
    "duration": 21,
    "start_time": "2024-07-11T06:23:32.591Z"
   },
   {
    "duration": 15,
    "start_time": "2024-07-11T06:23:33.769Z"
   },
   {
    "duration": 7,
    "start_time": "2024-07-11T06:23:34.357Z"
   },
   {
    "duration": 25,
    "start_time": "2024-07-11T06:23:35.353Z"
   },
   {
    "duration": 37,
    "start_time": "2024-07-11T06:23:35.827Z"
   },
   {
    "duration": 28,
    "start_time": "2024-07-11T06:23:37.451Z"
   },
   {
    "duration": 20,
    "start_time": "2024-07-11T06:23:39.496Z"
   },
   {
    "duration": 15,
    "start_time": "2024-07-11T06:23:39.947Z"
   },
   {
    "duration": 58,
    "start_time": "2024-07-11T06:23:43.328Z"
   },
   {
    "duration": 65,
    "start_time": "2024-07-11T06:25:22.246Z"
   },
   {
    "duration": 687,
    "start_time": "2024-07-11T06:25:41.672Z"
   },
   {
    "duration": 16,
    "start_time": "2024-07-11T06:26:19.500Z"
   },
   {
    "duration": 68,
    "start_time": "2024-07-11T06:26:36.492Z"
   },
   {
    "duration": 113,
    "start_time": "2024-07-11T06:26:37.275Z"
   },
   {
    "duration": 27,
    "start_time": "2024-07-11T06:27:48.712Z"
   },
   {
    "duration": 53,
    "start_time": "2024-07-11T06:27:49.303Z"
   },
   {
    "duration": 725,
    "start_time": "2024-07-11T06:27:49.989Z"
   },
   {
    "duration": 77,
    "start_time": "2024-07-11T06:28:30.208Z"
   },
   {
    "duration": 66,
    "start_time": "2024-07-11T06:28:52.560Z"
   },
   {
    "duration": 2714,
    "start_time": "2024-07-11T06:30:00.139Z"
   },
   {
    "duration": 78,
    "start_time": "2024-07-11T06:30:21.379Z"
   },
   {
    "duration": 15773,
    "start_time": "2024-07-11T06:30:42.349Z"
   },
   {
    "duration": 206,
    "start_time": "2024-07-11T06:30:58.213Z"
   },
   {
    "duration": 5,
    "start_time": "2024-07-11T06:31:00.704Z"
   },
   {
    "duration": 308036,
    "start_time": "2024-07-11T06:31:55.879Z"
   },
   {
    "duration": 2,
    "start_time": "2024-07-11T06:37:03.917Z"
   }
  ],
  "colab": {
   "provenance": []
  },
  "kernelspec": {
   "display_name": "Python 3 (ipykernel)",
   "language": "python",
   "name": "python3"
  },
  "language_info": {
   "codemirror_mode": {
    "name": "ipython",
    "version": 3
   },
   "file_extension": ".py",
   "mimetype": "text/x-python",
   "name": "python",
   "nbconvert_exporter": "python",
   "pygments_lexer": "ipython3",
   "version": "3.9.5"
  },
  "toc": {
   "base_numbering": 1,
   "nav_menu": {},
   "number_sections": true,
   "sideBar": true,
   "skip_h1_title": true,
   "title_cell": "Table of Contents",
   "title_sidebar": "Contents",
   "toc_cell": false,
   "toc_position": {},
   "toc_section_display": true,
   "toc_window_display": false
  }
 },
 "nbformat": 4,
 "nbformat_minor": 1
}
