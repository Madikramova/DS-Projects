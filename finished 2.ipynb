{
 "cells": [
  {
   "cell_type": "markdown",
   "metadata": {},
   "source": [
    "<div  style=\"border-radius: 10px; box-shadow: 2px 2px 2px; border: 1px solid; padding: 10px \">\n",
    "\n",
    "**Мадина, привет!**\n",
    "\n",
    "Меня зовут Василий Митров и я буду проверять твой проект. Предлагаю общаться на «ты». Если это неприемлемо, то дай мне знать и мы перейдем на «вы». \n",
    "\n",
    "Для удобства я оставлю комментарии в отдельных ячейках Markdown с заголовком «Комментарий ревьюера». Пожалуйста, не перемещай, не изменяй и не удаляй их - так наше общение будет более продуктивным. Я буду использовать цветовую разметку:\n",
    "\n",
    "<div class=\"alert alert-danger\" style=\"border-radius: 10px; box-shadow: 2px 2px 2px; border: 1px solid; padding: 10px \">\n",
    "<b>Комментарий ревьюера</b> \n",
    "    \n",
    "✍ Так выделены самые важные замечания. Без их отработки проект не будет принят. При проверке я обращаю внимание не только на код, но и на интерпретацию и анализ результатов, а также соответствие данных техническому заданию.\n",
    "</div>\n",
    "\n",
    "<div class=\"alert alert-warning\" style=\"border-radius: 10px; box-shadow: 2px 2px 2px; border: 1px solid; padding: 10px \">\n",
    "<b>Комментарий ревьюера</b> \n",
    "    \n",
    "📝 Так выделены небольшие замечания или рекомендации. Постарайся, пожалуйста, учесть эти комментарии в этом проекте или в будущих проектах.\n",
    "</div>\n",
    "\n",
    "<div class=\"alert alert-success\" style=\"border-radius: 10px; box-shadow: 2px 2px 2px; border: 1px solid; padding: 10px \">\n",
    "<b>Комментарий ревьюера</b> \n",
    "    \n",
    "👍 Так выделены все остальные комментарии, включая рекомендации, позитивные моменты или какие-то рассуждения и пояснения.\n",
    "</div>\n",
    "\n",
    "**Важные дополнения:**\n",
    "    \n",
    "* <u>Идеально, когда проект структурирован. Где названия разделов и подразделов будут записаны в ячейках [Markdown](https://paulradzkov.com/2014/markdown_cheatsheet/?).</u>\n",
    "    \n",
    "\n",
    "* <u>Проверь проект на работоспособность перед отправкой на проверку. Сделать это можно так: `Kernel -> Restart And Run All -> Restart And Run All Cells` предварительно сохранив проект нажав на дискету в левом верхнем углу. Это важный навык, который тебе пригодится как на собеседовании, при выполнении тестового задания, так и перед совещанием у руководства компании. Помни, ревьюеры не вносят изменения в код, даже если это путь к датасету или ячейка в неверном формате (code/mardown).</u>\n",
    "    \n",
    "Давай работать над проектом в диалоге: если ты что-то меняешь в проекте или отвечаешь на мои комментарии — пиши об этом. Мне будет легче отследить изменения, если ты выделишь свои комментарии:\n",
    "\n",
    "<div class=\"alert alert-info\" style=\"border-radius: 10px; box-shadow: 2px 2px 2px; border: 1px solid; padding: 10px \"> \n",
    "<b>Комментарий студента</b> \n",
    "    \n",
    "Например, вот так. Также, если есть какие-то вопросы, или что-то осталось непонятным по ревью - спрашивай в таких блоках и я постараюсь дать ответ.\n",
    "</div>\n",
    "\n",
    "---"
   ]
  },
  {
   "cell_type": "markdown",
   "metadata": {
    "id": "TSsZTw4cl2Cj"
   },
   "source": [
    "# Исследование объявлений о продаже квартир\n",
    "В вашем распоряжении данные сервиса Яндекс Недвижимость — архив объявлений о продаже квартир в Санкт-Петербурге и соседних населённых пунктах за несколько лет. Вам нужно научиться определять рыночную стоимость объектов недвижимости. Для этого проведите исследовательский анализ данных и установите параметры, влияющие на цену объектов. Это позволит построить автоматизированную систему: она отследит аномалии и мошенническую деятельность.\n",
    "\n",
    "По каждой квартире на продажу доступны два вида данных. Первые вписаны пользователем, вторые — получены автоматически на основе картографических данных. Например, расстояние до центра, аэропорта и других объектов — эти данные автоматически получены из геосервисов. Количество парков и водоёмов также заполняется без участия пользователя.\n",
    "\n",
    "# Изучение общей информации\n",
    "\n",
    "Описание данных\n",
    "\n",
    "airports_nearest — расстояние до ближайшего аэропорта в метрах (м)\n",
    "balcony — число балконов\n",
    "ceiling_height — высота потолков (м)\n",
    "cityCenters_nearest — расстояние до центра города (м)\n",
    "days_exposition — сколько дней было размещено объявление (от публикации до снятия)\n",
    "first_day_exposition — дата публикации\n",
    "floor — этаж\n",
    "floors_total — всего этажей в доме\n",
    "is_apartment — апартаменты (булев тип)\n",
    "kitchen_area — площадь кухни в квадратных метрах (м²)\n",
    "last_price — цена на момент снятия с публикации\n",
    "living_area — жилая площадь в квадратных метрах(м²)\n",
    "locality_name — название населённого пункта\n",
    "open_plan — свободная планировка (булев тип)\n",
    "parks_around3000 — число парков в радиусе 3 км\n",
    "parks_nearest — расстояние до ближайшего парка (м)\n",
    "ponds_around3000 — число водоёмов в радиусе 3 км\n",
    "ponds_nearest — расстояние до ближайшего водоёма (м)\n",
    "rooms — число комнат\n",
    "studio — квартира-студия (булев тип)\n",
    "total_area — площадь квартиры в квадратных метрах (м²)\n",
    "total_images — число фотографий квартиры в объявлении\n",
    "\n",
    "\n"
   ]
  },
  {
   "cell_type": "markdown",
   "metadata": {},
   "source": [
    "<div class=\"alert alert-success\" style=\"border-radius: 10px; box-shadow: 2px 2px 2px; border: 1px solid; padding: 10px \">\n",
    "<b>Комментарий ревьюера v.2</b> \n",
    "    \n",
    "👍 \n",
    "Правильно делаешь, что не убираешь описание задачи. Это поможет быстро вспомнить, о чем проект, если ты к нему вернешься спустя какое-то время.\n",
    "\n",
    "Данный блок можно расширить при помощи плана работы и описания данных. Посмотреть подробнее про вступительный блок можно в разделе \"Полезные инструкции в учебе\" блока \"Оформление проекта\".\n",
    "    \n",
    "\n",
    "</div>"
   ]
  },
  {
   "cell_type": "code",
   "execution_count": 1,
   "metadata": {
    "id": "UXFH4LScx_JO"
   },
   "outputs": [],
   "source": [
    "import pandas as pd\n",
    "import numpy as np\n",
    "import matplotlib.pyplot as plt"
   ]
  },
  {
   "cell_type": "code",
   "execution_count": 2,
   "metadata": {
    "colab": {
     "base_uri": "https://localhost:8080/",
     "height": 342
    },
    "id": "Htj9KyScyDP3",
    "outputId": "c5928e0c-f941-429d-e2b0-b6849ac81630"
   },
   "outputs": [
    {
     "data": {
      "text/html": [
       "<div>\n",
       "<style scoped>\n",
       "    .dataframe tbody tr th:only-of-type {\n",
       "        vertical-align: middle;\n",
       "    }\n",
       "\n",
       "    .dataframe tbody tr th {\n",
       "        vertical-align: top;\n",
       "    }\n",
       "\n",
       "    .dataframe thead th {\n",
       "        text-align: right;\n",
       "    }\n",
       "</style>\n",
       "<table border=\"1\" class=\"dataframe\">\n",
       "  <thead>\n",
       "    <tr style=\"text-align: right;\">\n",
       "      <th></th>\n",
       "      <th>total_images</th>\n",
       "      <th>last_price</th>\n",
       "      <th>total_area</th>\n",
       "      <th>first_day_exposition</th>\n",
       "      <th>rooms</th>\n",
       "      <th>ceiling_height</th>\n",
       "      <th>floors_total</th>\n",
       "      <th>living_area</th>\n",
       "      <th>floor</th>\n",
       "      <th>is_apartment</th>\n",
       "      <th>...</th>\n",
       "      <th>kitchen_area</th>\n",
       "      <th>balcony</th>\n",
       "      <th>locality_name</th>\n",
       "      <th>airports_nearest</th>\n",
       "      <th>cityCenters_nearest</th>\n",
       "      <th>parks_around3000</th>\n",
       "      <th>parks_nearest</th>\n",
       "      <th>ponds_around3000</th>\n",
       "      <th>ponds_nearest</th>\n",
       "      <th>days_exposition</th>\n",
       "    </tr>\n",
       "  </thead>\n",
       "  <tbody>\n",
       "    <tr>\n",
       "      <th>0</th>\n",
       "      <td>20</td>\n",
       "      <td>13000000.0</td>\n",
       "      <td>108.0</td>\n",
       "      <td>2019-03-07T00:00:00</td>\n",
       "      <td>3</td>\n",
       "      <td>2.70</td>\n",
       "      <td>16.0</td>\n",
       "      <td>51.0</td>\n",
       "      <td>8</td>\n",
       "      <td>NaN</td>\n",
       "      <td>...</td>\n",
       "      <td>25.0</td>\n",
       "      <td>NaN</td>\n",
       "      <td>Санкт-Петербург</td>\n",
       "      <td>18863.0</td>\n",
       "      <td>16028.0</td>\n",
       "      <td>1.0</td>\n",
       "      <td>482.0</td>\n",
       "      <td>2.0</td>\n",
       "      <td>755.0</td>\n",
       "      <td>NaN</td>\n",
       "    </tr>\n",
       "    <tr>\n",
       "      <th>1</th>\n",
       "      <td>7</td>\n",
       "      <td>3350000.0</td>\n",
       "      <td>40.4</td>\n",
       "      <td>2018-12-04T00:00:00</td>\n",
       "      <td>1</td>\n",
       "      <td>NaN</td>\n",
       "      <td>11.0</td>\n",
       "      <td>18.6</td>\n",
       "      <td>1</td>\n",
       "      <td>NaN</td>\n",
       "      <td>...</td>\n",
       "      <td>11.0</td>\n",
       "      <td>2.0</td>\n",
       "      <td>посёлок Шушары</td>\n",
       "      <td>12817.0</td>\n",
       "      <td>18603.0</td>\n",
       "      <td>0.0</td>\n",
       "      <td>NaN</td>\n",
       "      <td>0.0</td>\n",
       "      <td>NaN</td>\n",
       "      <td>81.0</td>\n",
       "    </tr>\n",
       "    <tr>\n",
       "      <th>2</th>\n",
       "      <td>10</td>\n",
       "      <td>5196000.0</td>\n",
       "      <td>56.0</td>\n",
       "      <td>2015-08-20T00:00:00</td>\n",
       "      <td>2</td>\n",
       "      <td>NaN</td>\n",
       "      <td>5.0</td>\n",
       "      <td>34.3</td>\n",
       "      <td>4</td>\n",
       "      <td>NaN</td>\n",
       "      <td>...</td>\n",
       "      <td>8.3</td>\n",
       "      <td>0.0</td>\n",
       "      <td>Санкт-Петербург</td>\n",
       "      <td>21741.0</td>\n",
       "      <td>13933.0</td>\n",
       "      <td>1.0</td>\n",
       "      <td>90.0</td>\n",
       "      <td>2.0</td>\n",
       "      <td>574.0</td>\n",
       "      <td>558.0</td>\n",
       "    </tr>\n",
       "    <tr>\n",
       "      <th>3</th>\n",
       "      <td>0</td>\n",
       "      <td>64900000.0</td>\n",
       "      <td>159.0</td>\n",
       "      <td>2015-07-24T00:00:00</td>\n",
       "      <td>3</td>\n",
       "      <td>NaN</td>\n",
       "      <td>14.0</td>\n",
       "      <td>NaN</td>\n",
       "      <td>9</td>\n",
       "      <td>NaN</td>\n",
       "      <td>...</td>\n",
       "      <td>NaN</td>\n",
       "      <td>0.0</td>\n",
       "      <td>Санкт-Петербург</td>\n",
       "      <td>28098.0</td>\n",
       "      <td>6800.0</td>\n",
       "      <td>2.0</td>\n",
       "      <td>84.0</td>\n",
       "      <td>3.0</td>\n",
       "      <td>234.0</td>\n",
       "      <td>424.0</td>\n",
       "    </tr>\n",
       "    <tr>\n",
       "      <th>4</th>\n",
       "      <td>2</td>\n",
       "      <td>10000000.0</td>\n",
       "      <td>100.0</td>\n",
       "      <td>2018-06-19T00:00:00</td>\n",
       "      <td>2</td>\n",
       "      <td>3.03</td>\n",
       "      <td>14.0</td>\n",
       "      <td>32.0</td>\n",
       "      <td>13</td>\n",
       "      <td>NaN</td>\n",
       "      <td>...</td>\n",
       "      <td>41.0</td>\n",
       "      <td>NaN</td>\n",
       "      <td>Санкт-Петербург</td>\n",
       "      <td>31856.0</td>\n",
       "      <td>8098.0</td>\n",
       "      <td>2.0</td>\n",
       "      <td>112.0</td>\n",
       "      <td>1.0</td>\n",
       "      <td>48.0</td>\n",
       "      <td>121.0</td>\n",
       "    </tr>\n",
       "  </tbody>\n",
       "</table>\n",
       "<p>5 rows × 22 columns</p>\n",
       "</div>"
      ],
      "text/plain": [
       "   total_images  last_price  total_area first_day_exposition  rooms  \\\n",
       "0            20  13000000.0       108.0  2019-03-07T00:00:00      3   \n",
       "1             7   3350000.0        40.4  2018-12-04T00:00:00      1   \n",
       "2            10   5196000.0        56.0  2015-08-20T00:00:00      2   \n",
       "3             0  64900000.0       159.0  2015-07-24T00:00:00      3   \n",
       "4             2  10000000.0       100.0  2018-06-19T00:00:00      2   \n",
       "\n",
       "   ceiling_height  floors_total  living_area  floor is_apartment  ...  \\\n",
       "0            2.70          16.0         51.0      8          NaN  ...   \n",
       "1             NaN          11.0         18.6      1          NaN  ...   \n",
       "2             NaN           5.0         34.3      4          NaN  ...   \n",
       "3             NaN          14.0          NaN      9          NaN  ...   \n",
       "4            3.03          14.0         32.0     13          NaN  ...   \n",
       "\n",
       "   kitchen_area  balcony    locality_name  airports_nearest  \\\n",
       "0          25.0      NaN  Санкт-Петербург           18863.0   \n",
       "1          11.0      2.0   посёлок Шушары           12817.0   \n",
       "2           8.3      0.0  Санкт-Петербург           21741.0   \n",
       "3           NaN      0.0  Санкт-Петербург           28098.0   \n",
       "4          41.0      NaN  Санкт-Петербург           31856.0   \n",
       "\n",
       "  cityCenters_nearest  parks_around3000  parks_nearest  ponds_around3000  \\\n",
       "0             16028.0               1.0          482.0               2.0   \n",
       "1             18603.0               0.0            NaN               0.0   \n",
       "2             13933.0               1.0           90.0               2.0   \n",
       "3              6800.0               2.0           84.0               3.0   \n",
       "4              8098.0               2.0          112.0               1.0   \n",
       "\n",
       "   ponds_nearest  days_exposition  \n",
       "0          755.0              NaN  \n",
       "1            NaN             81.0  \n",
       "2          574.0            558.0  \n",
       "3          234.0            424.0  \n",
       "4           48.0            121.0  \n",
       "\n",
       "[5 rows x 22 columns]"
      ]
     },
     "execution_count": 2,
     "metadata": {},
     "output_type": "execute_result"
    }
   ],
   "source": [
    "df=pd.read_csv('/datasets/real_estate_data.csv', sep='\\t')\n",
    "df.head(5)"
   ]
  },
  {
   "cell_type": "code",
   "execution_count": 3,
   "metadata": {
    "colab": {
     "base_uri": "https://localhost:8080/"
    },
    "id": "IMYUbNLOJrrp",
    "outputId": "ea3d3f64-9838-4af5-e6cb-1df1d08b1d1a"
   },
   "outputs": [
    {
     "name": "stdout",
     "output_type": "stream",
     "text": [
      "<class 'pandas.core.frame.DataFrame'>\n",
      "RangeIndex: 23699 entries, 0 to 23698\n",
      "Data columns (total 22 columns):\n",
      " #   Column                Non-Null Count  Dtype  \n",
      "---  ------                --------------  -----  \n",
      " 0   total_images          23699 non-null  int64  \n",
      " 1   last_price            23699 non-null  float64\n",
      " 2   total_area            23699 non-null  float64\n",
      " 3   first_day_exposition  23699 non-null  object \n",
      " 4   rooms                 23699 non-null  int64  \n",
      " 5   ceiling_height        14504 non-null  float64\n",
      " 6   floors_total          23613 non-null  float64\n",
      " 7   living_area           21796 non-null  float64\n",
      " 8   floor                 23699 non-null  int64  \n",
      " 9   is_apartment          2775 non-null   object \n",
      " 10  studio                23699 non-null  bool   \n",
      " 11  open_plan             23699 non-null  bool   \n",
      " 12  kitchen_area          21421 non-null  float64\n",
      " 13  balcony               12180 non-null  float64\n",
      " 14  locality_name         23650 non-null  object \n",
      " 15  airports_nearest      18157 non-null  float64\n",
      " 16  cityCenters_nearest   18180 non-null  float64\n",
      " 17  parks_around3000      18181 non-null  float64\n",
      " 18  parks_nearest         8079 non-null   float64\n",
      " 19  ponds_around3000      18181 non-null  float64\n",
      " 20  ponds_nearest         9110 non-null   float64\n",
      " 21  days_exposition       20518 non-null  float64\n",
      "dtypes: bool(2), float64(14), int64(3), object(3)\n",
      "memory usage: 3.7+ MB\n"
     ]
    }
   ],
   "source": [
    "df.info()"
   ]
  },
  {
   "cell_type": "code",
   "execution_count": 4,
   "metadata": {
    "colab": {
     "base_uri": "https://localhost:8080/",
     "height": 320
    },
    "id": "MqFnIIQ29cRg",
    "outputId": "1e89f2ac-2aa8-4fc1-e0b8-fcc836b613e4"
   },
   "outputs": [
    {
     "data": {
      "text/html": [
       "<div>\n",
       "<style scoped>\n",
       "    .dataframe tbody tr th:only-of-type {\n",
       "        vertical-align: middle;\n",
       "    }\n",
       "\n",
       "    .dataframe tbody tr th {\n",
       "        vertical-align: top;\n",
       "    }\n",
       "\n",
       "    .dataframe thead th {\n",
       "        text-align: right;\n",
       "    }\n",
       "</style>\n",
       "<table border=\"1\" class=\"dataframe\">\n",
       "  <thead>\n",
       "    <tr style=\"text-align: right;\">\n",
       "      <th></th>\n",
       "      <th>total_images</th>\n",
       "      <th>last_price</th>\n",
       "      <th>total_area</th>\n",
       "      <th>rooms</th>\n",
       "      <th>ceiling_height</th>\n",
       "      <th>floors_total</th>\n",
       "      <th>living_area</th>\n",
       "      <th>floor</th>\n",
       "      <th>kitchen_area</th>\n",
       "      <th>balcony</th>\n",
       "      <th>airports_nearest</th>\n",
       "      <th>cityCenters_nearest</th>\n",
       "      <th>parks_around3000</th>\n",
       "      <th>parks_nearest</th>\n",
       "      <th>ponds_around3000</th>\n",
       "      <th>ponds_nearest</th>\n",
       "      <th>days_exposition</th>\n",
       "    </tr>\n",
       "  </thead>\n",
       "  <tbody>\n",
       "    <tr>\n",
       "      <th>count</th>\n",
       "      <td>23699.000000</td>\n",
       "      <td>2.369900e+04</td>\n",
       "      <td>23699.000000</td>\n",
       "      <td>23699.000000</td>\n",
       "      <td>14504.000000</td>\n",
       "      <td>23613.000000</td>\n",
       "      <td>21796.000000</td>\n",
       "      <td>23699.000000</td>\n",
       "      <td>21421.000000</td>\n",
       "      <td>12180.000000</td>\n",
       "      <td>18157.000000</td>\n",
       "      <td>18180.000000</td>\n",
       "      <td>18181.000000</td>\n",
       "      <td>8079.000000</td>\n",
       "      <td>18181.000000</td>\n",
       "      <td>9110.000000</td>\n",
       "      <td>20518.000000</td>\n",
       "    </tr>\n",
       "    <tr>\n",
       "      <th>mean</th>\n",
       "      <td>9.858475</td>\n",
       "      <td>6.541549e+06</td>\n",
       "      <td>60.348651</td>\n",
       "      <td>2.070636</td>\n",
       "      <td>2.771499</td>\n",
       "      <td>10.673824</td>\n",
       "      <td>34.457852</td>\n",
       "      <td>5.892358</td>\n",
       "      <td>10.569807</td>\n",
       "      <td>1.150082</td>\n",
       "      <td>28793.672193</td>\n",
       "      <td>14191.277833</td>\n",
       "      <td>0.611408</td>\n",
       "      <td>490.804555</td>\n",
       "      <td>0.770255</td>\n",
       "      <td>517.980900</td>\n",
       "      <td>180.888634</td>\n",
       "    </tr>\n",
       "    <tr>\n",
       "      <th>std</th>\n",
       "      <td>5.682529</td>\n",
       "      <td>1.088701e+07</td>\n",
       "      <td>35.654083</td>\n",
       "      <td>1.078405</td>\n",
       "      <td>1.261056</td>\n",
       "      <td>6.597173</td>\n",
       "      <td>22.030445</td>\n",
       "      <td>4.885249</td>\n",
       "      <td>5.905438</td>\n",
       "      <td>1.071300</td>\n",
       "      <td>12630.880622</td>\n",
       "      <td>8608.386210</td>\n",
       "      <td>0.802074</td>\n",
       "      <td>342.317995</td>\n",
       "      <td>0.938346</td>\n",
       "      <td>277.720643</td>\n",
       "      <td>219.727988</td>\n",
       "    </tr>\n",
       "    <tr>\n",
       "      <th>min</th>\n",
       "      <td>0.000000</td>\n",
       "      <td>1.219000e+04</td>\n",
       "      <td>12.000000</td>\n",
       "      <td>0.000000</td>\n",
       "      <td>1.000000</td>\n",
       "      <td>1.000000</td>\n",
       "      <td>2.000000</td>\n",
       "      <td>1.000000</td>\n",
       "      <td>1.300000</td>\n",
       "      <td>0.000000</td>\n",
       "      <td>0.000000</td>\n",
       "      <td>181.000000</td>\n",
       "      <td>0.000000</td>\n",
       "      <td>1.000000</td>\n",
       "      <td>0.000000</td>\n",
       "      <td>13.000000</td>\n",
       "      <td>1.000000</td>\n",
       "    </tr>\n",
       "    <tr>\n",
       "      <th>25%</th>\n",
       "      <td>6.000000</td>\n",
       "      <td>3.400000e+06</td>\n",
       "      <td>40.000000</td>\n",
       "      <td>1.000000</td>\n",
       "      <td>2.520000</td>\n",
       "      <td>5.000000</td>\n",
       "      <td>18.600000</td>\n",
       "      <td>2.000000</td>\n",
       "      <td>7.000000</td>\n",
       "      <td>0.000000</td>\n",
       "      <td>18585.000000</td>\n",
       "      <td>9238.000000</td>\n",
       "      <td>0.000000</td>\n",
       "      <td>288.000000</td>\n",
       "      <td>0.000000</td>\n",
       "      <td>294.000000</td>\n",
       "      <td>45.000000</td>\n",
       "    </tr>\n",
       "    <tr>\n",
       "      <th>50%</th>\n",
       "      <td>9.000000</td>\n",
       "      <td>4.650000e+06</td>\n",
       "      <td>52.000000</td>\n",
       "      <td>2.000000</td>\n",
       "      <td>2.650000</td>\n",
       "      <td>9.000000</td>\n",
       "      <td>30.000000</td>\n",
       "      <td>4.000000</td>\n",
       "      <td>9.100000</td>\n",
       "      <td>1.000000</td>\n",
       "      <td>26726.000000</td>\n",
       "      <td>13098.500000</td>\n",
       "      <td>0.000000</td>\n",
       "      <td>455.000000</td>\n",
       "      <td>1.000000</td>\n",
       "      <td>502.000000</td>\n",
       "      <td>95.000000</td>\n",
       "    </tr>\n",
       "    <tr>\n",
       "      <th>75%</th>\n",
       "      <td>14.000000</td>\n",
       "      <td>6.800000e+06</td>\n",
       "      <td>69.900000</td>\n",
       "      <td>3.000000</td>\n",
       "      <td>2.800000</td>\n",
       "      <td>16.000000</td>\n",
       "      <td>42.300000</td>\n",
       "      <td>8.000000</td>\n",
       "      <td>12.000000</td>\n",
       "      <td>2.000000</td>\n",
       "      <td>37273.000000</td>\n",
       "      <td>16293.000000</td>\n",
       "      <td>1.000000</td>\n",
       "      <td>612.000000</td>\n",
       "      <td>1.000000</td>\n",
       "      <td>729.000000</td>\n",
       "      <td>232.000000</td>\n",
       "    </tr>\n",
       "    <tr>\n",
       "      <th>max</th>\n",
       "      <td>50.000000</td>\n",
       "      <td>7.630000e+08</td>\n",
       "      <td>900.000000</td>\n",
       "      <td>19.000000</td>\n",
       "      <td>100.000000</td>\n",
       "      <td>60.000000</td>\n",
       "      <td>409.700000</td>\n",
       "      <td>33.000000</td>\n",
       "      <td>112.000000</td>\n",
       "      <td>5.000000</td>\n",
       "      <td>84869.000000</td>\n",
       "      <td>65968.000000</td>\n",
       "      <td>3.000000</td>\n",
       "      <td>3190.000000</td>\n",
       "      <td>3.000000</td>\n",
       "      <td>1344.000000</td>\n",
       "      <td>1580.000000</td>\n",
       "    </tr>\n",
       "  </tbody>\n",
       "</table>\n",
       "</div>"
      ],
      "text/plain": [
       "       total_images    last_price    total_area         rooms  ceiling_height  \\\n",
       "count  23699.000000  2.369900e+04  23699.000000  23699.000000    14504.000000   \n",
       "mean       9.858475  6.541549e+06     60.348651      2.070636        2.771499   \n",
       "std        5.682529  1.088701e+07     35.654083      1.078405        1.261056   \n",
       "min        0.000000  1.219000e+04     12.000000      0.000000        1.000000   \n",
       "25%        6.000000  3.400000e+06     40.000000      1.000000        2.520000   \n",
       "50%        9.000000  4.650000e+06     52.000000      2.000000        2.650000   \n",
       "75%       14.000000  6.800000e+06     69.900000      3.000000        2.800000   \n",
       "max       50.000000  7.630000e+08    900.000000     19.000000      100.000000   \n",
       "\n",
       "       floors_total   living_area         floor  kitchen_area       balcony  \\\n",
       "count  23613.000000  21796.000000  23699.000000  21421.000000  12180.000000   \n",
       "mean      10.673824     34.457852      5.892358     10.569807      1.150082   \n",
       "std        6.597173     22.030445      4.885249      5.905438      1.071300   \n",
       "min        1.000000      2.000000      1.000000      1.300000      0.000000   \n",
       "25%        5.000000     18.600000      2.000000      7.000000      0.000000   \n",
       "50%        9.000000     30.000000      4.000000      9.100000      1.000000   \n",
       "75%       16.000000     42.300000      8.000000     12.000000      2.000000   \n",
       "max       60.000000    409.700000     33.000000    112.000000      5.000000   \n",
       "\n",
       "       airports_nearest  cityCenters_nearest  parks_around3000  parks_nearest  \\\n",
       "count      18157.000000         18180.000000      18181.000000    8079.000000   \n",
       "mean       28793.672193         14191.277833          0.611408     490.804555   \n",
       "std        12630.880622          8608.386210          0.802074     342.317995   \n",
       "min            0.000000           181.000000          0.000000       1.000000   \n",
       "25%        18585.000000          9238.000000          0.000000     288.000000   \n",
       "50%        26726.000000         13098.500000          0.000000     455.000000   \n",
       "75%        37273.000000         16293.000000          1.000000     612.000000   \n",
       "max        84869.000000         65968.000000          3.000000    3190.000000   \n",
       "\n",
       "       ponds_around3000  ponds_nearest  days_exposition  \n",
       "count      18181.000000    9110.000000     20518.000000  \n",
       "mean           0.770255     517.980900       180.888634  \n",
       "std            0.938346     277.720643       219.727988  \n",
       "min            0.000000      13.000000         1.000000  \n",
       "25%            0.000000     294.000000        45.000000  \n",
       "50%            1.000000     502.000000        95.000000  \n",
       "75%            1.000000     729.000000       232.000000  \n",
       "max            3.000000    1344.000000      1580.000000  "
      ]
     },
     "execution_count": 4,
     "metadata": {},
     "output_type": "execute_result"
    }
   ],
   "source": [
    "df.describe()"
   ]
  },
  {
   "cell_type": "markdown",
   "metadata": {
    "id": "T1fD5jM63uOd"
   },
   "source": [
    "Видим что возможно есть выбросы у ceiling_height kitchen_area, living_area, total_area, floor, rooms. (Надо проверить)\n",
    "Last_price нечитабелен"
   ]
  },
  {
   "cell_type": "code",
   "execution_count": 5,
   "metadata": {
    "colab": {
     "base_uri": "https://localhost:8080/"
    },
    "id": "p-XuEWGIIU2z",
    "outputId": "1cd8bd4a-4f82-45a2-f4aa-64370bf7a373"
   },
   "outputs": [
    {
     "data": {
      "text/plain": [
       "total_images                0\n",
       "last_price                  0\n",
       "total_area                  0\n",
       "first_day_exposition        0\n",
       "rooms                       0\n",
       "ceiling_height           9195\n",
       "floors_total               86\n",
       "living_area              1903\n",
       "floor                       0\n",
       "is_apartment            20924\n",
       "studio                      0\n",
       "open_plan                   0\n",
       "kitchen_area             2278\n",
       "balcony                 11519\n",
       "locality_name              49\n",
       "airports_nearest         5542\n",
       "cityCenters_nearest      5519\n",
       "parks_around3000         5518\n",
       "parks_nearest           15620\n",
       "ponds_around3000         5518\n",
       "ponds_nearest           14589\n",
       "days_exposition          3181\n",
       "dtype: int64"
      ]
     },
     "execution_count": 5,
     "metadata": {},
     "output_type": "execute_result"
    }
   ],
   "source": [
    "df.isna().sum()"
   ]
  },
  {
   "cell_type": "code",
   "execution_count": 6,
   "metadata": {
    "colab": {
     "base_uri": "https://localhost:8080/"
    },
    "id": "6RV0YOqqIskp",
    "outputId": "0d2d1246-50e2-4e0a-c747-5f4c50aa1f4d"
   },
   "outputs": [
    {
     "data": {
      "text/plain": [
       "0"
      ]
     },
     "execution_count": 6,
     "metadata": {},
     "output_type": "execute_result"
    }
   ],
   "source": [
    "df.duplicated().sum()"
   ]
  },
  {
   "cell_type": "markdown",
   "metadata": {
    "id": "48TvRyj235mW"
   },
   "source": [
    "<div class=\"alert alert-success\" style=\"border-radius: 10px; box-shadow: 2px 2px 2px; border: 1px solid; padding: 10px \">\n",
    "<b>Комментарий ревьюера v.2</b> \n",
    "    \n",
    "👍 \n",
    "Молодец, что не забываешь про явные дубликаты.\n",
    "</div>"
   ]
  },
  {
   "cell_type": "markdown",
   "metadata": {
    "id": "iPvNc5Dc335N"
   },
   "source": [
    "Видим что есть пропущенные значения\n",
    "Видим что дупликатов нет"
   ]
  },
  {
   "cell_type": "code",
   "execution_count": 7,
   "metadata": {
    "colab": {
     "base_uri": "https://localhost:8080/",
     "height": 1000
    },
    "id": "aKKsPC2TI_la",
    "outputId": "df51c9b4-a43f-41d6-b61d-352a4d0fa354"
   },
   "outputs": [
    {
     "data": {
      "text/plain": [
       "array([[<AxesSubplot:title={'center':'total_images'}>,\n",
       "        <AxesSubplot:title={'center':'last_price'}>,\n",
       "        <AxesSubplot:title={'center':'total_area'}>,\n",
       "        <AxesSubplot:title={'center':'rooms'}>],\n",
       "       [<AxesSubplot:title={'center':'ceiling_height'}>,\n",
       "        <AxesSubplot:title={'center':'floors_total'}>,\n",
       "        <AxesSubplot:title={'center':'living_area'}>,\n",
       "        <AxesSubplot:title={'center':'floor'}>],\n",
       "       [<AxesSubplot:title={'center':'kitchen_area'}>,\n",
       "        <AxesSubplot:title={'center':'balcony'}>,\n",
       "        <AxesSubplot:title={'center':'airports_nearest'}>,\n",
       "        <AxesSubplot:title={'center':'cityCenters_nearest'}>],\n",
       "       [<AxesSubplot:title={'center':'parks_around3000'}>,\n",
       "        <AxesSubplot:title={'center':'parks_nearest'}>,\n",
       "        <AxesSubplot:title={'center':'ponds_around3000'}>,\n",
       "        <AxesSubplot:title={'center':'ponds_nearest'}>],\n",
       "       [<AxesSubplot:title={'center':'days_exposition'}>, <AxesSubplot:>,\n",
       "        <AxesSubplot:>, <AxesSubplot:>]], dtype=object)"
      ]
     },
     "execution_count": 7,
     "metadata": {},
     "output_type": "execute_result"
    },
    {
     "data": {
      "image/png": "[encoded data removed]",
      "text/plain": [
       "<Figure size 1080x1440 with 20 Axes>"
      ]
     },
     "metadata": {
      "needs_background": "light"
     },
     "output_type": "display_data"
    }
   ],
   "source": [
    "df.hist(figsize=(15,20))"
   ]
  },
  {
   "cell_type": "markdown",
   "metadata": {},
   "source": [
    "<div class=\"alert alert-success\" style=\"border-radius: 10px; box-shadow: 2px 2px 2px; border: 1px solid; padding: 10px \">\n",
    "<b>Комментарий ревьюера v.2</b> \n",
    "    \n",
    "👍 \n",
    "Предупреждения перед графиками можно убрать 2 способами:\n",
    "    \n",
    "1. В конец кода добавить `plt.show()`, но для этого нужно вызвать библиотеку matplotlib.pyplot as plt\n",
    "2. В конец кода добавить `;`\n",
    "</div>"
   ]
  },
  {
   "cell_type": "markdown",
   "metadata": {
    "id": "Eu8mXISAKJbK"
   },
   "source": [
    "# Вывод\n",
    "\n",
    "\n",
    "*   Загрузили данные из csv-файла в датафрейм c помощью библиотеки pandas. Есть 23699 строк датасета из них 2 bool, 14 float64, 3 int64, 3 object\n",
    "*   Изучили общую информацию о полученном датафрейме. Есть выбросы, пустые значения. Нету дубликатов. First_day_exposition надо перевести на datatime. Заменить или редактировать locality_name\n",
    "*   Построили гистограмму для всех числовых столбцов таблицы на одном графике.\n",
    "\n"
   ]
  },
  {
   "cell_type": "markdown",
   "metadata": {},
   "source": [
    "<div class=\"alert alert-success\" style=\"border-radius: 10px; box-shadow: 2px 2px 2px; border: 1px solid; padding: 10px \">\n",
    "<b>Комментарий ревьюера v.2</b> \n",
    "    \n",
    "👍 \n",
    "Хорошая вводная часть.\n",
    "\n",
    "Рекомендую создать универсальную функцию, которая будет принимать на вход датафрейм, а на выходе она будет выводить всего нужные характеристики, например, head, describe, info, дубликаты и т.п.\n",
    "</div>"
   ]
  },
  {
   "cell_type": "markdown",
   "metadata": {
    "id": "fsT3h_OGMQXq"
   },
   "source": [
    "# Шаг 2. Выполните предобработку данных"
   ]
  },
  {
   "cell_type": "code",
   "execution_count": 8,
   "metadata": {
    "colab": {
     "base_uri": "https://localhost:8080/"
    },
    "id": "tmT0wt4cL6IJ",
    "outputId": "72062b14-727a-4bb0-8106-ea07008c007e"
   },
   "outputs": [
    {
     "data": {
      "text/plain": [
       "0       2019-03-07\n",
       "1       2018-12-04\n",
       "2       2015-08-20\n",
       "3       2015-07-24\n",
       "4       2018-06-19\n",
       "           ...    \n",
       "23694   2017-03-21\n",
       "23695   2018-01-15\n",
       "23696   2018-02-11\n",
       "23697   2017-03-28\n",
       "23698   2017-07-21\n",
       "Name: first_day_exposition, Length: 23699, dtype: datetime64[ns]"
      ]
     },
     "execution_count": 8,
     "metadata": {},
     "output_type": "execute_result"
    }
   ],
   "source": [
    "# Переведем на правильный формат\n",
    "df['first_day_exposition'] = pd.to_datetime(df['first_day_exposition'])\n",
    "df['first_day_exposition']"
   ]
  },
  {
   "cell_type": "markdown",
   "metadata": {},
   "source": [
    "<div class=\"alert alert-success\" style=\"border-radius: 10px; box-shadow: 2px 2px 2px; border: 1px solid; padding: 10px \">\n",
    "<b>Комментарий ревьюера v.2</b> \n",
    "    \n",
    "👍 При чтении файла можно указать параметр `parse_dates: parse_dates=['date']`. Тогда пандас автоматически переведет список столбцов в даты. Пример можно посмотреть [здесь](https://newtechaudit.ru/gruzi-daty-krasivo/).\n",
    "</div>"
   ]
  },
  {
   "cell_type": "code",
   "execution_count": 9,
   "metadata": {
    "id": "8hvvsVD6ES5y"
   },
   "outputs": [],
   "source": [
    "#Избавляемся от больших чисел\n",
    "df['last_price'] = df['last_price']/1000000\n"
   ]
  },
  {
   "cell_type": "code",
   "execution_count": 10,
   "metadata": {
    "colab": {
     "base_uri": "https://localhost:8080/"
    },
    "id": "uz9Z1RTHMrwV",
    "outputId": "02d3ea4e-f19e-4876-fd38-e814053a93ef"
   },
   "outputs": [
    {
     "data": {
      "text/plain": [
       "total_images                     int64\n",
       "last_price                     float64\n",
       "total_area                     float64\n",
       "first_day_exposition    datetime64[ns]\n",
       "rooms                            int64\n",
       "ceiling_height                 float64\n",
       "floors_total                   float64\n",
       "living_area                    float64\n",
       "floor                            int64\n",
       "is_apartment                    object\n",
       "studio                            bool\n",
       "open_plan                         bool\n",
       "kitchen_area                   float64\n",
       "balcony                        float64\n",
       "locality_name                   object\n",
       "airports_nearest               float64\n",
       "cityCenters_nearest            float64\n",
       "parks_around3000               float64\n",
       "parks_nearest                  float64\n",
       "ponds_around3000               float64\n",
       "ponds_nearest                  float64\n",
       "days_exposition                float64\n",
       "dtype: object"
      ]
     },
     "execution_count": 10,
     "metadata": {},
     "output_type": "execute_result"
    }
   ],
   "source": [
    "#Переведем сначала в numeric наши столбцы чтобы можно было их перевести в int\n",
    "for column in ['last_price','total_area','ceiling_height',\n",
    "              'floors_total','living_area','kitchen_area','balcony',\n",
    "              'airports_nearest','cityCenters_nearest', 'parks_around3000',\n",
    "              'parks_nearest','ponds_around3000','ponds_nearest',\n",
    "              'days_exposition']:\n",
    "    df[column] = pd.to_numeric(df[column], errors='coerce')\n",
    "\n",
    "df.dtypes"
   ]
  },
  {
   "cell_type": "code",
   "execution_count": 11,
   "metadata": {
    "colab": {
     "base_uri": "https://localhost:8080/"
    },
    "id": "udjIivOj3VDG",
    "outputId": "c1ce5e34-f307-4687-9864-700adf0b5376"
   },
   "outputs": [
    {
     "data": {
      "text/plain": [
       "0"
      ]
     },
     "execution_count": 11,
     "metadata": {},
     "output_type": "execute_result"
    }
   ],
   "source": [
    "for column in ['ceiling_height', 'kitchen_area', 'living_area']:\n",
    "    median_value = df[column].median()  # Вычисляем медиану для текущего столбца\n",
    "    df[column].fillna(median_value, inplace=True)\n",
    "#проверяем\n",
    "df['ceiling_height'].isna().sum()"
   ]
  },
  {
   "cell_type": "markdown",
   "metadata": {},
   "source": [
    "<div class=\"alert alert-success\" style=\"border-radius: 10px; box-shadow: 2px 2px 2px; border: 1px solid; padding: 10px \">\n",
    "<b>Комментарий ревьюера v.2</b> \n",
    "    \n",
    "👍 Верно. Потолки это довольно стандартизированная величина, поэтому пропуски можно безболезненно заменить их медианой.\n",
    "</div>"
   ]
  },
  {
   "cell_type": "code",
   "execution_count": 12,
   "metadata": {
    "colab": {
     "base_uri": "https://localhost:8080/"
    },
    "id": "q0S7rf09XSTE",
    "outputId": "630c94ec-f9ea-44a5-90c1-38cbc73a00c8"
   },
   "outputs": [
    {
     "data": {
      "text/plain": [
       "total_images                0\n",
       "last_price                  0\n",
       "total_area                  0\n",
       "first_day_exposition        0\n",
       "rooms                       0\n",
       "ceiling_height              0\n",
       "floors_total                0\n",
       "living_area                 0\n",
       "floor                       0\n",
       "is_apartment            20924\n",
       "studio                      0\n",
       "open_plan                   0\n",
       "kitchen_area                0\n",
       "balcony                     0\n",
       "locality_name              49\n",
       "airports_nearest            0\n",
       "cityCenters_nearest         0\n",
       "parks_around3000            0\n",
       "parks_nearest               0\n",
       "ponds_around3000            0\n",
       "ponds_nearest               0\n",
       "days_exposition          3181\n",
       "dtype: int64"
      ]
     },
     "execution_count": 12,
     "metadata": {},
     "output_type": "execute_result"
    }
   ],
   "source": [
    "# Замняем Nan на 0\n",
    "for column in ['cityCenters_nearest', 'balcony', 'floors_total',\n",
    "               'rooms', 'ponds_around3000', 'ponds_nearest', 'parks_around3000', 'parks_nearest', 'airports_nearest']:\n",
    "    df[column].fillna(0, inplace=True)\n",
    "df.isna().sum()"
   ]
  },
  {
   "cell_type": "markdown",
   "metadata": {},
   "source": [
    "<div class=\"alert alert-success\" style=\"border-radius: 10px; box-shadow: 2px 2px 2px; border: 1px solid; padding: 10px \">\n",
    "<b>Комментарий ревьюера v.2</b> \n",
    "    \n",
    "👍 \n",
    "Согласен с балконами\n",
    "</div>"
   ]
  },
  {
   "cell_type": "markdown",
   "metadata": {},
   "source": [
    "<div class=\"alert alert-warning\" style=\"border-radius: 10px; box-shadow: 2px 2px 2px; border: 1px solid; padding: 10px \">\n",
    "<b>Комментарий ревьюера v.2</b> \n",
    "    \n",
    "📝 \n",
    "Что касается остальных столбцов: \n",
    "    \n",
    "* floors_total - доля пропусков менее 5% и мы вполне можем их удалить.\n",
    "    \n",
    "* days_exposition - дни экспозиции я бы вообще не заполнял, тк признак далее используется, а твое заполнение по сути обязует тебя отбрасывать записи при подсчете показателей.\n",
    "    \n",
    "* Картография - картографию я бы не трогал, тк вероятно расстояние автоматически не подсчиталось до объектов, или может там нет парков прудов и прочего. Как вариант конечно можно было провести группировку по населенному пункту с измерением среднего показателя, далее заполнить соответствующим значением, но не думаю, что мы бы много записей спасли\n",
    "</div>"
   ]
  },
  {
   "cell_type": "code",
   "execution_count": 13,
   "metadata": {
    "colab": {
     "base_uri": "https://localhost:8080/"
    },
    "id": "sPDJnHi1YvOR",
    "outputId": "6fe4cd1a-5906-4468-eba1-a54c53506b68"
   },
   "outputs": [
    {
     "data": {
      "text/plain": [
       "365"
      ]
     },
     "execution_count": 13,
     "metadata": {},
     "output_type": "execute_result"
    }
   ],
   "source": [
    "# Заменяем пустые значения на False\n",
    "df['is_apartment'] = df['is_apartment'].fillna(False)\n",
    "len(df['locality_name'].unique())\n"
   ]
  },
  {
   "cell_type": "code",
   "execution_count": 14,
   "metadata": {
    "colab": {
     "base_uri": "https://localhost:8080/"
    },
    "id": "BCsYSThmZP3N",
    "outputId": "27138fd2-61e1-45e9-90ce-5967762a0981"
   },
   "outputs": [
    {
     "data": {
      "text/plain": [
       "335"
      ]
     },
     "execution_count": 14,
     "metadata": {},
     "output_type": "execute_result"
    }
   ],
   "source": [
    "df['locality_name'] = df['locality_name'].fillna('')\n",
    "df['locality_name'] = df['locality_name'].str.lower()\n",
    "df = df.apply(lambda x: x.replace({'поселок' : 'посёлок',\n",
    "                                   'городской посёлок' : 'посёлок',\n",
    "                                   'посёлок городского типа' : 'посёлок',\n",
    "                                   'коттеджный поселок' : 'посёлок',\n",
    "                                   'посёлок при железнодорожной станции' : 'посёлок станции'}, regex=True))\n",
    "len(df['locality_name'].unique())"
   ]
  },
  {
   "cell_type": "markdown",
   "metadata": {},
   "source": [
    "<div class=\"alert alert-success\" style=\"border-radius: 10px; box-shadow: 2px 2px 2px; border: 1px solid; padding: 10px \">\n",
    "<b>Комментарий ревьюера v.2</b> \n",
    "    \n",
    "👍 \n",
    "Хороший подход\n",
    "</div>"
   ]
  },
  {
   "cell_type": "code",
   "execution_count": 15,
   "metadata": {
    "colab": {
     "base_uri": "https://localhost:8080/"
    },
    "id": "J4h59FJBcxE6",
    "outputId": "bcc985fe-54be-448f-96e8-5338f3fc129b"
   },
   "outputs": [
    {
     "data": {
      "text/plain": [
       "array(['санкт-петербург', 'посёлок шушары', 'посёлок янино-1',\n",
       "       'посёлок парголово', 'посёлок мурино', 'ломоносов', 'сертолово',\n",
       "       'петергоф', 'пушкин', 'деревня кудрово', 'коммунар', 'колпино',\n",
       "       'посёлок городского типа красный бор', 'гатчина',\n",
       "       'деревня фёдоровское', 'выборг', 'кронштадт', 'кировск',\n",
       "       'деревня новое девяткино', 'посёлок металлострой',\n",
       "       'посёлок лебяжье', 'посёлок сиверский', 'посёлок молодцово',\n",
       "       'посёлок городского типа кузьмоловский',\n",
       "       'садовое товарищество новая ропша', 'павловск',\n",
       "       'деревня пикколово', 'всеволожск', 'волхов', 'кингисепп',\n",
       "       'приозерск', 'сестрорецк', 'деревня куттузи', 'посёлок аннино',\n",
       "       'посёлок городского типа ефимовский', 'посёлок плодовое',\n",
       "       'деревня заклинье', 'посёлок торковичи', 'посёлок первомайское',\n",
       "       'красное село', 'посёлок понтонный', 'сясьстрой', 'деревня старая',\n",
       "       'деревня лесколово', 'посёлок новый свет', 'сланцы',\n",
       "       'село путилово', 'ивангород', 'мурино', 'шлиссельбург',\n",
       "       'никольское', 'зеленогорск', 'сосновый бор', 'деревня оржицы',\n",
       "       'деревня кальтино', 'кудрово', 'посёлок романовка',\n",
       "       'посёлок бугры', 'посёлок городского типа рощино', 'кириши',\n",
       "       'луга', 'волосово', 'отрадное', 'село павлово', 'посёлок оредеж',\n",
       "       'село копорье', 'посёлок красный бор', 'посёлок молодёжное',\n",
       "       'тихвин', 'посёлок победа', 'деревня нурма',\n",
       "       'посёлок городского типа синявино', 'тосно',\n",
       "       'посёлок кузьмоловский', 'посёлок стрельна', 'бокситогорск',\n",
       "       'посёлок александровская', 'деревня лопухинка', 'пикалёво',\n",
       "       'посёлок терволово', 'посёлок городского типа советский',\n",
       "       'подпорожье', 'посёлок петровское', 'посёлок токсово',\n",
       "       'посёлок сельцо', 'посёлок вырица', 'деревня кипень',\n",
       "       'деревня келози', 'деревня вартемяги', 'посёлок тельмана',\n",
       "       'посёлок севастьяново', 'городской посёлок большая ижора', '',\n",
       "       'посёлок павлово', 'деревня агалатово', 'посёлок новогорелово',\n",
       "       'посёлок лесогорский', 'деревня лаголово', 'посёлок цвелодубово',\n",
       "       'посёлок городского типа рахья', 'посёлок городского типа вырица',\n",
       "       'деревня белогорка', 'посёлок заводской', 'посёлок новоселье',\n",
       "       'деревня большие колпаны', 'деревня горбунки', 'деревня батово',\n",
       "       'деревня заневка', 'деревня иссад', 'приморск',\n",
       "       'посёлок фёдоровское', 'деревня мистолово', 'новая ладога',\n",
       "       'посёлок зимитицы', 'посёлок барышево', 'деревня разметелево',\n",
       "       'посёлок городского типа имени свердлова', 'деревня пеники',\n",
       "       'посёлок рябово', 'деревня пудомяги', 'посёлок станции корнево',\n",
       "       'деревня низино', 'деревня бегуницы', 'посёлок поляны',\n",
       "       'посёлок мга', 'посёлок елизаветино', 'посёлок кузнечное',\n",
       "       'деревня колтуши', 'посёлок запорожское', 'посёлок рощино',\n",
       "       'деревня гостилицы', 'деревня малое карлино',\n",
       "       'посёлок мичуринское', 'посёлок имени морозова',\n",
       "       'посёлок песочный', 'посёлок сосново', 'деревня аро',\n",
       "       'посёлок ильичёво', 'посёлок тайцы', 'деревня малое верево',\n",
       "       'деревня извара', 'посёлок станции вещево', 'село паша',\n",
       "       'деревня калитино', 'посёлок ульяновка', 'деревня чудской бор',\n",
       "       'посёлок городского типа дубровка', 'деревня мины',\n",
       "       'посёлок войсковицы', 'посёлок имени свердлова', 'деревня коркино',\n",
       "       'посёлок ропша', 'посёлок городского типа приладожский',\n",
       "       'посёлок щеглово', 'посёлок гаврилово', 'лодейное поле',\n",
       "       'деревня рабитицы', 'посёлок городского типа никольский',\n",
       "       'деревня кузьмолово', 'деревня малые колпаны',\n",
       "       'посёлок петро-славянка', 'посёлок назия', 'посёлок репино',\n",
       "       'посёлок углово', 'посёлок старая малукса',\n",
       "       'садовое товарищество рахья', 'деревня меньково',\n",
       "       'деревня старые бегуницы', 'посёлок сапёрный', 'посёлок семрино',\n",
       "       'посёлок глажево', 'посёлок кобринское', 'деревня гарболово',\n",
       "       'деревня юкки', 'посёлок станции приветнинское',\n",
       "       'деревня мануйлово', 'деревня пчева', 'посёлок цвылёво',\n",
       "       'посёлок мельниково', 'посёлок пудость', 'посёлок усть-луга',\n",
       "       'светогорск', 'любань', 'посёлок селезнёво',\n",
       "       'посёлок городского типа рябово', 'каменногорск', 'деревня кривко',\n",
       "       'посёлок глебычево', 'деревня парицы', 'посёлок жилпосёлок',\n",
       "       'городской посёлок янино-1', 'посёлок войскорово',\n",
       "       'село никольское', 'посёлок стеклянный', 'посёлок важины',\n",
       "       'посёлок мыза-ивановка', 'село русско-высоцкое',\n",
       "       'посёлок городского типа лебяжье',\n",
       "       'посёлок городского типа форносово', 'село старая ладога',\n",
       "       'посёлок житково', 'посёлок виллози', 'деревня лампово',\n",
       "       'деревня шпаньково', 'деревня лаврики', 'посёлок сумино',\n",
       "       'посёлок возрождение', 'деревня старосиверская',\n",
       "       'посёлок кикерино', 'деревня старое хинколово',\n",
       "       'посёлок пригородный', 'посёлок торфяное', 'посёлок будогощь',\n",
       "       'посёлок суходолье', 'посёлок красная долина', 'деревня хапо-ое',\n",
       "       'посёлок городского типа дружная горка', 'посёлок лисий нос',\n",
       "       'деревня яльгелево', 'село рождествено', 'деревня старополье',\n",
       "       'посёлок левашово', 'деревня сяськелево', 'деревня камышовка',\n",
       "       'садоводческое некоммерческое товарищество лесная поляна',\n",
       "       'деревня хязельки', 'посёлок жилгородок', 'деревня ялгино',\n",
       "       'посёлок новый учхоз', 'посёлок гончарово', 'посёлок почап',\n",
       "       'посёлок сапёрное', 'посёлок платформа 69-й километр',\n",
       "       'посёлок каложицы', 'деревня фалилеево', 'деревня пельгора',\n",
       "       'посёлок городского типа лесогорский', 'деревня торошковичи',\n",
       "       'посёлок белоостров', 'посёлок алексеевка', 'посёлок серебрянский',\n",
       "       'посёлок лукаши', 'деревня щеглово', 'деревня тарасово',\n",
       "       'посёлок кингисеппский', 'посёлок ушаки', 'деревня котлы',\n",
       "       'деревня сижно', 'деревня торосово', 'посёлок форт красная горка',\n",
       "       'посёлок городского типа токсово', 'деревня новолисино',\n",
       "       'посёлок станции громово', 'деревня глинка',\n",
       "       'посёлок городского типа назия', 'деревня старая пустошь',\n",
       "       'посёлок коммунары', 'посёлок починок', 'посёлок вознесенье',\n",
       "       'деревня разбегаево', 'посёлок гладкое', 'посёлок тёсово-4',\n",
       "       'деревня бор', 'посёлок коробицыно', 'деревня большая вруда',\n",
       "       'деревня курковицы', 'посёлок советский', 'посёлок кобралово',\n",
       "       'деревня суоранда', 'посёлок городского типа кондратьево',\n",
       "       'коттеджный посёлок счастье', 'посёлок любань', 'деревня реброво',\n",
       "       'деревня зимитицы', 'деревня тойворово', 'посёлок семиозерье',\n",
       "       'посёлок лесное', 'посёлок совхозный', 'посёлок ленинское',\n",
       "       'посёлок суйда', 'посёлок форносово', 'деревня нижние осельки',\n",
       "       'посёлок станции свирь', 'посёлок перово', 'высоцк',\n",
       "       'посёлок гарболово', 'село шум', 'посёлок котельский',\n",
       "       'посёлок станции лужайка', 'деревня большая пустомержа',\n",
       "       'посёлок красносельское', 'деревня вахнова кара', 'деревня пижма',\n",
       "       'коттеджный посёлок кивеннапа север', 'посёлок ромашки',\n",
       "       'деревня каськово', 'деревня куровицы', 'посёлок плоское',\n",
       "       'посёлок городского типа большая ижора', 'посёлок кирпичное',\n",
       "       'деревня ям-тесово', 'деревня раздолье', 'деревня терпилицы',\n",
       "       'посёлок шугозеро', 'деревня ваганово', 'посёлок пушное',\n",
       "       'садовое товарищество садко', 'посёлок усть-ижора',\n",
       "       'деревня выскатка', 'посёлок свирьстрой', 'посёлок громово',\n",
       "       'деревня кисельня', 'деревня трубников бор', 'посёлок калитино',\n",
       "       'посёлок высокоключевой', 'садовое товарищество приладожский',\n",
       "       'посёлок пансионат зелёный бор', 'деревня ненимяки',\n",
       "       'деревня снегирёвка', 'деревня рапполово', 'деревня пустынка',\n",
       "       'посёлок рабитицы', 'деревня большой сабск', 'деревня русско',\n",
       "       'деревня лупполово', 'деревня большое рейзино',\n",
       "       'деревня малая романовка', 'посёлок дружноселье', 'посёлок пчевжа',\n",
       "       'посёлок володарское', 'деревня нижняя',\n",
       "       'коттеджный посёлок лесное', 'деревня тихковицы',\n",
       "       'деревня борисова грива', 'посёлок дзержинского'], dtype=object)"
      ]
     },
     "execution_count": 15,
     "metadata": {},
     "output_type": "execute_result"
    }
   ],
   "source": [
    "df['locality_name'].unique()"
   ]
  },
  {
   "cell_type": "code",
   "execution_count": 16,
   "metadata": {
    "id": "b8VGWIw-eyPg"
   },
   "outputs": [],
   "source": [
    "#Переведем все значения в int\n",
    "for column in ['last_price','is_apartment','total_area',\n",
    "         'floors_total','living_area','kitchen_area','days_exposition','balcony',\n",
    "         'airports_nearest','cityCenters_nearest','parks_around3000','parks_nearest',\n",
    "         'ponds_around3000','ponds_nearest']:\n",
    "    df[column] = df[column].astype(int, errors='ignore')"
   ]
  },
  {
   "cell_type": "code",
   "execution_count": 17,
   "metadata": {
    "colab": {
     "base_uri": "https://localhost:8080/"
    },
    "id": "E-gxAjv1fFB3",
    "outputId": "278f3ffa-8323-4a0f-8654-006715d1e370"
   },
   "outputs": [
    {
     "data": {
      "text/plain": [
       "total_images                     int64\n",
       "last_price                       int64\n",
       "total_area                       int64\n",
       "first_day_exposition    datetime64[ns]\n",
       "rooms                            int64\n",
       "ceiling_height                 float64\n",
       "floors_total                     int64\n",
       "living_area                      int64\n",
       "floor                            int64\n",
       "is_apartment                     int64\n",
       "studio                            bool\n",
       "open_plan                         bool\n",
       "kitchen_area                     int64\n",
       "balcony                          int64\n",
       "locality_name                   object\n",
       "airports_nearest                 int64\n",
       "cityCenters_nearest              int64\n",
       "parks_around3000                 int64\n",
       "parks_nearest                    int64\n",
       "ponds_around3000                 int64\n",
       "ponds_nearest                    int64\n",
       "days_exposition                float64\n",
       "dtype: object"
      ]
     },
     "execution_count": 17,
     "metadata": {},
     "output_type": "execute_result"
    }
   ],
   "source": [
    "#Проверим получилось ли у нас поменять типы данных и заполнить пустые значения\n",
    "df.dtypes"
   ]
  },
  {
   "cell_type": "markdown",
   "metadata": {},
   "source": [
    "<div class=\"alert alert-success\" style=\"border-radius: 10px; box-shadow: 2px 2px 2px; border: 1px solid; padding: 10px \">\n",
    "<b>Комментарий ревьюера v.2</b> \n",
    "    \n",
    "👍 \n",
    "С типом данных согласен.\n",
    "</div>"
   ]
  },
  {
   "cell_type": "markdown",
   "metadata": {
    "id": "ydqGtuID39l4"
   },
   "source": [
    "# Вывод\n",
    "\n",
    "\n",
    "*   Перевели там где можно на int\n",
    "*   Почти все пропуски были по данным автоматически получены из геосервисов. Такие пропуски заменили на 0. Но некоторые пропуски исправили с помощью медианной значений.\n",
    "*   Перевели столбец first_day_exposition в тип данных datetime\n",
    "*   Привели к нижнему регистру столбец с названием поселков - locality_name. Убрали обозначения одних и тех же населённых пунктов.\n",
    "*   Так как наши столбцы с данными были многие типа *object* пришлось методом *to_numeric* первести в формат float заменив пустые значения на NaN.\n",
    "*   Пустые значения в балконах заменили на 0\n",
    "*   Так же в столбце is_apartment - добавили значение False\n",
    "\n"
   ]
  },
  {
   "cell_type": "markdown",
   "metadata": {},
   "source": [
    "<div class=\"alert alert-success\" style=\"border-radius: 10px; box-shadow: 2px 2px 2px; border: 1px solid; padding: 10px \">\n",
    "<b>Комментарий ревьюера v.2</b> \n",
    "    \n",
    "👍 \n",
    "В целом не плохая работа в предобработке.\n",
    "</div>"
   ]
  },
  {
   "cell_type": "markdown",
   "metadata": {
    "id": "_52MJIvC54LK"
   },
   "source": [
    "# Шаг 3. Посчитайте и добавьте в таблицу"
   ]
  },
  {
   "cell_type": "code",
   "execution_count": 18,
   "metadata": {
    "id": "VQbnGgZf584A"
   },
   "outputs": [],
   "source": [
    "#цена одного квадратного метра (нужно поделить стоимость объекта на его общую площадь, а затем округлить до двух знаков после запятой);\n",
    "df['price_per_meter'] = (df['last_price']/df['total_area']).round(2)\n"
   ]
  },
  {
   "cell_type": "code",
   "execution_count": 19,
   "metadata": {
    "id": "YQgfQVqV7RD5"
   },
   "outputs": [],
   "source": [
    "#день недели публикации объявления (0 — понедельник, 1 — вторник и так далее);\n",
    "# День недели публикации объявления\n",
    "\n",
    "\n",
    "df['weekday_exposition'] = df['first_day_exposition'].dt.weekday\n",
    "\n",
    "# Месяц публикации объявления\n",
    "df['month_exposition'] = df['first_day_exposition'].dt.month\n",
    "\n",
    "# Год публикации объявления\n",
    "df['year_exposition'] = df['first_day_exposition'].dt.year\n"
   ]
  },
  {
   "cell_type": "markdown",
   "metadata": {},
   "source": [
    "<div class=\"alert alert-warning\" style=\"border-radius: 10px; box-shadow: 2px 2px 2px; border: 1px solid; padding: 10px \">\n",
    "<b>Комментарий ревьюера v.2</b> \n",
    "    \n",
    "📝 \n",
    "На будущее: часто датафреймы содержат данные за разные годы. Чтобы корректно обработать месяцы и не объединить их из разных годов, можно рассмотреть такой метод `astype('datetime64[M]')`. При использовании этого метода не придется ссылаться на `pd.DatetimeIndex`.\n",
    "\n",
    "Рекомендую ознакомиться с этими материалами:\n",
    "\n",
    "[Работа с датами в Python]( https://pythobyte.com/how-to-work-with-dates-and-times-in-python-0a176355/)\n",
    "\n",
    "[Извлечение часов, минут и секунд из numpy datetime64](https://stackoverflow.com/questions/70901855/get-hour-and-minutes-and-seconds-from-numpy-datetime64)\n",
    "\n",
    "Попробуй использовать этот метод, когда агализируешь динамику по неделям, месяцам или годам. \n",
    "    \n",
    "Пример применения:\n",
    "\n",
    "\n",
    "`df['first_day_exposition'].dt.date # конвертация в формат даты\n",
    "df['first_day_exposition'].astype('datetime64[M]')`\n",
    "\n",
    "Если даты в датафрейме из разных годов, то после преобразования месяцы будут отображаться как первый день каждого месяца, например '2019-05-01'.\n",
    "\n",
    "</div>"
   ]
  },
  {
   "cell_type": "code",
   "execution_count": 20,
   "metadata": {
    "id": "pVZQH-J18zWU"
   },
   "outputs": [],
   "source": [
    "#тип этажа квартиры (значения — «первый», «последний», «другой»);\n",
    "df['floor_type'] = np.where(df['floor'] == 1, 'первый', np.where(df['floor'] == df['floors_total'], 'последний', 'другой'))\n"
   ]
  },
  {
   "cell_type": "code",
   "execution_count": 21,
   "metadata": {
    "id": "SjBE8sMn9Cjw"
   },
   "outputs": [],
   "source": [
    "#расстояние до центра города в километрах (переведите из м в км и округлите до ближайших целых значений).\n",
    "df['distance_from_center'] = (df['cityCenters_nearest'] * 1000).round(2)"
   ]
  },
  {
   "cell_type": "code",
   "execution_count": 22,
   "metadata": {
    "colab": {
     "base_uri": "https://localhost:8080/"
    },
    "id": "khFezqfM9xRR",
    "outputId": "acbe6edc-0ea9-43f1-b3f7-4db432725bdb"
   },
   "outputs": [
    {
     "data": {
      "text/plain": [
       "Index(['total_images', 'last_price', 'total_area', 'first_day_exposition',\n",
       "       'rooms', 'ceiling_height', 'floors_total', 'living_area', 'floor',\n",
       "       'is_apartment', 'studio', 'open_plan', 'kitchen_area', 'balcony',\n",
       "       'locality_name', 'airports_nearest', 'cityCenters_nearest',\n",
       "       'parks_around3000', 'parks_nearest', 'ponds_around3000',\n",
       "       'ponds_nearest', 'days_exposition', 'price_per_meter',\n",
       "       'weekday_exposition', 'month_exposition', 'year_exposition',\n",
       "       'floor_type', 'distance_from_center'],\n",
       "      dtype='object')"
      ]
     },
     "execution_count": 22,
     "metadata": {},
     "output_type": "execute_result"
    }
   ],
   "source": [
    "#Проверяем\n",
    "df.columns"
   ]
  },
  {
   "cell_type": "markdown",
   "metadata": {
    "id": "hCCCBbcl-zfR"
   },
   "source": [
    "# Вывод\n",
    "\n",
    "После анализа данных и создания новых столбцов можно сделать следующие выводы:\n",
    "\n",
    "*   Цена за квадратный метр: Мы вычислили цену за квадратный метр для каждой квартиры, что позволяет более точно оценить стоимость жилья и сравнивать цены на квартиры разных размеров и расположения.\n",
    "\n",
    "*   День недели, месяц и год публикации объявления: Добавление этих столбцов позволяет нам анализировать, какие дни, месяцы и годы наиболее популярны для размещения объявлений о продаже квартир.\n",
    "\n",
    "*   Тип этажа квартиры: Созданный столбец указывает на тип этажа каждой квартиры (первый, последний или другой), что может быть важным фактором при выборе жилья.\n",
    "\n",
    "*   Расстояние до центра города в километрах: Мы округлили расстояние до ближайшего центра города до целых километров, что упрощает анализ и сравнение расположения квартир.\n",
    "\n",
    "Эти новые столбцы помогут нам более глубоко изучить данные и выявить интересные закономерности и тенденции, которые могут быть полезными для принятия решений в сфере недвижимости.\n",
    "\n"
   ]
  },
  {
   "cell_type": "markdown",
   "metadata": {},
   "source": [
    "<div class=\"alert alert-success\" style=\"border-radius: 10px; box-shadow: 2px 2px 2px; border: 1px solid; padding: 10px \">\n",
    "<b>Комментарий ревьюера v.2</b> \n",
    "    \n",
    "👍 Отлично! Можем приступать к исследовательскому анализу.\n",
    "</div>"
   ]
  },
  {
   "cell_type": "markdown",
   "metadata": {
    "id": "rQ-0saZvAG-R"
   },
   "source": [
    "# Шаг 4. Проведите исследовательский анализ данных и выполните инструкции:"
   ]
  },
  {
   "cell_type": "code",
   "execution_count": 23,
   "metadata": {
    "colab": {
     "base_uri": "https://localhost:8080/",
     "height": 1000
    },
    "id": "fhKbZ-naAMTW",
    "outputId": "f7829e0f-8bb4-4ccb-d799-66c3fdeeea74"
   },
   "outputs": [
    {
     "data": {
      "text/plain": [
       "array([[<AxesSubplot:title={'center':'total_area'}>,\n",
       "        <AxesSubplot:title={'center':'living_area'}>,\n",
       "        <AxesSubplot:title={'center':'kitchen_area'}>],\n",
       "       [<AxesSubplot:title={'center':'last_price'}>,\n",
       "        <AxesSubplot:title={'center':'rooms'}>,\n",
       "        <AxesSubplot:title={'center':'ceiling_height'}>],\n",
       "       [<AxesSubplot:title={'center':'floors_total'}>,\n",
       "        <AxesSubplot:title={'center':'cityCenters_nearest'}>,\n",
       "        <AxesSubplot:title={'center':'parks_nearest'}>]], dtype=object)"
      ]
     },
     "execution_count": 23,
     "metadata": {},
     "output_type": "execute_result"
    },
    {
     "data": {
      "image/png": "[encoded data removed]",
      "text/plain": [
       "<Figure size 1080x1440 with 9 Axes>"
      ]
     },
     "metadata": {
      "needs_background": "light"
     },
     "output_type": "display_data"
    }
   ],
   "source": [
    "# Изучим параметры объектов и построим отдельные гистограммы для каждого из этих параметров\n",
    "df[['total_area', 'living_area', 'kitchen_area', 'last_price', 'rooms', 'ceiling_height',\n",
    "    'floor_type', 'floors_total', 'cityCenters_nearest', 'parks_nearest']].hist(figsize=(15, 20))"
   ]
  },
  {
   "cell_type": "code",
   "execution_count": 24,
   "metadata": {
    "colab": {
     "base_uri": "https://localhost:8080/",
     "height": 470
    },
    "id": "aqX-mi1aBsQ4",
    "outputId": "f9eeed79-7f2b-4b36-be82-85444a4254d4"
   },
   "outputs": [
    {
     "data": {
      "image/png": "[encoded data removed]",
      "text/plain": [
       "<Figure size 576x360 with 1 Axes>"
      ]
     },
     "metadata": {
      "needs_background": "light"
     },
     "output_type": "display_data"
    },
    {
     "name": "stdout",
     "output_type": "stream",
     "text": [
      "count    23699.000000\n",
      "mean         6.053040\n",
      "std         10.914448\n",
      "min          0.000000\n",
      "25%          3.000000\n",
      "50%          4.000000\n",
      "75%          6.000000\n",
      "max        763.000000\n",
      "Name: last_price, dtype: float64\n"
     ]
    }
   ],
   "source": [
    "#Поиск аномалий с boxplot в столбце last_price\n",
    "plt.figure(figsize=(8, 5))\n",
    "df.boxplot(column='last_price')\n",
    "plt.title('Поиск аномалий в Last_price', fontsize=15)\n",
    "plt.ylim(-1, 20)\n",
    "plt.show()\n",
    "print(df['last_price'].describe())"
   ]
  },
  {
   "cell_type": "code",
   "execution_count": 25,
   "metadata": {},
   "outputs": [
    {
     "data": {
      "image/png": "[encoded data removed]",
      "text/plain": [
       "<Figure size 432x288 with 1 Axes>"
      ]
     },
     "metadata": {
      "needs_background": "light"
     },
     "output_type": "display_data"
    }
   ],
   "source": [
    "plt.hist(df['last_price'], bins=100, range=(1, 9))\n",
    "plt.title('Зависимость квартир в продаже от цены на момент снятия с публикации')\n",
    "plt.xlabel('Цена в млн. руб.')\n",
    "plt.ylabel('Количество квартир')\n",
    "plt.show()"
   ]
  },
  {
   "cell_type": "markdown",
   "metadata": {},
   "source": [
    "Из гисторгаммы следует, что наиболее часто цена объекта составляет 3 - 4 миллниона."
   ]
  },
  {
   "cell_type": "code",
   "execution_count": 26,
   "metadata": {
    "colab": {
     "base_uri": "https://localhost:8080/",
     "height": 470
    },
    "id": "n77cxVsECI-I",
    "outputId": "325461e2-265b-4c95-94a6-2298cac42d8c"
   },
   "outputs": [
    {
     "data": {
      "image/png": "[encoded data removed]",
      "text/plain": [
       "<Figure size 576x360 with 1 Axes>"
      ]
     },
     "metadata": {
      "needs_background": "light"
     },
     "output_type": "display_data"
    },
    {
     "name": "stdout",
     "output_type": "stream",
     "text": [
      "count    23699.000000\n",
      "mean        60.120511\n",
      "std         35.665822\n",
      "min         12.000000\n",
      "25%         40.000000\n",
      "50%         52.000000\n",
      "75%         69.000000\n",
      "max        900.000000\n",
      "Name: total_area, dtype: float64\n"
     ]
    }
   ],
   "source": [
    "\n",
    "plt.figure(figsize=(8, 5))\n",
    "df.boxplot(column='total_area')\n",
    "plt.title('Поиск аномалий в total_area', fontsize=15)\n",
    "plt.ylim(0, 200)\n",
    "plt.show()\n",
    "print(df['total_area'].describe())"
   ]
  },
  {
   "cell_type": "code",
   "execution_count": 27,
   "metadata": {},
   "outputs": [
    {
     "data": {
      "image/png": "[encoded data removed]",
      "text/plain": [
       "<Figure size 432x288 with 1 Axes>"
      ]
     },
     "metadata": {
      "needs_background": "light"
     },
     "output_type": "display_data"
    }
   ],
   "source": [
    "plt.hist(df['total_area'], bins=100, range=(12,100))\n",
    "plt.title('Зависимость квартир в продаже от площади квартир')\n",
    "plt.xlabel('Квадратные метры')\n",
    "plt.ylabel('Количество квартир')\n",
    "plt.show()"
   ]
  },
  {
   "cell_type": "markdown",
   "metadata": {},
   "source": [
    "Вывод:\n",
    "\n",
    "На рынке самое большое предложение квартир с общей площадью от 40 до 69 кв. метров с максимумом около 52 кв. метров."
   ]
  },
  {
   "cell_type": "markdown",
   "metadata": {},
   "source": [
    "<div class=\"alert alert-success\" style=\"border-radius: 10px; box-shadow: 2px 2px 2px; border: 1px solid; padding: 10px \">\n",
    "<b>Комментарий ревьюера v.3</b> \n",
    "    \n",
    "👍 Верно, с большей площадью меньше предложений. Объекты выше 90-100 кв. м - это более дорогой сегмент.\n",
    "</div>"
   ]
  },
  {
   "cell_type": "code",
   "execution_count": 28,
   "metadata": {
    "colab": {
     "base_uri": "https://localhost:8080/",
     "height": 470
    },
    "id": "LpSnN9OlFPOn",
    "outputId": "791c8e1f-342c-4a89-d8ac-e5ac02f9926b"
   },
   "outputs": [
    {
     "data": {
      "image/png": "[encoded data removed]",
      "text/plain": [
       "<Figure size 576x360 with 1 Axes>"
      ]
     },
     "metadata": {
      "needs_background": "light"
     },
     "output_type": "display_data"
    },
    {
     "data": {
      "text/plain": [
       "count    23699.000000\n",
       "mean        33.873497\n",
       "std         21.159664\n",
       "min          2.000000\n",
       "25%         19.000000\n",
       "50%         30.000000\n",
       "75%         41.000000\n",
       "max        409.000000\n",
       "Name: living_area, dtype: float64"
      ]
     },
     "execution_count": 28,
     "metadata": {},
     "output_type": "execute_result"
    }
   ],
   "source": [
    "\n",
    "plt.figure(figsize=(8, 5))\n",
    "df.boxplot(column='living_area')\n",
    "plt.title('Поиск аномалий в living_area', fontsize=15)\n",
    "plt.ylim(0, 100)\n",
    "plt.show()\n",
    "df['living_area'].describe()"
   ]
  },
  {
   "cell_type": "code",
   "execution_count": 29,
   "metadata": {
    "scrolled": true
   },
   "outputs": [
    {
     "data": {
      "image/png": "[encoded data removed]",
      "text/plain": [
       "<Figure size 432x288 with 1 Axes>"
      ]
     },
     "metadata": {
      "needs_background": "light"
     },
     "output_type": "display_data"
    }
   ],
   "source": [
    "plt.hist(df['living_area'], bins=100, range=(12,42))\n",
    "plt.title('Зависимость квартир в продаже от жилой площади')\n",
    "plt.xlabel('Квадратные метры')\n",
    "plt.ylabel('Количество квартир')\n",
    "plt.show()"
   ]
  },
  {
   "cell_type": "markdown",
   "metadata": {},
   "source": [
    "Вывод:\n",
    "\n",
    "Больше всего продают квартир с жилой площадью около 18 кв. м и 30 кв. метров при этом прослеживается спад предложений в средней зоне 23 кв. метра."
   ]
  },
  {
   "cell_type": "code",
   "execution_count": 30,
   "metadata": {
    "colab": {
     "base_uri": "https://localhost:8080/",
     "height": 470
    },
    "id": "gjl1oE-eFgeB",
    "outputId": "eb393af3-8cd0-4845-8192-37e6884aa2a3"
   },
   "outputs": [
    {
     "data": {
      "image/png": "[encoded data removed]",
      "text/plain": [
       "<Figure size 576x360 with 1 Axes>"
      ]
     },
     "metadata": {
      "needs_background": "light"
     },
     "output_type": "display_data"
    },
    {
     "data": {
      "text/plain": [
       "count    23699.000000\n",
       "mean        10.194354\n",
       "std          5.639143\n",
       "min          1.000000\n",
       "25%          7.000000\n",
       "50%          9.000000\n",
       "75%         11.000000\n",
       "max        112.000000\n",
       "Name: kitchen_area, dtype: float64"
      ]
     },
     "execution_count": 30,
     "metadata": {},
     "output_type": "execute_result"
    }
   ],
   "source": [
    "plt.figure(figsize=(8, 5))\n",
    "df.boxplot(column='kitchen_area')\n",
    "plt.title('Поиск аномалий в kitchen_area', fontsize=15)\n",
    "plt.ylim(0, 30)\n",
    "plt.show()\n",
    "df['kitchen_area'].describe()"
   ]
  },
  {
   "cell_type": "code",
   "execution_count": 31,
   "metadata": {},
   "outputs": [
    {
     "data": {
      "image/png": "[encoded data removed]",
      "text/plain": [
       "<Figure size 432x288 with 1 Axes>"
      ]
     },
     "metadata": {
      "needs_background": "light"
     },
     "output_type": "display_data"
    }
   ],
   "source": [
    "plt.hist(df['kitchen_area'], bins=100, range=(4,12))\n",
    "plt.title('Зависимость квартир в продаже от площади кухни')\n",
    "plt.xlabel('Квадратные метры')\n",
    "plt.ylabel('Количество квартир')\n",
    "plt.show()"
   ]
  },
  {
   "cell_type": "markdown",
   "metadata": {},
   "source": [
    "Вывод:\n",
    "\n",
    "Прослеживается тенденция что больше всего предложений с площадью кухни в 6 метров затем 10 и чередом 7,8,9 кв. метров, при этом в анкетах заметны явные всплески на целых числах."
   ]
  },
  {
   "cell_type": "code",
   "execution_count": 32,
   "metadata": {
    "colab": {
     "base_uri": "https://localhost:8080/",
     "height": 470
    },
    "id": "OqdlDaE3Fpqx",
    "outputId": "1f6dfcca-f300-4203-ed6a-c6af058dacdd"
   },
   "outputs": [
    {
     "data": {
      "image/png": "[encoded data removed]",
      "text/plain": [
       "<Figure size 576x360 with 1 Axes>"
      ]
     },
     "metadata": {
      "needs_background": "light"
     },
     "output_type": "display_data"
    }
   ],
   "source": [
    "plt.figure(figsize=(8, 5))\n",
    "df.boxplot(column='ceiling_height')\n",
    "plt.title('Поиск аномалий в ceiling_height', fontsize=15)\n",
    "plt.ylim(2, 3)\n",
    "plt.show()"
   ]
  },
  {
   "cell_type": "code",
   "execution_count": 33,
   "metadata": {},
   "outputs": [
    {
     "data": {
      "image/png": "[encoded data removed]",
      "text/plain": [
       "<Figure size 432x288 with 1 Axes>"
      ]
     },
     "metadata": {
      "needs_background": "light"
     },
     "output_type": "display_data"
    }
   ],
   "source": [
    "plt.hist(df.query('(ceiling_height > 2) & (ceiling_height < 4)')['ceiling_height'], bins=50, range=(2.4,3))\n",
    "plt.title('Зависимость квартир в продаже от высоты потолков')\n",
    "plt.xlabel('Метры')\n",
    "plt.ylabel('Количество квартир')\n",
    "plt.show()"
   ]
  },
  {
   "cell_type": "markdown",
   "metadata": {},
   "source": [
    "Вывод:\n",
    "\n",
    "Среди большинства предложений высота составляет 2.65 метров, далее 2.5, 2.6, 2.7, 2.55 метров."
   ]
  },
  {
   "cell_type": "code",
   "execution_count": 34,
   "metadata": {
    "colab": {
     "base_uri": "https://localhost:8080/",
     "height": 470
    },
    "id": "5jlAYI8qGOT6",
    "outputId": "f7f6ea0a-4bb9-4686-9c0e-c531f7ecd871"
   },
   "outputs": [
    {
     "data": {
      "image/png": "[encoded data removed]",
      "text/plain": [
       "<Figure size 576x360 with 1 Axes>"
      ]
     },
     "metadata": {
      "needs_background": "light"
     },
     "output_type": "display_data"
    },
    {
     "data": {
      "text/plain": [
       "count    23699.000000\n",
       "mean     10886.426896\n",
       "std       9634.613697\n",
       "min          0.000000\n",
       "25%       2242.000000\n",
       "50%      11247.000000\n",
       "75%      15248.500000\n",
       "max      65968.000000\n",
       "Name: cityCenters_nearest, dtype: float64"
      ]
     },
     "execution_count": 34,
     "metadata": {},
     "output_type": "execute_result"
    }
   ],
   "source": [
    "\n",
    "plt.figure(figsize=(8, 5))\n",
    "df.boxplot(column='cityCenters_nearest')\n",
    "plt.title('Поиск аномалий в cityCenters_nearest', fontsize=15)\n",
    "\n",
    "plt.show()\n",
    "df['cityCenters_nearest'].describe()"
   ]
  },
  {
   "cell_type": "code",
   "execution_count": 35,
   "metadata": {},
   "outputs": [
    {
     "data": {
      "image/png": "[encoded data removed]",
      "text/plain": [
       "<Figure size 432x288 with 1 Axes>"
      ]
     },
     "metadata": {
      "needs_background": "light"
     },
     "output_type": "display_data"
    }
   ],
   "source": [
    "plt.hist(df['cityCenters_nearest'], bins=100, range=(100,25000))\n",
    "plt.title('Зависимость квартир в продаже от центра удаленности от центра города')\n",
    "plt.xlabel('Расстояние до центра города (метров)')\n",
    "plt.ylabel('Количество квартир')\n",
    "plt.show()"
   ]
  },
  {
   "cell_type": "markdown",
   "metadata": {},
   "source": [
    "Вывод:\n",
    "\n",
    "Больше всего предложений о продаже в спальных районах на окраинах города (на расстоянии 12000 -15000 метров)), и значительным всплеском на расстоянии в 5000 метров от центра города."
   ]
  },
  {
   "cell_type": "code",
   "execution_count": 36,
   "metadata": {
    "colab": {
     "base_uri": "https://localhost:8080/",
     "height": 470
    },
    "id": "1cKS8IoHGcN9",
    "outputId": "8411da7d-f4f8-408d-d636-c4ed0b77dca0"
   },
   "outputs": [
    {
     "data": {
      "image/png": "[encoded data removed]",
      "text/plain": [
       "<Figure size 576x360 with 1 Axes>"
      ]
     },
     "metadata": {
      "needs_background": "light"
     },
     "output_type": "display_data"
    },
    {
     "data": {
      "text/plain": [
       "count    23699.000000\n",
       "mean       167.315499\n",
       "std        306.709997\n",
       "min          0.000000\n",
       "25%          0.000000\n",
       "50%          0.000000\n",
       "75%        301.000000\n",
       "max       3190.000000\n",
       "Name: parks_nearest, dtype: float64"
      ]
     },
     "execution_count": 36,
     "metadata": {},
     "output_type": "execute_result"
    }
   ],
   "source": [
    "\n",
    "plt.figure(figsize=(8, 5))\n",
    "df.boxplot(column='parks_nearest')\n",
    "plt.title('Поиск аномалий в parks_nearest', fontsize=15)\n",
    "plt.ylim(-10, 800)\n",
    "plt.show()\n",
    "df['parks_nearest'].describe()"
   ]
  },
  {
   "cell_type": "code",
   "execution_count": 37,
   "metadata": {},
   "outputs": [
    {
     "data": {
      "image/png": "[encoded data removed]",
      "text/plain": [
       "<Figure size 432x288 with 1 Axes>"
      ]
     },
     "metadata": {
      "needs_background": "light"
     },
     "output_type": "display_data"
    }
   ],
   "source": [
    "plt.hist(df['parks_nearest'], bins=100, range=(100,800))\n",
    "plt.title('Зависимость квартир в продаже от удаленности от парка')\n",
    "plt.xlabel('Расстояние до марка (метров)')\n",
    "plt.ylabel('Количество квартир')\n",
    "plt.show()"
   ]
  },
  {
   "cell_type": "markdown",
   "metadata": {},
   "source": [
    "Вывод:\n",
    "\n",
    "Количество предложений не сильно зависит от удаленности от ближайшего парка. Среднее расстояние до парка премерно составляет 200 - 700 метров."
   ]
  },
  {
   "cell_type": "code",
   "execution_count": 38,
   "metadata": {
    "colab": {
     "base_uri": "https://localhost:8080/",
     "height": 470
    },
    "id": "QGFmzESoLuuh",
    "outputId": "6ec4e6d3-9891-4c87-c94e-15c14c767685"
   },
   "outputs": [
    {
     "data": {
      "image/png": "[encoded data removed]",
      "text/plain": [
       "<Figure size 576x360 with 1 Axes>"
      ]
     },
     "metadata": {
      "needs_background": "light"
     },
     "output_type": "display_data"
    }
   ],
   "source": [
    "plt.figure(figsize=(8, 5))\n",
    "df.boxplot(column='rooms')\n",
    "plt.title('Поиск аномалий в rooms', fontsize=15)\n",
    "plt.show()\n"
   ]
  },
  {
   "cell_type": "code",
   "execution_count": 39,
   "metadata": {},
   "outputs": [
    {
     "data": {
      "image/png": "[encoded data removed]",
      "text/plain": [
       "<Figure size 432x288 with 1 Axes>"
      ]
     },
     "metadata": {
      "needs_background": "light"
     },
     "output_type": "display_data"
    }
   ],
   "source": [
    "plt.hist(df['rooms'], bins=7, range=(0,7))\n",
    "plt.title('Зависимость квартир в продаже от комнат')\n",
    "plt.xlabel('Количество комнат')\n",
    "plt.ylabel('Количество квартир')\n",
    "plt.show()"
   ]
  },
  {
   "cell_type": "markdown",
   "metadata": {},
   "source": [
    "Вывод\n",
    "\n",
    "Среди предложений больше всего однокомнатных квартир. С увеличением комнат количество предложений снижается почти линейно."
   ]
  },
  {
   "cell_type": "markdown",
   "metadata": {},
   "source": [
    "<div class=\"alert alert-success\" style=\"border-radius: 10px; box-shadow: 2px 2px 2px; border: 1px solid; padding: 10px \">\n",
    "<b>Комментарий ревьюера v.3</b> \n",
    "    \n",
    "👍Верно, однокомнатные популярней по ряду причин: цена(доступней для одиноких людей, а также людям в гражданском браке), рентабельность(покупка с целью продать дороже, а так же сдача в наём для приезжих, студентов и т.д), наследство. \n",
    "</div>"
   ]
  },
  {
   "cell_type": "code",
   "execution_count": 40,
   "metadata": {
    "colab": {
     "base_uri": "https://localhost:8080/",
     "height": 470
    },
    "id": "PcB-ecI3HkYC",
    "outputId": "4be53d9d-04f8-47f9-81f0-eb9ce6cbdef0"
   },
   "outputs": [
    {
     "data": {
      "image/png": "[encoded data removed]",
      "text/plain": [
       "<Figure size 576x360 with 1 Axes>"
      ]
     },
     "metadata": {
      "needs_background": "light"
     },
     "output_type": "display_data"
    },
    {
     "data": {
      "text/plain": [
       "count    23699.000000\n",
       "mean        10.635090\n",
       "std          6.616396\n",
       "min          0.000000\n",
       "25%          5.000000\n",
       "50%          9.000000\n",
       "75%         16.000000\n",
       "max         60.000000\n",
       "Name: floors_total, dtype: float64"
      ]
     },
     "execution_count": 40,
     "metadata": {},
     "output_type": "execute_result"
    }
   ],
   "source": [
    "plt.figure(figsize=(8, 5))\n",
    "df.boxplot(column='floors_total')\n",
    "plt.title('Поиск аномалий в floors_total', fontsize=15)\n",
    "plt.show()\n",
    "df['floors_total'].describe()"
   ]
  },
  {
   "cell_type": "code",
   "execution_count": 41,
   "metadata": {},
   "outputs": [
    {
     "data": {
      "image/png": "[encoded data removed]",
      "text/plain": [
       "<Figure size 432x288 with 1 Axes>"
      ]
     },
     "metadata": {
      "needs_background": "light"
     },
     "output_type": "display_data"
    }
   ],
   "source": [
    "plt.hist(df['floors_total'], bins=100, range=(1,30))\n",
    "plt.title('Зависимость квартир в продаже от общего количество этажей в доме')\n",
    "plt.xlabel('Этаж')\n",
    "plt.ylabel('Количество квартир')\n",
    "plt.show()"
   ]
  },
  {
   "cell_type": "markdown",
   "metadata": {},
   "source": [
    "Вывод:\n",
    "\n",
    "Больше всего предложений о продаже квартир в пятиэтажных домах, а потом в девятиэтажках."
   ]
  },
  {
   "cell_type": "code",
   "execution_count": 42,
   "metadata": {},
   "outputs": [
    {
     "data": {
      "image/png": "[encoded data removed]",
      "text/plain": [
       "<Figure size 720x504 with 1 Axes>"
      ]
     },
     "metadata": {},
     "output_type": "display_data"
    }
   ],
   "source": [
    "df.pivot_table(index='floor_type',values='last_price',aggfunc='count') \\\n",
    "  .plot.pie(y='last_price', figsize=(10,7), label='', title='Диаграмма количественного отношения распределения предложений в зависимости от этажа')\n",
    "\n",
    "plt.show()"
   ]
  },
  {
   "cell_type": "markdown",
   "metadata": {},
   "source": [
    "<div class=\"alert alert-warning\" style=\"border-radius: 10px; box-shadow: 2px 2px 2px; border: 1px solid; padding: 10px \">\n",
    "<b>Комментарий ревьюера v.3</b> \n",
    "    \n",
    "📝 \n",
    "Если мы показываем соотношения на круговой диаграмме, то не забывай, пожалуйста, отображать и сами доли.\n",
    "</div>"
   ]
  },
  {
   "cell_type": "code",
   "execution_count": 43,
   "metadata": {},
   "outputs": [
    {
     "data": {
      "image/png": "[encoded data removed]",
      "text/plain": [
       "<Figure size 360x360 with 1 Axes>"
      ]
     },
     "metadata": {
      "needs_background": "light"
     },
     "output_type": "display_data"
    }
   ],
   "source": [
    "(\n",
    "    df.pivot_table(index='floor_type', values='last_price', aggfunc='median').sort_values(by='last_price', ascending=False)\n",
    "    .plot(grid=True, style='o-', figsize=(5, 5), title='Зависимость цены от этажа расположения квартиры')\n",
    ")\n",
    "plt.xlabel('Расположение квартиры по этажам ')\n",
    "plt.ylabel('Цена')\n",
    "plt.show()"
   ]
  },
  {
   "cell_type": "markdown",
   "metadata": {},
   "source": [
    "Вывод:\n",
    "\n",
    "Менее ценными считаются квартиры на \"Первом\" и \"Последнем\" этаже. На круговой диаграмме заметно, что общее количество предложений \"Первого\" и \"Последнего\" этажа составляет чуть больше 25% от общего количества предложений, значит люди хотят сьехать с этих этажей."
   ]
  },
  {
   "cell_type": "markdown",
   "metadata": {},
   "source": [
    "<div class=\"alert alert-success\" style=\"border-radius: 10px; box-shadow: 2px 2px 2px; border: 1px solid; padding: 10px \">\n",
    "<b>Комментарий ревьюера v.3</b> \n",
    "    \n",
    "👍 Да, чаще всего продают не последний и не первый этажи - такие этажи могут быть проблемными (заглядывают прохожие, холодно, жарко, протекает крыша и т.д.)\n",
    "    \n",
    "Также это связано с этажностью строительства. Первый и последний этажи - это лишь по одному этажу, а группа \"другой\" включает в себя все этажи, кроме первого и последнего. Для 3-этажных домов мы бы увидели равномерное распределение, но строительство заметно выше, чем 3 этажа.\n",
    "</div>"
   ]
  },
  {
   "cell_type": "code",
   "execution_count": 44,
   "metadata": {
    "colab": {
     "base_uri": "https://localhost:8080/",
     "height": 470
    },
    "id": "Tdzp03mCPqw4",
    "outputId": "55daba17-7a57-479d-ef5d-f4f594d0fa67"
   },
   "outputs": [
    {
     "data": {
      "image/png": "[encoded data removed]",
      "text/plain": [
       "<Figure size 576x360 with 1 Axes>"
      ]
     },
     "metadata": {
      "needs_background": "light"
     },
     "output_type": "display_data"
    }
   ],
   "source": [
    "#Поиск аномалий с boxplot в столбце days_exposition\n",
    "plt.figure(figsize=(8, 5))\n",
    "df.boxplot(column='days_exposition')\n",
    "plt.title('Поиск аномалий в days_exposition', fontsize=15)\n",
    "plt.ylim(-10,500)\n",
    "plt.show()"
   ]
  },
  {
   "cell_type": "code",
   "execution_count": 45,
   "metadata": {},
   "outputs": [
    {
     "data": {
      "image/png": "[encoded data removed]",
      "text/plain": [
       "<Figure size 432x288 with 1 Axes>"
      ]
     },
     "metadata": {
      "needs_background": "light"
     },
     "output_type": "display_data"
    }
   ],
   "source": [
    "plt.hist(df['days_exposition'], bins=100, range=(0,250))\n",
    "plt.title('Распределение количества продаж по времени')\n",
    "plt.xlabel('Сколько дней было размещено объявление (от публикации до снятия)')\n",
    "plt.ylabel('Количество объявлений')\n",
    "plt.show()"
   ]
  },
  {
   "cell_type": "code",
   "execution_count": 46,
   "metadata": {
    "colab": {
     "base_uri": "https://localhost:8080/"
    },
    "id": "fS4eSImBQEJK",
    "outputId": "03add2c9-201c-42b9-bf99-915cc4583efb"
   },
   "outputs": [
    {
     "data": {
      "text/plain": [
       "count    20518.000000\n",
       "mean       180.888634\n",
       "std        219.727988\n",
       "min          1.000000\n",
       "25%         45.000000\n",
       "50%         95.000000\n",
       "75%        232.000000\n",
       "max       1580.000000\n",
       "Name: days_exposition, dtype: float64"
      ]
     },
     "execution_count": 46,
     "metadata": {},
     "output_type": "execute_result"
    }
   ],
   "source": [
    "df['days_exposition'].describe()"
   ]
  },
  {
   "cell_type": "markdown",
   "metadata": {},
   "source": [
    "Вывод по времение продажи квартир\n",
    "\n",
    "Среднее значение продажи составляет 180 дня, при этом медианное значение составляет 95 дня, оно более точно характеризует среднее время продажи, так как не зависит от выбрасов и нестандартных значений.\n",
    "\n",
    "В среднем продажа среднестатистичекой квартиры занимает 2-3 месяца в зависимотсти от сопутствующих факторов(площади, цены, удалённости от центра).\n",
    "\n",
    "Быстрыми продажами можно считать продажи состоявшиеся за 45 днней (в первом квартиле), а необычно долгие продажи после 232 дня и более (после 3 квартиля), которые вообще могут быть не проданными."
   ]
  },
  {
   "cell_type": "markdown",
   "metadata": {},
   "source": [
    "<div class=\"alert alert-success\" style=\"border-radius: 10px; box-shadow: 2px 2px 2px; border: 1px solid; padding: 10px \">\n",
    "<b>Комментарий ревьюера v.3</b> \n",
    "    \n",
    "👍 \n",
    "Совершенно верно\n",
    "</div>"
   ]
  },
  {
   "cell_type": "markdown",
   "metadata": {
    "id": "8xw2WQkxGtrc"
   },
   "source": [
    "В общем анализе рынка квартир можно выделить следующие ключевые тенденции:\n",
    "\n",
    "1. **Площадь квартир**: На рынке преобладают предложения квартир с общей площадью от 40 до 69 квадратных метров, при этом наиболее востребованы квартиры с площадью от 18 до 30 квадратных метров. Существует заметный спад предложений в средней зоне площади 23 квадратных метра.\n",
    "\n",
    "2. **Площадь кухни**: Среди предложений наиболее распространены квартиры с кухней площадью 6 квадратных метров, затем следуют 10, 7, 8, 9 квадратных метров. В анкетах наблюдаются значительные всплески предложений на целых числах.\n",
    "\n",
    "3. **Цена квартир**: Из анализа исторических данных следует, что наиболее часто встречающиеся цены на квартиры составляют 3,8 - 4,2 миллиона.\n",
    "\n",
    "4. **Количество комнат**: Среди предложений преобладают однокомнатные квартиры. С увеличением количества комнат количество предложений снижается почти линейно.\n",
    "\n",
    "5. **Высота потолков**: Среди предложений наиболее распространены квартиры с высотой потолков 2,65 метра, затем следуют 2,5, 2.6, 2.7, 2.55 метра.\n",
    "\n",
    "6. **Этажность**: Менее востребованы квартиры на \"первом\" этаже. На круговой диаграмме заметно, что общее количество предложений \"первого\" и \"последнего\" этажа составляет почти 25% от общего количества, что указывает на предпочтение жителей квартир на других этажах.\n",
    "\n",
    "7. **Этажность дома**: Больше всего предложений о продаже квартир в пятиэтажных домах, а затем в девятиэтажках.\n",
    "\n",
    "8. **Расположение**: Больше всего предложений о продаже в спальных районах на окраинах города (на расстоянии 12000 -15000 метров), с значительным всплеском на расстоянии в 5000 метров от центра города.\n",
    "\n",
    "9. **Расстояние до парка**: Количество предложений не сильно зависит от удаленности от ближайшего парка. Среднее расстояние до парка составляет примерно 200 - 700 метров.\n",
    "\n",
    "В заключении, среднестатистическое предложение на рынке квартир представляет собой квартиру в пятиэтажном доме средней площадью 52 квадратных метра с кухней в 6 квадратных метров, высотой потолков 2,65 метра, скорее всего однокомнатная или двухкомнатная с маленькими комнатками, на удалении 13 км от центра города."
   ]
  },
  {
   "cell_type": "markdown",
   "metadata": {},
   "source": [
    "<div class=\"alert alert-danger\" style=\"border-radius: 10px; box-shadow: 2px 2px 2px; border: 1px solid; padding: 10px \">\n",
    "<b>Комментарий ревьюера v.2</b> \n",
    "    \n",
    "✍ \n",
    "Замечания:\n",
    "    \n",
    "* В этой части нам необходимо не только обработать аномалии, но и проанализировать каждый параметр: распределения, а также наши наблюбдения исходя из графиков.\n",
    "    \n",
    "* Построены не все визуализации по параметрам требуемых в ТЗ.\n",
    "    \n",
    "* Быстрые продажи - как я писал в предобработке заглушка мешает корректному расчету быстрой продажи. Ты верно ориентируешься на Q1, но, нам необходимо отфильтровать заглушку, чтобы получить корректный результат.\n",
    "    \n",
    "Дополни, пожалуйста.\n",
    "</div>"
   ]
  },
  {
   "cell_type": "code",
   "execution_count": 47,
   "metadata": {
    "colab": {
     "base_uri": "https://localhost:8080/",
     "height": 583
    },
    "id": "0jB56dLwOXTZ",
    "outputId": "91456de0-fa18-47bb-8e91-13998ec3dc4d"
   },
   "outputs": [
    {
     "data": {
      "text/plain": [
       "Text(0.5, 1.0, 'Как размер площади влияет на цену квартиры')"
      ]
     },
     "execution_count": 47,
     "metadata": {},
     "output_type": "execute_result"
    },
    {
     "data": {
      "image/png": "[encoded data removed]",
      "text/plain": [
       "<Figure size 864x432 with 1 Axes>"
      ]
     },
     "metadata": {
      "needs_background": "light"
     },
     "output_type": "display_data"
    }
   ],
   "source": [
    "#Посмотрим как влияет размер площади на цену квартиры\n",
    "df.plot(y='last_price',x='total_area',kind='scatter', figsize=(12,6))\n",
    "plt.title('Как размер площади влияет на цену квартиры', fontsize=15)"
   ]
  },
  {
   "cell_type": "code",
   "execution_count": 48,
   "metadata": {
    "id": "KwLcL8EDWdPG"
   },
   "outputs": [],
   "source": [
    "#Убираем большие выбросы\n",
    "df = df[(df['last_price'] >= 1) & (df['last_price'] <= 100)]\n"
   ]
  },
  {
   "cell_type": "code",
   "execution_count": 49,
   "metadata": {
    "colab": {
     "base_uri": "https://localhost:8080/",
     "height": 583
    },
    "id": "_t86OtyUlzr4",
    "outputId": "14d899dd-ca08-46be-8010-c289fdab9451"
   },
   "outputs": [
    {
     "data": {
      "text/plain": [
       "Text(0.5, 1.0, 'Как размер площади влияет на цену квартиры')"
      ]
     },
     "execution_count": 49,
     "metadata": {},
     "output_type": "execute_result"
    },
    {
     "data": {
      "image/png": "[encoded data removed]",
      "text/plain": [
       "<Figure size 864x432 with 1 Axes>"
      ]
     },
     "metadata": {
      "needs_background": "light"
     },
     "output_type": "display_data"
    }
   ],
   "source": [
    "df.plot(y='last_price',x='total_area',kind='scatter', figsize=(12,6))\n",
    "plt.title('Как размер площади влияет на цену квартиры', fontsize=15)"
   ]
  },
  {
   "cell_type": "code",
   "execution_count": 50,
   "metadata": {
    "colab": {
     "base_uri": "https://localhost:8080/"
    },
    "id": "ArJ3iGbcl191",
    "outputId": "02fa41b0-ab14-48c1-aa84-2bd53e40c2a8"
   },
   "outputs": [
    {
     "data": {
      "text/plain": [
       "0.7679326177049889"
      ]
     },
     "execution_count": 50,
     "metadata": {},
     "output_type": "execute_result"
    }
   ],
   "source": [
    "# Выводим корреляцию last_price и total_area\n",
    "df['last_price'].corr(df['total_area'])"
   ]
  },
  {
   "cell_type": "markdown",
   "metadata": {
    "id": "Rhf0DwxKHe7O"
   },
   "source": [
    "Корреляция заметная. Видим что чем больше общая площадь квартиры, тем выше цена."
   ]
  },
  {
   "cell_type": "code",
   "execution_count": 51,
   "metadata": {
    "colab": {
     "base_uri": "https://localhost:8080/",
     "height": 584
    },
    "id": "LhZHnFVymAgV",
    "outputId": "ad52ece1-136c-4a0f-80c6-4f3de1f032c7"
   },
   "outputs": [
    {
     "data": {
      "text/plain": [
       "Text(0.5, 1.0, 'Как размер жилой площади влияет на цену квартиры')"
      ]
     },
     "execution_count": 51,
     "metadata": {},
     "output_type": "execute_result"
    },
    {
     "data": {
      "image/png": "[encoded data removed]",
      "text/plain": [
       "<Figure size 864x432 with 1 Axes>"
      ]
     },
     "metadata": {
      "needs_background": "light"
     },
     "output_type": "display_data"
    }
   ],
   "source": [
    "#Посмотрим как влияет размер жилой площади на цену квартиры\n",
    "df.plot(y='last_price',x='living_area',kind='scatter', figsize=(12,6))\n",
    "plt.title('Как размер жилой площади влияет на цену квартиры', fontsize=15)"
   ]
  },
  {
   "cell_type": "code",
   "execution_count": 52,
   "metadata": {
    "colab": {
     "base_uri": "https://localhost:8080/"
    },
    "id": "GY_SnxdGnV0t",
    "outputId": "0b763b8a-8b0f-4298-8106-1c84111328d1"
   },
   "outputs": [
    {
     "data": {
      "text/plain": [
       "0.6399853496817391"
      ]
     },
     "execution_count": 52,
     "metadata": {},
     "output_type": "execute_result"
    }
   ],
   "source": [
    "# Выводим корреляцию last_price и living_area\n",
    "df['last_price'].corr(df['living_area'])"
   ]
  },
  {
   "cell_type": "markdown",
   "metadata": {
    "id": "Ro6f0A39JQyo"
   },
   "source": [
    "Корреляция заметная. Видим что чем больше живая площадь квартиры, тем выше цена."
   ]
  },
  {
   "cell_type": "code",
   "execution_count": 53,
   "metadata": {
    "colab": {
     "base_uri": "https://localhost:8080/",
     "height": 583
    },
    "id": "HO5uxEFUJNcZ",
    "outputId": "f64041cb-29e0-4c60-f0fc-35fc5fba3bb5"
   },
   "outputs": [
    {
     "data": {
      "text/plain": [
       "Text(0.5, 1.0, 'Как размер площади кухни влияет на цену квартиры')"
      ]
     },
     "execution_count": 53,
     "metadata": {},
     "output_type": "execute_result"
    },
    {
     "data": {
      "image/png": "[encoded data removed]",
      "text/plain": [
       "<Figure size 864x432 with 1 Axes>"
      ]
     },
     "metadata": {
      "needs_background": "light"
     },
     "output_type": "display_data"
    }
   ],
   "source": [
    "df.plot(y='last_price',x='kitchen_area',kind='scatter', figsize=(12,6))\n",
    "plt.title('Как размер площади кухни влияет на цену квартиры', fontsize=15)"
   ]
  },
  {
   "cell_type": "code",
   "execution_count": 54,
   "metadata": {
    "colab": {
     "base_uri": "https://localhost:8080/"
    },
    "id": "z5ca3hFwJewO",
    "outputId": "e44359d3-0778-4b57-b295-2be69419aa39"
   },
   "outputs": [
    {
     "data": {
      "text/plain": [
       "0.552129593098679"
      ]
     },
     "execution_count": 54,
     "metadata": {},
     "output_type": "execute_result"
    }
   ],
   "source": [
    "# Выводим корреляцию last_price и kitchen_area\n",
    "df['last_price'].corr(df['kitchen_area'])"
   ]
  },
  {
   "cell_type": "markdown",
   "metadata": {
    "id": "yEdhJtKbJx-t"
   },
   "source": [
    "Корреляция заметная. Видим что чем больше площадь кухни, тем выше цена."
   ]
  },
  {
   "cell_type": "code",
   "execution_count": 55,
   "metadata": {
    "id": "nAGT4F7IOb9-"
   },
   "outputs": [],
   "source": [
    " df = df[(df['rooms'] >= 1) & (df['rooms'] <= 6)]"
   ]
  },
  {
   "cell_type": "code",
   "execution_count": 56,
   "metadata": {
    "colab": {
     "base_uri": "https://localhost:8080/",
     "height": 487
    },
    "id": "Ljpb9KosM4Fd",
    "outputId": "e6c488a8-f71b-4a2c-a268-cf11ae15f4bd"
   },
   "outputs": [
    {
     "data": {
      "image/png": "[encoded data removed]",
      "text/plain": [
       "<Figure size 360x360 with 1 Axes>"
      ]
     },
     "metadata": {
      "needs_background": "light"
     },
     "output_type": "display_data"
    }
   ],
   "source": [
    "(\n",
    "    df.pivot_table(index='rooms', values='last_price')\n",
    "    .plot(grid=True, style='o-', figsize=(5, 5))\n",
    ")\n",
    "plt.title('Зависимость цены от числа комнат')\n",
    "plt.show()"
   ]
  },
  {
   "cell_type": "code",
   "execution_count": 57,
   "metadata": {
    "colab": {
     "base_uri": "https://localhost:8080/"
    },
    "id": "zRG2l7qbWTXD",
    "outputId": "d5b4369b-f103-4889-c70c-38be2366a7b7"
   },
   "outputs": [
    {
     "data": {
      "text/plain": [
       "0.44439519854524595"
      ]
     },
     "execution_count": 57,
     "metadata": {},
     "output_type": "execute_result"
    }
   ],
   "source": [
    "#Посмотрим корреляцию между rooms и price\n",
    "df['rooms'].corr(df['last_price'])"
   ]
  },
  {
   "cell_type": "markdown",
   "metadata": {
    "id": "Aa2rljBUWg97"
   },
   "source": [
    "Корреляция заметная. Видим что чем больше комнат, тем выше цена."
   ]
  },
  {
   "cell_type": "code",
   "execution_count": 58,
   "metadata": {
    "colab": {
     "base_uri": "https://localhost:8080/",
     "height": 487
    },
    "id": "eCtpMq9OJs9s",
    "outputId": "f0eed7fb-cf94-44f8-d737-32396623bb84"
   },
   "outputs": [
    {
     "data": {
      "image/png": "[encoded data removed]",
      "text/plain": [
       "<Figure size 360x360 with 1 Axes>"
      ]
     },
     "metadata": {
      "needs_background": "light"
     },
     "output_type": "display_data"
    }
   ],
   "source": [
    "(\n",
    "    df.pivot_table(index='floor_type', values='last_price')\n",
    "    .plot(grid=True, style='o-', figsize=(5, 5))\n",
    ")\n",
    "plt.title('Зависимость цены типа этажа расположения')\n",
    "plt.show()"
   ]
  },
  {
   "cell_type": "code",
   "execution_count": 59,
   "metadata": {
    "colab": {
     "base_uri": "https://localhost:8080/"
    },
    "id": "zgR0Tm1RKDHZ",
    "outputId": "766c6b13-1745-474d-e1b9-f657609707c4"
   },
   "outputs": [
    {
     "data": {
      "text/plain": [
       "0.03902079401570037"
      ]
     },
     "execution_count": 59,
     "metadata": {},
     "output_type": "execute_result"
    }
   ],
   "source": [
    "#Посмотрим корреляцию между floor и price_per_meter\n",
    "df['floor'].corr(df['last_price'])"
   ]
  },
  {
   "cell_type": "markdown",
   "metadata": {
    "id": "S12Yr0LCW9zE"
   },
   "source": [
    "Квартиры расположенные последних этажах стоят почти одинаково как квартиры расположенные на других этажах. Первый этаж самый дешевый."
   ]
  },
  {
   "cell_type": "code",
   "execution_count": 60,
   "metadata": {
    "colab": {
     "base_uri": "https://localhost:8080/",
     "height": 300
    },
    "id": "al35UlboXUWM",
    "outputId": "b857318a-bc3a-487b-8034-1ce46eac124e"
   },
   "outputs": [
    {
     "data": {
      "text/html": [
       "<div>\n",
       "<style scoped>\n",
       "    .dataframe tbody tr th:only-of-type {\n",
       "        vertical-align: middle;\n",
       "    }\n",
       "\n",
       "    .dataframe tbody tr th {\n",
       "        vertical-align: top;\n",
       "    }\n",
       "\n",
       "    .dataframe thead th {\n",
       "        text-align: right;\n",
       "    }\n",
       "</style>\n",
       "<table border=\"1\" class=\"dataframe\">\n",
       "  <thead>\n",
       "    <tr style=\"text-align: right;\">\n",
       "      <th></th>\n",
       "      <th>last_price</th>\n",
       "    </tr>\n",
       "    <tr>\n",
       "      <th>weekday_exposition</th>\n",
       "      <th></th>\n",
       "    </tr>\n",
       "  </thead>\n",
       "  <tbody>\n",
       "    <tr>\n",
       "      <th>3</th>\n",
       "      <td>5.986396</td>\n",
       "    </tr>\n",
       "    <tr>\n",
       "      <th>2</th>\n",
       "      <td>5.757209</td>\n",
       "    </tr>\n",
       "    <tr>\n",
       "      <th>4</th>\n",
       "      <td>5.736802</td>\n",
       "    </tr>\n",
       "    <tr>\n",
       "      <th>0</th>\n",
       "      <td>5.698646</td>\n",
       "    </tr>\n",
       "    <tr>\n",
       "      <th>1</th>\n",
       "      <td>5.690993</td>\n",
       "    </tr>\n",
       "    <tr>\n",
       "      <th>6</th>\n",
       "      <td>5.676877</td>\n",
       "    </tr>\n",
       "    <tr>\n",
       "      <th>5</th>\n",
       "      <td>5.645178</td>\n",
       "    </tr>\n",
       "  </tbody>\n",
       "</table>\n",
       "</div>"
      ],
      "text/plain": [
       "                    last_price\n",
       "weekday_exposition            \n",
       "3                     5.986396\n",
       "2                     5.757209\n",
       "4                     5.736802\n",
       "0                     5.698646\n",
       "1                     5.690993\n",
       "6                     5.676877\n",
       "5                     5.645178"
      ]
     },
     "execution_count": 60,
     "metadata": {},
     "output_type": "execute_result"
    }
   ],
   "source": [
    "#Заивисит ли цена от дня публикации\n",
    "selling_day=pd.pivot_table(df, index='weekday_exposition', values='last_price',)\n",
    "selling_day.sort_values(by='last_price', ascending=False).reindex()"
   ]
  },
  {
   "cell_type": "code",
   "execution_count": 61,
   "metadata": {
    "colab": {
     "base_uri": "https://localhost:8080/",
     "height": 566
    },
    "id": "w88iXS6OXXfc",
    "outputId": "d1aa242b-401c-471a-806e-6abb857681a8"
   },
   "outputs": [
    {
     "data": {
      "text/plain": [
       "Text(0.5, 1.0, 'Влияние дня недели на цену квартиры')"
      ]
     },
     "execution_count": 61,
     "metadata": {},
     "output_type": "execute_result"
    },
    {
     "data": {
      "image/png": "[encoded data removed]",
      "text/plain": [
       "<Figure size 864x432 with 1 Axes>"
      ]
     },
     "metadata": {
      "needs_background": "light"
     },
     "output_type": "display_data"
    }
   ],
   "source": [
    "#Построим график\n",
    "selling_day.plot(y='last_price',style='o-', grid=True, figsize=(12,6))\n",
    "plt.title('Влияние дня недели на цену квартиры', fontsize=15)"
   ]
  },
  {
   "cell_type": "markdown",
   "metadata": {
    "id": "OFle8bNJYoBL"
   },
   "source": [
    "Из графика видно, что в четверг объявления выкладывают по более высокой цене, а в субботу по более низкой цене."
   ]
  },
  {
   "cell_type": "code",
   "execution_count": 62,
   "metadata": {
    "colab": {
     "base_uri": "https://localhost:8080/",
     "height": 457
    },
    "id": "TI6pjnMdXs9S",
    "outputId": "f821daa7-b4e6-4f29-9d13-9c41deda2afe"
   },
   "outputs": [
    {
     "data": {
      "text/html": [
       "<div>\n",
       "<style scoped>\n",
       "    .dataframe tbody tr th:only-of-type {\n",
       "        vertical-align: middle;\n",
       "    }\n",
       "\n",
       "    .dataframe tbody tr th {\n",
       "        vertical-align: top;\n",
       "    }\n",
       "\n",
       "    .dataframe thead th {\n",
       "        text-align: right;\n",
       "    }\n",
       "</style>\n",
       "<table border=\"1\" class=\"dataframe\">\n",
       "  <thead>\n",
       "    <tr style=\"text-align: right;\">\n",
       "      <th></th>\n",
       "      <th>last_price</th>\n",
       "    </tr>\n",
       "    <tr>\n",
       "      <th>month_exposition</th>\n",
       "      <th></th>\n",
       "    </tr>\n",
       "  </thead>\n",
       "  <tbody>\n",
       "    <tr>\n",
       "      <th>12</th>\n",
       "      <td>6.123364</td>\n",
       "    </tr>\n",
       "    <tr>\n",
       "      <th>1</th>\n",
       "      <td>5.961092</td>\n",
       "    </tr>\n",
       "    <tr>\n",
       "      <th>11</th>\n",
       "      <td>5.895283</td>\n",
       "    </tr>\n",
       "    <tr>\n",
       "      <th>9</th>\n",
       "      <td>5.890674</td>\n",
       "    </tr>\n",
       "    <tr>\n",
       "      <th>5</th>\n",
       "      <td>5.873997</td>\n",
       "    </tr>\n",
       "    <tr>\n",
       "      <th>2</th>\n",
       "      <td>5.815504</td>\n",
       "    </tr>\n",
       "    <tr>\n",
       "      <th>7</th>\n",
       "      <td>5.774272</td>\n",
       "    </tr>\n",
       "    <tr>\n",
       "      <th>8</th>\n",
       "      <td>5.678613</td>\n",
       "    </tr>\n",
       "    <tr>\n",
       "      <th>6</th>\n",
       "      <td>5.667053</td>\n",
       "    </tr>\n",
       "    <tr>\n",
       "      <th>4</th>\n",
       "      <td>5.650923</td>\n",
       "    </tr>\n",
       "    <tr>\n",
       "      <th>3</th>\n",
       "      <td>5.526482</td>\n",
       "    </tr>\n",
       "    <tr>\n",
       "      <th>10</th>\n",
       "      <td>5.465484</td>\n",
       "    </tr>\n",
       "  </tbody>\n",
       "</table>\n",
       "</div>"
      ],
      "text/plain": [
       "                  last_price\n",
       "month_exposition            \n",
       "12                  6.123364\n",
       "1                   5.961092\n",
       "11                  5.895283\n",
       "9                   5.890674\n",
       "5                   5.873997\n",
       "2                   5.815504\n",
       "7                   5.774272\n",
       "8                   5.678613\n",
       "6                   5.667053\n",
       "4                   5.650923\n",
       "3                   5.526482\n",
       "10                  5.465484"
      ]
     },
     "execution_count": 62,
     "metadata": {},
     "output_type": "execute_result"
    }
   ],
   "source": [
    "#Заивисит ли цена от месяца публикации\n",
    "selling_months=pd.pivot_table(df, index='month_exposition', values='last_price',)\n",
    "selling_months.sort_values(by='last_price', ascending=False).reindex()"
   ]
  },
  {
   "cell_type": "code",
   "execution_count": 63,
   "metadata": {
    "colab": {
     "base_uri": "https://localhost:8080/",
     "height": 566
    },
    "id": "RDbbL2K_ZMbk",
    "outputId": "20bce5d5-5fed-40e6-ce63-029271dc5ea6"
   },
   "outputs": [
    {
     "data": {
      "image/png": "[encoded data removed]",
      "text/plain": [
       "<Figure size 864x432 with 1 Axes>"
      ]
     },
     "metadata": {
      "needs_background": "light"
     },
     "output_type": "display_data"
    }
   ],
   "source": [
    "#Построим график\n",
    "selling_months.plot(y='last_price',style='o-', grid=True, figsize=(12,6))\n",
    "plt.title('Влияние месяца на цену квартиры', fontsize=15);"
   ]
  },
  {
   "cell_type": "markdown",
   "metadata": {
    "id": "eERpnvvdZegm"
   },
   "source": [
    "Из графика видно, что в декабре объявления выкладывают по более высокой цене, а в октябре по более низкой цене."
   ]
  },
  {
   "cell_type": "code",
   "execution_count": 64,
   "metadata": {
    "colab": {
     "base_uri": "https://localhost:8080/",
     "height": 269
    },
    "id": "uR3f2h3iZaNp",
    "outputId": "6f90dc0a-ab74-45cf-be83-9a54c21e46b0"
   },
   "outputs": [
    {
     "data": {
      "text/html": [
       "<div>\n",
       "<style scoped>\n",
       "    .dataframe tbody tr th:only-of-type {\n",
       "        vertical-align: middle;\n",
       "    }\n",
       "\n",
       "    .dataframe tbody tr th {\n",
       "        vertical-align: top;\n",
       "    }\n",
       "\n",
       "    .dataframe thead th {\n",
       "        text-align: right;\n",
       "    }\n",
       "</style>\n",
       "<table border=\"1\" class=\"dataframe\">\n",
       "  <thead>\n",
       "    <tr style=\"text-align: right;\">\n",
       "      <th></th>\n",
       "      <th>last_price</th>\n",
       "    </tr>\n",
       "    <tr>\n",
       "      <th>year_exposition</th>\n",
       "      <th></th>\n",
       "    </tr>\n",
       "  </thead>\n",
       "  <tbody>\n",
       "    <tr>\n",
       "      <th>2014</th>\n",
       "      <td>11.627737</td>\n",
       "    </tr>\n",
       "    <tr>\n",
       "      <th>2015</th>\n",
       "      <td>7.387372</td>\n",
       "    </tr>\n",
       "    <tr>\n",
       "      <th>2019</th>\n",
       "      <td>6.028774</td>\n",
       "    </tr>\n",
       "    <tr>\n",
       "      <th>2016</th>\n",
       "      <td>5.897698</td>\n",
       "    </tr>\n",
       "    <tr>\n",
       "      <th>2017</th>\n",
       "      <td>5.675266</td>\n",
       "    </tr>\n",
       "    <tr>\n",
       "      <th>2018</th>\n",
       "      <td>5.378083</td>\n",
       "    </tr>\n",
       "  </tbody>\n",
       "</table>\n",
       "</div>"
      ],
      "text/plain": [
       "                 last_price\n",
       "year_exposition            \n",
       "2014              11.627737\n",
       "2015               7.387372\n",
       "2019               6.028774\n",
       "2016               5.897698\n",
       "2017               5.675266\n",
       "2018               5.378083"
      ]
     },
     "execution_count": 64,
     "metadata": {},
     "output_type": "execute_result"
    }
   ],
   "source": [
    "#Заивисит ли цена от года публикации\n",
    "selling_year=pd.pivot_table(df, index='year_exposition', values='last_price',)\n",
    "selling_year.sort_values(by='last_price', ascending=False).reindex()"
   ]
  },
  {
   "cell_type": "code",
   "execution_count": 65,
   "metadata": {
    "colab": {
     "base_uri": "https://localhost:8080/",
     "height": 566
    },
    "id": "GlDCC38AaI1r",
    "outputId": "f9381f34-6b04-458e-a695-71a87ee5b3e2"
   },
   "outputs": [
    {
     "data": {
      "image/png": "[encoded data removed]",
      "text/plain": [
       "<Figure size 864x432 with 1 Axes>"
      ]
     },
     "metadata": {
      "needs_background": "light"
     },
     "output_type": "display_data"
    }
   ],
   "source": [
    "#Построим график\n",
    "selling_year.plot(y='last_price',style='o-', grid=True, figsize=(12,6))\n",
    "plt.title('Влияние год на цену квартиры', fontsize=15);"
   ]
  },
  {
   "cell_type": "markdown",
   "metadata": {
    "id": "WXC-zKDwaDMB"
   },
   "source": [
    "Из графика видно что в 2014 году квартиры стоили очень дорого. Потом произошел резкий спад в 2015 году и плавно катился вниз. Oднако, 2019 году цены идут вверх."
   ]
  },
  {
   "cell_type": "markdown",
   "metadata": {},
   "source": [
    "<div class=\"alert alert-success\" style=\"border-radius: 10px; box-shadow: 2px 2px 2px; border: 1px solid; padding: 10px \">\n",
    "<b>Комментарий ревьюера v.2</b> \n",
    "    \n",
    "👍 \n",
    "Верная интерпретация полученных данных\n",
    "</div>"
   ]
  },
  {
   "cell_type": "code",
   "execution_count": 66,
   "metadata": {
    "colab": {
     "base_uri": "https://localhost:8080/"
    },
    "id": "x5eZTY7Ua4Wi",
    "outputId": "9f354f54-3701-44a4-de27-7f1280f72713"
   },
   "outputs": [
    {
     "data": {
      "text/plain": [
       "посёлок мурино       529\n",
       "посёлок шушары       436\n",
       "всеволожск           391\n",
       "пушкин               368\n",
       "колпино              337\n",
       "посёлок парголово    322\n",
       "гатчина              306\n",
       "деревня кудрово      283\n",
       "выборг               233\n",
       "петергоф             201\n",
       "Name: locality_name, dtype: int64"
      ]
     },
     "execution_count": 66,
     "metadata": {},
     "output_type": "execute_result"
    }
   ],
   "source": [
    "#Выведем топ 10 с наибольшим количеством объявлений методом value_counts\n",
    "df['locality_name'].value_counts()[1:11]"
   ]
  },
  {
   "cell_type": "code",
   "execution_count": 67,
   "metadata": {
    "id": "-Ky8gdnTbDoU"
   },
   "outputs": [],
   "source": [
    "#Создадим лист, который будем использовать при дальнейшем срезе\n",
    "village_list = [\n",
    "    'посёлок мурино',\n",
    "    'посёлок шушары',\n",
    "    'всеволожск',\n",
    "    'пушкин',\n",
    "    'колпино',\n",
    "    'посёлок парголово',\n",
    "    'гатчина',\n",
    "    'деревня кудрово',\n",
    "    'выборг',\n",
    "    'петергоф'\n",
    "]"
   ]
  },
  {
   "cell_type": "code",
   "execution_count": 68,
   "metadata": {
    "id": "8sAIkRlkbH1x"
   },
   "outputs": [],
   "source": [
    "# С помощью среза оставим только нужные нам строки - содержащие в столбце locality_name нужные нам по листу населенные пункты\n",
    "villagetop10 = df.query('locality_name in @village_list')"
   ]
  },
  {
   "cell_type": "code",
   "execution_count": 69,
   "metadata": {
    "id": "acP3Rpc2bLG-"
   },
   "outputs": [],
   "source": [
    "#Сохраним в переменную price_in_village среднюю цену за квадратный метр на населенный пункт\n",
    "price_in_village = villagetop10.pivot_table(index='locality_name', values='price_per_meter')"
   ]
  },
  {
   "cell_type": "code",
   "execution_count": 70,
   "metadata": {
    "colab": {
     "base_uri": "https://localhost:8080/",
     "height": 394
    },
    "id": "DVrwzh4LbOZx",
    "outputId": "07a3c793-49b8-4f1d-8cd2-e601f1796bfb"
   },
   "outputs": [
    {
     "data": {
      "text/html": [
       "<div>\n",
       "<style scoped>\n",
       "    .dataframe tbody tr th:only-of-type {\n",
       "        vertical-align: middle;\n",
       "    }\n",
       "\n",
       "    .dataframe tbody tr th {\n",
       "        vertical-align: top;\n",
       "    }\n",
       "\n",
       "    .dataframe thead th {\n",
       "        text-align: right;\n",
       "    }\n",
       "</style>\n",
       "<table border=\"1\" class=\"dataframe\">\n",
       "  <thead>\n",
       "    <tr style=\"text-align: right;\">\n",
       "      <th></th>\n",
       "      <th>price_per_meter</th>\n",
       "    </tr>\n",
       "    <tr>\n",
       "      <th>locality_name</th>\n",
       "      <th></th>\n",
       "    </tr>\n",
       "  </thead>\n",
       "  <tbody>\n",
       "    <tr>\n",
       "      <th>пушкин</th>\n",
       "      <td>0.094457</td>\n",
       "    </tr>\n",
       "    <tr>\n",
       "      <th>деревня кудрово</th>\n",
       "      <td>0.081519</td>\n",
       "    </tr>\n",
       "    <tr>\n",
       "      <th>посёлок парголово</th>\n",
       "      <td>0.080124</td>\n",
       "    </tr>\n",
       "    <tr>\n",
       "      <th>петергоф</th>\n",
       "      <td>0.074677</td>\n",
       "    </tr>\n",
       "    <tr>\n",
       "      <th>посёлок мурино</th>\n",
       "      <td>0.073195</td>\n",
       "    </tr>\n",
       "    <tr>\n",
       "      <th>посёлок шушары</th>\n",
       "      <td>0.069014</td>\n",
       "    </tr>\n",
       "    <tr>\n",
       "      <th>колпино</th>\n",
       "      <td>0.065579</td>\n",
       "    </tr>\n",
       "    <tr>\n",
       "      <th>всеволожск</th>\n",
       "      <td>0.059105</td>\n",
       "    </tr>\n",
       "    <tr>\n",
       "      <th>гатчина</th>\n",
       "      <td>0.058333</td>\n",
       "    </tr>\n",
       "    <tr>\n",
       "      <th>выборг</th>\n",
       "      <td>0.049399</td>\n",
       "    </tr>\n",
       "  </tbody>\n",
       "</table>\n",
       "</div>"
      ],
      "text/plain": [
       "                   price_per_meter\n",
       "locality_name                     \n",
       "пушкин                    0.094457\n",
       "деревня кудрово           0.081519\n",
       "посёлок парголово         0.080124\n",
       "петергоф                  0.074677\n",
       "посёлок мурино            0.073195\n",
       "посёлок шушары            0.069014\n",
       "колпино                   0.065579\n",
       "всеволожск                0.059105\n",
       "гатчина                   0.058333\n",
       "выборг                    0.049399"
      ]
     },
     "execution_count": 70,
     "metadata": {},
     "output_type": "execute_result"
    }
   ],
   "source": [
    "#Выведем среднюю цену за квадратный метр, от наибольшего к меньшему\n",
    "price_in_village =price_in_village.sort_values(by='price_per_meter', ascending=False)\n",
    "price_in_village"
   ]
  },
  {
   "cell_type": "code",
   "execution_count": 71,
   "metadata": {
    "colab": {
     "base_uri": "https://localhost:8080/",
     "height": 581
    },
    "id": "oeDO6FYXbQVB",
    "outputId": "16648a1d-a7cb-443d-e382-50a4b867fab5"
   },
   "outputs": [
    {
     "data": {
      "text/plain": [
       "Text(0.5, 1.0, 'Цена за кв.м. в топ 10 населенных пунктах с наибольшим числом объявлений')"
      ]
     },
     "execution_count": 71,
     "metadata": {},
     "output_type": "execute_result"
    },
    {
     "data": {
      "image/png": "[encoded data removed]",
      "text/plain": [
       "<Figure size 864x432 with 1 Axes>"
      ]
     },
     "metadata": {
      "needs_background": "light"
     },
     "output_type": "display_data"
    }
   ],
   "source": [
    "#Построим график\n",
    "price_in_village.plot(y='price_per_meter', grid=True, figsize=(12,6), kind='barh', stacked=True)\n",
    "plt.xlabel('цена за квадратный метр')\n",
    "plt.title('Цена за кв.м. в топ 10 населенных пунктах с наибольшим числом объявлений')"
   ]
  },
  {
   "cell_type": "markdown",
   "metadata": {
    "id": "IT3wgkaFbYxD"
   },
   "source": [
    "\n",
    "Самая высокая цена за квадратный метр жилья зафиксирована в Пушкине и составляет 103 611 рублей. Пушкин известен своим историческим наследием, включая заповедник Царское село, который является частью Всемирного наследия и привлекает множество туристов благодаря своим дворцам и паркам.\n",
    "Самая низкая цена за квадратный метр жилья зафиксирована в Выборге и составляет 58 296 рублей. Вероятно, это связано с его удаленным расположением от Санкт-Петербурга, находясь на расстоянии 121 километра."
   ]
  },
  {
   "cell_type": "markdown",
   "metadata": {},
   "source": [
    "<div class=\"alert alert-success\" style=\"border-radius: 10px; box-shadow: 2px 2px 2px; border: 1px solid; padding: 10px \">\n",
    "<b>Комментарий ревьюера v.2</b> \n",
    "    \n",
    "👍 \n",
    "Таблица верна. Совет: на общие продажи лучше смотреть через призму медианы. Она более устойчива к выбросам.\n",
    "  \n",
    "\n",
    " \n",
    "</div>"
   ]
  },
  {
   "cell_type": "code",
   "execution_count": 72,
   "metadata": {
    "colab": {
     "base_uri": "https://localhost:8080/"
    },
    "id": "EGygroSxbUVx",
    "outputId": "222cc792-4ffb-4279-e515-ae8b8244ebd6"
   },
   "outputs": [
    {
     "data": {
      "text/plain": [
       "count    1.549400e+04\n",
       "mean     1.159991e+07\n",
       "std      4.860890e+06\n",
       "min      0.000000e+00\n",
       "25%      8.370000e+06\n",
       "50%      1.224650e+07\n",
       "75%      1.494875e+07\n",
       "max      2.949300e+07\n",
       "Name: distance_from_center, dtype: float64"
      ]
     },
     "execution_count": 72,
     "metadata": {},
     "output_type": "execute_result"
    }
   ],
   "source": [
    "df.query('locality_name == \"санкт-петербург\"')['distance_from_center'].describe()"
   ]
  },
  {
   "cell_type": "code",
   "execution_count": 73,
   "metadata": {
    "colab": {
     "base_uri": "https://localhost:8080/",
     "height": 504
    },
    "id": "Zt5ZJQ6UcqVg",
    "outputId": "f017e395-5e22-48f6-91a3-049720a59138"
   },
   "outputs": [
    {
     "data": {
      "image/png": "[encoded data removed]",
      "text/plain": [
       "<Figure size 720x360 with 1 Axes>"
      ]
     },
     "metadata": {
      "needs_background": "light"
     },
     "output_type": "display_data"
    },
    {
     "name": "stdout",
     "output_type": "stream",
     "text": [
      "Таблица средней стоимость квартир в зависимости от удаления центра города Санкт-Петербург\n"
     ]
    }
   ],
   "source": [
    "(\n",
    "    df.query('locality_name == \"санкт-петербург\"')\n",
    "    .pivot_table(index='distance_from_center', values='last_price')\n",
    "    .plot(grid=True, style='o-', figsize=(10, 5))\n",
    ")\n",
    "plt.title('Зависимость цены от удаления от центра города в Санкт-Петербурге')\n",
    "plt.xlabel('Расстояние от центра города (километр)')\n",
    "plt.ylabel('Цена (млн. руб.)')\n",
    "plt.show()\n",
    "print('Таблица средней стоимость квартир в зависимости от удаления центра города Санкт-Петербург')\n"
   ]
  },
  {
   "cell_type": "markdown",
   "metadata": {
    "id": "3oh5aTF7lIhk"
   },
   "source": [
    "Самые дорогие квартиры в центре города и их стоимость уменьшается c увеличением расстояния от центра города до 7 километров, далее стоимость не зависит от удаления."
   ]
  },
  {
   "cell_type": "markdown",
   "metadata": {},
   "source": [
    "<div class=\"alert alert-success\" style=\"border-radius: 10px; box-shadow: 2px 2px 2px; border: 1px solid; padding: 10px \">\n",
    "<b>Комментарий ревьюера v.2</b> \n",
    "    \n",
    "👍  Верно, дальше от центра - дешевле квартиры.\n",
    "</div>"
   ]
  },
  {
   "cell_type": "markdown",
   "metadata": {
    "id": "iSjBqBkflS2M"
   },
   "source": [
    "# Общий вывод\n",
    "В процессе анализа объявлений о продаже квартир были проведены следующие этапы и сделаны выводы:\n",
    "\n",
    "1. **Изучение общей информации о данных**:\n",
    "   - В таблице содержится 23699 записей с информацией о квартирах.\n",
    "   - Обнаружены пропущенные значения и некорректные типы данных в нескольких столбцах, что потребовало предварительной обработки данных.\n",
    "   - Отсутствуют явные дубликаты.\n",
    "\n",
    "2. **Предобработка данных**:\n",
    "   - Заполнены пропущенные значения и скорректированы типы данных.\n",
    "   - Добавлены новые столбцы, такие как цена квадратного метра, день недели, месяц и год публикации объявления, а также тип этажа квартиры и расстояние до центра города.\n",
    "\n",
    "3. **Исследовательский анализ данных**:\n",
    "   - Изучены основные параметры и сделаны выводы о типичных характеристиках квартир.\n",
    "   - Проанализировано время продажи квартир, выявлено среднее время продажи и выделены быстрые и долгие продажи.\n",
    "   - Определены факторы, влияющие на общую стоимость квартиры, такие как общая площадь, количество комнат, тип этажа и др.\n",
    "   - Рассчитана средняя цена квадратного метра в различных населенных пунктах с наибольшим числом объявлений.\n",
    "   - Выявлена зависимость средней стоимости квартиры от удаленности от центра Санкт-Петербурга.\n",
    "\n",
    "4. **Формулирование выводов**:\n",
    "   - Наибольшая средняя цена за квадратный метр жилья наблюдается в Пушкине, вероятно, благодаря его историческому наследию и парковым зонам.\n",
    "   - Самая низкая средняя цена за квадратный метр жилья зафиксирована в Выборге, что может быть обусловлено его удаленным расположением от Санкт-Петербурга.\n",
    "   - Квартиры в центре города, как правило, имеют более высокую стоимость, по сравнению с квартирами на окраине.\n",
    "\n",
    "Таким образом, проведен анализ основных параметров объявлений о продаже квартир, выявлены важные зависимости и сделаны выводы о факторах, влияющих на стоимость недвижимости."
   ]
  },
  {
   "cell_type": "markdown",
   "metadata": {},
   "source": [
    "<div class=\"alert alert-success\" style=\"border-radius: 10px; box-shadow: 2px 2px 2px; border: 1px solid; padding: 10px \">\n",
    "<b>Комментарий ревьюера v.2</b> \n",
    "    \n",
    "👍 \n",
    "Выводы понятны и логичны, а самое главное подкреплены выявленными фактами.\n",
    "    \n",
    "Ты очень серьезно подходишь к визуализации.\n",
    "\n",
    "Вот пара ссылок на полезные источники:\n",
    "    \n",
    "* [Как строить красивые графики на Python с Seaborn](https://habr.com/ru/companies/otus/articles/540526/)\n",
    "    \n",
    "* [Seaborn для визуализации данных в Python](https://pythonru.com/biblioteki/seaborn-plot)\n",
    "</div>"
   ]
  },
  {
   "cell_type": "markdown",
   "metadata": {},
   "source": [
    "<div style=\"border:solid blue 3px; padding: 20px\">\n",
    "<div class=\"alert alert-success\">\n",
    "<b>Обратная связь v.1</b> \n",
    "    \n",
    "👋\n",
    "Мадина, замечательная работа, ты мыслишь нестандартно, это отличный навык, который у тебя уже есть, ты последовательна и вдумчива. Твою работу очень интересно читать и проверять.  Я оставил несколько обязательных поправок для тебя и после этого буду готов сразу принять проект. \n",
    "\n",
    "Удачи в доработках, жду! "
   ]
  },
  {
   "cell_type": "markdown",
   "metadata": {},
   "source": [
    "<div style=\"border:solid indigo 3px; padding: 20px\">\n",
    "<div class=\"alert alert-success\">\n",
    "<b>Обратная связь v.2</b> \n",
    "    \n",
    "👋 \n",
    "      \n",
    "Мадина, спасибо тебе за исправления критических моментов, а также спасибо за хорошую работу.\n",
    "    \n",
    "Поздравляю с успешным завершением проекта 🥳 🎉\n",
    "    \n",
    "И желаю успехов в новых работах 😊"
   ]
  }
 ],
 "metadata": {
  "ExecuteTimeLog": [
   {
    "duration": 732,
    "start_time": "2024-03-01T07:37:38.836Z"
   },
   {
    "duration": 324,
    "start_time": "2024-03-01T07:37:39.570Z"
   },
   {
    "duration": 16,
    "start_time": "2024-03-01T07:37:39.896Z"
   },
   {
    "duration": 75,
    "start_time": "2024-03-01T07:37:39.914Z"
   },
   {
    "duration": 9,
    "start_time": "2024-03-01T07:37:39.990Z"
   },
   {
    "duration": 30,
    "start_time": "2024-03-01T07:37:40.000Z"
   },
   {
    "duration": 1849,
    "start_time": "2024-03-01T07:37:40.031Z"
   },
   {
    "duration": 10,
    "start_time": "2024-03-01T07:37:41.882Z"
   },
   {
    "duration": 7,
    "start_time": "2024-03-01T07:37:41.894Z"
   },
   {
    "duration": 12,
    "start_time": "2024-03-01T07:37:41.904Z"
   },
   {
    "duration": 9,
    "start_time": "2024-03-01T07:37:41.917Z"
   },
   {
    "duration": 12,
    "start_time": "2024-03-01T07:37:41.927Z"
   },
   {
    "duration": 7,
    "start_time": "2024-03-01T07:37:41.940Z"
   },
   {
    "duration": 128,
    "start_time": "2024-03-01T07:37:41.982Z"
   },
   {
    "duration": 7,
    "start_time": "2024-03-01T07:37:42.111Z"
   },
   {
    "duration": 13,
    "start_time": "2024-03-01T07:37:42.119Z"
   },
   {
    "duration": 4,
    "start_time": "2024-03-01T07:37:42.133Z"
   },
   {
    "duration": 5,
    "start_time": "2024-03-01T07:37:42.138Z"
   },
   {
    "duration": 38,
    "start_time": "2024-03-01T07:37:42.144Z"
   },
   {
    "duration": 8,
    "start_time": "2024-03-01T07:37:42.183Z"
   },
   {
    "duration": 3,
    "start_time": "2024-03-01T07:37:42.193Z"
   },
   {
    "duration": 6,
    "start_time": "2024-03-01T07:37:42.197Z"
   },
   {
    "duration": 932,
    "start_time": "2024-03-01T07:37:42.205Z"
   },
   {
    "duration": 137,
    "start_time": "2024-03-01T07:37:43.138Z"
   },
   {
    "duration": 191,
    "start_time": "2024-03-01T07:37:43.277Z"
   },
   {
    "duration": 113,
    "start_time": "2024-03-01T07:37:43.469Z"
   },
   {
    "duration": 116,
    "start_time": "2024-03-01T07:37:43.583Z"
   },
   {
    "duration": 115,
    "start_time": "2024-03-01T07:37:43.702Z"
   },
   {
    "duration": 136,
    "start_time": "2024-03-01T07:37:43.818Z"
   },
   {
    "duration": 129,
    "start_time": "2024-03-01T07:37:43.956Z"
   },
   {
    "duration": 142,
    "start_time": "2024-03-01T07:37:44.087Z"
   },
   {
    "duration": 127,
    "start_time": "2024-03-01T07:37:44.231Z"
   },
   {
    "duration": 124,
    "start_time": "2024-03-01T07:37:44.360Z"
   },
   {
    "duration": 122,
    "start_time": "2024-03-01T07:37:44.486Z"
   },
   {
    "duration": 9,
    "start_time": "2024-03-01T07:37:44.610Z"
   },
   {
    "duration": 126,
    "start_time": "2024-03-01T07:37:44.620Z"
   },
   {
    "duration": 38,
    "start_time": "2024-03-01T07:37:44.748Z"
   },
   {
    "duration": 6,
    "start_time": "2024-03-01T07:37:44.788Z"
   },
   {
    "duration": 215,
    "start_time": "2024-03-01T07:37:44.796Z"
   },
   {
    "duration": 11,
    "start_time": "2024-03-01T07:37:45.013Z"
   },
   {
    "duration": 243,
    "start_time": "2024-03-01T07:37:45.025Z"
   },
   {
    "duration": 13,
    "start_time": "2024-03-01T07:37:45.270Z"
   },
   {
    "duration": 268,
    "start_time": "2024-03-01T07:37:45.285Z"
   },
   {
    "duration": 6,
    "start_time": "2024-03-01T07:37:45.554Z"
   },
   {
    "duration": 214,
    "start_time": "2024-03-01T07:37:45.562Z"
   },
   {
    "duration": 7,
    "start_time": "2024-03-01T07:37:45.778Z"
   },
   {
    "duration": 7,
    "start_time": "2024-03-01T07:37:45.787Z"
   },
   {
    "duration": 168,
    "start_time": "2024-03-01T07:37:45.796Z"
   },
   {
    "duration": 16,
    "start_time": "2024-03-01T07:37:45.966Z"
   },
   {
    "duration": 151,
    "start_time": "2024-03-01T07:37:45.984Z"
   },
   {
    "duration": 5,
    "start_time": "2024-03-01T07:37:46.137Z"
   },
   {
    "duration": 45,
    "start_time": "2024-03-01T07:37:46.144Z"
   },
   {
    "duration": 277,
    "start_time": "2024-03-01T07:37:46.191Z"
   },
   {
    "duration": 21,
    "start_time": "2024-03-01T07:37:46.470Z"
   },
   {
    "duration": 177,
    "start_time": "2024-03-01T07:37:46.493Z"
   },
   {
    "duration": 25,
    "start_time": "2024-03-01T07:37:46.672Z"
   },
   {
    "duration": 164,
    "start_time": "2024-03-01T07:37:46.699Z"
   },
   {
    "duration": 9,
    "start_time": "2024-03-01T07:37:46.864Z"
   },
   {
    "duration": 16,
    "start_time": "2024-03-01T07:37:46.874Z"
   },
   {
    "duration": 11,
    "start_time": "2024-03-01T07:37:46.891Z"
   },
   {
    "duration": 14,
    "start_time": "2024-03-01T07:37:46.903Z"
   },
   {
    "duration": 7,
    "start_time": "2024-03-01T07:37:46.919Z"
   },
   {
    "duration": 201,
    "start_time": "2024-03-01T07:37:46.928Z"
   },
   {
    "duration": 13,
    "start_time": "2024-03-01T07:37:47.131Z"
   },
   {
    "duration": 195,
    "start_time": "2024-03-01T07:37:47.145Z"
   },
   {
    "duration": 878,
    "start_time": "2024-03-02T12:12:21.531Z"
   },
   {
    "duration": 192,
    "start_time": "2024-03-02T12:12:22.412Z"
   },
   {
    "duration": 16,
    "start_time": "2024-03-02T12:12:22.606Z"
   },
   {
    "duration": 120,
    "start_time": "2024-03-02T12:12:22.623Z"
   },
   {
    "duration": 9,
    "start_time": "2024-03-02T12:12:22.745Z"
   },
   {
    "duration": 37,
    "start_time": "2024-03-02T12:12:22.756Z"
   },
   {
    "duration": 2083,
    "start_time": "2024-03-02T12:12:22.795Z"
   },
   {
    "duration": 15,
    "start_time": "2024-03-02T12:12:24.880Z"
   },
   {
    "duration": 8,
    "start_time": "2024-03-02T12:12:24.897Z"
   },
   {
    "duration": 10,
    "start_time": "2024-03-02T12:12:24.906Z"
   },
   {
    "duration": 9,
    "start_time": "2024-03-02T12:12:24.918Z"
   },
   {
    "duration": 12,
    "start_time": "2024-03-02T12:12:24.929Z"
   },
   {
    "duration": 43,
    "start_time": "2024-03-02T12:12:24.943Z"
   },
   {
    "duration": 162,
    "start_time": "2024-03-02T12:12:24.989Z"
   },
   {
    "duration": 10,
    "start_time": "2024-03-02T12:12:25.153Z"
   },
   {
    "duration": 29,
    "start_time": "2024-03-02T12:12:25.165Z"
   },
   {
    "duration": 7,
    "start_time": "2024-03-02T12:12:25.196Z"
   },
   {
    "duration": 5,
    "start_time": "2024-03-02T12:12:25.205Z"
   },
   {
    "duration": 19,
    "start_time": "2024-03-02T12:12:25.211Z"
   },
   {
    "duration": 9,
    "start_time": "2024-03-02T12:12:25.232Z"
   },
   {
    "duration": 5,
    "start_time": "2024-03-02T12:12:25.243Z"
   },
   {
    "duration": 32,
    "start_time": "2024-03-02T12:12:25.249Z"
   },
   {
    "duration": 1010,
    "start_time": "2024-03-02T12:12:25.283Z"
   },
   {
    "duration": 153,
    "start_time": "2024-03-02T12:12:26.294Z"
   },
   {
    "duration": 251,
    "start_time": "2024-03-02T12:12:26.449Z"
   },
   {
    "duration": 141,
    "start_time": "2024-03-02T12:12:26.702Z"
   },
   {
    "duration": 157,
    "start_time": "2024-03-02T12:12:26.845Z"
   },
   {
    "duration": 131,
    "start_time": "2024-03-02T12:12:27.004Z"
   },
   {
    "duration": 149,
    "start_time": "2024-03-02T12:12:27.137Z"
   },
   {
    "duration": 145,
    "start_time": "2024-03-02T12:12:27.288Z"
   },
   {
    "duration": 146,
    "start_time": "2024-03-02T12:12:27.434Z"
   },
   {
    "duration": 139,
    "start_time": "2024-03-02T12:12:27.581Z"
   },
   {
    "duration": 140,
    "start_time": "2024-03-02T12:12:27.721Z"
   },
   {
    "duration": 131,
    "start_time": "2024-03-02T12:12:27.863Z"
   },
   {
    "duration": 10,
    "start_time": "2024-03-02T12:12:27.996Z"
   },
   {
    "duration": 141,
    "start_time": "2024-03-02T12:12:28.007Z"
   },
   {
    "duration": 45,
    "start_time": "2024-03-02T12:12:28.150Z"
   },
   {
    "duration": 6,
    "start_time": "2024-03-02T12:12:28.197Z"
   },
   {
    "duration": 245,
    "start_time": "2024-03-02T12:12:28.205Z"
   },
   {
    "duration": 9,
    "start_time": "2024-03-02T12:12:28.451Z"
   },
   {
    "duration": 262,
    "start_time": "2024-03-02T12:12:28.464Z"
   },
   {
    "duration": 5,
    "start_time": "2024-03-02T12:12:28.728Z"
   },
   {
    "duration": 247,
    "start_time": "2024-03-02T12:12:28.735Z"
   },
   {
    "duration": 5,
    "start_time": "2024-03-02T12:12:28.984Z"
   },
   {
    "duration": 241,
    "start_time": "2024-03-02T12:12:28.991Z"
   },
   {
    "duration": 6,
    "start_time": "2024-03-02T12:12:29.234Z"
   },
   {
    "duration": 18,
    "start_time": "2024-03-02T12:12:29.241Z"
   },
   {
    "duration": 177,
    "start_time": "2024-03-02T12:12:29.261Z"
   },
   {
    "duration": 5,
    "start_time": "2024-03-02T12:12:29.440Z"
   },
   {
    "duration": 177,
    "start_time": "2024-03-02T12:12:29.447Z"
   },
   {
    "duration": 6,
    "start_time": "2024-03-02T12:12:29.626Z"
   },
   {
    "duration": 16,
    "start_time": "2024-03-02T12:12:29.633Z"
   },
   {
    "duration": 325,
    "start_time": "2024-03-02T12:12:29.650Z"
   },
   {
    "duration": 14,
    "start_time": "2024-03-02T12:12:29.977Z"
   },
   {
    "duration": 190,
    "start_time": "2024-03-02T12:12:29.992Z"
   },
   {
    "duration": 15,
    "start_time": "2024-03-02T12:12:30.184Z"
   },
   {
    "duration": 376,
    "start_time": "2024-03-02T12:12:30.200Z"
   },
   {
    "duration": 10,
    "start_time": "2024-03-02T12:12:30.580Z"
   },
   {
    "duration": 113,
    "start_time": "2024-03-02T12:12:30.592Z"
   },
   {
    "duration": 112,
    "start_time": "2024-03-02T12:12:30.706Z"
   },
   {
    "duration": 126,
    "start_time": "2024-03-02T12:12:30.820Z"
   },
   {
    "duration": 78,
    "start_time": "2024-03-02T12:12:30.949Z"
   },
   {
    "duration": 308,
    "start_time": "2024-03-02T12:12:31.029Z"
   },
   {
    "duration": 14,
    "start_time": "2024-03-02T12:12:31.339Z"
   },
   {
    "duration": 301,
    "start_time": "2024-03-02T12:12:31.354Z"
   },
   {
    "duration": 64,
    "start_time": "2024-03-02T20:17:06.089Z"
   },
   {
    "duration": 814,
    "start_time": "2024-03-02T20:17:16.937Z"
   },
   {
    "duration": 339,
    "start_time": "2024-03-02T20:17:17.753Z"
   },
   {
    "duration": 15,
    "start_time": "2024-03-02T20:17:18.094Z"
   },
   {
    "duration": 87,
    "start_time": "2024-03-02T20:17:18.111Z"
   },
   {
    "duration": 16,
    "start_time": "2024-03-02T20:17:18.200Z"
   },
   {
    "duration": 24,
    "start_time": "2024-03-02T20:17:18.218Z"
   },
   {
    "duration": 2006,
    "start_time": "2024-03-02T20:17:18.265Z"
   },
   {
    "duration": 12,
    "start_time": "2024-03-02T20:17:20.273Z"
   },
   {
    "duration": 5,
    "start_time": "2024-03-02T20:17:20.288Z"
   },
   {
    "duration": 10,
    "start_time": "2024-03-02T20:17:20.296Z"
   },
   {
    "duration": 9,
    "start_time": "2024-03-02T20:17:20.308Z"
   },
   {
    "duration": 12,
    "start_time": "2024-03-02T20:17:20.319Z"
   },
   {
    "duration": 38,
    "start_time": "2024-03-02T20:17:20.333Z"
   },
   {
    "duration": 147,
    "start_time": "2024-03-02T20:17:20.372Z"
   },
   {
    "duration": 7,
    "start_time": "2024-03-02T20:17:20.521Z"
   },
   {
    "duration": 29,
    "start_time": "2024-03-02T20:17:20.531Z"
   },
   {
    "duration": 5,
    "start_time": "2024-03-02T20:17:20.566Z"
   },
   {
    "duration": 7,
    "start_time": "2024-03-02T20:17:20.573Z"
   },
   {
    "duration": 15,
    "start_time": "2024-03-02T20:17:20.582Z"
   },
   {
    "duration": 7,
    "start_time": "2024-03-02T20:17:20.599Z"
   },
   {
    "duration": 5,
    "start_time": "2024-03-02T20:17:20.607Z"
   },
   {
    "duration": 31,
    "start_time": "2024-03-02T20:17:20.614Z"
   },
   {
    "duration": 990,
    "start_time": "2024-03-02T20:17:20.647Z"
   },
   {
    "duration": 138,
    "start_time": "2024-03-02T20:17:21.639Z"
   },
   {
    "duration": 240,
    "start_time": "2024-03-02T20:17:21.779Z"
   },
   {
    "duration": 116,
    "start_time": "2024-03-02T20:17:22.021Z"
   },
   {
    "duration": 145,
    "start_time": "2024-03-02T20:17:22.138Z"
   },
   {
    "duration": 130,
    "start_time": "2024-03-02T20:17:22.287Z"
   },
   {
    "duration": 139,
    "start_time": "2024-03-02T20:17:22.418Z"
   },
   {
    "duration": 176,
    "start_time": "2024-03-02T20:17:22.558Z"
   },
   {
    "duration": 187,
    "start_time": "2024-03-02T20:17:22.736Z"
   },
   {
    "duration": 147,
    "start_time": "2024-03-02T20:17:22.924Z"
   },
   {
    "duration": 141,
    "start_time": "2024-03-02T20:17:23.073Z"
   },
   {
    "duration": 121,
    "start_time": "2024-03-02T20:17:23.215Z"
   },
   {
    "duration": 249,
    "start_time": "2024-03-02T20:17:23.337Z"
   },
   {
    "duration": 13,
    "start_time": "2024-03-02T20:17:23.588Z"
   },
   {
    "duration": 141,
    "start_time": "2024-03-02T20:17:23.603Z"
   },
   {
    "duration": 38,
    "start_time": "2024-03-02T20:17:23.745Z"
   },
   {
    "duration": 5,
    "start_time": "2024-03-02T20:17:23.785Z"
   },
   {
    "duration": 224,
    "start_time": "2024-03-02T20:17:23.792Z"
   },
   {
    "duration": 11,
    "start_time": "2024-03-02T20:17:24.018Z"
   },
   {
    "duration": 217,
    "start_time": "2024-03-02T20:17:24.031Z"
   },
   {
    "duration": 6,
    "start_time": "2024-03-02T20:17:24.250Z"
   },
   {
    "duration": 331,
    "start_time": "2024-03-02T20:17:24.266Z"
   },
   {
    "duration": 6,
    "start_time": "2024-03-02T20:17:24.599Z"
   },
   {
    "duration": 263,
    "start_time": "2024-03-02T20:17:24.606Z"
   },
   {
    "duration": 5,
    "start_time": "2024-03-02T20:17:24.872Z"
   },
   {
    "duration": 8,
    "start_time": "2024-03-02T20:17:24.879Z"
   },
   {
    "duration": 188,
    "start_time": "2024-03-02T20:17:24.889Z"
   },
   {
    "duration": 6,
    "start_time": "2024-03-02T20:17:25.079Z"
   },
   {
    "duration": 172,
    "start_time": "2024-03-02T20:17:25.087Z"
   },
   {
    "duration": 8,
    "start_time": "2024-03-02T20:17:25.261Z"
   },
   {
    "duration": 20,
    "start_time": "2024-03-02T20:17:25.271Z"
   },
   {
    "duration": 215,
    "start_time": "2024-03-02T20:17:25.293Z"
   },
   {
    "duration": 16,
    "start_time": "2024-03-02T20:17:25.510Z"
   },
   {
    "duration": 179,
    "start_time": "2024-03-02T20:17:25.527Z"
   },
   {
    "duration": 13,
    "start_time": "2024-03-02T20:17:25.708Z"
   },
   {
    "duration": 194,
    "start_time": "2024-03-02T20:17:25.723Z"
   },
   {
    "duration": 16,
    "start_time": "2024-03-02T20:17:25.919Z"
   },
   {
    "duration": 3,
    "start_time": "2024-03-02T20:17:25.940Z"
   },
   {
    "duration": 30,
    "start_time": "2024-03-02T20:17:25.947Z"
   },
   {
    "duration": 17,
    "start_time": "2024-03-02T20:17:25.980Z"
   },
   {
    "duration": 8,
    "start_time": "2024-03-02T20:17:25.999Z"
   },
   {
    "duration": 216,
    "start_time": "2024-03-02T20:17:26.008Z"
   },
   {
    "duration": 13,
    "start_time": "2024-03-02T20:17:26.226Z"
   },
   {
    "duration": 220,
    "start_time": "2024-03-02T20:17:26.242Z"
   },
   {
    "duration": 79,
    "start_time": "2024-03-02T20:23:48.332Z"
   },
   {
    "duration": 175,
    "start_time": "2024-03-02T20:24:16.724Z"
   },
   {
    "duration": 166,
    "start_time": "2024-03-02T20:24:29.562Z"
   },
   {
    "duration": 18,
    "start_time": "2024-03-02T20:26:30.707Z"
   },
   {
    "duration": 163,
    "start_time": "2024-03-02T20:26:40.253Z"
   },
   {
    "duration": 17,
    "start_time": "2024-03-02T20:28:39.425Z"
   },
   {
    "duration": 10,
    "start_time": "2024-03-02T20:28:52.969Z"
   },
   {
    "duration": 1300,
    "start_time": "2024-03-02T20:29:20.604Z"
   },
   {
    "duration": 129,
    "start_time": "2024-03-02T20:30:27.003Z"
   },
   {
    "duration": 261,
    "start_time": "2024-03-02T20:30:45.852Z"
   },
   {
    "duration": 251,
    "start_time": "2024-03-02T20:31:21.608Z"
   },
   {
    "duration": 128,
    "start_time": "2024-03-02T20:33:25.371Z"
   },
   {
    "duration": 261,
    "start_time": "2024-03-02T20:33:28.515Z"
   },
   {
    "duration": 222,
    "start_time": "2024-03-02T20:34:21.070Z"
   },
   {
    "duration": 220,
    "start_time": "2024-03-02T20:34:36.119Z"
   },
   {
    "duration": 253,
    "start_time": "2024-03-02T20:34:44.439Z"
   },
   {
    "duration": 126,
    "start_time": "2024-03-02T20:36:06.461Z"
   },
   {
    "duration": 239,
    "start_time": "2024-03-02T20:36:18.411Z"
   },
   {
    "duration": 249,
    "start_time": "2024-03-02T20:36:49.186Z"
   },
   {
    "duration": 363,
    "start_time": "2024-03-02T20:37:02.581Z"
   },
   {
    "duration": 157,
    "start_time": "2024-03-02T20:37:59.165Z"
   },
   {
    "duration": 143,
    "start_time": "2024-03-02T20:38:43.258Z"
   },
   {
    "duration": 182,
    "start_time": "2024-03-02T20:38:54.814Z"
   },
   {
    "duration": 121,
    "start_time": "2024-03-02T20:40:02.541Z"
   },
   {
    "duration": 129,
    "start_time": "2024-03-02T20:40:17.268Z"
   },
   {
    "duration": 245,
    "start_time": "2024-03-02T20:40:26.444Z"
   },
   {
    "duration": 122,
    "start_time": "2024-03-02T20:41:08.544Z"
   },
   {
    "duration": 118,
    "start_time": "2024-03-02T20:41:22.900Z"
   },
   {
    "duration": 123,
    "start_time": "2024-03-02T20:42:08.473Z"
   },
   {
    "duration": 1067,
    "start_time": "2024-03-02T20:43:12.698Z"
   },
   {
    "duration": 244,
    "start_time": "2024-03-02T20:43:28.366Z"
   },
   {
    "duration": 356,
    "start_time": "2024-03-02T20:43:57.194Z"
   },
   {
    "duration": 135,
    "start_time": "2024-03-02T20:44:30.631Z"
   },
   {
    "duration": 241,
    "start_time": "2024-03-02T20:44:42.216Z"
   },
   {
    "duration": 686,
    "start_time": "2024-03-02T20:49:35.444Z"
   },
   {
    "duration": 127,
    "start_time": "2024-03-02T20:49:36.132Z"
   },
   {
    "duration": 18,
    "start_time": "2024-03-02T20:49:36.261Z"
   },
   {
    "duration": 85,
    "start_time": "2024-03-02T20:49:36.281Z"
   },
   {
    "duration": 10,
    "start_time": "2024-03-02T20:49:36.369Z"
   },
   {
    "duration": 24,
    "start_time": "2024-03-02T20:49:36.381Z"
   },
   {
    "duration": 1908,
    "start_time": "2024-03-02T20:49:36.407Z"
   },
   {
    "duration": 11,
    "start_time": "2024-03-02T20:49:38.316Z"
   },
   {
    "duration": 5,
    "start_time": "2024-03-02T20:49:38.329Z"
   },
   {
    "duration": 9,
    "start_time": "2024-03-02T20:49:38.335Z"
   },
   {
    "duration": 8,
    "start_time": "2024-03-02T20:49:38.345Z"
   },
   {
    "duration": 19,
    "start_time": "2024-03-02T20:49:38.355Z"
   },
   {
    "duration": 8,
    "start_time": "2024-03-02T20:49:38.376Z"
   },
   {
    "duration": 139,
    "start_time": "2024-03-02T20:49:38.386Z"
   },
   {
    "duration": 6,
    "start_time": "2024-03-02T20:49:38.527Z"
   },
   {
    "duration": 30,
    "start_time": "2024-03-02T20:49:38.535Z"
   },
   {
    "duration": 5,
    "start_time": "2024-03-02T20:49:38.567Z"
   },
   {
    "duration": 5,
    "start_time": "2024-03-02T20:49:38.573Z"
   },
   {
    "duration": 14,
    "start_time": "2024-03-02T20:49:38.579Z"
   },
   {
    "duration": 8,
    "start_time": "2024-03-02T20:49:38.594Z"
   },
   {
    "duration": 4,
    "start_time": "2024-03-02T20:49:38.603Z"
   },
   {
    "duration": 6,
    "start_time": "2024-03-02T20:49:38.608Z"
   },
   {
    "duration": 963,
    "start_time": "2024-03-02T20:49:38.616Z"
   },
   {
    "duration": 140,
    "start_time": "2024-03-02T20:49:39.580Z"
   },
   {
    "duration": 345,
    "start_time": "2024-03-02T20:49:39.722Z"
   },
   {
    "duration": 143,
    "start_time": "2024-03-02T20:49:40.069Z"
   },
   {
    "duration": 241,
    "start_time": "2024-03-02T20:49:40.214Z"
   },
   {
    "duration": 131,
    "start_time": "2024-03-02T20:49:40.457Z"
   },
   {
    "duration": 248,
    "start_time": "2024-03-02T20:49:40.589Z"
   },
   {
    "duration": 134,
    "start_time": "2024-03-02T20:49:40.839Z"
   },
   {
    "duration": 261,
    "start_time": "2024-03-02T20:49:40.974Z"
   },
   {
    "duration": 220,
    "start_time": "2024-03-02T20:49:41.237Z"
   },
   {
    "duration": 190,
    "start_time": "2024-03-02T20:49:41.459Z"
   },
   {
    "duration": 133,
    "start_time": "2024-03-02T20:49:41.651Z"
   },
   {
    "duration": 247,
    "start_time": "2024-03-02T20:49:41.785Z"
   },
   {
    "duration": 136,
    "start_time": "2024-03-02T20:49:42.033Z"
   },
   {
    "duration": 249,
    "start_time": "2024-03-02T20:49:42.170Z"
   },
   {
    "duration": 129,
    "start_time": "2024-03-02T20:49:42.421Z"
   },
   {
    "duration": 167,
    "start_time": "2024-03-02T20:49:42.551Z"
   },
   {
    "duration": 232,
    "start_time": "2024-03-02T20:49:42.719Z"
   },
   {
    "duration": 244,
    "start_time": "2024-03-02T20:49:42.954Z"
   },
   {
    "duration": 166,
    "start_time": "2024-03-02T20:49:43.199Z"
   },
   {
    "duration": 151,
    "start_time": "2024-03-02T20:49:43.367Z"
   },
   {
    "duration": 118,
    "start_time": "2024-03-02T20:49:43.520Z"
   },
   {
    "duration": 231,
    "start_time": "2024-03-02T20:49:43.640Z"
   },
   {
    "duration": 8,
    "start_time": "2024-03-02T20:49:43.873Z"
   },
   {
    "duration": 211,
    "start_time": "2024-03-02T20:49:43.883Z"
   },
   {
    "duration": 10,
    "start_time": "2024-03-02T20:49:44.095Z"
   },
   {
    "duration": 220,
    "start_time": "2024-03-02T20:49:44.106Z"
   },
   {
    "duration": 6,
    "start_time": "2024-03-02T20:49:44.328Z"
   },
   {
    "duration": 229,
    "start_time": "2024-03-02T20:49:44.336Z"
   },
   {
    "duration": 4,
    "start_time": "2024-03-02T20:49:44.567Z"
   },
   {
    "duration": 216,
    "start_time": "2024-03-02T20:49:44.573Z"
   },
   {
    "duration": 5,
    "start_time": "2024-03-02T20:49:44.791Z"
   },
   {
    "duration": 22,
    "start_time": "2024-03-02T20:49:44.797Z"
   },
   {
    "duration": 265,
    "start_time": "2024-03-02T20:49:44.821Z"
   },
   {
    "duration": 6,
    "start_time": "2024-03-02T20:49:45.087Z"
   },
   {
    "duration": 176,
    "start_time": "2024-03-02T20:49:45.094Z"
   },
   {
    "duration": 4,
    "start_time": "2024-03-02T20:49:45.272Z"
   },
   {
    "duration": 57,
    "start_time": "2024-03-02T20:49:45.278Z"
   },
   {
    "duration": 236,
    "start_time": "2024-03-02T20:49:45.337Z"
   },
   {
    "duration": 14,
    "start_time": "2024-03-02T20:49:45.574Z"
   },
   {
    "duration": 219,
    "start_time": "2024-03-02T20:49:45.590Z"
   },
   {
    "duration": 16,
    "start_time": "2024-03-02T20:49:45.810Z"
   },
   {
    "duration": 190,
    "start_time": "2024-03-02T20:49:45.827Z"
   },
   {
    "duration": 9,
    "start_time": "2024-03-02T20:49:46.019Z"
   },
   {
    "duration": 14,
    "start_time": "2024-03-02T20:49:46.030Z"
   },
   {
    "duration": 16,
    "start_time": "2024-03-02T20:49:46.046Z"
   },
   {
    "duration": 8,
    "start_time": "2024-03-02T20:49:46.065Z"
   },
   {
    "duration": 22,
    "start_time": "2024-03-02T20:49:46.075Z"
   },
   {
    "duration": 200,
    "start_time": "2024-03-02T20:49:46.099Z"
   },
   {
    "duration": 13,
    "start_time": "2024-03-02T20:49:46.301Z"
   },
   {
    "duration": 209,
    "start_time": "2024-03-02T20:49:46.316Z"
   },
   {
    "duration": 586,
    "start_time": "2024-03-03T05:00:28.299Z"
   },
   {
    "duration": 338,
    "start_time": "2024-03-03T05:00:28.887Z"
   },
   {
    "duration": 13,
    "start_time": "2024-03-03T05:00:29.227Z"
   },
   {
    "duration": 65,
    "start_time": "2024-03-03T05:00:29.241Z"
   },
   {
    "duration": 8,
    "start_time": "2024-03-03T05:00:29.308Z"
   },
   {
    "duration": 26,
    "start_time": "2024-03-03T05:00:29.317Z"
   },
   {
    "duration": 1615,
    "start_time": "2024-03-03T05:00:29.345Z"
   },
   {
    "duration": 11,
    "start_time": "2024-03-03T05:00:30.962Z"
   },
   {
    "duration": 57,
    "start_time": "2024-03-03T05:00:30.975Z"
   },
   {
    "duration": 89,
    "start_time": "2024-03-03T05:00:31.033Z"
   },
   {
    "duration": 132,
    "start_time": "2024-03-03T05:00:31.124Z"
   },
   {
    "duration": 78,
    "start_time": "2024-03-03T05:00:31.258Z"
   },
   {
    "duration": 31,
    "start_time": "2024-03-03T05:00:31.338Z"
   },
   {
    "duration": 160,
    "start_time": "2024-03-03T05:00:31.373Z"
   },
   {
    "duration": 7,
    "start_time": "2024-03-03T05:00:31.535Z"
   },
   {
    "duration": 69,
    "start_time": "2024-03-03T05:00:31.543Z"
   },
   {
    "duration": 37,
    "start_time": "2024-03-03T05:00:31.614Z"
   },
   {
    "duration": 35,
    "start_time": "2024-03-03T05:00:31.653Z"
   },
   {
    "duration": 55,
    "start_time": "2024-03-03T05:00:31.689Z"
   },
   {
    "duration": 30,
    "start_time": "2024-03-03T05:00:31.746Z"
   },
   {
    "duration": 23,
    "start_time": "2024-03-03T05:00:31.777Z"
   },
   {
    "duration": 43,
    "start_time": "2024-03-03T05:00:31.801Z"
   },
   {
    "duration": 821,
    "start_time": "2024-03-03T05:00:31.846Z"
   },
   {
    "duration": 136,
    "start_time": "2024-03-03T05:00:32.669Z"
   },
   {
    "duration": 274,
    "start_time": "2024-03-03T05:00:32.807Z"
   },
   {
    "duration": 140,
    "start_time": "2024-03-03T05:00:33.083Z"
   },
   {
    "duration": 204,
    "start_time": "2024-03-03T05:00:33.224Z"
   },
   {
    "duration": 110,
    "start_time": "2024-03-03T05:00:33.430Z"
   },
   {
    "duration": 203,
    "start_time": "2024-03-03T05:00:33.542Z"
   },
   {
    "duration": 114,
    "start_time": "2024-03-03T05:00:33.747Z"
   },
   {
    "duration": 214,
    "start_time": "2024-03-03T05:00:33.862Z"
   },
   {
    "duration": 187,
    "start_time": "2024-03-03T05:00:34.077Z"
   },
   {
    "duration": 165,
    "start_time": "2024-03-03T05:00:34.266Z"
   },
   {
    "duration": 123,
    "start_time": "2024-03-03T05:00:34.432Z"
   },
   {
    "duration": 210,
    "start_time": "2024-03-03T05:00:34.557Z"
   },
   {
    "duration": 127,
    "start_time": "2024-03-03T05:00:34.769Z"
   },
   {
    "duration": 212,
    "start_time": "2024-03-03T05:00:34.902Z"
   },
   {
    "duration": 130,
    "start_time": "2024-03-03T05:00:35.116Z"
   },
   {
    "duration": 126,
    "start_time": "2024-03-03T05:00:35.248Z"
   },
   {
    "duration": 190,
    "start_time": "2024-03-03T05:00:35.376Z"
   },
   {
    "duration": 199,
    "start_time": "2024-03-03T05:00:35.570Z"
   },
   {
    "duration": 149,
    "start_time": "2024-03-03T05:00:35.771Z"
   },
   {
    "duration": 132,
    "start_time": "2024-03-03T05:00:35.921Z"
   },
   {
    "duration": 111,
    "start_time": "2024-03-03T05:00:36.054Z"
   },
   {
    "duration": 202,
    "start_time": "2024-03-03T05:00:36.166Z"
   },
   {
    "duration": 9,
    "start_time": "2024-03-03T05:00:36.370Z"
   },
   {
    "duration": 198,
    "start_time": "2024-03-03T05:00:36.380Z"
   },
   {
    "duration": 6,
    "start_time": "2024-03-03T05:00:36.579Z"
   },
   {
    "duration": 185,
    "start_time": "2024-03-03T05:00:36.586Z"
   },
   {
    "duration": 4,
    "start_time": "2024-03-03T05:00:36.773Z"
   },
   {
    "duration": 200,
    "start_time": "2024-03-03T05:00:36.779Z"
   },
   {
    "duration": 5,
    "start_time": "2024-03-03T05:00:36.981Z"
   },
   {
    "duration": 210,
    "start_time": "2024-03-03T05:00:36.987Z"
   },
   {
    "duration": 6,
    "start_time": "2024-03-03T05:00:37.199Z"
   },
   {
    "duration": 15,
    "start_time": "2024-03-03T05:00:37.206Z"
   },
   {
    "duration": 212,
    "start_time": "2024-03-03T05:00:37.223Z"
   },
   {
    "duration": 4,
    "start_time": "2024-03-03T05:00:37.437Z"
   },
   {
    "duration": 162,
    "start_time": "2024-03-03T05:00:37.443Z"
   },
   {
    "duration": 5,
    "start_time": "2024-03-03T05:00:37.606Z"
   },
   {
    "duration": 15,
    "start_time": "2024-03-03T05:00:37.612Z"
   },
   {
    "duration": 162,
    "start_time": "2024-03-03T05:00:37.628Z"
   },
   {
    "duration": 19,
    "start_time": "2024-03-03T05:00:37.791Z"
   },
   {
    "duration": 147,
    "start_time": "2024-03-03T05:00:37.812Z"
   },
   {
    "duration": 11,
    "start_time": "2024-03-03T05:00:37.961Z"
   },
   {
    "duration": 147,
    "start_time": "2024-03-03T05:00:37.973Z"
   },
   {
    "duration": 8,
    "start_time": "2024-03-03T05:00:38.122Z"
   },
   {
    "duration": 4,
    "start_time": "2024-03-03T05:00:38.131Z"
   },
   {
    "duration": 10,
    "start_time": "2024-03-03T05:00:38.136Z"
   },
   {
    "duration": 15,
    "start_time": "2024-03-03T05:00:38.147Z"
   },
   {
    "duration": 14,
    "start_time": "2024-03-03T05:00:38.164Z"
   },
   {
    "duration": 179,
    "start_time": "2024-03-03T05:00:38.179Z"
   },
   {
    "duration": 12,
    "start_time": "2024-03-03T05:00:38.359Z"
   },
   {
    "duration": 177,
    "start_time": "2024-03-03T05:00:38.372Z"
   }
  ],
  "colab": {
   "provenance": []
  },
  "kernelspec": {
   "display_name": "Python 3 (ipykernel)",
   "language": "python",
   "name": "python3"
  },
  "language_info": {
   "codemirror_mode": {
    "name": "ipython",
    "version": 3
   },
   "file_extension": ".py",
   "mimetype": "text/x-python",
   "name": "python",
   "nbconvert_exporter": "python",
   "pygments_lexer": "ipython3",
   "version": "3.9.5"
  },
  "toc": {
   "base_numbering": 1,
   "nav_menu": {},
   "number_sections": true,
   "sideBar": true,
   "skip_h1_title": true,
   "title_cell": "Table of Contents",
   "title_sidebar": "Contents",
   "toc_cell": false,
   "toc_position": {},
   "toc_section_display": true,
   "toc_window_display": false
  }
 },
 "nbformat": 4,
 "nbformat_minor": 1
}
