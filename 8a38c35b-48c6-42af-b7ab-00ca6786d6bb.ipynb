{
 "cells": [
  {
   "cell_type": "markdown",
   "metadata": {},
   "source": [
    "<font size=4> Добрый день, Мадина! Меня зовут Алан, будем обмениваться с тобой опытом для успешного прохождения задания! Если не против, предлагаю общаться на ты (иначе дай знать, и перейдем на «вы»). Свои рекомендации буду оформлять в виде комментариев в Markdown ячейках:<br><strong>\n",
    "    <li> <font color='red'> «❌ красный цвет» </font> – важно исправить или внести пояснения\n",
    "    <li> <font color='orange'> «⚠️желтый цвет» </font>  – учесть, но можно не исправлять\n",
    "    <li> <font color='green'> «✔️ зеленый цвет» </font> – все отлично, плюс альтернативные пути решения задачи\n",
    "    <li>   <font color='steelblue'>«синий цвет» </font> - просто текст комментария\n",
    "     </strong>\n",
    "<br> В скобках буду указывать версию комментария. Прошу при внесении правок мои комментарии не удалять, а свои писать в соседних ячейках и выделять удобным цветом. Так коммуникация будет проходить эффективнее 👍.<br>\n",
    "</font>"
   ]
  },
  {
   "cell_type": "code",
   "execution_count": 1,
   "metadata": {
    "id": "bJkCygWYlVDK"
   },
   "outputs": [],
   "source": [
    "import pandas as pd\n",
    "import matplotlib.pyplot as plt\n",
    "import numpy as np\n",
    "import seaborn as sns\n",
    "import warnings\n",
    "warnings.filterwarnings(\"ignore\", category=FutureWarning)\n",
    "from sklearn.model_selection import train_test_split\n",
    "from sklearn.preprocessing import StandardScaler\n",
    "from sklearn.metrics import mean_squared_error\n",
    "from sklearn.linear_model import LinearRegression\n",
    "RANDOM_STATE = 42\n",
    "TEST_SIZE = 0.25"
   ]
  },
  {
   "cell_type": "markdown",
   "metadata": {
    "id": "EMQ4OuBalZyj"
   },
   "source": [
    "# Описание проекта\n",
    "\n",
    "### Выбор локации для скважины\n",
    "\n",
    "Допустим, мы работаем в добывающей компании «ГлавРосГосНефть». Нужно решить, где бурить новую скважину.\n",
    "\n",
    "Нам предоставлены пробы нефти в трёх регионах: в каждом 10 000 месторождений, где измерили качество нефти и объём её запасов. Построим модель машинного обучения, которая поможет определить регион, где добыча принесёт наибольшую прибыль. Проанализируем возможную прибыль и риски техникой Bootstrap.\n",
    "\n",
    "> Нужно решить, где бурить новую скважину. Построить модель для определения региона, где добыча принесёт наибольшую прибыль. Проанализировать возможную прибыль и риски техникой Bootstrap.\n",
    "\n",
    "**Шаги для выбора локации:**\n",
    "\n",
    "- В избранном регионе ищут месторождения, для каждого определяют значения признаков;\n",
    "- Строят модель и оценивают объём запасов;\n",
    "- Выбирают месторождения с самым высокими оценками значений. Количество месторождений зависит от бюджета компании и стоимости разработки одной скважины;\n",
    "- Прибыль равна суммарной прибыли отобранных месторождений.\n",
    "\n",
    "\n",
    "Описание данных\n",
    "Данные геологоразведки трёх регионов находятся в файлах: \n",
    "/datasets/geo_data_0.csv. Скачать датасет\n",
    "/datasets/geo_data_1.csv. Скачать датасет\n",
    "/datasets/geo_data_2.csv. Скачать датасет\n",
    "id — уникальный идентификатор скважины;\n",
    "f0, f1, f2 — три признака точек (неважно, что они означают, но сами признаки значимы);\n",
    "product — объём запасов в скважине (тыс. баррелей)."
   ]
  },
  {
   "cell_type": "markdown",
   "metadata": {},
   "source": [
    "<div class='alert alert-warning'>⚠️ Вступительную часть многие недооценивают и включают в нее только пару предложений. Вместе с тем прошествии времени оно поможет сориентироваться в работе и восстановить схему своих действий. Поэтому желательно расширить описание\n",
    "\n"
   ]
  },
  {
   "cell_type": "markdown",
   "metadata": {
    "id": "bfMXPG-8mJas"
   },
   "source": [
    "# Загрузка данных"
   ]
  },
  {
   "cell_type": "code",
   "execution_count": 2,
   "metadata": {
    "id": "rUV-m770lzCe"
   },
   "outputs": [],
   "source": [
    "try:\n",
    "    data0 = pd.read_csv('/datasets/geo_data_0.csv')\n",
    "\n",
    "    data1 = pd.read_csv('/datasets/geo_data_1.csv')\n",
    "\n",
    "    data2= pd.read_csv('/datasets/geo_data_2.csv')\n",
    "\n",
    "\n",
    "except:\n",
    "\n",
    "    data0 = pd.read_csv('/content/geo_data_0.csv')\n",
    "\n",
    "    data1 = pd.read_csv('/content/geo_data_1.csv')\n",
    "\n",
    "    data2= pd.read_csv('/content/geo_data_2.csv')"
   ]
  },
  {
   "cell_type": "markdown",
   "metadata": {},
   "source": [
    "<div class='alert alert-success'> ✔️Хорошо, что сгруппировала импорты в одной месте для облегчения читабельности кода. try/except тоже к месту для возможности запуска с сервера и локально.\n",
    "</div>"
   ]
  },
  {
   "cell_type": "code",
   "execution_count": 3,
   "metadata": {
    "id": "vYJjwFqZmjWd"
   },
   "outputs": [],
   "source": [
    "# Функция получения общей информации о датасете, о дубликатах и пропусках.\n",
    "def information(df):\n",
    "    display(df.head());\n",
    "    df.info();\n",
    "    print('\\nКоличество дубликатов:',df.duplicated().sum(),'\\n')\n",
    "    print('Количество пропусков:\\n',df.isna().sum())"
   ]
  },
  {
   "cell_type": "code",
   "execution_count": 4,
   "metadata": {
    "colab": {
     "base_uri": "https://localhost:8080/",
     "height": 588
    },
    "id": "udaUUA5-mn-0",
    "outputId": "ecfc1e13-93c2-4d35-97ae-97ae191c68d2"
   },
   "outputs": [
    {
     "data": {
      "text/html": [
       "<div>\n",
       "<style scoped>\n",
       "    .dataframe tbody tr th:only-of-type {\n",
       "        vertical-align: middle;\n",
       "    }\n",
       "\n",
       "    .dataframe tbody tr th {\n",
       "        vertical-align: top;\n",
       "    }\n",
       "\n",
       "    .dataframe thead th {\n",
       "        text-align: right;\n",
       "    }\n",
       "</style>\n",
       "<table border=\"1\" class=\"dataframe\">\n",
       "  <thead>\n",
       "    <tr style=\"text-align: right;\">\n",
       "      <th></th>\n",
       "      <th>id</th>\n",
       "      <th>f0</th>\n",
       "      <th>f1</th>\n",
       "      <th>f2</th>\n",
       "      <th>product</th>\n",
       "    </tr>\n",
       "  </thead>\n",
       "  <tbody>\n",
       "    <tr>\n",
       "      <th>0</th>\n",
       "      <td>txEyH</td>\n",
       "      <td>0.705745</td>\n",
       "      <td>-0.497823</td>\n",
       "      <td>1.221170</td>\n",
       "      <td>105.280062</td>\n",
       "    </tr>\n",
       "    <tr>\n",
       "      <th>1</th>\n",
       "      <td>2acmU</td>\n",
       "      <td>1.334711</td>\n",
       "      <td>-0.340164</td>\n",
       "      <td>4.365080</td>\n",
       "      <td>73.037750</td>\n",
       "    </tr>\n",
       "    <tr>\n",
       "      <th>2</th>\n",
       "      <td>409Wp</td>\n",
       "      <td>1.022732</td>\n",
       "      <td>0.151990</td>\n",
       "      <td>1.419926</td>\n",
       "      <td>85.265647</td>\n",
       "    </tr>\n",
       "    <tr>\n",
       "      <th>3</th>\n",
       "      <td>iJLyR</td>\n",
       "      <td>-0.032172</td>\n",
       "      <td>0.139033</td>\n",
       "      <td>2.978566</td>\n",
       "      <td>168.620776</td>\n",
       "    </tr>\n",
       "    <tr>\n",
       "      <th>4</th>\n",
       "      <td>Xdl7t</td>\n",
       "      <td>1.988431</td>\n",
       "      <td>0.155413</td>\n",
       "      <td>4.751769</td>\n",
       "      <td>154.036647</td>\n",
       "    </tr>\n",
       "  </tbody>\n",
       "</table>\n",
       "</div>"
      ],
      "text/plain": [
       "      id        f0        f1        f2     product\n",
       "0  txEyH  0.705745 -0.497823  1.221170  105.280062\n",
       "1  2acmU  1.334711 -0.340164  4.365080   73.037750\n",
       "2  409Wp  1.022732  0.151990  1.419926   85.265647\n",
       "3  iJLyR -0.032172  0.139033  2.978566  168.620776\n",
       "4  Xdl7t  1.988431  0.155413  4.751769  154.036647"
      ]
     },
     "metadata": {},
     "output_type": "display_data"
    },
    {
     "name": "stdout",
     "output_type": "stream",
     "text": [
      "<class 'pandas.core.frame.DataFrame'>\n",
      "RangeIndex: 100000 entries, 0 to 99999\n",
      "Data columns (total 5 columns):\n",
      " #   Column   Non-Null Count   Dtype  \n",
      "---  ------   --------------   -----  \n",
      " 0   id       100000 non-null  object \n",
      " 1   f0       100000 non-null  float64\n",
      " 2   f1       100000 non-null  float64\n",
      " 3   f2       100000 non-null  float64\n",
      " 4   product  100000 non-null  float64\n",
      "dtypes: float64(4), object(1)\n",
      "memory usage: 3.8+ MB\n",
      "\n",
      "Количество дубликатов: 0 \n",
      "\n",
      "Количество пропусков:\n",
      " id         0\n",
      "f0         0\n",
      "f1         0\n",
      "f2         0\n",
      "product    0\n",
      "dtype: int64\n"
     ]
    }
   ],
   "source": [
    "information(data0)"
   ]
  },
  {
   "cell_type": "code",
   "execution_count": 5,
   "metadata": {
    "colab": {
     "base_uri": "https://localhost:8080/",
     "height": 588
    },
    "id": "39-LPMuzmxw8",
    "outputId": "1cef3371-1d5d-40c8-cc8d-4c74be1a89c4"
   },
   "outputs": [
    {
     "data": {
      "text/html": [
       "<div>\n",
       "<style scoped>\n",
       "    .dataframe tbody tr th:only-of-type {\n",
       "        vertical-align: middle;\n",
       "    }\n",
       "\n",
       "    .dataframe tbody tr th {\n",
       "        vertical-align: top;\n",
       "    }\n",
       "\n",
       "    .dataframe thead th {\n",
       "        text-align: right;\n",
       "    }\n",
       "</style>\n",
       "<table border=\"1\" class=\"dataframe\">\n",
       "  <thead>\n",
       "    <tr style=\"text-align: right;\">\n",
       "      <th></th>\n",
       "      <th>id</th>\n",
       "      <th>f0</th>\n",
       "      <th>f1</th>\n",
       "      <th>f2</th>\n",
       "      <th>product</th>\n",
       "    </tr>\n",
       "  </thead>\n",
       "  <tbody>\n",
       "    <tr>\n",
       "      <th>0</th>\n",
       "      <td>kBEdx</td>\n",
       "      <td>-15.001348</td>\n",
       "      <td>-8.276000</td>\n",
       "      <td>-0.005876</td>\n",
       "      <td>3.179103</td>\n",
       "    </tr>\n",
       "    <tr>\n",
       "      <th>1</th>\n",
       "      <td>62mP7</td>\n",
       "      <td>14.272088</td>\n",
       "      <td>-3.475083</td>\n",
       "      <td>0.999183</td>\n",
       "      <td>26.953261</td>\n",
       "    </tr>\n",
       "    <tr>\n",
       "      <th>2</th>\n",
       "      <td>vyE1P</td>\n",
       "      <td>6.263187</td>\n",
       "      <td>-5.948386</td>\n",
       "      <td>5.001160</td>\n",
       "      <td>134.766305</td>\n",
       "    </tr>\n",
       "    <tr>\n",
       "      <th>3</th>\n",
       "      <td>KcrkZ</td>\n",
       "      <td>-13.081196</td>\n",
       "      <td>-11.506057</td>\n",
       "      <td>4.999415</td>\n",
       "      <td>137.945408</td>\n",
       "    </tr>\n",
       "    <tr>\n",
       "      <th>4</th>\n",
       "      <td>AHL4O</td>\n",
       "      <td>12.702195</td>\n",
       "      <td>-8.147433</td>\n",
       "      <td>5.004363</td>\n",
       "      <td>134.766305</td>\n",
       "    </tr>\n",
       "  </tbody>\n",
       "</table>\n",
       "</div>"
      ],
      "text/plain": [
       "      id         f0         f1        f2     product\n",
       "0  kBEdx -15.001348  -8.276000 -0.005876    3.179103\n",
       "1  62mP7  14.272088  -3.475083  0.999183   26.953261\n",
       "2  vyE1P   6.263187  -5.948386  5.001160  134.766305\n",
       "3  KcrkZ -13.081196 -11.506057  4.999415  137.945408\n",
       "4  AHL4O  12.702195  -8.147433  5.004363  134.766305"
      ]
     },
     "metadata": {},
     "output_type": "display_data"
    },
    {
     "name": "stdout",
     "output_type": "stream",
     "text": [
      "<class 'pandas.core.frame.DataFrame'>\n",
      "RangeIndex: 100000 entries, 0 to 99999\n",
      "Data columns (total 5 columns):\n",
      " #   Column   Non-Null Count   Dtype  \n",
      "---  ------   --------------   -----  \n",
      " 0   id       100000 non-null  object \n",
      " 1   f0       100000 non-null  float64\n",
      " 2   f1       100000 non-null  float64\n",
      " 3   f2       100000 non-null  float64\n",
      " 4   product  100000 non-null  float64\n",
      "dtypes: float64(4), object(1)\n",
      "memory usage: 3.8+ MB\n",
      "\n",
      "Количество дубликатов: 0 \n",
      "\n",
      "Количество пропусков:\n",
      " id         0\n",
      "f0         0\n",
      "f1         0\n",
      "f2         0\n",
      "product    0\n",
      "dtype: int64\n"
     ]
    }
   ],
   "source": [
    "information(data1)"
   ]
  },
  {
   "cell_type": "code",
   "execution_count": 6,
   "metadata": {
    "colab": {
     "base_uri": "https://localhost:8080/",
     "height": 588
    },
    "id": "KUfAOrZVnAGc",
    "outputId": "8274b088-fd04-410a-b3f8-37025d05d222"
   },
   "outputs": [
    {
     "data": {
      "text/html": [
       "<div>\n",
       "<style scoped>\n",
       "    .dataframe tbody tr th:only-of-type {\n",
       "        vertical-align: middle;\n",
       "    }\n",
       "\n",
       "    .dataframe tbody tr th {\n",
       "        vertical-align: top;\n",
       "    }\n",
       "\n",
       "    .dataframe thead th {\n",
       "        text-align: right;\n",
       "    }\n",
       "</style>\n",
       "<table border=\"1\" class=\"dataframe\">\n",
       "  <thead>\n",
       "    <tr style=\"text-align: right;\">\n",
       "      <th></th>\n",
       "      <th>id</th>\n",
       "      <th>f0</th>\n",
       "      <th>f1</th>\n",
       "      <th>f2</th>\n",
       "      <th>product</th>\n",
       "    </tr>\n",
       "  </thead>\n",
       "  <tbody>\n",
       "    <tr>\n",
       "      <th>0</th>\n",
       "      <td>fwXo0</td>\n",
       "      <td>-1.146987</td>\n",
       "      <td>0.963328</td>\n",
       "      <td>-0.828965</td>\n",
       "      <td>27.758673</td>\n",
       "    </tr>\n",
       "    <tr>\n",
       "      <th>1</th>\n",
       "      <td>WJtFt</td>\n",
       "      <td>0.262778</td>\n",
       "      <td>0.269839</td>\n",
       "      <td>-2.530187</td>\n",
       "      <td>56.069697</td>\n",
       "    </tr>\n",
       "    <tr>\n",
       "      <th>2</th>\n",
       "      <td>ovLUW</td>\n",
       "      <td>0.194587</td>\n",
       "      <td>0.289035</td>\n",
       "      <td>-5.586433</td>\n",
       "      <td>62.871910</td>\n",
       "    </tr>\n",
       "    <tr>\n",
       "      <th>3</th>\n",
       "      <td>q6cA6</td>\n",
       "      <td>2.236060</td>\n",
       "      <td>-0.553760</td>\n",
       "      <td>0.930038</td>\n",
       "      <td>114.572842</td>\n",
       "    </tr>\n",
       "    <tr>\n",
       "      <th>4</th>\n",
       "      <td>WPMUX</td>\n",
       "      <td>-0.515993</td>\n",
       "      <td>1.716266</td>\n",
       "      <td>5.899011</td>\n",
       "      <td>149.600746</td>\n",
       "    </tr>\n",
       "  </tbody>\n",
       "</table>\n",
       "</div>"
      ],
      "text/plain": [
       "      id        f0        f1        f2     product\n",
       "0  fwXo0 -1.146987  0.963328 -0.828965   27.758673\n",
       "1  WJtFt  0.262778  0.269839 -2.530187   56.069697\n",
       "2  ovLUW  0.194587  0.289035 -5.586433   62.871910\n",
       "3  q6cA6  2.236060 -0.553760  0.930038  114.572842\n",
       "4  WPMUX -0.515993  1.716266  5.899011  149.600746"
      ]
     },
     "metadata": {},
     "output_type": "display_data"
    },
    {
     "name": "stdout",
     "output_type": "stream",
     "text": [
      "<class 'pandas.core.frame.DataFrame'>\n",
      "RangeIndex: 100000 entries, 0 to 99999\n",
      "Data columns (total 5 columns):\n",
      " #   Column   Non-Null Count   Dtype  \n",
      "---  ------   --------------   -----  \n",
      " 0   id       100000 non-null  object \n",
      " 1   f0       100000 non-null  float64\n",
      " 2   f1       100000 non-null  float64\n",
      " 3   f2       100000 non-null  float64\n",
      " 4   product  100000 non-null  float64\n",
      "dtypes: float64(4), object(1)\n",
      "memory usage: 3.8+ MB\n",
      "\n",
      "Количество дубликатов: 0 \n",
      "\n",
      "Количество пропусков:\n",
      " id         0\n",
      "f0         0\n",
      "f1         0\n",
      "f2         0\n",
      "product    0\n",
      "dtype: int64\n"
     ]
    }
   ],
   "source": [
    "information(data2)"
   ]
  },
  {
   "cell_type": "markdown",
   "metadata": {
    "id": "DcfifSfxrT1V"
   },
   "source": [
    "Удаляем id, они нам не нужны"
   ]
  },
  {
   "cell_type": "code",
   "execution_count": 7,
   "metadata": {
    "id": "vPZCMsbGrMDs"
   },
   "outputs": [],
   "source": [
    "data0 = data0.drop(columns=['id'], axis=0)\n",
    "data1 = data1.drop(columns=['id'], axis=0)\n",
    "data2 = data2.drop(columns=['id'], axis=0)"
   ]
  },
  {
   "cell_type": "markdown",
   "metadata": {},
   "source": [
    "<div class='alert alert-success'> ✔️ Хорошо, провела первичный анализ. Добавлю, что в колонке id имеются дубли, однако в этой задаче это не принципиально.\n",
    "</div>"
   ]
  },
  {
   "cell_type": "code",
   "execution_count": 8,
   "metadata": {
    "colab": {
     "base_uri": "https://localhost:8080/",
     "height": 451
    },
    "id": "wGJqHEt5q5ml",
    "outputId": "9b6f3631-2b16-4b78-8156-d20d438a18df"
   },
   "outputs": [
    {
     "data": {
      "image/png": "[encoded data removed]",
      "text/plain": [
       "<Figure size 648x360 with 2 Axes>"
      ]
     },
     "metadata": {
      "needs_background": "light"
     },
     "output_type": "display_data"
    }
   ],
   "source": [
    "plt.figure(figsize=(9,5))\n",
    "sns.heatmap(data0.corr(), annot=True);"
   ]
  },
  {
   "cell_type": "code",
   "execution_count": 9,
   "metadata": {
    "colab": {
     "base_uri": "https://localhost:8080/",
     "height": 451
    },
    "id": "cZQ_AHNtrhDP",
    "outputId": "5c943c92-9e9c-4432-a51a-3babb748658e"
   },
   "outputs": [
    {
     "data": {
      "image/png": "[encoded data removed]",
      "text/plain": [
       "<Figure size 648x360 with 2 Axes>"
      ]
     },
     "metadata": {
      "needs_background": "light"
     },
     "output_type": "display_data"
    }
   ],
   "source": [
    "plt.figure(figsize=(9,5))\n",
    "sns.heatmap(data1.corr(), annot=True);"
   ]
  },
  {
   "cell_type": "code",
   "execution_count": 10,
   "metadata": {
    "colab": {
     "base_uri": "https://localhost:8080/",
     "height": 451
    },
    "id": "W-ezIByUrjmU",
    "outputId": "e1c4e333-43c9-40f9-e28e-655636ec79ae"
   },
   "outputs": [
    {
     "data": {
      "image/png": "[encoded data removed]",
      "text/plain": [
       "<Figure size 648x360 with 2 Axes>"
      ]
     },
     "metadata": {
      "needs_background": "light"
     },
     "output_type": "display_data"
    }
   ],
   "source": [
    "plt.figure(figsize=(9,5))\n",
    "sns.heatmap(data2.corr(), annot=True);"
   ]
  },
  {
   "cell_type": "markdown",
   "metadata": {
    "id": "N-zhN_fmnTXN"
   },
   "source": [
    "## Вывод\n",
    "- Количество строк: 10000\n",
    "- Пропущенные значения: отсутствуют\n",
    "- Дубликаты: отсутствуют\n",
    "- Форматы данных: соответствуют ожиданиям"
   ]
  },
  {
   "cell_type": "markdown",
   "metadata": {},
   "source": [
    "<div class='alert alert-success'> ✔️Из таблицы корреляции добавить вывод про интересные взаимосвязи некоторых признаков и цели.\n",
    "</div>"
   ]
  },
  {
   "cell_type": "markdown",
   "metadata": {
    "id": "YbCH3I8mnjSk"
   },
   "source": [
    "# Обучить и проверить модель для каждого региона"
   ]
  },
  {
   "cell_type": "markdown",
   "metadata": {
    "id": "JK-R8C4gavkm"
   },
   "source": [
    "Обучим и проверим модель для data0 региона"
   ]
  },
  {
   "cell_type": "code",
   "execution_count": 11,
   "metadata": {
    "colab": {
     "base_uri": "https://localhost:8080/"
    },
    "id": "HOdNncuo1Qyo",
    "outputId": "39eff645-76f2-467b-e1fc-ca5eaff38b6b"
   },
   "outputs": [
    {
     "name": "stdout",
     "output_type": "stream",
     "text": [
      "Средний запас предсказанного сырья: 92.39879990657768\n",
      "RMSE модели: 37.75660035026169\n"
     ]
    }
   ],
   "source": [
    "features0 = data0.drop(['product'], axis=1)\n",
    "target0 = data0['product']\n",
    "# Разделим данные на обучающую и валидационную выборки в соотношении 75:25\n",
    "features_train0, features_valid0, target_train0, target_valid0 = train_test_split(\n",
    "    features0, target0, test_size=0.25, random_state=42)\n",
    "scaler = StandardScaler()\n",
    "features_train = scaler.fit_transform(features_train0)\n",
    "features_valid = scaler.transform(features_valid0)\n",
    "model = LinearRegression()\n",
    "\n",
    "model.fit(features_train0, target_train0)\n",
    "predict0 = model.predict(features_valid0)\n",
    "# Рассчитаем средний запас предсказанного сырья и RMSE модели\n",
    "mean_predicted_stock0 = np.mean(predict0)\n",
    "rmse0 = np.sqrt(mean_squared_error(target_valid0, predict0))\n",
    "\n",
    "print(\"Средний запас предсказанного сырья:\", mean_predicted_stock0)\n",
    "print(\"RMSE модели:\", rmse0)"
   ]
  },
  {
   "cell_type": "code",
   "execution_count": 12,
   "metadata": {
    "colab": {
     "base_uri": "https://localhost:8080/"
    },
    "id": "aHNQNs3v1T7v",
    "outputId": "9a360c06-24e5-4536-8eaf-b5abe52eac7c"
   },
   "outputs": [
    {
     "name": "stdout",
     "output_type": "stream",
     "text": [
      "Средний запас предсказанного сырья: 68.7128780391376\n",
      "RMSE модели: 0.8902801001028846\n"
     ]
    }
   ],
   "source": [
    "features1 = data1.drop(['product'], axis=1)\n",
    "target1 = data1['product']\n",
    "# Разделим данные на обучающую и валидационную выборки в соотношении 75:25\n",
    "features_train1, features_valid1, target_train1, target_valid1 = train_test_split(\n",
    "    features1, target1, test_size=0.25, random_state=42)\n",
    "features_train1 = scaler.fit_transform(features_train1)\n",
    "features_valid1 = scaler.transform(features_valid1)\n",
    "model.fit(features_train1, target_train1)\n",
    "predict1 = model.predict(features_valid1)\n",
    "# Рассчитаем средний запас предсказанного сырья и RMSE модели\n",
    "mean_predicted_stock1 = np.mean(predict1)\n",
    "rmse1 = np.sqrt(mean_squared_error(target_valid1, predict1))\n",
    "\n",
    "print(\"Средний запас предсказанного сырья:\", mean_predicted_stock1)\n",
    "print(\"RMSE модели:\", rmse1)"
   ]
  },
  {
   "cell_type": "code",
   "execution_count": 13,
   "metadata": {
    "colab": {
     "base_uri": "https://localhost:8080/"
    },
    "id": "DT2MJFkT18TP",
    "outputId": "de81c961-fd3b-4890-d6fa-162bd68dce87"
   },
   "outputs": [
    {
     "name": "stdout",
     "output_type": "stream",
     "text": [
      "Средний запас предсказанного сырья: 94.77102387765939\n",
      "RMSE модели: 40.145872311342174\n"
     ]
    }
   ],
   "source": [
    "features2 = data2.drop(['product'], axis=1)\n",
    "target2 = data2['product']\n",
    "# Разделим данные на обучающую и валидационную выборки в соотношении 75:25\n",
    "features_train2, features_valid2, target_train2, target_valid2 = train_test_split(\n",
    "    features2, target2, test_size=0.25, random_state=42)\n",
    "features_train2 = scaler.fit_transform(features_train2)\n",
    "features_valid2 = scaler.transform(features_valid2)\n",
    "model.fit(features_train2, target_train2)\n",
    "predict2 = model.predict(features_valid2)\n",
    "# Рассчитаем средний запас предсказанного сырья и RMSE модели\n",
    "mean_predicted_stock2 = np.mean(predict2)\n",
    "rmse2 = np.sqrt(mean_squared_error(target_valid2, predict2))\n",
    "\n",
    "print(\"Средний запас предсказанного сырья:\", mean_predicted_stock2)\n",
    "print(\"RMSE модели:\", rmse2)"
   ]
  },
  {
   "cell_type": "markdown",
   "metadata": {
    "id": "L9OiI6n3Hdth"
   },
   "source": [
    "**Выводы**\n",
    "- **Data0 и Data2:** Высокий RMSE для обоих датасетов свидетельствует о низкой точности модели. Это может быть результатом наличия шума в данных, неполноты данных или несоответствия модели данным.\n",
    "- **Data1:** Низкий RMSE указывает на высокую точность предсказаний модели, что может быть связано с лучшим качеством данных или их структурой, которая лучше подходит для используемой модели."
   ]
  },
  {
   "cell_type": "markdown",
   "metadata": {},
   "source": [
    "<div class='alert alert-warning'>⚠️ Все верно, тут можно сравнить еще и средние запасы, которые так же важны для выбора региона. Также рекомендую в будущем однотипные действия (разбиение на выборки, шкалирование, построение регрессии, вывод метрик) объединять в функции, чтобы избежать описок и сделать код компактнее.  Кстати, шкалирование для класса LinearRegression можно не делать, так как это реализовано по умолчанию.\n",
    "\n",
    "</div>"
   ]
  },
  {
   "cell_type": "markdown",
   "metadata": {
    "id": "hrDSiXfzHrWP"
   },
   "source": [
    "# Подготовьтесь к расчёту прибыли\n"
   ]
  },
  {
   "cell_type": "markdown",
   "metadata": {
    "id": "W9DSb_cyHyJX"
   },
   "source": [
    "Все ключевые значения для расчётов сохраним в отдельных переменных.\n"
   ]
  },
  {
   "cell_type": "code",
   "execution_count": 14,
   "metadata": {
    "id": "l2EeudsGI4NR"
   },
   "outputs": [],
   "source": [
    "# Ключевые значения\n",
    "budget = 10000000000  # Бюджет на разработку скважин в регионе\n",
    "income_per_unit = 450000  # Доход с каждой единицы продукта\n",
    "n_wells = 200  # количество лучших точек для разработки"
   ]
  },
  {
   "cell_type": "code",
   "execution_count": 15,
   "metadata": {
    "colab": {
     "base_uri": "https://localhost:8080/"
    },
    "id": "7U5StVtYJKdw",
    "outputId": "1ff9f01c-2823-4e66-902f-8b1781647efe"
   },
   "outputs": [
    {
     "name": "stdout",
     "output_type": "stream",
     "text": [
      "Достаточный объём сырья для безубыточной разработки (в тыс. баррелей): 111.11111111111111\n"
     ]
    }
   ],
   "source": [
    "# Расчёт безубыточного объёма сырья\n",
    "break_even_volume = budget / (income_per_unit * n_wells)\n",
    "print(\"Достаточный объём сырья для безубыточной разработки (в тыс. баррелей):\", break_even_volume)"
   ]
  },
  {
   "cell_type": "markdown",
   "metadata": {},
   "source": [
    "<div class='alert alert-success'> ✔️Запас скважины для безубыточного бизнеса определен верно. Рекомендовал бы задавать имена констант большими буквами, чтобы удобно было отличать их от переменных, это является соглашением по <a href='https://pythonworld.ru/osnovy/pep-8-rukovodstvo-po-napisaniyu-koda-na-python.html'>PEP 8</a>.<br>Также можно задавать большие числа с разделением разрядов, например, 1_000_000\n",
    "</div>"
   ]
  },
  {
   "cell_type": "markdown",
   "metadata": {
    "id": "ae_fl3uBAA4z"
   },
   "source": [
    "Для того чтобы покрыть расходы на разработку одной скважины и выйти на безубыточность, необходимо добыть как минимум 111.11 тысяч баррелей сырья. Этот расчёт основан на бюджете разработки скважин в размере 10 млрд рублей и доходе в 450 тысяч рублей за тысячу баррелей."
   ]
  },
  {
   "cell_type": "code",
   "execution_count": 16,
   "metadata": {
    "colab": {
     "base_uri": "https://localhost:8080/"
    },
    "id": "m7OJVkTY-rJ8",
    "outputId": "06be01df-8978-4c60-970a-ae967e701015"
   },
   "outputs": [
    {
     "name": "stdout",
     "output_type": "stream",
     "text": [
      "Data0 - Средний запас предсказанного сырья: 92.39879990657768\n",
      "Data1 - Средний запас предсказанного сырья: 68.7128780391376\n",
      "Data2 - Средний запас предсказанного сырья: 94.77102387765939\n"
     ]
    }
   ],
   "source": [
    "print(\"Data0 - Средний запас предсказанного сырья:\", mean_predicted_stock0)\n",
    "print(\"Data1 - Средний запас предсказанного сырья:\", mean_predicted_stock1)\n",
    "print(\"Data2 - Средний запас предсказанного сырья:\", mean_predicted_stock2)"
   ]
  },
  {
   "cell_type": "markdown",
   "metadata": {
    "id": "67SCwDGVJKH3"
   },
   "source": [
    "Все три региона имеют средний запас предсказанного сырья значительно ниже необходимого для безубыточной разработки (111.11 тысяч баррелей). Это указывает на то, что при текущих данных ни один из регионов не гарантирует достаточный объём сырья для покрытия затрат на разработку скважины."
   ]
  },
  {
   "cell_type": "markdown",
   "metadata": {},
   "source": [
    "<div class='alert alert-success'> ✔️Да, с точки зрения стратегии случайного выбора нет прибыльного региона\n",
    "</div>"
   ]
  },
  {
   "cell_type": "markdown",
   "metadata": {
    "id": "-LT1IRr4AgML"
   },
   "source": [
    "# Напишите функцию для расчёта прибыли по выбранным скважинам и предсказаниям модели"
   ]
  },
  {
   "cell_type": "markdown",
   "metadata": {
    "id": "7ehk4t-MAs4T"
   },
   "source": [
    "Выберим скважины с максимальными значениями предсказаний"
   ]
  },
  {
   "cell_type": "code",
   "execution_count": 17,
   "metadata": {
    "id": "0Jjo17HWARCy"
   },
   "outputs": [],
   "source": [
    "def calculate_profit(predictions, target, n_wells, income_per_unit, budget):\n",
    "    # 1. Отсортировать предсказанные значения в порядке убывания и выбрать соответствующие индексы\n",
    "    top_indices = predictions.argsort()[-n_wells:][::-1]\n",
    "\n",
    "    # 2. Найти целевые значения для выбранных скважин\n",
    "    selected_targets = target.iloc[top_indices]\n",
    "\n",
    "    # 3. Рассчитать суммарное целевое значение объёма сырья\n",
    "    total_volume = selected_targets.sum()\n",
    "\n",
    "    # 4. Рассчитать прибыль\n",
    "    profit = total_volume * income_per_unit - budget\n",
    "\n",
    "    return profit"
   ]
  },
  {
   "cell_type": "code",
   "execution_count": 18,
   "metadata": {
    "id": "Ui7sD-33BSdD"
   },
   "outputs": [],
   "source": [
    "# Рассчитаем прибыль для каждого региона\n",
    "profit0 = calculate_profit(predict0, target_valid0, n_wells, income_per_unit, budget)\n",
    "profit1 = calculate_profit(predict1, target_valid1, n_wells, income_per_unit, budget)\n",
    "profit2 = calculate_profit(predict2, target_valid2, n_wells, income_per_unit, budget)"
   ]
  },
  {
   "cell_type": "code",
   "execution_count": 19,
   "metadata": {
    "colab": {
     "base_uri": "https://localhost:8080/"
    },
    "id": "q1HZeJM2BTbL",
    "outputId": "ce9b76e3-c709-46d3-cf32-3dea634881e4"
   },
   "outputs": [
    {
     "name": "stdout",
     "output_type": "stream",
     "text": [
      "Прибыль в регионе 0: 3359141114.462179\n",
      "Прибыль в регионе 1: 2415086696.681511\n",
      "Прибыль в регионе 2: 2598571759.374111\n"
     ]
    }
   ],
   "source": [
    "print(\"Прибыль в регионе 0:\", profit0)\n",
    "print(\"Прибыль в регионе 1:\", profit1)\n",
    "print(\"Прибыль в регионе 2:\", profit2)"
   ]
  },
  {
   "cell_type": "markdown",
   "metadata": {
    "id": "5A47IO436SrL"
   },
   "source": [
    "# Посчитаем риски и прибыль для каждого региона:"
   ]
  },
  {
   "cell_type": "code",
   "execution_count": 20,
   "metadata": {
    "id": "gs70BsAe--Nr"
   },
   "outputs": [],
   "source": [
    "bootstrap_samples = 1000\n",
    "state = np.random.RandomState(12345)\n",
    "\n",
    "def bootstrap (target, predictions):\n",
    "    values = []\n",
    "    for i in range(bootstrap_samples):\n",
    "        target_subsample = target.reset_index(drop=True).sample(n=500, replace=True, random_state=state)\n",
    "        probs_subsample = predictions[target_subsample.index]\n",
    "        values.append(calculate_profit(probs_subsample, target_subsample, n_wells, income_per_unit, budget))\n",
    "    values = pd.Series(values)\n",
    "    mean = values.mean()\n",
    "    lower = values.quantile(.025)\n",
    "    upper = values.quantile(.975)\n",
    "    confidence_interval = (values.quantile(0.025), values.quantile(0.975))\n",
    "\n",
    "    print(\"Средняя выручка, млн.руб.:\", mean)\n",
    "    print(\"Доверительный интервал, минимум:\", lower)\n",
    "    print(\"Доверительный интервал, максимум:\", upper)\n",
    "    print(\"Риски убытка:\", (values < 0).mean())\n",
    "    ax=values.plot(kind='hist', bins=10, grid=True)\n",
    "    ax.set_xlabel('Прибыль, млн.руб.', fontsize=10)\n",
    "    plt.show()"
   ]
  },
  {
   "cell_type": "markdown",
   "metadata": {},
   "source": [
    "<div class='alert alert-success'> ✔️Правильно, что сэмплируешь с экземпляром np.random.RandomState  в качестве сида (<a href='https://dzen.ru/a/Y1VcQcfTPHrRmXUi'> тут подробнее </a>), что будет корректным в отличие от использования константы. \n",
    "</div>"
   ]
  },
  {
   "cell_type": "code",
   "execution_count": 21,
   "metadata": {
    "colab": {
     "base_uri": "https://localhost:8080/",
     "height": 518
    },
    "id": "NJctUurr_ShT",
    "outputId": "16878577-3812-4a88-b0c1-12ed9332e710"
   },
   "outputs": [
    {
     "name": "stdout",
     "output_type": "stream",
     "text": [
      "Средняя выручка, млн.руб.: 406278783.42441905\n",
      "Доверительный интервал, минимум: -117742136.49486831\n",
      "Доверительный интервал, максимум: 911737050.7514055\n",
      "Риски убытка: 0.067\n"
     ]
    },
    {
     "data": {
      "image/png": "[encoded data removed]",
      "text/plain": [
       "<Figure size 432x288 with 1 Axes>"
      ]
     },
     "metadata": {
      "needs_background": "light"
     },
     "output_type": "display_data"
    }
   ],
   "source": [
    "bootstrap(target_valid0, predict0)"
   ]
  },
  {
   "cell_type": "code",
   "execution_count": 22,
   "metadata": {
    "colab": {
     "base_uri": "https://localhost:8080/",
     "height": 518
    },
    "id": "kOg4-Ei-_1YL",
    "outputId": "8d68ec21-d343-4327-c794-561b4b1a6bb2"
   },
   "outputs": [
    {
     "name": "stdout",
     "output_type": "stream",
     "text": [
      "Средняя выручка, млн.руб.: 441504277.5922549\n",
      "Доверительный интервал, минимум: 35728489.280851334\n",
      "Доверительный интервал, максимум: 828006639.0043902\n",
      "Риски убытка: 0.016\n"
     ]
    },
    {
     "data": {
      "image/png": "[encoded data removed]",
      "text/plain": [
       "<Figure size 432x288 with 1 Axes>"
      ]
     },
     "metadata": {
      "needs_background": "light"
     },
     "output_type": "display_data"
    }
   ],
   "source": [
    "bootstrap(target_valid1, predict1)"
   ]
  },
  {
   "cell_type": "code",
   "execution_count": 23,
   "metadata": {
    "colab": {
     "base_uri": "https://localhost:8080/",
     "height": 523
    },
    "id": "egfWHNiNAP6T",
    "outputId": "c90afeeb-fe50-4136-f404-91a0269ba183"
   },
   "outputs": [
    {
     "name": "stdout",
     "output_type": "stream",
     "text": [
      "Средняя выручка, млн.руб.: 385213195.91415244\n",
      "Доверительный интервал, минимум: -164785166.1090443\n",
      "Доверительный интервал, максимум: 888206234.1976783\n",
      "Риски убытка: 0.078\n"
     ]
    },
    {
     "data": {
      "image/png": "[encoded data removed]",
      "text/plain": [
       "<Figure size 432x288 with 1 Axes>"
      ]
     },
     "metadata": {
      "needs_background": "light"
     },
     "output_type": "display_data"
    }
   ],
   "source": [
    "bootstrap(target_valid2, predict2)"
   ]
  },
  {
   "cell_type": "markdown",
   "metadata": {
    "id": "KWA5uBRuAtDt"
   },
   "source": [
    "# Вывод\n",
    "**Анализ результатов**\n",
    "\n",
    "- **Средняя выручка:** Регион 1 имеет наивысшую среднюю выручку, что делает его наиболее прибыльным среди трех регионов.\n",
    "- **Доверительный интервал:** Регион 1 также имеет положительный нижний предел доверительного интервала, что означает, что даже в наихудшем случае выручка все еще положительна.\n",
    "- **Риски убытка:** Регион 1 имеет самый низкий риск убытка (1.6%), что делает его наименее рискованным регионом для инвестиций.\n",
    "\n",
    "**Рекомендация**\n",
    "\n",
    "На основе анализа, регион 1 является наилучшим выбором для инвестиций, так как он предлагает наивысшую среднюю выручку и минимальный риск убытка. Регион 0 и регион 2 имеют значительно более высокие риски убытка и более широкие доверительные интервалы, что делает их менее привлекательными для инвестиций.\n",
    "\n",
    "Таким образом, для максимизации прибыли и минимизации рисков, рекомендуется сосредоточить усилия на разработке скважин в регионе 1."
   ]
  },
  {
   "cell_type": "markdown",
   "metadata": {},
   "source": [
    "<div class='alert alert-info'>🏁 Отличный выбор региона, как и вся работа! Исследовала и подготовила признаки, корректно выполнила разделение на выборки и построила регрессию, посчитала целевые метрики и определила оптимальный регион с точки зрения прибыли и рисков убытков. Осталось дать обратную связь по выделенным ячейкам (при необходимости).\n",
    "\n",
    "</div>"
   ]
  },
  {
   "cell_type": "markdown",
   "metadata": {},
   "source": [
    "<div class='alert alert-success'> <strong>Ревьюер(2)</strong> <br>\n",
    "\n",
    "Спасибо за сильную работу и удачной учебы, немного активности и все получится!\n",
    "\n",
    "</div>"
   ]
  },
  {
   "cell_type": "code",
   "execution_count": 32,
   "metadata": {
    "id": "GB95KwVUATND"
   },
   "outputs": [],
   "source": []
  }
 ],
 "metadata": {
  "ExecuteTimeLog": [
   {
    "duration": 1886,
    "start_time": "2024-06-01T03:45:23.067Z"
   },
   {
    "duration": 691,
    "start_time": "2024-06-01T03:47:07.946Z"
   },
   {
    "duration": 4,
    "start_time": "2024-06-01T03:54:00.592Z"
   },
   {
    "duration": 89,
    "start_time": "2024-06-01T03:54:00.910Z"
   },
   {
    "duration": 73,
    "start_time": "2024-06-01T03:54:01.723Z"
   },
   {
    "duration": 80,
    "start_time": "2024-06-01T03:54:02.375Z"
   },
   {
    "duration": 15,
    "start_time": "2024-06-01T03:54:08.330Z"
   },
   {
    "duration": 382,
    "start_time": "2024-06-01T03:54:25.051Z"
   },
   {
    "duration": 349,
    "start_time": "2024-06-01T03:54:26.047Z"
   },
   {
    "duration": 302,
    "start_time": "2024-06-01T03:54:26.398Z"
   },
   {
    "duration": 126,
    "start_time": "2024-06-01T03:55:45.055Z"
   },
   {
    "duration": 31,
    "start_time": "2024-06-01T03:55:54.811Z"
   },
   {
    "duration": 49,
    "start_time": "2024-06-01T03:56:04.640Z"
   },
   {
    "duration": 3,
    "start_time": "2024-06-01T03:57:21.411Z"
   },
   {
    "duration": 3,
    "start_time": "2024-06-01T03:57:22.427Z"
   },
   {
    "duration": 5,
    "start_time": "2024-06-01T03:57:59.420Z"
   },
   {
    "duration": 4,
    "start_time": "2024-06-01T03:58:39.144Z"
   },
   {
    "duration": 10,
    "start_time": "2024-06-01T03:58:39.540Z"
   },
   {
    "duration": 4,
    "start_time": "2024-06-01T03:58:39.956Z"
   },
   {
    "duration": 6,
    "start_time": "2024-06-01T03:59:06.494Z"
   },
   {
    "duration": 648,
    "start_time": "2024-06-01T03:59:08.439Z"
   },
   {
    "duration": 658,
    "start_time": "2024-06-01T03:59:09.994Z"
   },
   {
    "duration": 601,
    "start_time": "2024-06-01T03:59:12.040Z"
   }
  ],
  "colab": {
   "provenance": []
  },
  "kernelspec": {
   "display_name": "Python 3 (ipykernel)",
   "language": "python",
   "name": "python3"
  },
  "language_info": {
   "codemirror_mode": {
    "name": "ipython",
    "version": 3
   },
   "file_extension": ".py",
   "mimetype": "text/x-python",
   "name": "python",
   "nbconvert_exporter": "python",
   "pygments_lexer": "ipython3",
   "version": "3.9.5"
  },
  "toc": {
   "base_numbering": 1,
   "nav_menu": {},
   "number_sections": true,
   "sideBar": true,
   "skip_h1_title": true,
   "title_cell": "Table of Contents",
   "title_sidebar": "Contents",
   "toc_cell": false,
   "toc_position": {},
   "toc_section_display": true,
   "toc_window_display": false
  }
 },
 "nbformat": 4,
 "nbformat_minor": 1
}
